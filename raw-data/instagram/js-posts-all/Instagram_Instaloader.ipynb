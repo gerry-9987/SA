{
 "cells": [
  {
   "cell_type": "markdown",
   "metadata": {},
   "source": [
    "Web Crawling & Scraping (Instagram - Instaloader)\n",
    "\n",
    "Ref: https://www.geeksforgeeks.org/introduction-to-instaloader-module-in-python/\n",
    "\n",
    "Ref: https://instaloader.github.io/codesnippets.html"
   ]
  },
  {
   "cell_type": "markdown",
   "metadata": {
    "heading_collapsed": true
   },
   "source": [
    "# Lame stuff"
   ]
  },
  {
   "cell_type": "code",
   "execution_count": 6,
   "metadata": {
    "ExecuteTime": {
     "end_time": "2022-03-16T09:06:14.909293Z",
     "start_time": "2022-03-16T09:06:14.297299Z"
    },
    "hidden": true
   },
   "outputs": [],
   "source": [
    "import instaloader\n",
    "import pandas as pd\n",
    "import time "
   ]
  },
  {
   "cell_type": "code",
   "execution_count": 24,
   "metadata": {
    "ExecuteTime": {
     "end_time": "2022-03-16T07:52:46.946111Z",
     "start_time": "2022-03-16T07:52:46.943116Z"
    },
    "hidden": true
   },
   "outputs": [],
   "source": [
    "# Get instance\n",
    "loader = instaloader.Instaloader()"
   ]
  },
  {
   "cell_type": "code",
   "execution_count": 5,
   "metadata": {
    "ExecuteTime": {
     "end_time": "2022-03-16T06:45:23.884499Z",
     "start_time": "2022-03-16T06:45:23.877967Z"
    },
    "hidden": true
   },
   "outputs": [],
   "source": [
    "def change_profile(profile_num):\n",
    "    \n",
    "    USER = config(f'USER{profile_num}',default='')\n",
    "    PASSWORD = config(f'PASSWORD{profile_num}',default='')\n",
    "\n",
    "    global loader\n",
    "    loader.login(USER, PASSWORD)\n",
    "\n",
    "    global profile\n",
    "    profile = instaloader.Profile.from_username(loader.context, 'jam.stones')\n",
    "    \n",
    "    global L\n",
    "    L = instaloader.Instaloader()\n",
    "\n",
    "    global posts\n",
    "    posts = instaloader.Profile.from_username(L.context, \"jam.stones\").get_posts()\n",
    "    \n",
    "    return"
   ]
  },
  {
   "cell_type": "code",
   "execution_count": 14,
   "metadata": {
    "ExecuteTime": {
     "end_time": "2022-03-16T06:48:16.908406Z",
     "start_time": "2022-03-16T06:48:05.138784Z"
    },
    "hidden": true
   },
   "outputs": [
    {
     "name": "stdout",
     "output_type": "stream",
     "text": [
      "______icebear______\n"
     ]
    }
   ],
   "source": [
    "# Login using the credentials\n",
    "# Your Own Instagram Credentials\n",
    "from decouple import config\n",
    "\n",
    "account = 1\n",
    "\n",
    "USER = config(f'USER{account}',default='')\n",
    "PASSWORD = config(f'PASSWORD{account}',default='')\n",
    "\n",
    "print(USER)\n",
    "\n",
    "# Login using the credentials\n",
    "loader.login(USER, PASSWORD)\n",
    "\n",
    "# Use Profile class to access metadata of account\n",
    "profile = instaloader.Profile.from_username(loader.context, 'jam.stones')"
   ]
  },
  {
   "cell_type": "markdown",
   "metadata": {},
   "source": [
    "# Followers & Follees"
   ]
  },
  {
   "cell_type": "code",
   "execution_count": 8,
   "metadata": {
    "ExecuteTime": {
     "end_time": "2022-03-10T10:31:34.927211Z",
     "start_time": "2022-03-10T10:18:04.664216Z"
    }
   },
   "outputs": [
    {
     "name": "stdout",
     "output_type": "stream",
     "text": [
      "13403% done\n"
     ]
    }
   ],
   "source": [
    "# See followers\n",
    "from IPython.display import clear_output\n",
    "\n",
    "followers = profile.get_followers()\n",
    "follower_list = []\n",
    "\n",
    "for idx, follower in enumerate(followers):\n",
    "    clear_output(wait=True)\n",
    "    print(f\"{idx} / approximately 13k done\")\n",
    "    follower_list.append(follower)"
   ]
  },
  {
   "cell_type": "code",
   "execution_count": 25,
   "metadata": {
    "ExecuteTime": {
     "end_time": "2022-03-10T10:36:03.819910Z",
     "start_time": "2022-03-10T10:36:03.792948Z"
    }
   },
   "outputs": [],
   "source": [
    "# Save followers to csv \n",
    "\n",
    "df_followers = pd.DataFrame(follower_list)\n",
    "\n",
    "df_followers[0]=df_followers[0].apply(lambda x: x.username)\n",
    "\n",
    "df_followers.to_csv('followers.csv', index=False)"
   ]
  },
  {
   "cell_type": "code",
   "execution_count": 9,
   "metadata": {
    "ExecuteTime": {
     "end_time": "2022-03-14T06:41:16.050529Z",
     "start_time": "2022-03-14T06:41:16.028556Z"
    }
   },
   "outputs": [
    {
     "data": {
      "text/html": [
       "<div>\n",
       "<style scoped>\n",
       "    .dataframe tbody tr th:only-of-type {\n",
       "        vertical-align: middle;\n",
       "    }\n",
       "\n",
       "    .dataframe tbody tr th {\n",
       "        vertical-align: top;\n",
       "    }\n",
       "\n",
       "    .dataframe thead th {\n",
       "        text-align: right;\n",
       "    }\n",
       "</style>\n",
       "<table border=\"1\" class=\"dataframe\">\n",
       "  <thead>\n",
       "    <tr style=\"text-align: right;\">\n",
       "      <th></th>\n",
       "      <th>Unnamed: 0</th>\n",
       "      <th>0</th>\n",
       "    </tr>\n",
       "  </thead>\n",
       "  <tbody>\n",
       "    <tr>\n",
       "      <th>0</th>\n",
       "      <td>0</td>\n",
       "      <td>gwengwenn</td>\n",
       "    </tr>\n",
       "    <tr>\n",
       "      <th>1</th>\n",
       "      <td>1</td>\n",
       "      <td>huimin_c</td>\n",
       "    </tr>\n",
       "    <tr>\n",
       "      <th>2</th>\n",
       "      <td>2</td>\n",
       "      <td>agent_g07</td>\n",
       "    </tr>\n",
       "    <tr>\n",
       "      <th>3</th>\n",
       "      <td>3</td>\n",
       "      <td>agnestankimpheng</td>\n",
       "    </tr>\n",
       "    <tr>\n",
       "      <th>4</th>\n",
       "      <td>4</td>\n",
       "      <td>umareumm</td>\n",
       "    </tr>\n",
       "    <tr>\n",
       "      <th>...</th>\n",
       "      <td>...</td>\n",
       "      <td>...</td>\n",
       "    </tr>\n",
       "    <tr>\n",
       "      <th>13399</th>\n",
       "      <td>13399</td>\n",
       "      <td>ridhwannn</td>\n",
       "    </tr>\n",
       "    <tr>\n",
       "      <th>13400</th>\n",
       "      <td>13400</td>\n",
       "      <td>joycenglife</td>\n",
       "    </tr>\n",
       "    <tr>\n",
       "      <th>13401</th>\n",
       "      <td>13401</td>\n",
       "      <td>mathildaaaa</td>\n",
       "    </tr>\n",
       "    <tr>\n",
       "      <th>13402</th>\n",
       "      <td>13402</td>\n",
       "      <td>justdudu_</td>\n",
       "    </tr>\n",
       "    <tr>\n",
       "      <th>13403</th>\n",
       "      <td>13403</td>\n",
       "      <td>chermaineeeeeeeeee</td>\n",
       "    </tr>\n",
       "  </tbody>\n",
       "</table>\n",
       "<p>13404 rows × 2 columns</p>\n",
       "</div>"
      ],
      "text/plain": [
       "       Unnamed: 0                   0\n",
       "0               0           gwengwenn\n",
       "1               1            huimin_c\n",
       "2               2           agent_g07\n",
       "3               3    agnestankimpheng\n",
       "4               4            umareumm\n",
       "...           ...                 ...\n",
       "13399       13399           ridhwannn\n",
       "13400       13400         joycenglife\n",
       "13401       13401         mathildaaaa\n",
       "13402       13402           justdudu_\n",
       "13403       13403  chermaineeeeeeeeee\n",
       "\n",
       "[13404 rows x 2 columns]"
      ]
     },
     "execution_count": 9,
     "metadata": {},
     "output_type": "execute_result"
    }
   ],
   "source": [
    "# load followers from csv\n",
    "\n",
    "df_followers = pd.read_csv(\"followers.csv\")\n",
    "df_followers"
   ]
  },
  {
   "cell_type": "markdown",
   "metadata": {},
   "source": [
    "# Extra"
   ]
  },
  {
   "cell_type": "code",
   "execution_count": null,
   "metadata": {
    "ExecuteTime": {
     "end_time": "2022-02-28T13:34:55.226574Z",
     "start_time": "2022-02-28T13:34:54.079Z"
    }
   },
   "outputs": [],
   "source": [
    "# See followees\n",
    "# followees = profile.get_followees()\n",
    "\n",
    "# for followee in followees:\n",
    "#     print(followee)"
   ]
  },
  {
   "cell_type": "code",
   "execution_count": 19,
   "metadata": {
    "ExecuteTime": {
     "end_time": "2022-02-28T13:35:52.442498Z",
     "start_time": "2022-02-28T13:35:52.438929Z"
    }
   },
   "outputs": [
    {
     "name": "stdout",
     "output_type": "stream",
     "text": [
      "Personal Goods & General Merchandise Stores\n"
     ]
    }
   ],
   "source": [
    "# Get the total number of posts\n",
    "media = profile.mediacount\n",
    "\n",
    "print(media)\n",
    "\n",
    "# Get the total number of IGTV posts\n",
    "igtv = profile.igtvcount\n",
    "\n",
    "print(igtv)\n",
    "\n",
    "# Is this account private or public?\n",
    "private = profile.is_private\n",
    "\n",
    "print(private)\n",
    "\n",
    "# Get biography\n",
    "bio = profile.biography\n",
    "\n",
    "print(bio)\n",
    "\n",
    "# Get profile picture\n",
    "profile_pic = profile.profile_pic_url\n",
    "\n",
    "print(profile_pic)\n",
    "\n",
    "# Get external url (if any)\n",
    "ext_url = profile.external_url\n",
    "\n",
    "print(ext_url)\n",
    "\n",
    "# Is this a business account?\n",
    "business = profile.is_business_account\n",
    "\n",
    "print(business)\n",
    "\n",
    "# returns the business category\n",
    "business_type = profile.business_category_name\n",
    " \n",
    "print(business_type)"
   ]
  },
  {
   "cell_type": "markdown",
   "metadata": {},
   "source": [
    "# Download Posts in a Specific Period\n",
    "To only download Instagram pictures (and metadata) that are within a specific period, you can simply use dropwhile() and takewhile() from itertools on a generator that returns Posts in exact chronological order, such as Profile.get_posts()."
   ]
  },
  {
   "cell_type": "markdown",
   "metadata": {},
   "source": [
    "https://instaloader.github.io/module/structures.html#instaloader.Post"
   ]
  },
  {
   "cell_type": "code",
   "execution_count": 4,
   "metadata": {
    "ExecuteTime": {
     "end_time": "2022-03-16T09:58:00.638575Z",
     "start_time": "2022-03-16T09:58:00.632591Z"
    }
   },
   "outputs": [],
   "source": [
    "import pandas as pd\n",
    "data = pd.read_csv('posts_temp1.csv').to_dict('list')\n",
    "data['index']\n",
    "del data['Unnamed: 0']"
   ]
  },
  {
   "cell_type": "code",
   "execution_count": 10,
   "metadata": {
    "ExecuteTime": {
     "end_time": "2022-03-16T10:20:03.677166Z",
     "start_time": "2022-03-16T10:20:03.673176Z"
    }
   },
   "outputs": [],
   "source": [
    "data = {'index':[], 'date':[], 'caption':[], 'comments':[]}"
   ]
  },
  {
   "cell_type": "code",
   "execution_count": 22,
   "metadata": {
    "ExecuteTime": {
     "end_time": "2022-03-16T10:41:40.084293Z",
     "start_time": "2022-03-16T10:41:25.286824Z"
    }
   },
   "outputs": [
    {
     "name": "stdout",
     "output_type": "stream",
     "text": [
      "______icebear______\n"
     ]
    },
    {
     "ename": "KeyError",
     "evalue": "'graphql'",
     "output_type": "error",
     "traceback": [
      "\u001b[1;31m---------------------------------------------------------------------------\u001b[0m",
      "\u001b[1;31mKeyError\u001b[0m                                  Traceback (most recent call last)",
      "\u001b[1;32m<ipython-input-22-148d460350c6>\u001b[0m in \u001b[0;36m<module>\u001b[1;34m\u001b[0m\n\u001b[0;32m     11\u001b[0m \u001b[0mL\u001b[0m\u001b[1;33m.\u001b[0m\u001b[0mlogin\u001b[0m\u001b[1;33m(\u001b[0m\u001b[0mUSER\u001b[0m\u001b[1;33m,\u001b[0m \u001b[0mPASSWORD\u001b[0m\u001b[1;33m)\u001b[0m\u001b[1;33m\u001b[0m\u001b[1;33m\u001b[0m\u001b[0m\n\u001b[0;32m     12\u001b[0m \u001b[1;33m\u001b[0m\u001b[0m\n\u001b[1;32m---> 13\u001b[1;33m \u001b[0mposts\u001b[0m \u001b[1;33m=\u001b[0m \u001b[0minstaloader\u001b[0m\u001b[1;33m.\u001b[0m\u001b[0mHashtag\u001b[0m\u001b[1;33m.\u001b[0m\u001b[0mfrom_name\u001b[0m\u001b[1;33m(\u001b[0m\u001b[0mL\u001b[0m\u001b[1;33m.\u001b[0m\u001b[0mcontext\u001b[0m\u001b[1;33m,\u001b[0m \u001b[1;34m\"crystal\"\u001b[0m\u001b[1;33m)\u001b[0m\u001b[1;33m.\u001b[0m\u001b[0mget_posts\u001b[0m\u001b[1;33m(\u001b[0m\u001b[1;33m)\u001b[0m\u001b[1;33m\u001b[0m\u001b[1;33m\u001b[0m\u001b[0m\n\u001b[0m\u001b[0;32m     14\u001b[0m \u001b[1;31m# posts = instaloader.Profile.from_username(L.context, \"jam.stones\").get_posts()\u001b[0m\u001b[1;33m\u001b[0m\u001b[1;33m\u001b[0m\u001b[1;33m\u001b[0m\u001b[0m\n\u001b[0;32m     15\u001b[0m \u001b[1;33m\u001b[0m\u001b[0m\n",
      "\u001b[1;32m~\\anaconda3\\lib\\site-packages\\instaloader\\structures.py\u001b[0m in \u001b[0;36mfrom_name\u001b[1;34m(cls, context, name)\u001b[0m\n\u001b[0;32m   1379\u001b[0m         \u001b[1;31m# pylint:disable=protected-access\u001b[0m\u001b[1;33m\u001b[0m\u001b[1;33m\u001b[0m\u001b[1;33m\u001b[0m\u001b[0m\n\u001b[0;32m   1380\u001b[0m         \u001b[0mhashtag\u001b[0m \u001b[1;33m=\u001b[0m \u001b[0mcls\u001b[0m\u001b[1;33m(\u001b[0m\u001b[0mcontext\u001b[0m\u001b[1;33m,\u001b[0m \u001b[1;33m{\u001b[0m\u001b[1;34m'name'\u001b[0m\u001b[1;33m:\u001b[0m \u001b[0mname\u001b[0m\u001b[1;33m.\u001b[0m\u001b[0mlower\u001b[0m\u001b[1;33m(\u001b[0m\u001b[1;33m)\u001b[0m\u001b[1;33m}\u001b[0m\u001b[1;33m)\u001b[0m\u001b[1;33m\u001b[0m\u001b[1;33m\u001b[0m\u001b[0m\n\u001b[1;32m-> 1381\u001b[1;33m         \u001b[0mhashtag\u001b[0m\u001b[1;33m.\u001b[0m\u001b[0m_obtain_metadata\u001b[0m\u001b[1;33m(\u001b[0m\u001b[1;33m)\u001b[0m\u001b[1;33m\u001b[0m\u001b[1;33m\u001b[0m\u001b[0m\n\u001b[0m\u001b[0;32m   1382\u001b[0m         \u001b[1;32mreturn\u001b[0m \u001b[0mhashtag\u001b[0m\u001b[1;33m\u001b[0m\u001b[1;33m\u001b[0m\u001b[0m\n\u001b[0;32m   1383\u001b[0m \u001b[1;33m\u001b[0m\u001b[0m\n",
      "\u001b[1;32m~\\anaconda3\\lib\\site-packages\\instaloader\\structures.py\u001b[0m in \u001b[0;36m_obtain_metadata\u001b[1;34m(self)\u001b[0m\n\u001b[0;32m   1393\u001b[0m     \u001b[1;32mdef\u001b[0m \u001b[0m_obtain_metadata\u001b[0m\u001b[1;33m(\u001b[0m\u001b[0mself\u001b[0m\u001b[1;33m)\u001b[0m\u001b[1;33m:\u001b[0m\u001b[1;33m\u001b[0m\u001b[1;33m\u001b[0m\u001b[0m\n\u001b[0;32m   1394\u001b[0m         \u001b[1;32mif\u001b[0m \u001b[1;32mnot\u001b[0m \u001b[0mself\u001b[0m\u001b[1;33m.\u001b[0m\u001b[0m_has_full_metadata\u001b[0m\u001b[1;33m:\u001b[0m\u001b[1;33m\u001b[0m\u001b[1;33m\u001b[0m\u001b[0m\n\u001b[1;32m-> 1395\u001b[1;33m             \u001b[0mself\u001b[0m\u001b[1;33m.\u001b[0m\u001b[0m_node\u001b[0m \u001b[1;33m=\u001b[0m \u001b[0mself\u001b[0m\u001b[1;33m.\u001b[0m\u001b[0m_query\u001b[0m\u001b[1;33m(\u001b[0m\u001b[1;33m{\u001b[0m\u001b[1;34m\"__a\"\u001b[0m\u001b[1;33m:\u001b[0m \u001b[1;36m1\u001b[0m\u001b[1;33m}\u001b[0m\u001b[1;33m)\u001b[0m\u001b[1;33m\u001b[0m\u001b[1;33m\u001b[0m\u001b[0m\n\u001b[0m\u001b[0;32m   1396\u001b[0m             \u001b[0mself\u001b[0m\u001b[1;33m.\u001b[0m\u001b[0m_has_full_metadata\u001b[0m \u001b[1;33m=\u001b[0m \u001b[1;32mTrue\u001b[0m\u001b[1;33m\u001b[0m\u001b[1;33m\u001b[0m\u001b[0m\n\u001b[0;32m   1397\u001b[0m \u001b[1;33m\u001b[0m\u001b[0m\n",
      "\u001b[1;32m~\\anaconda3\\lib\\site-packages\\instaloader\\structures.py\u001b[0m in \u001b[0;36m_query\u001b[1;34m(self, params)\u001b[0m\n\u001b[0;32m   1388\u001b[0m \u001b[1;33m\u001b[0m\u001b[0m\n\u001b[0;32m   1389\u001b[0m     \u001b[1;32mdef\u001b[0m \u001b[0m_query\u001b[0m\u001b[1;33m(\u001b[0m\u001b[0mself\u001b[0m\u001b[1;33m,\u001b[0m \u001b[0mparams\u001b[0m\u001b[1;33m)\u001b[0m\u001b[1;33m:\u001b[0m\u001b[1;33m\u001b[0m\u001b[1;33m\u001b[0m\u001b[0m\n\u001b[1;32m-> 1390\u001b[1;33m         return self._context.get_json(\"explore/tags/{0}/\".format(self.name),\n\u001b[0m\u001b[0;32m   1391\u001b[0m                                       params)[\"graphql\"][\"hashtag\"]\n\u001b[0;32m   1392\u001b[0m \u001b[1;33m\u001b[0m\u001b[0m\n",
      "\u001b[1;31mKeyError\u001b[0m: 'graphql'"
     ]
    }
   ],
   "source": [
    "import instaloader\n",
    "from decouple import config\n",
    "\n",
    "account = 1\n",
    "USER = config(f'USER{account}',default='')\n",
    "PASSWORD = config(f'PASSWORD{account}',default='')\n",
    "print(USER)\n",
    "\n",
    "# Login using the credentials\n",
    "L = instaloader.Instaloader()\n",
    "L.login(USER, PASSWORD)\n",
    "\n",
    "# posts = instaloader.Hashtag.from_name(L.context, \"jam.stones\").get_posts()\n",
    "posts = instaloader.Profile.from_username(L.context, \"jam.stones\").get_posts() \n",
    "\n",
    "for idx, post in enumerate(posts):\n",
    "    \n",
    "#     if idx in data['index']:continue\n",
    "        \n",
    "#     data['index'].append(idx)\n",
    "#     data['date'].append(post.date)\n",
    "#     data['caption'].append(post.caption)\n",
    "#     data['comments'].append(post.comments)\n",
    "#     pd.DataFrame(data).to_csv(\"posts_temp1.csv\")\n",
    "    print(idx)"
   ]
  },
  {
   "cell_type": "code",
   "execution_count": 19,
   "metadata": {
    "ExecuteTime": {
     "end_time": "2022-03-16T10:40:24.601176Z",
     "start_time": "2022-03-16T10:40:09.684182Z"
    }
   },
   "outputs": [
    {
     "name": "stdout",
     "output_type": "stream",
     "text": [
      "wesleyongs\n"
     ]
    },
    {
     "ename": "KeyError",
     "evalue": "'graphql'",
     "output_type": "error",
     "traceback": [
      "\u001b[1;31m---------------------------------------------------------------------------\u001b[0m",
      "\u001b[1;31mKeyError\u001b[0m                                  Traceback (most recent call last)",
      "\u001b[1;32m<ipython-input-19-0ea509acd140>\u001b[0m in \u001b[0;36m<module>\u001b[1;34m\u001b[0m\n\u001b[0;32m     11\u001b[0m \u001b[0mL\u001b[0m\u001b[1;33m.\u001b[0m\u001b[0mlogin\u001b[0m\u001b[1;33m(\u001b[0m\u001b[0mUSER\u001b[0m\u001b[1;33m,\u001b[0m \u001b[0mPASSWORD\u001b[0m\u001b[1;33m)\u001b[0m\u001b[1;33m\u001b[0m\u001b[1;33m\u001b[0m\u001b[0m\n\u001b[0;32m     12\u001b[0m \u001b[1;33m\u001b[0m\u001b[0m\n\u001b[1;32m---> 13\u001b[1;33m \u001b[0mposts\u001b[0m \u001b[1;33m=\u001b[0m \u001b[0minstaloader\u001b[0m\u001b[1;33m.\u001b[0m\u001b[0mHashtag\u001b[0m\u001b[1;33m.\u001b[0m\u001b[0mfrom_name\u001b[0m\u001b[1;33m(\u001b[0m\u001b[0mL\u001b[0m\u001b[1;33m.\u001b[0m\u001b[0mcontext\u001b[0m\u001b[1;33m,\u001b[0m \u001b[1;34m\"crystal\"\u001b[0m\u001b[1;33m)\u001b[0m\u001b[1;33m.\u001b[0m\u001b[0mget_posts\u001b[0m\u001b[1;33m(\u001b[0m\u001b[1;33m)\u001b[0m\u001b[1;33m\u001b[0m\u001b[1;33m\u001b[0m\u001b[0m\n\u001b[0m\u001b[0;32m     14\u001b[0m \u001b[1;31m# posts = instaloader.Profile.from_username(L.context, \"jam.stones\").get_posts()\u001b[0m\u001b[1;33m\u001b[0m\u001b[1;33m\u001b[0m\u001b[1;33m\u001b[0m\u001b[0m\n\u001b[0;32m     15\u001b[0m \u001b[1;33m\u001b[0m\u001b[0m\n",
      "\u001b[1;32m~\\anaconda3\\lib\\site-packages\\instaloader\\structures.py\u001b[0m in \u001b[0;36mfrom_name\u001b[1;34m(cls, context, name)\u001b[0m\n\u001b[0;32m   1379\u001b[0m         \u001b[1;31m# pylint:disable=protected-access\u001b[0m\u001b[1;33m\u001b[0m\u001b[1;33m\u001b[0m\u001b[1;33m\u001b[0m\u001b[0m\n\u001b[0;32m   1380\u001b[0m         \u001b[0mhashtag\u001b[0m \u001b[1;33m=\u001b[0m \u001b[0mcls\u001b[0m\u001b[1;33m(\u001b[0m\u001b[0mcontext\u001b[0m\u001b[1;33m,\u001b[0m \u001b[1;33m{\u001b[0m\u001b[1;34m'name'\u001b[0m\u001b[1;33m:\u001b[0m \u001b[0mname\u001b[0m\u001b[1;33m.\u001b[0m\u001b[0mlower\u001b[0m\u001b[1;33m(\u001b[0m\u001b[1;33m)\u001b[0m\u001b[1;33m}\u001b[0m\u001b[1;33m)\u001b[0m\u001b[1;33m\u001b[0m\u001b[1;33m\u001b[0m\u001b[0m\n\u001b[1;32m-> 1381\u001b[1;33m         \u001b[0mhashtag\u001b[0m\u001b[1;33m.\u001b[0m\u001b[0m_obtain_metadata\u001b[0m\u001b[1;33m(\u001b[0m\u001b[1;33m)\u001b[0m\u001b[1;33m\u001b[0m\u001b[1;33m\u001b[0m\u001b[0m\n\u001b[0m\u001b[0;32m   1382\u001b[0m         \u001b[1;32mreturn\u001b[0m \u001b[0mhashtag\u001b[0m\u001b[1;33m\u001b[0m\u001b[1;33m\u001b[0m\u001b[0m\n\u001b[0;32m   1383\u001b[0m \u001b[1;33m\u001b[0m\u001b[0m\n",
      "\u001b[1;32m~\\anaconda3\\lib\\site-packages\\instaloader\\structures.py\u001b[0m in \u001b[0;36m_obtain_metadata\u001b[1;34m(self)\u001b[0m\n\u001b[0;32m   1393\u001b[0m     \u001b[1;32mdef\u001b[0m \u001b[0m_obtain_metadata\u001b[0m\u001b[1;33m(\u001b[0m\u001b[0mself\u001b[0m\u001b[1;33m)\u001b[0m\u001b[1;33m:\u001b[0m\u001b[1;33m\u001b[0m\u001b[1;33m\u001b[0m\u001b[0m\n\u001b[0;32m   1394\u001b[0m         \u001b[1;32mif\u001b[0m \u001b[1;32mnot\u001b[0m \u001b[0mself\u001b[0m\u001b[1;33m.\u001b[0m\u001b[0m_has_full_metadata\u001b[0m\u001b[1;33m:\u001b[0m\u001b[1;33m\u001b[0m\u001b[1;33m\u001b[0m\u001b[0m\n\u001b[1;32m-> 1395\u001b[1;33m             \u001b[0mself\u001b[0m\u001b[1;33m.\u001b[0m\u001b[0m_node\u001b[0m \u001b[1;33m=\u001b[0m \u001b[0mself\u001b[0m\u001b[1;33m.\u001b[0m\u001b[0m_query\u001b[0m\u001b[1;33m(\u001b[0m\u001b[1;33m{\u001b[0m\u001b[1;34m\"__a\"\u001b[0m\u001b[1;33m:\u001b[0m \u001b[1;36m1\u001b[0m\u001b[1;33m}\u001b[0m\u001b[1;33m)\u001b[0m\u001b[1;33m\u001b[0m\u001b[1;33m\u001b[0m\u001b[0m\n\u001b[0m\u001b[0;32m   1396\u001b[0m             \u001b[0mself\u001b[0m\u001b[1;33m.\u001b[0m\u001b[0m_has_full_metadata\u001b[0m \u001b[1;33m=\u001b[0m \u001b[1;32mTrue\u001b[0m\u001b[1;33m\u001b[0m\u001b[1;33m\u001b[0m\u001b[0m\n\u001b[0;32m   1397\u001b[0m \u001b[1;33m\u001b[0m\u001b[0m\n",
      "\u001b[1;32m~\\anaconda3\\lib\\site-packages\\instaloader\\structures.py\u001b[0m in \u001b[0;36m_query\u001b[1;34m(self, params)\u001b[0m\n\u001b[0;32m   1388\u001b[0m \u001b[1;33m\u001b[0m\u001b[0m\n\u001b[0;32m   1389\u001b[0m     \u001b[1;32mdef\u001b[0m \u001b[0m_query\u001b[0m\u001b[1;33m(\u001b[0m\u001b[0mself\u001b[0m\u001b[1;33m,\u001b[0m \u001b[0mparams\u001b[0m\u001b[1;33m)\u001b[0m\u001b[1;33m:\u001b[0m\u001b[1;33m\u001b[0m\u001b[1;33m\u001b[0m\u001b[0m\n\u001b[1;32m-> 1390\u001b[1;33m         return self._context.get_json(\"explore/tags/{0}/\".format(self.name),\n\u001b[0m\u001b[0;32m   1391\u001b[0m                                       params)[\"graphql\"][\"hashtag\"]\n\u001b[0;32m   1392\u001b[0m \u001b[1;33m\u001b[0m\u001b[0m\n",
      "\u001b[1;31mKeyError\u001b[0m: 'graphql'"
     ]
    }
   ],
   "source": [
    "import instaloader\n",
    "from decouple import config\n",
    "\n",
    "account = \"\"\n",
    "USER = config(f'USER{account}',default='')\n",
    "PASSWORD = config(f'PASSWORD{account}',default='')\n",
    "print(USER)\n",
    "\n",
    "# Login using the credentials\n",
    "L = instaloader.Instaloader()\n",
    "L.login(USER, PASSWORD)\n",
    "\n",
    "posts = instaloader.Hashtag.from_name(L.context, \"crystal\").get_posts()\n",
    "# posts = instaloader.Profile.from_username(L.context, \"jam.stones\").get_posts() \n",
    "\n",
    "for idx, post in enumerate(posts):\n",
    "    \n",
    "#     if idx in data['index']:continue\n",
    "        \n",
    "#     data['index'].append(idx)\n",
    "#     data['date'].append(post.date)\n",
    "#     data['caption'].append(post.caption)\n",
    "#     data['comments'].append(post.comments)\n",
    "#     pd.DataFrame(data).to_csv(\"posts_temp1.csv\")\n",
    "#     print(idx, post.date, \"\\n\")\n",
    "    break"
   ]
  },
  {
   "cell_type": "code",
   "execution_count": 21,
   "metadata": {
    "ExecuteTime": {
     "end_time": "2022-03-16T07:12:25.520692Z",
     "start_time": "2022-03-16T07:12:07.992080Z"
    }
   },
   "outputs": [
    {
     "name": "stdout",
     "output_type": "stream",
     "text": [
      "0\n",
      "1\n",
      "2\n",
      "3\n",
      "4\n",
      "5\n",
      "6\n",
      "7\n",
      "8\n",
      "9\n",
      "10\n",
      "11\n",
      "\n",
      "HTTP redirect from https://www.instagram.com/graphql/query to https://www.instagram.com/accounts/login/?next=/graphql/query\n",
      "______icebear______\n"
     ]
    }
   ],
   "source": [
    "# Redirects me to login page after awhile :(\n",
    "\n",
    "account_pos = 0\n",
    "accounts = ['',1,2,3]\n",
    "\n",
    "while True:\n",
    "try: \n",
    "    for idx, post in enumerate(posts):\n",
    "        print(idx)\n",
    "        if idx in data['index']:continue\n",
    "        data['index'].append(idx)\n",
    "        data['date'].append(post.date)\n",
    "        data['caption'].append(post.caption)\n",
    "        data['comments'].append(post.comments)\n",
    "        pd.DataFrame(data).to_csv(\"posts_temp.csv\")\n",
    "        result=True  \n",
    "except:\n",
    "    \n",
    "    account_pos += 1\n",
    "    account = accounts[account_pos%4]\n",
    "    USER = config(f'USER{account}',default='')\n",
    "    PASSWORD = config(f'PASSWORD{account}',default='')\n",
    "    print(USER)\n",
    "\n",
    "    # Login using the credentials\n",
    "    loader.login(USER, PASSWORD)\n",
    "    # Use Profile class to access metadata of account\n",
    "    profile = instaloader.Profile.from_username(loader.context, 'jam.stones')\n",
    "    L = instaloader.Instaloader()\n",
    "    posts = instaloader.Profile.from_username(L.context, \"jam.stones\").get_posts()"
   ]
  },
  {
   "cell_type": "code",
   "execution_count": 16,
   "metadata": {
    "ExecuteTime": {
     "end_time": "2022-03-15T15:50:30.627713Z",
     "start_time": "2022-03-15T15:50:30.620732Z"
    }
   },
   "outputs": [
    {
     "name": "stdout",
     "output_type": "stream",
     "text": [
      "[0, 1, 2, 3, 4, 5, 6, 7, 8, 9, 10, 11]\n"
     ]
    }
   ],
   "source": [
    "print(data['index'])"
   ]
  },
  {
   "cell_type": "code",
   "execution_count": 87,
   "metadata": {
    "ExecuteTime": {
     "end_time": "2022-03-15T03:18:45.713911Z",
     "start_time": "2022-03-15T03:18:45.119250Z"
    }
   },
   "outputs": [],
   "source": [
    "pd.DataFrame(data).to_csv(\"posts_temp.csv\")"
   ]
  },
  {
   "cell_type": "code",
   "execution_count": 51,
   "metadata": {
    "ExecuteTime": {
     "end_time": "2022-03-16T08:54:12.108316Z",
     "start_time": "2022-03-16T08:54:04.857904Z"
    },
    "scrolled": true
   },
   "outputs": [
    {
     "name": "stdout",
     "output_type": "stream",
     "text": [
      "\n",
      "HTTP redirect from https://www.instagram.com/graphql/query to https://www.instagram.com/accounts/login/?next=/graphql/query\n"
     ]
    },
    {
     "ename": "LoginRequiredException",
     "evalue": "Redirected to login page. Use --login.",
     "output_type": "error",
     "traceback": [
      "\u001b[1;31m---------------------------------------------------------------------------\u001b[0m",
      "\u001b[1;31mLoginRequiredException\u001b[0m                    Traceback (most recent call last)",
      "\u001b[1;32m<ipython-input-51-845b453ffee7>\u001b[0m in \u001b[0;36m<module>\u001b[1;34m\u001b[0m\n\u001b[0;32m     13\u001b[0m \u001b[1;32mwhile\u001b[0m \u001b[0mSINCE\u001b[0m \u001b[1;33m<\u001b[0m \u001b[0mdt\u001b[0m\u001b[1;33m.\u001b[0m\u001b[0mdatetime\u001b[0m\u001b[1;33m.\u001b[0m\u001b[0mnow\u001b[0m\u001b[1;33m(\u001b[0m\u001b[1;33m)\u001b[0m\u001b[1;33m:\u001b[0m\u001b[1;33m\u001b[0m\u001b[1;33m\u001b[0m\u001b[0m\n\u001b[0;32m     14\u001b[0m \u001b[1;33m\u001b[0m\u001b[0m\n\u001b[1;32m---> 15\u001b[1;33m     \u001b[1;32mfor\u001b[0m \u001b[0mpost\u001b[0m \u001b[1;32min\u001b[0m \u001b[0mtakewhile\u001b[0m\u001b[1;33m(\u001b[0m\u001b[1;32mlambda\u001b[0m \u001b[0mp\u001b[0m\u001b[1;33m:\u001b[0m \u001b[0mp\u001b[0m\u001b[1;33m.\u001b[0m\u001b[0mdate\u001b[0m \u001b[1;33m>\u001b[0m \u001b[0mUNTIL\u001b[0m\u001b[1;33m,\u001b[0m \u001b[0mdropwhile\u001b[0m\u001b[1;33m(\u001b[0m\u001b[1;32mlambda\u001b[0m \u001b[0mp\u001b[0m\u001b[1;33m:\u001b[0m \u001b[0mp\u001b[0m\u001b[1;33m.\u001b[0m\u001b[0mdate\u001b[0m \u001b[1;33m>\u001b[0m \u001b[0mSINCE\u001b[0m\u001b[1;33m,\u001b[0m \u001b[0mposts\u001b[0m\u001b[1;33m)\u001b[0m\u001b[1;33m)\u001b[0m\u001b[1;33m:\u001b[0m\u001b[1;33m\u001b[0m\u001b[1;33m\u001b[0m\u001b[0m\n\u001b[0m\u001b[0;32m     16\u001b[0m         \u001b[0mdata\u001b[0m\u001b[1;33m[\u001b[0m\u001b[1;34m'index'\u001b[0m\u001b[1;33m]\u001b[0m\u001b[1;33m.\u001b[0m\u001b[0mappend\u001b[0m\u001b[1;33m(\u001b[0m\u001b[0midx\u001b[0m\u001b[1;33m)\u001b[0m\u001b[1;33m\u001b[0m\u001b[1;33m\u001b[0m\u001b[0m\n\u001b[0;32m     17\u001b[0m         \u001b[0mdata\u001b[0m\u001b[1;33m[\u001b[0m\u001b[1;34m'date'\u001b[0m\u001b[1;33m]\u001b[0m\u001b[1;33m.\u001b[0m\u001b[0mappend\u001b[0m\u001b[1;33m(\u001b[0m\u001b[0mpost\u001b[0m\u001b[1;33m.\u001b[0m\u001b[0mdate\u001b[0m\u001b[1;33m)\u001b[0m\u001b[1;33m\u001b[0m\u001b[1;33m\u001b[0m\u001b[0m\n",
      "\u001b[1;32m~\\anaconda3\\lib\\site-packages\\instaloader\\nodeiterator.py\u001b[0m in \u001b[0;36m__next__\u001b[1;34m(self)\u001b[0m\n\u001b[0;32m    133\u001b[0m             \u001b[1;32mreturn\u001b[0m \u001b[0mitem\u001b[0m\u001b[1;33m\u001b[0m\u001b[1;33m\u001b[0m\u001b[0m\n\u001b[0;32m    134\u001b[0m         \u001b[1;32mif\u001b[0m \u001b[0mself\u001b[0m\u001b[1;33m.\u001b[0m\u001b[0m_data\u001b[0m\u001b[1;33m[\u001b[0m\u001b[1;34m'page_info'\u001b[0m\u001b[1;33m]\u001b[0m\u001b[1;33m[\u001b[0m\u001b[1;34m'has_next_page'\u001b[0m\u001b[1;33m]\u001b[0m\u001b[1;33m:\u001b[0m\u001b[1;33m\u001b[0m\u001b[1;33m\u001b[0m\u001b[0m\n\u001b[1;32m--> 135\u001b[1;33m             \u001b[0mquery_response\u001b[0m \u001b[1;33m=\u001b[0m \u001b[0mself\u001b[0m\u001b[1;33m.\u001b[0m\u001b[0m_query\u001b[0m\u001b[1;33m(\u001b[0m\u001b[0mself\u001b[0m\u001b[1;33m.\u001b[0m\u001b[0m_data\u001b[0m\u001b[1;33m[\u001b[0m\u001b[1;34m'page_info'\u001b[0m\u001b[1;33m]\u001b[0m\u001b[1;33m[\u001b[0m\u001b[1;34m'end_cursor'\u001b[0m\u001b[1;33m]\u001b[0m\u001b[1;33m)\u001b[0m\u001b[1;33m\u001b[0m\u001b[1;33m\u001b[0m\u001b[0m\n\u001b[0m\u001b[0;32m    136\u001b[0m             \u001b[1;32mif\u001b[0m \u001b[0mself\u001b[0m\u001b[1;33m.\u001b[0m\u001b[0m_data\u001b[0m\u001b[1;33m[\u001b[0m\u001b[1;34m'edges'\u001b[0m\u001b[1;33m]\u001b[0m \u001b[1;33m!=\u001b[0m \u001b[0mquery_response\u001b[0m\u001b[1;33m[\u001b[0m\u001b[1;34m'edges'\u001b[0m\u001b[1;33m]\u001b[0m\u001b[1;33m:\u001b[0m\u001b[1;33m\u001b[0m\u001b[1;33m\u001b[0m\u001b[0m\n\u001b[0;32m    137\u001b[0m                 \u001b[0mpage_index\u001b[0m\u001b[1;33m,\u001b[0m \u001b[0mdata\u001b[0m \u001b[1;33m=\u001b[0m \u001b[0mself\u001b[0m\u001b[1;33m.\u001b[0m\u001b[0m_page_index\u001b[0m\u001b[1;33m,\u001b[0m \u001b[0mself\u001b[0m\u001b[1;33m.\u001b[0m\u001b[0m_data\u001b[0m\u001b[1;33m\u001b[0m\u001b[1;33m\u001b[0m\u001b[0m\n",
      "\u001b[1;32m~\\anaconda3\\lib\\site-packages\\instaloader\\nodeiterator.py\u001b[0m in \u001b[0;36m_query\u001b[1;34m(self, after)\u001b[0m\n\u001b[0;32m     99\u001b[0m         \u001b[1;32mtry\u001b[0m\u001b[1;33m:\u001b[0m\u001b[1;33m\u001b[0m\u001b[1;33m\u001b[0m\u001b[0m\n\u001b[0;32m    100\u001b[0m             data = self._edge_extractor(\n\u001b[1;32m--> 101\u001b[1;33m                 self._context.graphql_query(\n\u001b[0m\u001b[0;32m    102\u001b[0m                     \u001b[0mself\u001b[0m\u001b[1;33m.\u001b[0m\u001b[0m_query_hash\u001b[0m\u001b[1;33m,\u001b[0m \u001b[1;33m{\u001b[0m\u001b[1;33m**\u001b[0m\u001b[0mself\u001b[0m\u001b[1;33m.\u001b[0m\u001b[0m_query_variables\u001b[0m\u001b[1;33m,\u001b[0m \u001b[1;33m**\u001b[0m\u001b[0mpagination_variables\u001b[0m\u001b[1;33m}\u001b[0m\u001b[1;33m,\u001b[0m \u001b[0mself\u001b[0m\u001b[1;33m.\u001b[0m\u001b[0m_query_referer\u001b[0m\u001b[1;33m\u001b[0m\u001b[1;33m\u001b[0m\u001b[0m\n\u001b[0;32m    103\u001b[0m                 )\n",
      "\u001b[1;32m~\\anaconda3\\lib\\site-packages\\instaloader\\instaloadercontext.py\u001b[0m in \u001b[0;36mgraphql_query\u001b[1;34m(self, query_hash, variables, referer, rhx_gis)\u001b[0m\n\u001b[0;32m    426\u001b[0m                 \u001b[0mtmpsession\u001b[0m\u001b[1;33m.\u001b[0m\u001b[0mheaders\u001b[0m\u001b[1;33m[\u001b[0m\u001b[1;34m'x-instagram-gis'\u001b[0m\u001b[1;33m]\u001b[0m \u001b[1;33m=\u001b[0m \u001b[0mx_instagram_gis\u001b[0m\u001b[1;33m\u001b[0m\u001b[1;33m\u001b[0m\u001b[0m\n\u001b[0;32m    427\u001b[0m \u001b[1;33m\u001b[0m\u001b[0m\n\u001b[1;32m--> 428\u001b[1;33m             resp_json = self.get_json('graphql/query',\n\u001b[0m\u001b[0;32m    429\u001b[0m                                       params={'query_hash': query_hash,\n\u001b[0;32m    430\u001b[0m                                               'variables': variables_json},\n",
      "\u001b[1;32m~\\anaconda3\\lib\\site-packages\\instaloader\\instaloadercontext.py\u001b[0m in \u001b[0;36mget_json\u001b[1;34m(self, path, params, host, session, _attempt)\u001b[0m\n\u001b[0;32m    334\u001b[0m                 \u001b[1;32mif\u001b[0m \u001b[0mredirect_url\u001b[0m\u001b[1;33m.\u001b[0m\u001b[0mstartswith\u001b[0m\u001b[1;33m(\u001b[0m\u001b[1;34m'https://www.instagram.com/accounts/login'\u001b[0m\u001b[1;33m)\u001b[0m\u001b[1;33m:\u001b[0m\u001b[1;33m\u001b[0m\u001b[1;33m\u001b[0m\u001b[0m\n\u001b[0;32m    335\u001b[0m                     \u001b[1;32mif\u001b[0m \u001b[1;32mnot\u001b[0m \u001b[0mself\u001b[0m\u001b[1;33m.\u001b[0m\u001b[0mis_logged_in\u001b[0m\u001b[1;33m:\u001b[0m\u001b[1;33m\u001b[0m\u001b[1;33m\u001b[0m\u001b[0m\n\u001b[1;32m--> 336\u001b[1;33m                         \u001b[1;32mraise\u001b[0m \u001b[0mLoginRequiredException\u001b[0m\u001b[1;33m(\u001b[0m\u001b[1;34m\"Redirected to login page. Use --login.\"\u001b[0m\u001b[1;33m)\u001b[0m\u001b[1;33m\u001b[0m\u001b[1;33m\u001b[0m\u001b[0m\n\u001b[0m\u001b[0;32m    337\u001b[0m                     \u001b[1;31m# alternate rate limit exceeded behavior\u001b[0m\u001b[1;33m\u001b[0m\u001b[1;33m\u001b[0m\u001b[1;33m\u001b[0m\u001b[0m\n\u001b[0;32m    338\u001b[0m                     \u001b[1;32mraise\u001b[0m \u001b[0mTooManyRequestsException\u001b[0m\u001b[1;33m(\u001b[0m\u001b[1;34m\"Redirected to login\"\u001b[0m\u001b[1;33m)\u001b[0m\u001b[1;33m\u001b[0m\u001b[1;33m\u001b[0m\u001b[0m\n",
      "\u001b[1;31mLoginRequiredException\u001b[0m: Redirected to login page. Use --login."
     ]
    }
   ],
   "source": [
    "import datetime as dt\n",
    "from itertools import dropwhile, takewhile\n",
    "\n",
    "import instaloader\n",
    "\n",
    "L = instaloader.Instaloader()\n",
    "\n",
    "posts = instaloader.Profile.from_username(L.context, \"instagram\").get_posts() \n",
    "\n",
    "SINCE = dt.datetime(2020, 4, 1)\n",
    "UNTIL = dt.datetime(2020, 4, 14)\n",
    "\n",
    "while SINCE < dt.datetime.now():\n",
    "\n",
    "    for post in takewhile(lambda p: p.date > UNTIL, dropwhile(lambda p: p.date > SINCE, posts)):\n",
    "        data['index'].append(idx)\n",
    "        data['date'].append(post.date)\n",
    "        data['caption'].append(post.caption)\n",
    "        data['comments'].append(post.comments)\n",
    "        pd.DataFrame(data).to_csv(\"posts_temp.csv\")\n",
    "    \n",
    "    SINCE += dt.timedelta(days=14) \n",
    "    UNTIL += dt.timedelta(days=14)     \n",
    "    print(SINCE, UNTIL)"
   ]
  },
  {
   "cell_type": "code",
   "execution_count": 49,
   "metadata": {
    "ExecuteTime": {
     "end_time": "2022-03-16T08:53:32.462815Z",
     "start_time": "2022-03-16T08:53:32.457812Z"
    }
   },
   "outputs": [
    {
     "data": {
      "text/plain": [
       "datetime.datetime"
      ]
     },
     "execution_count": 49,
     "metadata": {},
     "output_type": "execute_result"
    }
   ],
   "source": [
    "type(UNTIL)"
   ]
  },
  {
   "cell_type": "code",
   "execution_count": 33,
   "metadata": {
    "ExecuteTime": {
     "end_time": "2022-02-28T15:55:28.803433Z",
     "start_time": "2022-02-28T15:54:27.575880Z"
    },
    "collapsed": true
   },
   "outputs": [
    {
     "name": "stderr",
     "output_type": "stream",
     "text": [
      "JSON Query to jam.stones/feed/: HTTP error code 560. [retrying; skip with ^C]\n"
     ]
    },
    {
     "name": "stdout",
     "output_type": "stream",
     "text": [
      "2022-02-21 11:17:53\n",
      "jam.stones\\2022-02-21_11-17-53_UTC_1.jpg jam.stones\\2022-02-21_11-17-53_UTC_2.jpg [🌊Irie🌊 $89.90  Kyanite (Bead …] json \n",
      "2022-02-19 13:28:46\n",
      "jam.stones\\2022-02-19_13-28-46_UTC_1.jpg jam.stones\\2022-02-19_13-28-46_UTC_2.jpg jam.stones\\2022-02-19_13-28-46_UTC_3.jpg jam.stones\\2022-02-19_13-28-46_UTC_4.jpg jam.stones\\2022-02-19_13-28-46_UTC_5.jpg jam.stones\\2022-02-19_13-28-46_UTC_5.mp4 jam.stones\\2022-02-19_13-28-46_UTC_6.jpg jam.stones\\2022-02-19_13-28-46_UTC_6.mp4 [🧡𝐒𝐔𝐍 𝟐𝟎 𝐅𝐞𝐛 | 𝟕.𝟑𝟎𝐩𝐦 | @jam.s…] json \n",
      "2022-02-16 15:04:02\n",
      "jam.stones\\2022-02-16_15-04-02_UTC_1.jpg jam.stones\\2022-02-16_15-04-02_UTC_2.jpg jam.stones\\2022-02-16_15-04-02_UTC_3.jpg jam.stones\\2022-02-16_15-04-02_UTC_4.jpg jam.stones\\2022-02-16_15-04-02_UTC_5.jpg jam.stones\\2022-02-16_15-04-02_UTC_6.jpg jam.stones\\2022-02-16_15-04-02_UTC_7.jpg jam.stones\\2022-02-16_15-04-02_UTC_8.jpg [𝐒𝐞𝐥𝐟 𝐋𝐨𝐯𝐞 𝐒𝐞𝐫𝐢𝐞𝐬💗 𝑩𝒆 𝒚𝒐𝒖𝒓 𝒐𝒘𝒏…] json \n",
      "2022-02-15 07:43:42\n",
      "jam.stones\\2022-02-15_07-43-42_UTC_1.jpg jam.stones\\2022-02-15_07-43-42_UTC_2.jpg jam.stones\\2022-02-15_07-43-42_UTC_2.mp4 jam.stones\\2022-02-15_07-43-42_UTC_3.jpg jam.stones\\2022-02-15_07-43-42_UTC_4.jpg jam.stones\\2022-02-15_07-43-42_UTC_5.jpg jam.stones\\2022-02-15_07-43-42_UTC_6.jpg jam.stones\\2022-02-15_07-43-42_UTC_7.jpg jam.stones\\2022-02-15_07-43-42_UTC_8.jpg jam.stones\\2022-02-15_07-43-42_UTC_9.jpg jam.stones\\2022-02-15_07-43-42_UTC_10.jpg jam.stones\\2022-02-15_07-43-42_UTC_10.mp4 [🚨SALES!!!🚨 @newagefsg newagef…] json \n",
      "2022-02-14 07:20:04\n",
      "jam.stones\\2022-02-14_07-20-04_UTC_1.jpg jam.stones\\2022-02-14_07-20-04_UTC_2.jpg jam.stones\\2022-02-14_07-20-04_UTC_2.mp4 jam.stones\\2022-02-14_07-20-04_UTC_3.jpg jam.stones\\2022-02-14_07-20-04_UTC_4.jpg [𝐃.𝐀.𝐈.𝐒.𝐘 𝐒𝐩𝐢𝐧𝐧𝐢𝐧𝐠 𝐑𝐢𝐧𝐠𝐬!!!! …] json \n",
      "2022-02-11 07:59:09\n",
      "jam.stones\\2022-02-11_07-59-09_UTC.jpg [💗𝐑𝐞𝐜𝐚𝐩 𝐈𝐆 𝐋𝐈𝐕𝐄 𝐭𝐨𝐧𝐢𝐠𝐡𝐭 𝟗𝐩𝐦💗  …] jam.stones\\2022-02-11_07-59-09_UTC.mp4 json \n",
      "2022-02-04 09:55:01\n",
      "jam.stones\\2022-02-04_09-55-01_UTC_1.jpg jam.stones\\2022-02-04_09-55-01_UTC_2.jpg jam.stones\\2022-02-04_09-55-01_UTC_3.jpg jam.stones\\2022-02-04_09-55-01_UTC_3.mp4 jam.stones\\2022-02-04_09-55-01_UTC_4.jpg jam.stones\\2022-02-04_09-55-01_UTC_4.mp4 [Crystal bracelet workshop slo…] json \n",
      "2022-01-22 04:15:43\n",
      "jam.stones\\2022-01-22_04-15-43_UTC_1.jpg jam.stones\\2022-01-22_04-15-43_UTC_2.jpg jam.stones\\2022-01-22_04-15-43_UTC_2.mp4 jam.stones\\2022-01-22_04-15-43_UTC_3.jpg jam.stones\\2022-01-22_04-15-43_UTC_3.mp4 [IMPERIAL * FULL JADE (Grade A…] json \n"
     ]
    }
   ],
   "source": [
    "from datetime import datetime\n",
    "from itertools import dropwhile, takewhile\n",
    "\n",
    "import instaloader\n",
    "\n",
    "L = instaloader.Instaloader()\n",
    "\n",
    "posts = instaloader.Profile.from_username(L.context, \"jam.stones\").get_posts()\n",
    "\n",
    "# Tracing backwards from today\n",
    "SINCE = datetime(2022, 2, 22) # February 22, 2022\n",
    "UNTIL = datetime(2022, 1, 22) # January 22, 2022\n",
    "\n",
    "for post in takewhile(lambda p: p.date > UNTIL, dropwhile(lambda p: p.date > SINCE, posts)):\n",
    "    print(post.date)\n",
    "    L.download_post(post, \"jam.stones\")"
   ]
  },
  {
   "cell_type": "markdown",
   "metadata": {
    "heading_collapsed": true
   },
   "source": [
    "# Read Meta data"
   ]
  },
  {
   "cell_type": "code",
   "execution_count": 107,
   "metadata": {
    "ExecuteTime": {
     "end_time": "2022-03-10T11:05:21.000599Z",
     "start_time": "2022-03-10T11:05:20.992621Z"
    },
    "hidden": true
   },
   "outputs": [],
   "source": [
    "# Retriev Metadata from posts\n",
    "# Credit to TA Thao, thank you!\n",
    "\n",
    "import os\n",
    "import pandas as pd\n",
    "from glob import glob\n",
    "import orjson\n",
    "\n",
    "def parse_instafiles(path):\n",
    "\n",
    "    os.chdir(path)\n",
    "\n",
    "    dataframe = pd.DataFrame(columns=[])\n",
    "\n",
    "    #print('Traversing file tree...')\n",
    "\n",
    "    glob('*UTC.json*')\n",
    "\n",
    "    for file in glob('*UTC.json*'):\n",
    "        with open(file, 'r', encoding=\"utf8\", errors='ignore') as filecontent:\n",
    "            filename = filecontent.name[:-5]\n",
    "\n",
    "            try:\n",
    "                metadata = orjson.loads(filecontent.read())\n",
    "            except IOError as e:\n",
    "                #print(\"I/O Error. Couldn't load file. Trying the next one...\")\n",
    "                continue\n",
    "            else:\n",
    "                pass\n",
    "            \n",
    "            #print('Collecting relevant metadata...')\n",
    "            username = metadata['node']['owner']['username']\n",
    "            image = metadata['node']['display_url']\n",
    "            time = datetime.fromtimestamp(\n",
    "                int(metadata['node']['taken_at_timestamp']))\n",
    "            likes = int(metadata['node']['edge_media_preview_like']['count'])\n",
    "\n",
    "#             If you want to crawl comments\n",
    "#             comments = int(metadata['node']['edge_media_to_comment']['count'])\n",
    "#             if comments > 0:\n",
    "#                 with open(filename+\"_comments.json\" ,'r') as comment_file:\n",
    "#                     data = orjson.loads(comment_file.read())\n",
    "#                     comment1 = data[0]['text']\n",
    "\n",
    "            try:\n",
    "                text = metadata['node']['edge_media_to_caption']['edges'][0]['node']['text']\n",
    "            except:\n",
    "                text = \"\"\n",
    "            try:\n",
    "                post_id = metadata['node']['id']\n",
    "            except:\n",
    "                post_id = \"\"\n",
    "            minedata = {'filename': filename, \"username\": username, 'time': time, 'text': text,\n",
    "                        'likes': likes, 'post_id': post_id, 'image_url': image}\n",
    "            #print('Writing to dataframe...')\n",
    "            dataframe = dataframe.append(minedata, ignore_index=True)\n",
    "            #print('Closing file...')\n",
    "            del metadata\n",
    "            filecontent.close()\n",
    "    #print('Storing dataframe to CSV file...')\n",
    "    # print('Done.')\n",
    "    return dataframe"
   ]
  },
  {
   "cell_type": "code",
   "execution_count": 131,
   "metadata": {
    "ExecuteTime": {
     "end_time": "2022-03-10T11:29:12.090920Z",
     "start_time": "2022-03-10T11:29:12.072967Z"
    },
    "hidden": true
   },
   "outputs": [
    {
     "ename": "JSONDecodeError",
     "evalue": "trailing characters at line 1 column 2: line 1 column 2 (char 1)",
     "output_type": "error",
     "traceback": [
      "\u001b[1;31m---------------------------------------------------------------------------\u001b[0m",
      "\u001b[1;31mJSONDecodeError\u001b[0m                           Traceback (most recent call last)",
      "\u001b[1;32m<ipython-input-131-6ec47e837347>\u001b[0m in \u001b[0;36m<module>\u001b[1;34m\u001b[0m\n\u001b[0;32m      4\u001b[0m \u001b[1;31m# + \"\\\\jam.stones\"\u001b[0m\u001b[1;33m\u001b[0m\u001b[1;33m\u001b[0m\u001b[1;33m\u001b[0m\u001b[0m\n\u001b[0;32m      5\u001b[0m \u001b[1;33m\u001b[0m\u001b[0m\n\u001b[1;32m----> 6\u001b[1;33m \u001b[0mdf_instagram\u001b[0m \u001b[1;33m=\u001b[0m \u001b[0mparse_instafiles\u001b[0m\u001b[1;33m(\u001b[0m\u001b[0mos\u001b[0m\u001b[1;33m.\u001b[0m\u001b[0mgetcwd\u001b[0m\u001b[1;33m(\u001b[0m\u001b[1;33m)\u001b[0m\u001b[1;33m+\u001b[0m \u001b[1;34m\"\\\\jam.stones\"\u001b[0m\u001b[1;33m)\u001b[0m\u001b[1;33m\u001b[0m\u001b[1;33m\u001b[0m\u001b[0m\n\u001b[0m\u001b[0;32m      7\u001b[0m \u001b[0mdf_instagram\u001b[0m\u001b[1;33m\u001b[0m\u001b[1;33m\u001b[0m\u001b[0m\n",
      "\u001b[1;32m<ipython-input-107-5a1df91c599b>\u001b[0m in \u001b[0;36mparse_instafiles\u001b[1;34m(path)\u001b[0m\n\u001b[0;32m     22\u001b[0m \u001b[1;33m\u001b[0m\u001b[0m\n\u001b[0;32m     23\u001b[0m             \u001b[1;32mtry\u001b[0m\u001b[1;33m:\u001b[0m\u001b[1;33m\u001b[0m\u001b[1;33m\u001b[0m\u001b[0m\n\u001b[1;32m---> 24\u001b[1;33m                 \u001b[0mmetadata\u001b[0m \u001b[1;33m=\u001b[0m \u001b[0morjson\u001b[0m\u001b[1;33m.\u001b[0m\u001b[0mloads\u001b[0m\u001b[1;33m(\u001b[0m\u001b[0mfilecontent\u001b[0m\u001b[1;33m.\u001b[0m\u001b[0mread\u001b[0m\u001b[1;33m(\u001b[0m\u001b[1;33m)\u001b[0m\u001b[1;33m)\u001b[0m\u001b[1;33m\u001b[0m\u001b[1;33m\u001b[0m\u001b[0m\n\u001b[0m\u001b[0;32m     25\u001b[0m             \u001b[1;32mexcept\u001b[0m \u001b[0mIOError\u001b[0m \u001b[1;32mas\u001b[0m \u001b[0me\u001b[0m\u001b[1;33m:\u001b[0m\u001b[1;33m\u001b[0m\u001b[1;33m\u001b[0m\u001b[0m\n\u001b[0;32m     26\u001b[0m                 \u001b[1;31m#print(\"I/O Error. Couldn't load file. Trying the next one...\")\u001b[0m\u001b[1;33m\u001b[0m\u001b[1;33m\u001b[0m\u001b[1;33m\u001b[0m\u001b[0m\n",
      "\u001b[1;31mJSONDecodeError\u001b[0m: trailing characters at line 1 column 2: line 1 column 2 (char 1)"
     ]
    }
   ],
   "source": [
    "# Windows OS path\n",
    "# If you're using Mac, replace \\\\ with /\n",
    "# os.chdir(\"..\")\n",
    "# + \"\\\\jam.stones\"\n",
    "\n",
    "df_instagram = parse_instafiles(os.getcwd())\n",
    "df_instagram"
   ]
  },
  {
   "cell_type": "code",
   "execution_count": 133,
   "metadata": {
    "ExecuteTime": {
     "end_time": "2022-03-10T11:29:20.895722Z",
     "start_time": "2022-03-10T11:29:20.889704Z"
    },
    "hidden": true
   },
   "outputs": [
    {
     "name": "stdout",
     "output_type": "stream",
     "text": [
      "{'node': {'__typename': 'GraphSidecar', 'id': '2756537878697225795', 'shortcode': 'CZBMJiNqC5D', 'dimensions': {'height': 1080, 'width': 1080}, 'display_url': 'https://instagram.fsin5-1.fna.fbcdn.net/v/t51.2885-15/272281073_3054260748163081_3444454721897759594_n.jpg?stp=dst-jpg_e35&_nc_ht=instagram.fsin5-1.fna.fbcdn.net&_nc_cat=101&_nc_ohc=salfizaJZykAX-3u1LO&edm=AAuNW_gBAAAA&ccb=7-4&oh=00_AT-b2p7ZCRRs5VFUbNa0bwB9Ldi3an9nv7I4BGTqsBcIbA&oe=62230818&_nc_sid=498da5', 'edge_media_to_tagged_user': {'edges': []}, 'fact_check_overall_rating': None, 'fact_check_information': None, 'gating_info': None, 'sharing_friction_info': {'should_have_sharing_friction': False, 'bloks_app_url': None}, 'media_overlay_info': None, 'media_preview': None, 'owner': {'biography': '🔥15% OFF STOREWIDE🔥\\n🔮Crystal Workshop  @newagegaia\\nGrowing Trees with your love and support! \\n(6,000 🌳 grown till date)', 'blocked_by_viewer': False, 'restricted_by_viewer': None, 'country_block': False, 'external_url': 'https://shp.ee/pmzkthp', 'external_url_linkshimmed': 'https://l.instagram.com/?u=https%3A%2F%2Fshp.ee%2Fpmzkthp&e=ATPy0i53DfXpe3Y5hMFk7ypFeGqZOQweGErJf1bLLZp6DHcMaQpJ-Pt9rgxE9Qmqqc38-z76qbp9u_L-&s=1', 'edge_followed_by': {'count': 13277}, 'fbid': '17841433445923845', 'followed_by_viewer': False, 'edge_follow': {'count': 70}, 'follows_viewer': False, 'full_name': 'Crystal by Jam', 'has_ar_effects': False, 'has_clips': True, 'has_guides': False, 'has_channel': False, 'has_blocked_viewer': False, 'highlight_reel_count': 30, 'has_requested_viewer': False, 'hide_like_and_view_counts': False, 'id': '33390762864', 'is_business_account': True, 'is_professional_account': True, 'is_embeds_disabled': False, 'is_joined_recently': False, 'business_address_json': None, 'business_contact_method': 'UNKNOWN', 'business_email': None, 'business_phone_number': None, 'business_category_name': 'Personal Goods & General Merchandise Stores', 'overall_category_name': None, 'category_enum': 'TOPIC_SHOPPING_RETAIL', 'category_name': 'Shopping & retail', 'is_private': False, 'is_verified': False, 'edge_mutual_followed_by': {'count': 0, 'edges': []}, 'profile_pic_url': 'https://instagram.fsin5-1.fna.fbcdn.net/v/t51.2885-19/235540879_890109951859138_1784282834752300611_n.jpg?stp=dst-jpg_s150x150&_nc_ht=instagram.fsin5-1.fna.fbcdn.net&_nc_cat=110&_nc_ohc=gLOYCNFHWrsAX9ycT_D&edm=AAuNW_gBAAAA&ccb=7-4&oh=00_AT8DFjUyfzJPg5NK9QXtjrlrJ1gq6OC4mfqm2mRelS3htg&oe=622401E2&_nc_sid=498da5', 'profile_pic_url_hd': 'https://instagram.fsin5-1.fna.fbcdn.net/v/t51.2885-19/235540879_890109951859138_1784282834752300611_n.jpg?stp=dst-jpg_s320x320&_nc_ht=instagram.fsin5-1.fna.fbcdn.net&_nc_cat=110&_nc_ohc=gLOYCNFHWrsAX9ycT_D&edm=AAuNW_gBAAAA&ccb=7-4&oh=00_AT8aFn2m97ws9imFkb9zWIUnr7X3GAB1xa33xBhjzOMfjw&oe=622401E2&_nc_sid=498da5', 'requested_by_viewer': False, 'should_show_category': True, 'should_show_public_contacts': True, 'state_controlled_media_country': None, 'username': 'jam.stones', 'connected_fb_page': None, 'pronouns': [], 'edge_related_profiles': {'edges': [{'node': {'id': '13527694912', 'full_name': '𝐆𝐄𝐌𝐒 𝐁𝐘 𝐀𝐑𝐓𝐈𝐒𝐓𝐑𝐘', 'is_private': False, 'is_verified': False, 'profile_pic_url': 'https://instagram.fsin5-1.fna.fbcdn.net/v/t51.2885-19/121232611_3425572010855053_8517592030665619330_n.jpg?stp=dst-jpg_s150x150&_nc_ht=instagram.fsin5-1.fna.fbcdn.net&_nc_cat=101&_nc_ohc=0FpqIdbVqrwAX82H-6M&edm=AAuNW_gBAAAA&ccb=7-4&oh=00_AT9rOZAmPA1TdkG2XihREjSJmbvEw96kpXnlJebJ_7H_5w&oe=6223A2FB&_nc_sid=498da5', 'username': 'gemsbyartistry'}}, {'node': {'id': '42993157751', 'full_name': 'KOMI Crystals', 'is_private': False, 'is_verified': False, 'profile_pic_url': 'https://instagram.fsin5-1.fna.fbcdn.net/v/t51.2885-19/123307593_796902581071575_3277815286379599486_n.jpg?stp=dst-jpg_s150x150&_nc_ht=instagram.fsin5-1.fna.fbcdn.net&_nc_cat=103&_nc_ohc=JGjDnJ9MFvwAX-8HEMx&edm=AAuNW_gBAAAA&ccb=7-4&oh=00_AT89fFxJtbenmFqNlXoZG26av7w0ZAxdy2lHYENATtZk5g&oe=62234373&_nc_sid=498da5', 'username': 'komi_crystals'}}, {'node': {'id': '48529000434', 'full_name': 'Eye4crystals', 'is_private': False, 'is_verified': False, 'profile_pic_url': 'https://instagram.fsin5-1.fna.fbcdn.net/v/t51.2885-19/273393776_365767378717057_6429830058694015056_n.jpg?stp=dst-jpg_s150x150&_nc_ht=instagram.fsin5-1.fna.fbcdn.net&_nc_cat=101&_nc_ohc=R65f4EZ85vsAX_AmeE_&edm=AAuNW_gBAAAA&ccb=7-4&oh=00_AT8ohF9zsKcjh6cDnu5u4Yz8yxCUrbMHxqgFholjTVPG_g&oe=6223DC57&_nc_sid=498da5', 'username': 'eye4crystals'}}, {'node': {'id': '12420846065', 'full_name': 'Sprinkles Crystal 💜☁️🌙✨💫', 'is_private': False, 'is_verified': False, 'profile_pic_url': 'https://instagram.fsin5-1.fna.fbcdn.net/v/t51.2885-19/270417509_600267364365900_6354582131757158527_n.jpg?stp=dst-jpg_s150x150&_nc_ht=instagram.fsin5-1.fna.fbcdn.net&_nc_cat=100&_nc_ohc=NMgoGYyoIGkAX8qrvyr&edm=AAuNW_gBAAAA&ccb=7-4&oh=00_AT_Vn_3cyoPIN73s2PnAyxzlaMeYVj0OUjW4rka7sbinVA&oe=6223F849&_nc_sid=498da5', 'username': 'sprinklescrystal'}}, {'node': {'id': '36069067891', 'full_name': 'ɪsʜɪ | ᴄʀʏsᴛᴀʟ & ᴄʜᴀʀᴍs sᴜᴘᴘʟʏ', 'is_private': False, 'is_verified': False, 'profile_pic_url': 'https://instagram.fsin5-1.fna.fbcdn.net/v/t51.2885-19/121293354_2868010140097556_8651055399806701979_n.jpg?stp=dst-jpg_s150x150&_nc_ht=instagram.fsin5-1.fna.fbcdn.net&_nc_cat=108&_nc_ohc=AdIrwUj6CVwAX_ywJzR&edm=AAuNW_gBAAAA&ccb=7-4&oh=00_AT84dMi006x_34jMzJQ4AwWcl7BNh5Zdj4QoM8fqReixjQ&oe=62237CDB&_nc_sid=498da5', 'username': 'ishi.gems'}}, {'node': {'id': '45946719157', 'full_name': 'starry vault', 'is_private': False, 'is_verified': False, 'profile_pic_url': 'https://instagram.fsin5-1.fna.fbcdn.net/v/t51.2885-19/160637631_1347836615600742_6859343412258265795_n.jpg?stp=dst-jpg_s150x150&_nc_ht=instagram.fsin5-1.fna.fbcdn.net&_nc_cat=106&_nc_ohc=y4C4LNy0W1gAX9dvCwW&edm=AAuNW_gBAAAA&ccb=7-4&oh=00_AT-0lAsm2Aqtd7UZjT6voV_xir3DYg52i9i_RJl0RVi1yQ&oe=6224BF77&_nc_sid=498da5', 'username': 'starryvault.official'}}, {'node': {'id': '31944379680', 'full_name': 'Crystals & Accessories🔮', 'is_private': False, 'is_verified': False, 'profile_pic_url': 'https://instagram.fsin5-1.fna.fbcdn.net/v/t51.2885-19/91817540_740239373414038_7027745353109602304_n.jpg?stp=dst-jpg_s150x150&_nc_ht=instagram.fsin5-1.fna.fbcdn.net&_nc_cat=110&_nc_ohc=VuOFl0ET1kIAX-NiRA7&edm=AAuNW_gBAAAA&ccb=7-4&oh=00_AT9Nc1i8CCn0MuxNyk-4QaRoo_V5JFQ--Aol2uAc55zM6A&oe=6223DD2C&_nc_sid=498da5', 'username': 'enchantingstones'}}, {'node': {'id': '14586948985', 'full_name': 'Ohmou | Crystal', 'is_private': False, 'is_verified': False, 'profile_pic_url': 'https://instagram.fsin5-1.fna.fbcdn.net/v/t51.2885-19/106306031_271582444062981_3232940650814854888_n.jpg?stp=dst-jpg_s150x150&_nc_ht=instagram.fsin5-1.fna.fbcdn.net&_nc_cat=109&_nc_ohc=Z-HHkkGtQy4AX-BPLsU&edm=AAuNW_gBAAAA&ccb=7-4&oh=00_AT_2ZhsOmiTiEC62-B0Sm8T50yJ5TEoIqAnLWiuUoxAJfg&oe=62243694&_nc_sid=498da5', 'username': 'ohmou.sg'}}, {'node': {'id': '13069736853', 'full_name': 'The Happy Cutlet', 'is_private': False, 'is_verified': False, 'profile_pic_url': 'https://instagram.fsin5-1.fna.fbcdn.net/v/t51.2885-19/185600150_1945229935634572_6820964397500234964_n.jpg?stp=dst-jpg_s150x150&_nc_ht=instagram.fsin5-1.fna.fbcdn.net&_nc_cat=104&_nc_ohc=GRJ6KBp-Cd0AX_9kBOX&edm=AAuNW_gBAAAA&ccb=7-4&oh=00_AT9U8zEknj83XeDHbLtnKhkGK_V9__Gxfm2elJ0cRcIxDQ&oe=6224C701&_nc_sid=498da5', 'username': 'thehappycutlet'}}, {'node': {'id': '48499156810', 'full_name': 'Faie Crystals', 'is_private': False, 'is_verified': False, 'profile_pic_url': 'https://instagram.fsin5-1.fna.fbcdn.net/v/t51.2885-19/222825071_516257492787191_2109860043834654862_n.jpg?stp=dst-jpg_s150x150&_nc_ht=instagram.fsin5-1.fna.fbcdn.net&_nc_cat=111&_nc_ohc=BakEoUK4pDAAX8s6Uv2&edm=AAuNW_gBAAAA&ccb=7-4&oh=00_AT_lP-1I3-94Q6dffu5xiyikEFnW7TNhyXDLeZ2_qeetQA&oe=6222FE09&_nc_sid=498da5', 'username': 'faiecrystals'}}, {'node': {'id': '43281937564', 'full_name': 'Camellia Gems', 'is_private': False, 'is_verified': False, 'profile_pic_url': 'https://instagram.fsin5-1.fna.fbcdn.net/v/t51.2885-19/120739031_868287663990124_2576434807330545118_n.jpg?stp=dst-jpg_s150x150&_nc_ht=instagram.fsin5-1.fna.fbcdn.net&_nc_cat=104&_nc_ohc=Di2Kf1iuYAgAX-60egZ&edm=AAuNW_gBAAAA&ccb=7-4&oh=00_AT8uV3jV_j4_XztwyQxYKNnR_I0ld1ohOt16jA2yumVvEg&oe=6223123E&_nc_sid=498da5', 'username': 'camellia.gems'}}, {'node': {'id': '25335079810', 'full_name': 'Crystals and love ☾', 'is_private': False, 'is_verified': False, 'profile_pic_url': 'https://instagram.fsin5-1.fna.fbcdn.net/v/t51.2885-19/271497247_523392558774876_2880015095830565584_n.jpg?stp=dst-jpg_s150x150&_nc_ht=instagram.fsin5-1.fna.fbcdn.net&_nc_cat=100&_nc_ohc=2ndGF0BDR04AX9__N15&edm=AAuNW_gBAAAA&ccb=7-4&oh=00_AT9NNrF-mrOpxXWDHBFl6nB1qzcomFW6tYouqjKhiTlMNA&oe=622485F7&_nc_sid=498da5', 'username': 'ablurkitty'}}, {'node': {'id': '43878993151', 'full_name': 'Love for Gems SG ❤️💎', 'is_private': False, 'is_verified': False, 'profile_pic_url': 'https://instagram.fsin5-1.fna.fbcdn.net/v/t51.2885-19/249096423_220317253532608_6454837845497323359_n.jpg?stp=dst-jpg_s150x150&_nc_ht=instagram.fsin5-1.fna.fbcdn.net&_nc_cat=104&_nc_ohc=8o-aNMFBiHMAX_W6iTm&edm=AAuNW_gBAAAA&ccb=7-4&oh=00_AT8H2JyF0I9YNR9v40lihGhrR0Zlnd0KidHEXMdGYYmdeg&oe=62244B76&_nc_sid=498da5', 'username': 'loveforgemssg'}}, {'node': {'id': '32810373753', 'full_name': 'SparkJoy Jewellery', 'is_private': False, 'is_verified': False, 'profile_pic_url': 'https://instagram.fsin5-1.fna.fbcdn.net/v/t51.2885-19/262759011_1349981905457643_6341413396423701331_n.jpg?stp=dst-jpg_s150x150&_nc_ht=instagram.fsin5-1.fna.fbcdn.net&_nc_cat=103&_nc_ohc=p6qMEYm4s2UAX_FWany&edm=AAuNW_gBAAAA&ccb=7-4&oh=00_AT8EvY3d1hGD0qLHesk4YyQQsGiIsBvZxNLDKRdUH9KkJQ&oe=622448B6&_nc_sid=498da5', 'username': 'sparkjoy_jewellery'}}, {'node': {'id': '27890121849', 'full_name': 'Crztales', 'is_private': False, 'is_verified': False, 'profile_pic_url': 'https://instagram.fsin5-1.fna.fbcdn.net/v/t51.2885-19/271168857_612075533350619_56305739413673235_n.jpg?stp=dst-jpg_s150x150&_nc_ht=instagram.fsin5-1.fna.fbcdn.net&_nc_cat=111&_nc_ohc=DqyYpPQ32ysAX8nVCW1&edm=AAuNW_gBAAAA&ccb=7-4&oh=00_AT-dW53VHIOhKIAd1872ZgDgICUEoY3tE6o8uXWL1OcbPQ&oe=6223BFF0&_nc_sid=498da5', 'username': 'crztales'}}, {'node': {'id': '15674761935', 'full_name': 'Love Estella', 'is_private': False, 'is_verified': False, 'profile_pic_url': 'https://instagram.fsin5-1.fna.fbcdn.net/v/t51.2885-19/120329762_823412675150888_8118794539782324968_n.jpg?stp=dst-jpg_s150x150&_nc_ht=instagram.fsin5-1.fna.fbcdn.net&_nc_cat=1&_nc_ohc=UPegrl4BX88AX-TSaQ1&edm=AAuNW_gBAAAA&ccb=7-4&oh=00_AT_7mcyRPOVueT-62WPZf9rNVZO4UNkkA-HTd85ITALjeQ&oe=6224A63C&_nc_sid=498da5', 'username': 'loveestellajewelry'}}, {'node': {'id': '39869086238', 'full_name': 'Espérance', 'is_private': False, 'is_verified': False, 'profile_pic_url': 'https://instagram.fsin5-1.fna.fbcdn.net/v/t51.2885-19/140267804_2714811002165396_8490849090101103341_n.jpg?stp=dst-jpg_s150x150&_nc_ht=instagram.fsin5-1.fna.fbcdn.net&_nc_cat=108&_nc_ohc=zcmnvqoQA78AX_dLokF&edm=AAuNW_gBAAAA&ccb=7-4&oh=00_AT_45_2ZeOVB-bLyRE8nZDXn0cjeMwbIGj1pdeWQGX08Wg&oe=6224BD38&_nc_sid=498da5', 'username': 'esperancejewellery.co'}}, {'node': {'id': '39402805515', 'full_name': 'LuluCrystalsx', 'is_private': False, 'is_verified': False, 'profile_pic_url': 'https://instagram.fsin5-1.fna.fbcdn.net/v/t51.2885-19/109548502_2603583779744634_3575713664741710768_n.jpg?stp=dst-jpg_s150x150&_nc_ht=instagram.fsin5-1.fna.fbcdn.net&_nc_cat=106&_nc_ohc=Psf-fk8U2p4AX-BIFHD&edm=AAuNW_gBAAAA&ccb=7-4&oh=00_AT8gDIN9klQBccIunMjq6uUsZshEcuS9oTTpTlCXnDHzPg&oe=62231871&_nc_sid=498da5', 'username': 'lulucrystalsx'}}, {'node': {'id': '9013582781', 'full_name': 'Crystal by Daisy Gems®', 'is_private': False, 'is_verified': False, 'profile_pic_url': 'https://instagram.fsin5-1.fna.fbcdn.net/v/t51.2885-19/273662500_919522232099529_4956543715494170470_n.jpg?stp=dst-jpg_s150x150&_nc_ht=instagram.fsin5-1.fna.fbcdn.net&_nc_cat=109&_nc_ohc=Is8skud4EggAX8WDG-I&edm=AAuNW_gBAAAA&ccb=7-4&oh=00_AT8SjarzGC7EZgqldbKOQrmzdq5SQ3GL4JUEU9tO-OLAgQ&oe=622352B0&_nc_sid=498da5', 'username': 'daisy.gems'}}, {'node': {'id': '17673544672', 'full_name': 'The Mellow Crystal', 'is_private': False, 'is_verified': False, 'profile_pic_url': 'https://instagram.fsin5-1.fna.fbcdn.net/v/t51.2885-19/123119245_1231805537188820_3249392893821633516_n.jpg?stp=dst-jpg_s150x150&_nc_ht=instagram.fsin5-1.fna.fbcdn.net&_nc_cat=108&_nc_ohc=eVycqKZKpTYAX98Emoe&edm=AAuNW_gBAAAA&ccb=7-4&oh=00_AT9m84XszoA66AZh_VDROdMIjY91y95R2HnFL9FB0i76wQ&oe=6222EDF7&_nc_sid=498da5', 'username': 'the.mellowcrystal'}}, {'node': {'id': '47955273999', 'full_name': 'Lola’s Gem', 'is_private': False, 'is_verified': False, 'profile_pic_url': 'https://instagram.fsin5-1.fna.fbcdn.net/v/t51.2885-19/223746200_283398603556150_1764727710007680670_n.jpg?stp=dst-jpg_s150x150&_nc_ht=instagram.fsin5-1.fna.fbcdn.net&_nc_cat=110&_nc_ohc=HswysQqckPEAX9x4r_v&edm=AAuNW_gBAAAA&ccb=7-4&oh=00_AT_bhcFnVhoGw7RDOsdq2Dm_nk7WOLI81XLj2sEmjEcN0A&oe=6223F852&_nc_sid=498da5', 'username': 'lolas.gem'}}, {'node': {'id': '18089227426', 'full_name': 'Crystals | Hayrainbow 🌈', 'is_private': False, 'is_verified': False, 'profile_pic_url': 'https://instagram.fsin5-1.fna.fbcdn.net/v/t51.2885-19/92996780_691581011389249_2350477421750255616_n.jpg?stp=dst-jpg_s150x150&_nc_ht=instagram.fsin5-1.fna.fbcdn.net&_nc_cat=101&_nc_ohc=EMCMxyJnR00AX8m3-GR&edm=AAuNW_gBAAAA&ccb=7-4&oh=00_AT8ayzZUx9TBVAGVXKfjVN8fIR9LEnvjYMU3f104biSh0A&oe=6224A352&_nc_sid=498da5', 'username': 'hayrainbow'}}, {'node': {'id': '50267373763', 'full_name': '爱买Crystals', 'is_private': False, 'is_verified': False, 'profile_pic_url': 'https://instagram.fsin5-1.fna.fbcdn.net/v/t51.2885-19/257781902_568816727529271_7794804476078825729_n.jpg?stp=dst-jpg_s150x150&_nc_ht=instagram.fsin5-1.fna.fbcdn.net&_nc_cat=107&_nc_ohc=fiwjGNccRwQAX9C1N7k&edm=AAuNW_gBAAAA&ccb=7-4&oh=00_AT-KDzqQq0HvJRtlfrGBZM-Xwiu8yNiws9v2pZzzlo9paA&oe=622409EC&_nc_sid=498da5', 'username': 'aimaicrystals'}}, {'node': {'id': '19360959385', 'full_name': 'Caring Crystals', 'is_private': False, 'is_verified': False, 'profile_pic_url': 'https://instagram.fsin5-1.fna.fbcdn.net/v/t51.2885-19/270164320_645875049789314_8589852557383515283_n.jpg?stp=dst-jpg_s150x150&_nc_ht=instagram.fsin5-1.fna.fbcdn.net&_nc_cat=102&_nc_ohc=-TfKxW8f4_oAX_MLAK6&edm=AAuNW_gBAAAA&ccb=7-4&oh=00_AT8VYV8TJanCsJxU4rXRB0S433xKi7KIVHuTlRFAciA3xA&oe=62245991&_nc_sid=498da5', 'username': 'caringcrystals'}}, {'node': {'id': '31960337362', 'full_name': 'Sparkle Please • Crystal Shop', 'is_private': False, 'is_verified': False, 'profile_pic_url': 'https://instagram.fsin5-1.fna.fbcdn.net/v/t51.2885-19/251345455_3216016865302698_6348204718766470387_n.jpg?stp=dst-jpg_s150x150&_nc_ht=instagram.fsin5-1.fna.fbcdn.net&_nc_cat=106&_nc_ohc=MOCTJ4QoWacAX9DvjvY&edm=AAuNW_gBAAAA&ccb=7-4&oh=00_AT_HFplohMeMTJt3FlzZPsIyq3BPtFrmKwZMOtfe2Q8TyA&oe=6224D131&_nc_sid=498da5', 'username': 'sparkle.please'}}, {'node': {'id': '8350601510', 'full_name': 'CrystalxJam', 'is_private': False, 'is_verified': False, 'profile_pic_url': 'https://instagram.fsin5-1.fna.fbcdn.net/v/t51.2885-19/126267996_400248861099759_3519016046510536155_n.jpg?stp=dst-jpg_s150x150&_nc_ht=instagram.fsin5-1.fna.fbcdn.net&_nc_cat=103&_nc_ohc=nYF1bgDVPV0AX-8Q_S6&edm=AAuNW_gBAAAA&ccb=7-4&oh=00_AT8bknr9mDn2jDnHpT3UHg_riH8PXK5dW2L2JWHTJntygA&oe=622351D8&_nc_sid=498da5', 'username': 'crystalxjam'}}, {'node': {'id': '43101809288', 'full_name': 'Beyond Statements', 'is_private': False, 'is_verified': False, 'profile_pic_url': 'https://instagram.fsin5-1.fna.fbcdn.net/v/t51.2885-19/273130557_1118254378927457_4576246395555293919_n.jpg?stp=dst-jpg_s150x150&_nc_ht=instagram.fsin5-1.fna.fbcdn.net&_nc_cat=105&_nc_ohc=9fBbFsM1OCQAX8TDtco&edm=AAuNW_gBAAAA&ccb=7-4&oh=00_AT_fVIc82ARmTq4Aw_0CA5gxtRCdM3d6ypjg22pYIDp2Mg&oe=6222FBBE&_nc_sid=498da5', 'username': 'beyondstatements'}}, {'node': {'id': '31968269419', 'full_name': 'Lady Love By Amel', 'is_private': False, 'is_verified': False, 'profile_pic_url': 'https://instagram.fsin5-1.fna.fbcdn.net/v/t51.2885-19/99126783_587597585208014_6037652453900419072_n.jpg?stp=dst-jpg_s150x150&_nc_ht=instagram.fsin5-1.fna.fbcdn.net&_nc_cat=102&_nc_ohc=Shnk6Gdf__sAX90Rg_N&edm=AAuNW_gBAAAA&ccb=7-4&oh=00_AT8kj6QBXYH74U5EFZn41ba4UxMV1Vn5JCZDoidQD2NlOA&oe=6224C828&_nc_sid=498da5', 'username': 'ladylovegem'}}, {'node': {'id': '8307898412', 'full_name': 'Hanako Crystals', 'is_private': False, 'is_verified': False, 'profile_pic_url': 'https://instagram.fsin5-1.fna.fbcdn.net/v/t51.2885-19/125970483_179586293793302_1727940263147743980_n.jpg?stp=dst-jpg_s150x150&_nc_ht=instagram.fsin5-1.fna.fbcdn.net&_nc_cat=102&_nc_ohc=Ybcd3uTErrgAX-tmCR2&edm=AAuNW_gBAAAA&ccb=7-4&oh=00_AT-GU_NGTCsnaMIEHyxpg7jPjgzlYjEA5DTWiMDVoA1mSQ&oe=6223B078&_nc_sid=498da5', 'username': 'hanakocrystals'}}, {'node': {'id': '39487436863', 'full_name': 'Rare Crystal Gems', 'is_private': False, 'is_verified': False, 'profile_pic_url': 'https://instagram.fsin5-1.fna.fbcdn.net/v/t51.2885-19/118003660_334466990925972_7047555143015563097_n.jpg?stp=dst-jpg_s150x150&_nc_ht=instagram.fsin5-1.fna.fbcdn.net&_nc_cat=100&_nc_ohc=kj2rBxUpjkoAX-6OMx4&edm=AAuNW_gBAAAA&ccb=7-4&oh=00_AT9vMOixqeu17NMNmCtQPgFY-L4toue_O28rMJ1mYN4msA&oe=6224A130&_nc_sid=498da5', 'username': 'dreamcrystal.sg'}}, {'node': {'id': '43986956807', 'full_name': 'AllThatCraftings', 'is_private': False, 'is_verified': False, 'profile_pic_url': 'https://instagram.fsin5-1.fna.fbcdn.net/v/t51.2885-19/121738869_352690446050275_5582662970938795647_n.jpg?stp=dst-jpg_s150x150&_nc_ht=instagram.fsin5-1.fna.fbcdn.net&_nc_cat=107&_nc_ohc=P4G_h7k8V_cAX91Qwpt&edm=AAuNW_gBAAAA&ccb=7-4&oh=00_AT_q6SNxd9-FlmuFr_r21cS6-QfeZ3P38lzTrDIyHtHrWg&oe=622407F5&_nc_sid=498da5', 'username': 'allthatcraftings'}}, {'node': {'id': '48404429650', 'full_name': 'J2 Jadeite 🇸🇬 | Jade | Jewels', 'is_private': False, 'is_verified': False, 'profile_pic_url': 'https://instagram.fsin5-1.fna.fbcdn.net/v/t51.2885-19/272156142_987204841882754_2726292333930640931_n.jpg?stp=dst-jpg_s150x150&_nc_ht=instagram.fsin5-1.fna.fbcdn.net&_nc_cat=102&_nc_ohc=Ziyhf8uRXZEAX9zwZ6c&edm=AAuNW_gBAAAA&ccb=7-4&oh=00_AT_aCtvdZI2goy0Moe_vtcprUxJi6amF3ll5YEUId65Xmg&oe=6223669F&_nc_sid=498da5', 'username': 'j2jadeite'}}]}}, 'is_video': False, 'has_upcoming_event': False, 'accessibility_caption': \"Photo by Crystal by Jam on January 21, 2022. May be an image of jewelry and text that says 'Jam. .Stones ጥ IMPERIAL FULL JADE BRACELET'.\", 'edge_media_to_caption': {'edges': [{'node': {'text': 'IMPERIAL * FULL JADE (Grade A)\\n$148.88 (u.p $188.88)\\n\\nOwning a piece of jade symbolizes nobility, wealth, and status. Since ancient times, it is believed to invite prosperity and nobleman into your life. In healing, Jade balances the body’s fluid which is essential in maintaining good health of the body. It heals the major organs like the kidneys, liver, heart, spleen and lungs. Hence, it is prized as a miracle healer in ancient times.\\n\\nJADE (GRADE A)\\n\\nJade is a symbol of purity. It helps to release negative thoughts and protects it’s wearer from harm. It is believed to bring good luck and opportunities when you wear jade.'}}]}, 'edge_media_to_comment': {'count': 5}, 'comments_disabled': False, 'taken_at_timestamp': 1642824943, 'edge_liked_by': {'count': 100}, 'edge_media_preview_like': {'count': 113}, 'location': None, 'thumbnail_src': 'https://instagram.fsin5-1.fna.fbcdn.net/v/t51.2885-15/272281073_3054260748163081_3444454721897759594_n.jpg?stp=dst-jpg_e35_s640x640_sh0.08&_nc_ht=instagram.fsin5-1.fna.fbcdn.net&_nc_cat=101&_nc_ohc=salfizaJZykAX-3u1LO&edm=AAuNW_gBAAAA&ccb=7-4&oh=00_AT_U1Y9AGzdw0CLLXdj0gU6Ur7MINnzPzJdTYI3rEmDEWw&oe=62230818&_nc_sid=498da5', 'thumbnail_resources': [{'src': 'https://instagram.fsin5-1.fna.fbcdn.net/v/t51.2885-15/272281073_3054260748163081_3444454721897759594_n.jpg?stp=dst-jpg_e35_s150x150&_nc_ht=instagram.fsin5-1.fna.fbcdn.net&_nc_cat=101&_nc_ohc=salfizaJZykAX-3u1LO&edm=AAuNW_gBAAAA&ccb=7-4&oh=00_AT-sGXofrMATPSSR8e52isBPyKizXsEzm_IROKndlaD2Eg&oe=62230818&_nc_sid=498da5', 'config_width': 150, 'config_height': 150}, {'src': 'https://instagram.fsin5-1.fna.fbcdn.net/v/t51.2885-15/272281073_3054260748163081_3444454721897759594_n.jpg?stp=dst-jpg_e35_s240x240&_nc_ht=instagram.fsin5-1.fna.fbcdn.net&_nc_cat=101&_nc_ohc=salfizaJZykAX-3u1LO&edm=AAuNW_gBAAAA&ccb=7-4&oh=00_AT_hqJkmxo6TyERjIUHOVRkV__-WzoYByddltYEh0aaGdw&oe=62230818&_nc_sid=498da5', 'config_width': 240, 'config_height': 240}, {'src': 'https://instagram.fsin5-1.fna.fbcdn.net/v/t51.2885-15/272281073_3054260748163081_3444454721897759594_n.jpg?stp=dst-jpg_e35_s320x320&_nc_ht=instagram.fsin5-1.fna.fbcdn.net&_nc_cat=101&_nc_ohc=salfizaJZykAX-3u1LO&edm=AAuNW_gBAAAA&ccb=7-4&oh=00_AT8iU-OiiPR3CQDzoiNetwHDokFf7k8ZugVQ_o8pCOGvKQ&oe=62230818&_nc_sid=498da5', 'config_width': 320, 'config_height': 320}, {'src': 'https://instagram.fsin5-1.fna.fbcdn.net/v/t51.2885-15/272281073_3054260748163081_3444454721897759594_n.jpg?stp=dst-jpg_e35_s480x480&_nc_ht=instagram.fsin5-1.fna.fbcdn.net&_nc_cat=101&_nc_ohc=salfizaJZykAX-3u1LO&edm=AAuNW_gBAAAA&ccb=7-4&oh=00_AT-mkD6GdfgBtGiYd9rNqMtcDky08cIQzEFI8mFIEIktdg&oe=62230818&_nc_sid=498da5', 'config_width': 480, 'config_height': 480}, {'src': 'https://instagram.fsin5-1.fna.fbcdn.net/v/t51.2885-15/272281073_3054260748163081_3444454721897759594_n.jpg?stp=dst-jpg_e35_s640x640_sh0.08&_nc_ht=instagram.fsin5-1.fna.fbcdn.net&_nc_cat=101&_nc_ohc=salfizaJZykAX-3u1LO&edm=AAuNW_gBAAAA&ccb=7-4&oh=00_AT_U1Y9AGzdw0CLLXdj0gU6Ur7MINnzPzJdTYI3rEmDEWw&oe=62230818&_nc_sid=498da5', 'config_width': 640, 'config_height': 640}], 'coauthor_producers': [], 'edge_sidecar_to_children': {'edges': [{'node': {'__typename': 'GraphImage', 'id': '2756537869243289212', 'shortcode': 'CZBMJZaKI58', 'dimensions': {'height': 1080, 'width': 1080}, 'display_url': 'https://instagram.fsin5-1.fna.fbcdn.net/v/t51.2885-15/272281073_3054260748163081_3444454721897759594_n.jpg?stp=dst-jpg_e35&_nc_ht=instagram.fsin5-1.fna.fbcdn.net&_nc_cat=101&_nc_ohc=salfizaJZykAX-3u1LO&edm=AAuNW_gBAAAA&ccb=7-4&oh=00_AT-b2p7ZCRRs5VFUbNa0bwB9Ldi3an9nv7I4BGTqsBcIbA&oe=62230818&_nc_sid=498da5', 'edge_media_to_tagged_user': {'edges': []}, 'fact_check_overall_rating': None, 'fact_check_information': None, 'gating_info': None, 'sharing_friction_info': {'should_have_sharing_friction': False, 'bloks_app_url': None}, 'media_overlay_info': None, 'media_preview': 'ACoqvsik89aUxgnJ7UjMEOWPPpSSuCAwzjOcetIBsqKWXOB7/SqdxF5Thk5ORVy4ZjyFxwPx4qAsPlB4PQ5NQ0aRkJNKYwNg6nJDf5/nTBKT2x7VZWJW4b86kEK+9Kxd0hlzES+7PA6jHX8asRlSBtpJutVUkMA2YJz0PbB/wrQwJSdzUk8YZg38S9P/AK9TeTtXd6cmq5mEkuB0z/McGkNd0WcBgCMYHBx+madTnABwPx+tJQJBKo7k1DKilNp/l6Val6VRk6imBaVfNXZk445HFVZbUxtmMbg33ix5z6/571dtvu/nStQNaEar0AqTbU4+8aKBH//Z', 'owner': {'id': '33390762864', 'username': 'jam.stones'}, 'is_video': False, 'has_upcoming_event': False, 'accessibility_caption': \"Photo by Crystal by Jam on January 21, 2022. May be an image of jewelry and text that says 'Jam. .Stones ጥ IMPERIAL FULL JADE BRACELET'.\"}}, {'node': {'__typename': 'GraphVideo', 'id': '2756537557713389085', 'shortcode': 'CZBME3Rh4Yd', 'dimensions': {'height': 750, 'width': 750}, 'display_url': 'https://instagram.fsin5-1.fna.fbcdn.net/v/t51.2885-15/272176202_146002591143037_1411061811427822183_n.jpg?stp=dst-jpg_e35&_nc_ht=instagram.fsin5-1.fna.fbcdn.net&_nc_cat=101&_nc_ohc=Zro5rTvEDagAX9GswwJ&edm=AAuNW_gBAAAA&ccb=7-4&oh=00_AT9VOb2ieFjMrwRrlmdMR__Zms9qn9YNDeTN6pqerspsrw&oe=621F34DD&_nc_sid=498da5', 'edge_media_to_tagged_user': {'edges': []}, 'fact_check_overall_rating': None, 'fact_check_information': None, 'gating_info': None, 'sharing_friction_info': {'should_have_sharing_friction': False, 'bloks_app_url': None}, 'media_overlay_info': None, 'media_preview': 'ACoqzCi43A8j19vT2qZSxG4AlgOB/Wqp4Hr61sWiNCAW5Lc//rrLlT32NZ/3f+HKdskjEk5C9PSrstsi4VQCSORUk+BgD77HP0H+elRCVkfL8k9Mf56UOKZKuVpoxaOAec4PH41Cbsk52Dn6Vav4gqeax/eE9PX6D2rI3/ShxTd7EN2NDajDOK00bykyRkjp+NOW3XG3FR8/cPb16VSVlYpvr94igKDI/JP6n0H+eKgPzncSNx7egFOiV5Msw6dBSwrhyTx7GmHp0KmonJU8/d79Ovb+tURCCM5FT3M/myFlHy9AD7d/61X3GkyPI60jGPpVZwCfm7dattWfN3+oploeCUICDhhn9cVUuZlik2pywGGPpn+taaj7lcy/LnPqaBP8yz5ZYYQe/uajIk/un8qv2nWrtcjquPYtQT8j/9k=', 'owner': {'id': '33390762864', 'username': 'jam.stones'}, 'is_video': True, 'has_upcoming_event': False, 'accessibility_caption': None, 'dash_info': {'is_dash_eligible': False, 'video_dash_manifest': None, 'number_of_qualities': 0}, 'has_audio': False, 'tracking_token': 'eyJ2ZXJzaW9uIjo1LCJwYXlsb2FkIjp7ImlzX2FuYWx5dGljc190cmFja2VkIjp0cnVlLCJ1dWlkIjoiYTI3ODhhZTcyMTIwNGI4Yjg3ZWVkZjYyMzY4NDBiZDgyNzU2NTM3NTU3NzEzMzg5MDg1In0sInNpZ25hdHVyZSI6IiJ9', 'video_url': 'https://instagram.fsin5-1.fna.fbcdn.net/v/t50.2886-16/272128575_443893303878786_2039170527181050187_n.mp4?_nc_ht=instagram.fsin5-1.fna.fbcdn.net&_nc_cat=106&_nc_ohc=7FeSWdPG4_QAX_XPF3o&edm=AAuNW_gBAAAA&ccb=7-4&oe=621F2678&oh=00_AT8FLgk_KwBtWlSf2NTu5xIzIV4NxwlgOCu9BHjn_6z-jg&_nc_sid=498da5', 'video_view_count': 807}}, {'node': {'__typename': 'GraphVideo', 'id': '2756537562553621281', 'shortcode': 'CZBME7yB5sh', 'dimensions': {'height': 750, 'width': 750}, 'display_url': 'https://instagram.fsin5-1.fna.fbcdn.net/v/t51.2885-15/272352974_520802052476578_5179516213527512235_n.jpg?stp=dst-jpg_e35&_nc_ht=instagram.fsin5-1.fna.fbcdn.net&_nc_cat=110&_nc_ohc=W9DTKOAEZ1AAX-gfJRy&edm=AAuNW_gBAAAA&ccb=7-4&oh=00_AT8bDbEVjgjo02dzyZm5-ialvDe9_gm1JyH_YWIL991Nzw&oe=621EFD56&_nc_sid=498da5', 'edge_media_to_tagged_user': {'edges': []}, 'fact_check_overall_rating': None, 'fact_check_information': None, 'gating_info': None, 'sharing_friction_info': {'should_have_sharing_friction': False, 'bloks_app_url': None}, 'media_overlay_info': None, 'media_preview': 'ACoqiM7sBkAHHQ81DC4L5Y89/wD61QCQ8DjGcDPv61Z+x7HDZ3Kfz+n0rlUHZrZGrepKhOOeeTUyDml2Cpoo8nNaWETxpU9Ubm8W3+Qcue3p7n/DvWSbqUn77fhWiRDZDbxbzluQOtacRKNuPIPb0ojjCjAq0keam5b1Vn6AjCViRxjrT55ltk3HknoPU/4etR3IVFGeOfxPtVG8uEmRQOOTye2Mcfr+lV59SG7aIzHZ2zI3Ut1Pf1/Cjj1/Snk7gF67c49KZvccVNyTpEjqV2WFS7dBT0rO1Q8IO2T/ACo2VzQz5Xe5YvnAHQeg/wA9ai8vcCSflHepozyP89jU1qAcfSpbslIG3JuOyRRCAc5xj17f/XqPcPep5RhiBxxTKpa6mR//2Q==', 'owner': {'id': '33390762864', 'username': 'jam.stones'}, 'is_video': True, 'has_upcoming_event': False, 'accessibility_caption': None, 'dash_info': {'is_dash_eligible': False, 'video_dash_manifest': None, 'number_of_qualities': 0}, 'has_audio': False, 'tracking_token': 'eyJ2ZXJzaW9uIjo1LCJwYXlsb2FkIjp7ImlzX2FuYWx5dGljc190cmFja2VkIjp0cnVlLCJ1dWlkIjoiYTI3ODhhZTcyMTIwNGI4Yjg3ZWVkZjYyMzY4NDBiZDgyNzU2NTM3NTYyNTUzNjIxMjgxIn0sInNpZ25hdHVyZSI6IiJ9', 'video_url': 'https://instagram.fsin5-1.fna.fbcdn.net/v/t50.2886-16/272321146_653845562636896_7590512403508186758_n.mp4?_nc_ht=instagram.fsin5-1.fna.fbcdn.net&_nc_cat=104&_nc_ohc=eHXSgQe-wNgAX9DMDRW&edm=AAuNW_gBAAAA&ccb=7-4&oe=621F900D&oh=00_AT9uLRmC1_L_3T9I25npaSARhT93LTIXQf2irvCpUZwFKw&_nc_sid=498da5', 'video_view_count': 524}}]}}, 'instaloader': {'version': '4.8.4', 'node_type': 'Post'}}\n"
     ]
    }
   ],
   "source": [
    "import lzma \n",
    "\n",
    "with lzma.open(x[0]) as f:\n",
    "    json_bytes = f.read()\n",
    "    stri = json_bytes.decode('utf-8')\n",
    "    data = json.loads(stri)\n",
    "\n",
    "    print(data)"
   ]
  },
  {
   "cell_type": "code",
   "execution_count": 155,
   "metadata": {
    "ExecuteTime": {
     "end_time": "2022-03-10T11:38:22.374264Z",
     "start_time": "2022-03-10T11:38:22.367284Z"
    },
    "hidden": true
   },
   "outputs": [
    {
     "data": {
      "text/plain": [
       "1642824943"
      ]
     },
     "execution_count": 155,
     "metadata": {},
     "output_type": "execute_result"
    }
   ],
   "source": [
    "data['node']['edge_media_to_caption']['edges'][0]['node']['text']\n",
    "data['node']['edge_media_to_comment']['count']\n",
    "data['node']['edge_liked_by']['count']\n",
    "data['node']['edge_media_preview_like']['count']\n",
    "data['node']['taken_at_timestamp']"
   ]
  },
  {
   "cell_type": "code",
   "execution_count": 152,
   "metadata": {
    "ExecuteTime": {
     "end_time": "2022-03-10T11:37:03.052376Z",
     "start_time": "2022-03-10T11:37:03.048382Z"
    },
    "hidden": true
   },
   "outputs": [
    {
     "data": {
      "text/plain": [
       "dict_keys(['__typename', 'id', 'shortcode', 'dimensions', 'display_url', 'edge_media_to_tagged_user', 'fact_check_overall_rating', 'fact_check_information', 'gating_info', 'sharing_friction_info', 'media_overlay_info', 'media_preview', 'owner', 'is_video', 'has_upcoming_event', 'accessibility_caption', 'edge_media_to_caption', 'edge_media_to_comment', 'comments_disabled', 'taken_at_timestamp', 'edge_liked_by', 'edge_media_preview_like', 'location', 'thumbnail_src', 'thumbnail_resources', 'coauthor_producers', 'edge_sidecar_to_children'])"
      ]
     },
     "execution_count": 152,
     "metadata": {},
     "output_type": "execute_result"
    }
   ],
   "source": [
    "data['node'].keys()"
   ]
  },
  {
   "cell_type": "code",
   "execution_count": 132,
   "metadata": {
    "ExecuteTime": {
     "end_time": "2022-03-10T11:29:16.168514Z",
     "start_time": "2022-03-10T11:29:16.155499Z"
    },
    "hidden": true
   },
   "outputs": [
    {
     "name": "stdout",
     "output_type": "stream",
     "text": [
      "C:\\Users\\Razer\\OneDrive - Singapore Management University\\Documents\\Y3S2\\SA\\labs\\Week7\\jam.stones\\jam.stones\n"
     ]
    },
    {
     "ename": "JSONDecodeError",
     "evalue": "Extra data: line 1 column 5 (char 4)",
     "output_type": "error",
     "traceback": [
      "\u001b[1;31m---------------------------------------------------------------------------\u001b[0m",
      "\u001b[1;31mJSONDecodeError\u001b[0m                           Traceback (most recent call last)",
      "\u001b[1;32m<ipython-input-132-b7d7836aef9e>\u001b[0m in \u001b[0;36m<module>\u001b[1;34m\u001b[0m\n\u001b[0;32m      3\u001b[0m \u001b[1;33m\u001b[0m\u001b[0m\n\u001b[0;32m      4\u001b[0m \u001b[1;32mimport\u001b[0m \u001b[0morjson\u001b[0m\u001b[1;33m\u001b[0m\u001b[1;33m\u001b[0m\u001b[0m\n\u001b[1;32m----> 5\u001b[1;33m \u001b[0mjson\u001b[0m\u001b[1;33m.\u001b[0m\u001b[0mloads\u001b[0m\u001b[1;33m(\u001b[0m\u001b[0mx\u001b[0m\u001b[1;33m[\u001b[0m\u001b[1;36m0\u001b[0m\u001b[1;33m]\u001b[0m\u001b[1;33m)\u001b[0m\u001b[1;33m\u001b[0m\u001b[1;33m\u001b[0m\u001b[0m\n\u001b[0m",
      "\u001b[1;32m~\\anaconda3\\lib\\json\\__init__.py\u001b[0m in \u001b[0;36mloads\u001b[1;34m(s, cls, object_hook, parse_float, parse_int, parse_constant, object_pairs_hook, **kw)\u001b[0m\n\u001b[0;32m    355\u001b[0m             \u001b[0mparse_int\u001b[0m \u001b[1;32mis\u001b[0m \u001b[1;32mNone\u001b[0m \u001b[1;32mand\u001b[0m \u001b[0mparse_float\u001b[0m \u001b[1;32mis\u001b[0m \u001b[1;32mNone\u001b[0m \u001b[1;32mand\u001b[0m\u001b[1;33m\u001b[0m\u001b[1;33m\u001b[0m\u001b[0m\n\u001b[0;32m    356\u001b[0m             parse_constant is None and object_pairs_hook is None and not kw):\n\u001b[1;32m--> 357\u001b[1;33m         \u001b[1;32mreturn\u001b[0m \u001b[0m_default_decoder\u001b[0m\u001b[1;33m.\u001b[0m\u001b[0mdecode\u001b[0m\u001b[1;33m(\u001b[0m\u001b[0ms\u001b[0m\u001b[1;33m)\u001b[0m\u001b[1;33m\u001b[0m\u001b[1;33m\u001b[0m\u001b[0m\n\u001b[0m\u001b[0;32m    358\u001b[0m     \u001b[1;32mif\u001b[0m \u001b[0mcls\u001b[0m \u001b[1;32mis\u001b[0m \u001b[1;32mNone\u001b[0m\u001b[1;33m:\u001b[0m\u001b[1;33m\u001b[0m\u001b[1;33m\u001b[0m\u001b[0m\n\u001b[0;32m    359\u001b[0m         \u001b[0mcls\u001b[0m \u001b[1;33m=\u001b[0m \u001b[0mJSONDecoder\u001b[0m\u001b[1;33m\u001b[0m\u001b[1;33m\u001b[0m\u001b[0m\n",
      "\u001b[1;32m~\\anaconda3\\lib\\json\\decoder.py\u001b[0m in \u001b[0;36mdecode\u001b[1;34m(self, s, _w)\u001b[0m\n\u001b[0;32m    338\u001b[0m         \u001b[0mend\u001b[0m \u001b[1;33m=\u001b[0m \u001b[0m_w\u001b[0m\u001b[1;33m(\u001b[0m\u001b[0ms\u001b[0m\u001b[1;33m,\u001b[0m \u001b[0mend\u001b[0m\u001b[1;33m)\u001b[0m\u001b[1;33m.\u001b[0m\u001b[0mend\u001b[0m\u001b[1;33m(\u001b[0m\u001b[1;33m)\u001b[0m\u001b[1;33m\u001b[0m\u001b[1;33m\u001b[0m\u001b[0m\n\u001b[0;32m    339\u001b[0m         \u001b[1;32mif\u001b[0m \u001b[0mend\u001b[0m \u001b[1;33m!=\u001b[0m \u001b[0mlen\u001b[0m\u001b[1;33m(\u001b[0m\u001b[0ms\u001b[0m\u001b[1;33m)\u001b[0m\u001b[1;33m:\u001b[0m\u001b[1;33m\u001b[0m\u001b[1;33m\u001b[0m\u001b[0m\n\u001b[1;32m--> 340\u001b[1;33m             \u001b[1;32mraise\u001b[0m \u001b[0mJSONDecodeError\u001b[0m\u001b[1;33m(\u001b[0m\u001b[1;34m\"Extra data\"\u001b[0m\u001b[1;33m,\u001b[0m \u001b[0ms\u001b[0m\u001b[1;33m,\u001b[0m \u001b[0mend\u001b[0m\u001b[1;33m)\u001b[0m\u001b[1;33m\u001b[0m\u001b[1;33m\u001b[0m\u001b[0m\n\u001b[0m\u001b[0;32m    341\u001b[0m         \u001b[1;32mreturn\u001b[0m \u001b[0mobj\u001b[0m\u001b[1;33m\u001b[0m\u001b[1;33m\u001b[0m\u001b[0m\n\u001b[0;32m    342\u001b[0m \u001b[1;33m\u001b[0m\u001b[0m\n",
      "\u001b[1;31mJSONDecodeError\u001b[0m: Extra data: line 1 column 5 (char 4)"
     ]
    }
   ],
   "source": [
    "print(os.getcwd())\n",
    "x = glob('*UTC.json*')\n",
    "\n",
    "import orjson\n",
    "json.loads(x[0])"
   ]
  },
  {
   "cell_type": "code",
   "execution_count": null,
   "metadata": {
    "ExecuteTime": {
     "end_time": "2022-02-28T13:33:15.491400Z",
     "start_time": "2022-02-28T13:33:09.176Z"
    },
    "hidden": true
   },
   "outputs": [],
   "source": [
    "# Let's see the metadata for the first few entries\n",
    "df_instagram.head()"
   ]
  }
 ],
 "metadata": {
  "kernelspec": {
   "display_name": "Python 3",
   "language": "python",
   "name": "python3"
  },
  "language_info": {
   "codemirror_mode": {
    "name": "ipython",
    "version": 3
   },
   "file_extension": ".py",
   "mimetype": "text/x-python",
   "name": "python",
   "nbconvert_exporter": "python",
   "pygments_lexer": "ipython3",
   "version": "3.10.0"
  },
  "toc": {
   "base_numbering": 1,
   "nav_menu": {},
   "number_sections": true,
   "sideBar": true,
   "skip_h1_title": false,
   "title_cell": "Table of Contents",
   "title_sidebar": "Contents",
   "toc_cell": false,
   "toc_position": {},
   "toc_section_display": true,
   "toc_window_display": false
  },
  "varInspector": {
   "cols": {
    "lenName": 16,
    "lenType": 16,
    "lenVar": 40
   },
   "kernels_config": {
    "python": {
     "delete_cmd_postfix": "",
     "delete_cmd_prefix": "del ",
     "library": "var_list.py",
     "varRefreshCmd": "print(var_dic_list())"
    },
    "r": {
     "delete_cmd_postfix": ") ",
     "delete_cmd_prefix": "rm(",
     "library": "var_list.r",
     "varRefreshCmd": "cat(var_dic_list()) "
    }
   },
   "types_to_exclude": [
    "module",
    "function",
    "builtin_function_or_method",
    "instance",
    "_Feature"
   ],
   "window_display": false
  }
 },
 "nbformat": 4,
 "nbformat_minor": 5
}
