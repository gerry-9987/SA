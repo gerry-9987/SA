{
 "cells": [
  {
   "cell_type": "markdown",
   "metadata": {},
   "source": [
    "# Run these first"
   ]
  },
  {
   "cell_type": "code",
   "execution_count": 19,
   "metadata": {
    "ExecuteTime": {
     "end_time": "2022-03-28T04:49:47.818315Z",
     "start_time": "2022-03-28T04:49:47.813296Z"
    }
   },
   "outputs": [],
   "source": [
    "import instaloader\n",
    "from decouple import config\n",
    "from IPython.display import clear_output\n",
    "import pandas as pd\n",
    "import time\n",
    "from os.path import exists"
   ]
  },
  {
   "cell_type": "code",
   "execution_count": 20,
   "metadata": {
    "ExecuteTime": {
     "end_time": "2022-03-28T04:49:54.681781Z",
     "start_time": "2022-03-28T04:49:48.459908Z"
    }
   },
   "outputs": [
    {
     "name": "stdout",
     "output_type": "stream",
     "text": [
      "wesleyongs\n"
     ]
    }
   ],
   "source": [
    "# change code accordingly & add insta credentials to .env file\n",
    "\n",
    "accounts = [1,2,4,5,6]\n",
    "account_pointer = 0\n",
    "account = accounts[account_pointer]\n",
    "USER = config(f'USER{account}',default='')\n",
    "PASSWORD = config(f'PASSWORD{account}',default='')\n",
    "print(USER)\n",
    "L = instaloader.Instaloader()\n",
    "L.login(USER, PASSWORD)"
   ]
  },
  {
   "cell_type": "markdown",
   "metadata": {},
   "source": [
    "# Get followers data"
   ]
  },
  {
   "cell_type": "markdown",
   "metadata": {},
   "source": [
    "https://gephi.org/users/supported-graph-formats/csv-format/#:~:text=Gephi%20supports%20CSV%20files%20that,by%20single%20or%20double%20quotes."
   ]
  },
  {
   "cell_type": "markdown",
   "metadata": {},
   "source": [
    "-is_verified\n",
    "-biography\n",
    "https://instaloader.github.io/module/structures.html?highlight=profile#profiles"
   ]
  },
  {
   "cell_type": "code",
   "execution_count": 21,
   "metadata": {
    "ExecuteTime": {
     "end_time": "2022-03-28T04:50:06.523125Z",
     "start_time": "2022-03-28T04:50:06.114458Z"
    }
   },
   "outputs": [],
   "source": [
    "usernames = pd.read_csv(\"hashtags_crystalsg.csv\").username.to_list()"
   ]
  },
  {
   "cell_type": "code",
   "execution_count": 30,
   "metadata": {
    "ExecuteTime": {
     "end_time": "2022-03-28T06:26:48.061569Z",
     "start_time": "2022-03-28T04:54:28.911950Z"
    },
    "scrolled": true
   },
   "outputs": [
    {
     "name": "stdout",
     "output_type": "stream",
     "text": [
      "Doing 0: petalsofarosez\n",
      "0/2000\n",
      "Doing 1: princessezyt\n",
      "1/2000\n",
      "Doing 2: moonwanderer.est2020\n",
      "2/2000\n",
      "Doing 3: crystalliac\n",
      "3/2000\n",
      "Doing 4: rehauscrystals\n",
      "4/2000\n",
      "Doing 5: lulucrystalsx\n",
      "5/2000\n",
      "Doing 6: crystalpixiesg\n",
      "6/2000\n",
      "Doing 7: ss_rockmyworld\n",
      "7/2000\n",
      "Doing 9: nickycrystcollection\n",
      "9/2000\n",
      "Doing 10: kleodora.krystals\n",
      "10/2000\n",
      "Doing 12: cv.indoboyeng_permata\n",
      "12/2000\n",
      "Doing 13: rosygrace.sg\n",
      "13/2000\n",
      "Doing 15: crystal.heng.heng.bidding\n",
      "15/2000\n",
      "Doing 17: winterglow.co\n",
      "17/2000\n",
      "Doing 19: ishi.gems\n",
      "19/2000\n",
      "Doing 20: livin.crystal\n",
      "20/2000\n",
      "Doing 30: crystalismel\n",
      "30/2000\n",
      "Doing 35: allthatcraftings\n",
      "35/2000\n",
      "Doing 36: jaaasperrrrr\n",
      "36/2000\n",
      "Doing 39: virgonshops\n",
      "39/2000\n",
      "Doing 40: panda.crys\n",
      "40/2000\n",
      "Doing 42: crystal.lippies\n",
      "42/2000\n",
      "Doing 43: meow.meowpi\n",
      "43/2000\n",
      "Doing 44: lookgoodfeelgreatforles\n",
      "44/2000\n",
      "Doing 45: crystalartsy.sg\n",
      "45/2000\n",
      "Doing 47: jcrystraller\n",
      "47/2000\n",
      "Doing 48: admin_crystalartsyy\n",
      "48/2000\n",
      "Doing 54: crystal.blianz\n",
      "54/2000\n",
      "Doing 56: auralite2three\n",
      "56/2000\n",
      "Doing 57: polly_crystal_wholesaler\n",
      "57/2000\n",
      "Doing 58: crystalclan.co\n",
      "58/2000\n",
      "Doing 63: _crystalgalore_\n",
      "63/2000\n",
      "Doing 64: crystalplant.sg\n",
      "64/2000\n",
      "Doing 65: blubellspell\n",
      "65/2000\n",
      "Doing 66: amare_by_en\n",
      "66/2000\n",
      "Doing 67: malfatihstone07\n",
      "67/2000\n",
      "Doing 71: dainty_kessho\n",
      "71/2000\n",
      "Doing 75: i_am_alansmith\n",
      "75/2000\n",
      "Doing 76: crystal_alanmoon\n",
      "76/2000\n",
      "Doing 78: internationalgemshop\n",
      "78/2000\n",
      "Doing 80: suryadinata164\n",
      "80/2000\n",
      "Doing 81: sunkissedjewelssg\n",
      "81/2000\n",
      "Doing 83: ervina_crystal123\n",
      "83/2000\n",
      "Doing 87: satria_fire_naturalgems_\n",
      "87/2000\n",
      "Doing 88: jorey.sg\n",
      "88/2000\n",
      "Doing 89: nina_crystalshop\n",
      "89/2000\n",
      "Doing 91: spykle.twinkle\n",
      "91/2000\n",
      "Doing 92: crystalsail.sg\n",
      "92/2000\n",
      "Doing 95: rcrystal_shop\n",
      "95/2000\n",
      "Doing 98: crztales\n",
      "98/2000\n",
      "Doing 99: j.crystalclear_\n",
      "99/2000\n",
      "Doing 100: crystal.9tailedfox\n",
      "100/2000\n",
      "Doing 101: mei.crystalssg\n",
      "101/2000\n",
      "Doing 104: sugarflylab\n",
      "104/2000\n",
      "Doing 112: asteriacrystal.co\n",
      "112/2000\n",
      "Doing 113: crystalsbyjw.co\n",
      "113/2000\n",
      "Doing 114: k2_stonewalker\n",
      "114/2000\n",
      "Doing 115: raregemstone_wholeshale\n",
      "115/2000\n",
      "Doing 116: amberlicious_crystal\n",
      "116/2000\n",
      "Doing 117: firmans27shop\n",
      "117/2000\n",
      "Doing 121: woojoogems\n",
      "121/2000\n",
      "Doing 125: crystal.and.cats\n",
      "125/2000\n",
      "Doing 126: gardeniacreations\n",
      "126/2000\n",
      "Doing 129: crystamour\n",
      "129/2000\n",
      "Doing 131: crystal.snowflakes.sg\n",
      "131/2000\n",
      "Doing 132: lolipop_crystal\n",
      "132/2000\n",
      "Doing 133: thegirlbehind\n",
      "133/2000\n",
      "Doing 134: qianjing.crystal\n",
      "134/2000\n",
      "Doing 135: ventuscrystals\n",
      "135/2000\n",
      "Doing 138: amelioratecrystals\n",
      "138/2000\n",
      "Doing 140: crystallovify\n",
      "140/2000\n",
      "Doing 142: crystallizesg\n",
      "142/2000\n",
      "Doing 143: gemime.co\n",
      "\n",
      "Too many queries in the last time. Need to wait 163 seconds, until 13:00.\n",
      "143/2000\n",
      "Doing 144: jsuki_crystal\n",
      "144/2000\n",
      "Doing 145: niue.co\n",
      "145/2000\n",
      "Doing 147: crystalgemorigin\n",
      "\n",
      "Too many queries in the last time. Need to wait 242 seconds, until 13:05.\n",
      "147/2000\n",
      "Doing 150: devinegems2015\n",
      "150/2000\n",
      "Doing 153: crystalsalleysg\n",
      "153/2000\n",
      "Doing 156: thebunnysorcery\n",
      "156/2000\n",
      "Doing 159: the_diamond_window\n",
      "159/2000\n",
      "Doing 160: cristalestory\n",
      "160/2000\n",
      "Doing 163: virgonstellar\n",
      "163/2000\n",
      "Doing 165: ys597733\n",
      "165/2000\n",
      "Doing 166: jy542235\n",
      "166/2000\n",
      "Doing 169: pocketfulofdruzy\n",
      "169/2000\n",
      "Doing 172: eternalco.crystals\n",
      "172/2000\n",
      "Doing 173: crystalcosg\n",
      "173/2000\n",
      "Doing 177: faiecrystals\n",
      "177/2000\n",
      "Doing 186: ouraminerals\n",
      "186/2000\n",
      "Doing 187: eug.crystals\n",
      "187/2000\n",
      "Doing 189: mellowmuggle\n",
      "189/2000\n",
      "Doing 194: aurahavenco\n",
      "194/2000\n",
      "Doing 197: lawofcrystal\n",
      "197/2000\n",
      "Doing 198: geokatcrystals\n",
      "198/2000\n",
      "Doing 210: lettscroch\n",
      "210/2000\n",
      "Doing 211: xu.handmade\n",
      "211/2000\n",
      "Doing 212: kindredjewels\n",
      "212/2000\n",
      "Doing 213: ablurkitty\n",
      "213/2000\n",
      "Doing 214: alunnaspace\n",
      "214/2000\n",
      "Doing 216: thesage.room\n",
      "216/2000\n",
      "Doing 217: rooted.inearth\n",
      "217/2000\n",
      "Doing 218: kristzlavender\n",
      "218/2000\n",
      "Doing 220: sams_cureations\n",
      "220/2000\n",
      "Doing 221: crystalline.joyz\n",
      "221/2000\n",
      "Doing 224: caelus.co\n",
      "224/2000\n",
      "Doing 225: aggy.pushpull\n",
      "225/2000\n",
      "Doing 226: illumin8.sg\n",
      "226/2000\n",
      "Doing 228: crystal.in.a.bottle\n",
      "228/2000\n",
      "Doing 232: crysto.light\n",
      "232/2000\n",
      "Doing 239: fareast_crystal_wholesale\n",
      "239/2000\n",
      "Doing 246: thatz.mad\n",
      "246/2000\n",
      "Doing 253: oneandonly.foru\n",
      "253/2000\n",
      "Doing 254: crystalique.s\n",
      "254/2000\n",
      "Doing 258: crystallovebulan.id\n",
      "258/2000\n",
      "Doing 261: moonprsmpwr\n",
      "261/2000\n",
      "Doing 262: jawelery12\n",
      "262/2000\n",
      "Doing 269: rockberline\n",
      "269/2000\n",
      "Doing 270: grrath_fenix\n",
      "270/2000\n",
      "Doing 294: crystal_network_shop\n",
      "294/2000\n",
      "Doing 318: crystalseller.id\n",
      "318/2000\n",
      "Doing 323: vionnsdraft\n",
      "323/2000\n",
      "Doing 326: crystals__loves\n",
      "326/2000\n",
      "Doing 330: crystalsgemz88\n",
      "330/2000\n",
      "Doing 332: crystals_setosope\n"
     ]
    },
    {
     "name": "stderr",
     "output_type": "stream",
     "text": [
      "JSON Query to crystals_setosope/feed/: 404 Not Found [retrying; skip with ^C]\n",
      "JSON Query to crystals_setosope/feed/: 404 Not Found [retrying; skip with ^C]\n"
     ]
    },
    {
     "name": "stdout",
     "output_type": "stream",
     "text": [
      "User not found\n",
      "Doing 333: crystals_setosope\n"
     ]
    },
    {
     "name": "stderr",
     "output_type": "stream",
     "text": [
      "JSON Query to crystals_setosope/feed/: 404 Not Found [retrying; skip with ^C]\n",
      "JSON Query to crystals_setosope/feed/: 404 Not Found [retrying; skip with ^C]\n"
     ]
    },
    {
     "name": "stdout",
     "output_type": "stream",
     "text": [
      "User not found\n",
      "Doing 340: neko.crystals\n",
      "340/2000\n",
      "Doing 342: reiannriviera\n",
      "342/2000\n",
      "Doing 343: huatz.crystals\n",
      "343/2000\n",
      "Doing 345: resinonart\n",
      "345/2000\n",
      "Doing 350: zyscrystals\n",
      "350/2000\n",
      "Doing 353: crystal.mojo.bidding\n",
      "353/2000\n",
      "Doing 366: shopastrologies\n",
      "366/2000\n",
      "Doing 369: viorcrystals\n",
      "369/2000\n",
      "Doing 373: crystaldepository\n",
      "373/2000\n",
      "Doing 375: crystals.love.2022\n",
      "375/2000\n",
      "Doing 376: luxecrystalgems\n",
      "376/2000\n",
      "Doing 378: crystalrays_sg\n",
      "378/2000\n",
      "Doing 380: dollrarecrystal_shop_art\n",
      "380/2000\n",
      "Doing 382: bud.sg\n",
      "382/2000\n",
      "Doing 386: crystal.bidding.sg\n",
      "386/2000\n",
      "Doing 421: crystalsandchips\n",
      "421/2000\n",
      "Doing 425: thegemstoneshop\n",
      "\n",
      "Too many queries in the last time. Need to wait 164 seconds, until 13:12.\n",
      "425/2000\n",
      "Doing 426: onemoresparkle\n",
      "\n",
      "Too many queries in the last time. Need to wait 17 seconds, until 13:12.\n",
      "426/2000\n",
      "Doing 428: flower_crystalshop\n",
      "428/2000\n",
      "Doing 429: crystals_woof\n",
      "\n",
      "Too many queries in the last time. Need to wait 244 seconds, until 13:16.\n",
      "429/2000\n",
      "Doing 431: daisy.gems\n",
      "431/2000\n",
      "Doing 436: crystalane_shop\n",
      "436/2000\n",
      "Doing 445: sally.love.crystal\n",
      "445/2000\n",
      "Doing 446: igemify\n",
      "446/2000\n",
      "Doing 447: messy.spaces\n",
      "447/2000\n",
      "Doing 449: dhenyz_law\n",
      "449/2000\n",
      "Doing 451: tiaratrove\n",
      "451/2000\n",
      "Doing 453: daria.crystals\n",
      "453/2000\n",
      "Doing 458: the.fayes\n",
      "458/2000\n",
      "Doing 459: infinitystonesg\n",
      "459/2000\n",
      "Doing 462: dtccrystals\n",
      "462/2000\n",
      "Doing 463: illa_nocte\n",
      "463/2000\n",
      "Doing 464: theoddcrystals\n",
      "464/2000\n",
      "Doing 465: crystalesque.co\n",
      "465/2000\n",
      "Doing 468: crystal_hut.withlove\n",
      "468/2000\n",
      "Doing 469: joyouscrystalsatelier\n",
      "469/2000\n",
      "Doing 473: rosidah.crystal\n",
      "473/2000\n",
      "Doing 477: aloofafa\n",
      "477/2000\n",
      "Doing 489: crystal_whole_seller\n",
      "489/2000\n",
      "Doing 492: aeioucrystals\n",
      "492/2000\n",
      "Doing 496: crystalglazers\n",
      "496/2000\n",
      "Doing 497: top.polished\n",
      "497/2000\n",
      "Doing 498: crystalzx.co\n",
      "498/2000\n",
      "Doing 500: crystals_setosope\n"
     ]
    },
    {
     "name": "stderr",
     "output_type": "stream",
     "text": [
      "JSON Query to crystals_setosope/feed/: 404 Not Found [retrying; skip with ^C]\n",
      "JSON Query to crystals_setosope/feed/: 404 Not Found [retrying; skip with ^C]\n"
     ]
    },
    {
     "name": "stdout",
     "output_type": "stream",
     "text": [
      "User not found\n",
      "Doing 501: crystals_setosope\n"
     ]
    },
    {
     "name": "stderr",
     "output_type": "stream",
     "text": [
      "JSON Query to crystals_setosope/feed/: 404 Not Found [retrying; skip with ^C]\n",
      "JSON Query to crystals_setosope/feed/: 404 Not Found [retrying; skip with ^C]\n"
     ]
    },
    {
     "name": "stdout",
     "output_type": "stream",
     "text": [
      "User not found\n",
      "Doing 502: nightshadegem\n",
      "502/2000\n",
      "Doing 503: crystals_setosope\n"
     ]
    },
    {
     "name": "stderr",
     "output_type": "stream",
     "text": [
      "JSON Query to crystals_setosope/feed/: 404 Not Found [retrying; skip with ^C]\n",
      "JSON Query to crystals_setosope/feed/: 404 Not Found [retrying; skip with ^C]\n"
     ]
    },
    {
     "name": "stdout",
     "output_type": "stream",
     "text": [
      "User not found\n",
      "Doing 504: crystals_setosope\n"
     ]
    },
    {
     "name": "stderr",
     "output_type": "stream",
     "text": [
      "JSON Query to crystals_setosope/feed/: 404 Not Found [retrying; skip with ^C]\n",
      "JSON Query to crystals_setosope/feed/: 404 Not Found [retrying; skip with ^C]\n"
     ]
    },
    {
     "name": "stdout",
     "output_type": "stream",
     "text": [
      "User not found\n",
      "Doing 505: crystals_setosope\n"
     ]
    },
    {
     "name": "stderr",
     "output_type": "stream",
     "text": [
      "JSON Query to crystals_setosope/feed/: 404 Not Found [retrying; skip with ^C]\n",
      "JSON Query to crystals_setosope/feed/: 404 Not Found [retrying; skip with ^C]\n"
     ]
    },
    {
     "name": "stdout",
     "output_type": "stream",
     "text": [
      "User not found\n",
      "Doing 506: crystals_setosope\n"
     ]
    },
    {
     "name": "stderr",
     "output_type": "stream",
     "text": [
      "JSON Query to crystals_setosope/feed/: 404 Not Found [retrying; skip with ^C]\n",
      "JSON Query to crystals_setosope/feed/: 404 Not Found [retrying; skip with ^C]\n"
     ]
    },
    {
     "name": "stdout",
     "output_type": "stream",
     "text": [
      "User not found\n",
      "Doing 507: crystals_setosope\n"
     ]
    },
    {
     "name": "stderr",
     "output_type": "stream",
     "text": [
      "JSON Query to crystals_setosope/feed/: 404 Not Found [retrying; skip with ^C]\n",
      "JSON Query to crystals_setosope/feed/: 404 Not Found [retrying; skip with ^C]\n"
     ]
    },
    {
     "name": "stdout",
     "output_type": "stream",
     "text": [
      "User not found\n",
      "Doing 508: crystals_setosope\n"
     ]
    },
    {
     "name": "stderr",
     "output_type": "stream",
     "text": [
      "JSON Query to crystals_setosope/feed/: 404 Not Found [retrying; skip with ^C]\n",
      "JSON Query to crystals_setosope/feed/: 404 Not Found [retrying; skip with ^C]\n"
     ]
    },
    {
     "name": "stdout",
     "output_type": "stream",
     "text": [
      "User not found\n",
      "Doing 509: crystals_setosope\n"
     ]
    },
    {
     "name": "stderr",
     "output_type": "stream",
     "text": [
      "JSON Query to crystals_setosope/feed/: 404 Not Found [retrying; skip with ^C]\n",
      "JSON Query to crystals_setosope/feed/: 404 Not Found [retrying; skip with ^C]\n"
     ]
    },
    {
     "name": "stdout",
     "output_type": "stream",
     "text": [
      "User not found\n",
      "Doing 510: crystals_setosope\n"
     ]
    },
    {
     "name": "stderr",
     "output_type": "stream",
     "text": [
      "JSON Query to crystals_setosope/feed/: 404 Not Found [retrying; skip with ^C]\n",
      "JSON Query to crystals_setosope/feed/: 404 Not Found [retrying; skip with ^C]\n"
     ]
    },
    {
     "name": "stdout",
     "output_type": "stream",
     "text": [
      "User not found\n",
      "Doing 511: mamagems_sg\n",
      "511/2000\n",
      "Doing 512: crystals_setosope\n"
     ]
    },
    {
     "name": "stderr",
     "output_type": "stream",
     "text": [
      "JSON Query to crystals_setosope/feed/: 404 Not Found [retrying; skip with ^C]\n",
      "JSON Query to crystals_setosope/feed/: 404 Not Found [retrying; skip with ^C]\n"
     ]
    },
    {
     "name": "stdout",
     "output_type": "stream",
     "text": [
      "User not found\n",
      "Doing 513: crystals_setosope\n"
     ]
    },
    {
     "name": "stderr",
     "output_type": "stream",
     "text": [
      "JSON Query to crystals_setosope/feed/: 404 Not Found [retrying; skip with ^C]\n",
      "JSON Query to crystals_setosope/feed/: 404 Not Found [retrying; skip with ^C]\n"
     ]
    },
    {
     "name": "stdout",
     "output_type": "stream",
     "text": [
      "\n",
      "Too many queries in the last time. Need to wait 168 seconds, until 13:23.\n",
      "\n",
      "Too many queries in the last time. Need to wait 19 seconds, until 13:23.\n",
      "User not found\n",
      "Doing 514: crystals_setosope\n",
      "\n",
      "Too many queries in the last time. Need to wait 15 seconds, until 13:23.\n"
     ]
    },
    {
     "name": "stderr",
     "output_type": "stream",
     "text": [
      "JSON Query to crystals_setosope/feed/: 404 Not Found [retrying; skip with ^C]\n"
     ]
    },
    {
     "name": "stdout",
     "output_type": "stream",
     "text": [
      "\n",
      "Too many queries in the last time. Need to wait 244 seconds, until 13:27.\n"
     ]
    },
    {
     "name": "stderr",
     "output_type": "stream",
     "text": [
      "JSON Query to crystals_setosope/feed/: ('Connection aborted.', ConnectionResetError(10054, 'An existing connection was forcibly closed by the remote host', None, 10054, None)) [retrying; skip with ^C]\n"
     ]
    },
    {
     "name": "stdout",
     "output_type": "stream",
     "text": [
      "User not found\n",
      "Doing 516: crystals_setosope\n"
     ]
    },
    {
     "name": "stderr",
     "output_type": "stream",
     "text": [
      "JSON Query to crystals_setosope/feed/: 404 Not Found [retrying; skip with ^C]\n",
      "JSON Query to crystals_setosope/feed/: 404 Not Found [retrying; skip with ^C]\n"
     ]
    },
    {
     "name": "stdout",
     "output_type": "stream",
     "text": [
      "User not found\n",
      "Doing 517: crystals_setosope\n"
     ]
    },
    {
     "name": "stderr",
     "output_type": "stream",
     "text": [
      "JSON Query to crystals_setosope/feed/: 404 Not Found [retrying; skip with ^C]\n",
      "JSON Query to crystals_setosope/feed/: 404 Not Found [retrying; skip with ^C]\n"
     ]
    },
    {
     "name": "stdout",
     "output_type": "stream",
     "text": [
      "User not found\n",
      "Doing 518: crystals_setosope\n"
     ]
    },
    {
     "name": "stderr",
     "output_type": "stream",
     "text": [
      "JSON Query to crystals_setosope/feed/: 404 Not Found [retrying; skip with ^C]\n",
      "JSON Query to crystals_setosope/feed/: 404 Not Found [retrying; skip with ^C]\n"
     ]
    },
    {
     "name": "stdout",
     "output_type": "stream",
     "text": [
      "User not found\n",
      "Doing 519: crystals_setosope\n"
     ]
    },
    {
     "name": "stderr",
     "output_type": "stream",
     "text": [
      "JSON Query to crystals_setosope/feed/: 404 Not Found [retrying; skip with ^C]\n",
      "JSON Query to crystals_setosope/feed/: 404 Not Found [retrying; skip with ^C]\n"
     ]
    },
    {
     "name": "stdout",
     "output_type": "stream",
     "text": [
      "User not found\n",
      "Doing 520: crystals_setosope\n"
     ]
    },
    {
     "name": "stderr",
     "output_type": "stream",
     "text": [
      "JSON Query to crystals_setosope/feed/: 404 Not Found [retrying; skip with ^C]\n",
      "JSON Query to crystals_setosope/feed/: 404 Not Found [retrying; skip with ^C]\n"
     ]
    },
    {
     "name": "stdout",
     "output_type": "stream",
     "text": [
      "User not found\n",
      "Doing 521: crystals_setosope\n"
     ]
    },
    {
     "name": "stderr",
     "output_type": "stream",
     "text": [
      "JSON Query to crystals_setosope/feed/: 404 Not Found [retrying; skip with ^C]\n",
      "JSON Query to crystals_setosope/feed/: 404 Not Found [retrying; skip with ^C]\n"
     ]
    },
    {
     "name": "stdout",
     "output_type": "stream",
     "text": [
      "User not found\n",
      "Doing 522: tipsy.gems\n",
      "522/2000\n",
      "Doing 528: ynyaccessories.sg\n",
      "528/2000\n",
      "Doing 529: therocky.crystal.003\n",
      "529/2000\n",
      "Doing 530: crystalstory.co\n",
      "530/2000\n",
      "Doing 531: bluegemsbaby\n",
      "531/2000\n",
      "Doing 532: crystalmamaksingapore\n",
      "532/2000\n",
      "Doing 533: claire.yume\n",
      "533/2000\n",
      "Doing 535: pellura.crystals\n",
      "535/2000\n",
      "Doing 541: michicrystals\n",
      "541/2000\n",
      "Doing 543: thek.rystal\n",
      "543/2000\n",
      "Doing 544: magik.raft\n",
      "544/2000\n",
      "Doing 545: shannencrystals\n",
      "545/2000\n",
      "Doing 547: yumistals\n",
      "547/2000\n",
      "Doing 550: lyla.crystals\n",
      "550/2000\n",
      "Doing 553: adestone888\n",
      "553/2000\n",
      "Doing 557: honeyy_crystal_shop\n",
      "557/2000\n",
      "Doing 575: gemistry.co\n",
      "575/2000\n",
      "Doing 583: almacrystal_shop\n",
      "583/2000\n",
      "Doing 596: crystalsbyphoenix\n",
      "596/2000\n",
      "Doing 597: pikimaulana2022\n",
      "597/2000\n",
      "Doing 599: chadora.co\n",
      "599/2000\n",
      "Doing 606: gem.symphony\n",
      "606/2000\n",
      "Doing 610: atelier_kessho\n",
      "610/2000\n",
      "Doing 612: yvenne.x\n",
      "612/2000\n",
      "Doing 616: bleumoon_studio\n",
      "616/2000\n",
      "Doing 623: distortia_crystallize\n",
      "623/2000\n",
      "Doing 624: gemmi.bee\n",
      "624/2000\n",
      "Doing 629: healingcandies\n",
      "629/2000\n",
      "Doing 633: starlightwinds\n",
      "633/2000\n",
      "Doing 642: astellora\n",
      "642/2000\n",
      "Doing 649: crystals_setosope\n"
     ]
    },
    {
     "name": "stderr",
     "output_type": "stream",
     "text": [
      "JSON Query to crystals_setosope/feed/: 404 Not Found [retrying; skip with ^C]\n",
      "JSON Query to crystals_setosope/feed/: 404 Not Found [retrying; skip with ^C]\n"
     ]
    },
    {
     "name": "stdout",
     "output_type": "stream",
     "text": [
      "User not found\n",
      "Doing 650: crystals_setosope\n"
     ]
    },
    {
     "name": "stderr",
     "output_type": "stream",
     "text": [
      "JSON Query to crystals_setosope/feed/: 404 Not Found [retrying; skip with ^C]\n",
      "JSON Query to crystals_setosope/feed/: 404 Not Found [retrying; skip with ^C]\n"
     ]
    },
    {
     "name": "stdout",
     "output_type": "stream",
     "text": [
      "User not found\n",
      "Doing 651: crystals_setosope\n"
     ]
    },
    {
     "name": "stderr",
     "output_type": "stream",
     "text": [
      "JSON Query to crystals_setosope/feed/: 404 Not Found [retrying; skip with ^C]\n",
      "JSON Query to crystals_setosope/feed/: 404 Not Found [retrying; skip with ^C]\n"
     ]
    },
    {
     "name": "stdout",
     "output_type": "stream",
     "text": [
      "User not found\n",
      "Doing 652: crystals_setosope\n"
     ]
    },
    {
     "name": "stderr",
     "output_type": "stream",
     "text": [
      "JSON Query to crystals_setosope/feed/: 404 Not Found [retrying; skip with ^C]\n",
      "JSON Query to crystals_setosope/feed/: 404 Not Found [retrying; skip with ^C]\n"
     ]
    },
    {
     "name": "stdout",
     "output_type": "stream",
     "text": [
      "\n",
      "Too many queries in the last time. Need to wait 171 seconds, until 13:34.\n",
      "User not found\n",
      "Doing 653: crystals_setosope\n",
      "\n",
      "Too many queries in the last time. Need to wait 19 seconds, until 13:34.\n"
     ]
    },
    {
     "name": "stderr",
     "output_type": "stream",
     "text": [
      "JSON Query to crystals_setosope/feed/: 404 Not Found [retrying; skip with ^C]\n",
      "JSON Query to crystals_setosope/feed/: 404 Not Found [retrying; skip with ^C]\n"
     ]
    },
    {
     "name": "stdout",
     "output_type": "stream",
     "text": [
      "\n",
      "Too many queries in the last time. Need to wait 242 seconds, until 13:38.\n",
      "User not found\n",
      "Doing 654: crystals_setosope\n"
     ]
    },
    {
     "name": "stderr",
     "output_type": "stream",
     "text": [
      "JSON Query to crystals_setosope/feed/: 404 Not Found [retrying; skip with ^C]\n",
      "JSON Query to crystals_setosope/feed/: 404 Not Found [retrying; skip with ^C]\n"
     ]
    },
    {
     "name": "stdout",
     "output_type": "stream",
     "text": [
      "User not found\n",
      "Doing 655: crystals_setosope\n"
     ]
    },
    {
     "name": "stderr",
     "output_type": "stream",
     "text": [
      "JSON Query to crystals_setosope/feed/: 404 Not Found [retrying; skip with ^C]\n",
      "JSON Query to crystals_setosope/feed/: 404 Not Found [retrying; skip with ^C]\n"
     ]
    },
    {
     "name": "stdout",
     "output_type": "stream",
     "text": [
      "User not found\n",
      "Doing 656: crystals_setosope\n"
     ]
    },
    {
     "name": "stderr",
     "output_type": "stream",
     "text": [
      "JSON Query to crystals_setosope/feed/: 404 Not Found [retrying; skip with ^C]\n",
      "JSON Query to crystals_setosope/feed/: 404 Not Found [retrying; skip with ^C]\n"
     ]
    },
    {
     "name": "stdout",
     "output_type": "stream",
     "text": [
      "User not found\n",
      "Doing 657: crystals_setosope\n"
     ]
    },
    {
     "name": "stderr",
     "output_type": "stream",
     "text": [
      "JSON Query to crystals_setosope/feed/: 404 Not Found [retrying; skip with ^C]\n",
      "JSON Query to crystals_setosope/feed/: 404 Not Found [retrying; skip with ^C]\n"
     ]
    },
    {
     "name": "stdout",
     "output_type": "stream",
     "text": [
      "User not found\n",
      "Doing 658: crystals_setosope\n"
     ]
    },
    {
     "name": "stderr",
     "output_type": "stream",
     "text": [
      "JSON Query to crystals_setosope/feed/: 404 Not Found [retrying; skip with ^C]\n",
      "JSON Query to crystals_setosope/feed/: 404 Not Found [retrying; skip with ^C]\n"
     ]
    },
    {
     "name": "stdout",
     "output_type": "stream",
     "text": [
      "User not found\n",
      "Doing 659: crystals_setosope\n"
     ]
    },
    {
     "name": "stderr",
     "output_type": "stream",
     "text": [
      "JSON Query to crystals_setosope/feed/: 404 Not Found [retrying; skip with ^C]\n",
      "JSON Query to crystals_setosope/feed/: 404 Not Found [retrying; skip with ^C]\n"
     ]
    },
    {
     "name": "stdout",
     "output_type": "stream",
     "text": [
      "User not found\n",
      "Doing 661: crystals_setosope\n"
     ]
    },
    {
     "name": "stderr",
     "output_type": "stream",
     "text": [
      "JSON Query to crystals_setosope/feed/: 404 Not Found [retrying; skip with ^C]\n",
      "JSON Query to crystals_setosope/feed/: 404 Not Found [retrying; skip with ^C]\n"
     ]
    },
    {
     "name": "stdout",
     "output_type": "stream",
     "text": [
      "User not found\n",
      "Doing 662: crystals_setosope\n"
     ]
    },
    {
     "name": "stderr",
     "output_type": "stream",
     "text": [
      "JSON Query to crystals_setosope/feed/: 404 Not Found [retrying; skip with ^C]\n",
      "JSON Query to crystals_setosope/feed/: 404 Not Found [retrying; skip with ^C]\n"
     ]
    },
    {
     "name": "stdout",
     "output_type": "stream",
     "text": [
      "User not found\n",
      "Doing 663: crystals_setosope\n"
     ]
    },
    {
     "name": "stderr",
     "output_type": "stream",
     "text": [
      "JSON Query to crystals_setosope/feed/: 404 Not Found [retrying; skip with ^C]\n",
      "JSON Query to crystals_setosope/feed/: 404 Not Found [retrying; skip with ^C]\n"
     ]
    },
    {
     "name": "stdout",
     "output_type": "stream",
     "text": [
      "User not found\n",
      "Doing 664: crystals_setosope\n"
     ]
    },
    {
     "name": "stderr",
     "output_type": "stream",
     "text": [
      "JSON Query to crystals_setosope/feed/: 404 Not Found [retrying; skip with ^C]\n",
      "JSON Query to crystals_setosope/feed/: 404 Not Found [retrying; skip with ^C]\n"
     ]
    },
    {
     "name": "stdout",
     "output_type": "stream",
     "text": [
      "User not found\n",
      "Doing 665: crystals_setosope\n"
     ]
    },
    {
     "name": "stderr",
     "output_type": "stream",
     "text": [
      "JSON Query to crystals_setosope/feed/: 404 Not Found [retrying; skip with ^C]\n",
      "JSON Query to crystals_setosope/feed/: 404 Not Found [retrying; skip with ^C]\n"
     ]
    },
    {
     "name": "stdout",
     "output_type": "stream",
     "text": [
      "User not found\n",
      "Doing 666: crystals_setosope\n"
     ]
    },
    {
     "name": "stderr",
     "output_type": "stream",
     "text": [
      "JSON Query to crystals_setosope/feed/: 404 Not Found [retrying; skip with ^C]\n",
      "JSON Query to crystals_setosope/feed/: 404 Not Found [retrying; skip with ^C]\n"
     ]
    },
    {
     "name": "stdout",
     "output_type": "stream",
     "text": [
      "User not found\n",
      "Doing 668: heal_in_style\n",
      "668/2000\n",
      "Doing 684: meemees.speaking\n",
      "684/2000\n",
      "Doing 687: mikal_rapendant_12\n"
     ]
    },
    {
     "name": "stderr",
     "output_type": "stream",
     "text": [
      "JSON Query to mikal_rapendant_12/feed/: 404 Not Found [retrying; skip with ^C]\n",
      "JSON Query to mikal_rapendant_12/feed/: 404 Not Found [retrying; skip with ^C]\n"
     ]
    },
    {
     "name": "stdout",
     "output_type": "stream",
     "text": [
      "User not found\n",
      "Doing 688: upsidecrystals\n",
      "688/2000\n",
      "Doing 691: saddient_crystals\n",
      "691/2000\n",
      "Doing 694: fat.little.happy.cat\n",
      "694/2000\n",
      "Doing 703: kalon.sg\n",
      "703/2000\n",
      "Doing 711: thewitchy.vibe\n",
      "711/2000\n",
      "Doing 712: crystal_agate.shop\n",
      "712/2000\n",
      "Doing 717: shl_crystal_wholesaler\n",
      "717/2000\n",
      "Doing 718: sundance.gemstones\n",
      "718/2000\n",
      "Doing 721: merry.crystals\n",
      "721/2000\n",
      "Doing 722: joliecrystals\n",
      "722/2000\n",
      "Doing 723: orbofsky.co\n",
      "723/2000\n",
      "Doing 725: pupucrystals\n",
      "725/2000\n",
      "Doing 726: affinitycrystalssg\n",
      "726/2000\n",
      "Doing 734: dearluna.sg\n"
     ]
    },
    {
     "name": "stderr",
     "output_type": "stream",
     "text": [
      "JSON Query to dearluna.sg/feed/: 404 Not Found [retrying; skip with ^C]\n",
      "JSON Query to dearluna.sg/feed/: 404 Not Found [retrying; skip with ^C]\n"
     ]
    },
    {
     "name": "stdout",
     "output_type": "stream",
     "text": [
      "\n",
      "Too many queries in the last time. Need to wait 164 seconds, until 13:45.\n",
      "User not found\n",
      "Doing 736: petalsofacrystal\n",
      "\n",
      "Too many queries in the last time. Need to wait 19 seconds, until 13:45.\n",
      "736/2000\n",
      "Doing 737: handcraftbyai\n",
      "737/2000\n",
      "Doing 744: rainbowonrocks\n",
      "\n",
      "Too many queries in the last time. Need to wait 244 seconds, until 13:50.\n",
      "744/2000\n",
      "Doing 748: crystal_wholesale_stone_shop25\n",
      "748/2000\n",
      "Doing 755: fajar_hairulapan01\n",
      "755/2000\n",
      "Doing 756: crystal_muhlis\n",
      "756/2000\n",
      "Doing 766: nurmalacrystal01\n",
      "766/2000\n",
      "Doing 770: john_gems_minerial\n",
      "770/2000\n",
      "Doing 772: apriliacrystal\n",
      "772/2000\n",
      "Doing 779: oracrystal_\n",
      "779/2000\n",
      "Doing 786: pocket__ofblue\n",
      "786/2000\n",
      "Doing 790: milanikesya_crystal\n",
      "790/2000\n",
      "Doing 793: crystalore.sg\n",
      "793/2000\n",
      "Doing 795: ariesrising.crystals\n",
      "795/2000\n",
      "Doing 796: charming_charmsss\n",
      "796/2000\n",
      "Doing 798: luxicrystals\n",
      "798/2000\n",
      "Doing 800: day_dream008\n",
      "800/2000\n",
      "Doing 824: deon_sara\n",
      "824/2000\n",
      "Doing 831: crystals_destiny\n",
      "831/2000\n",
      "Doing 833: happyofbeads\n",
      "833/2000\n",
      "Doing 838: gleamxgem\n",
      "838/2000\n",
      "Doing 842: jcrystalrealm\n",
      "842/2000\n",
      "Doing 844: an.other.energy\n",
      "844/2000\n",
      "Doing 847: pearlsandplastics\n",
      "847/2000\n",
      "Doing 848: lovegoodcrystals\n",
      "848/2000\n",
      "Doing 850: huatspau\n",
      "850/2000\n",
      "Doing 858: pammiecrystals\n",
      "858/2000\n",
      "Doing 864: twinklelove_crystals\n",
      "864/2000\n",
      "Doing 868: terriblynamedcrystals\n",
      "868/2000\n",
      "Doing 874: floofycrystals\n",
      "874/2000\n",
      "Doing 882: singingbowl\n",
      "882/2000\n",
      "Doing 883: seneciopearls\n",
      "883/2000\n",
      "Doing 892: superkitty79\n",
      "892/2000\n",
      "Doing 898: glissgem_\n",
      "898/2000\n",
      "Doing 900: ugli.krrrystals\n",
      "900/2000\n",
      "Doing 905: tobiosquish\n",
      "905/2000\n",
      "Doing 907: niracrystal_wholesale\n",
      "907/2000\n",
      "Doing 910: calcitegemswhole\n",
      "910/2000\n",
      "Doing 911: katchifuzo\n",
      "911/2000\n",
      "Doing 912: sofa.gems\n",
      "912/2000\n",
      "Doing 914: kittyintheloft\n",
      "914/2000\n",
      "Doing 922: lovelycristalli\n",
      "922/2000\n",
      "Doing 931: harthuarong\n",
      "931/2000\n",
      "Doing 933: crystal_throb\n",
      "933/2000\n",
      "Doing 935: mycrystalbabies1111\n",
      "935/2000\n",
      "Doing 940: shin_cryz\n",
      "940/2000\n",
      "Doing 941: kristal0ve\n",
      "941/2000\n",
      "Doing 944: secretkreasure\n",
      "944/2000\n",
      "Doing 958: crystal_heart_wholsaller\n",
      "958/2000\n",
      "Doing 965: dequackz.crys\n",
      "965/2000\n",
      "Doing 1006: hobacrystals\n",
      "1006/2000\n",
      "Doing 1010: thecrystalbarsg\n",
      "1010/2000\n",
      "Doing 1027: byxinya\n",
      "1027/2000\n",
      "Doing 1033: rahrahcrystals\n",
      "1033/2000\n",
      "Doing 1043: thegemstoneexport\n",
      "1043/2000\n",
      "Doing 1056: shop21crystals.sg\n",
      "1056/2000\n",
      "Doing 1059: cristaux.89\n",
      "1059/2000\n",
      "Doing 1060: himalayah_gems_and_minerals\n",
      "1060/2000\n",
      "Doing 1061: planet_minerals_supplier\n",
      "1061/2000\n",
      "Doing 1062: yoniestar.co\n",
      "1062/2000\n",
      "Doing 1072: crystalbarbar1\n",
      "1072/2000\n",
      "Doing 1075: rockscapade\n",
      "1075/2000\n",
      "Doing 1076: prettystringsnstuff\n",
      "1076/2000\n",
      "Doing 1078: mysticling\n",
      "1078/2000\n",
      "Doing 1079: dearluna.sg\n"
     ]
    },
    {
     "name": "stderr",
     "output_type": "stream",
     "text": [
      "JSON Query to dearluna.sg/feed/: 404 Not Found [retrying; skip with ^C]\n",
      "JSON Query to dearluna.sg/feed/: 404 Not Found [retrying; skip with ^C]\n"
     ]
    },
    {
     "name": "stdout",
     "output_type": "stream",
     "text": [
      "User not found\n",
      "Doing 1087: allurecrystal_\n",
      "1087/2000\n",
      "Doing 1104: kaysenjx\n",
      "1104/2000\n",
      "Doing 1106: crystaljelly.sg\n",
      "1106/2000\n",
      "Doing 1107: q.gems_sg\n",
      "1107/2000\n",
      "Doing 1113: fated.itis\n",
      "1113/2000\n",
      "Doing 1116: thestarrycrystal\n",
      "1116/2000\n",
      "Doing 1128: fareast_crystals\n",
      "\n",
      "Too many queries in the last time. Need to wait 156 seconds, until 13:56.\n",
      "1128/2000\n",
      "Doing 1134: amethystfalls.co\n",
      "1134/2000\n",
      "Doing 1140: chefdclub\n",
      "1140/2000\n",
      "Doing 1143: mornin.gem\n",
      "\n",
      "Too many queries in the last time. Need to wait 244 seconds, until 14:01.\n",
      "1143/2000\n",
      "Doing 1145: rmc.manifest\n",
      "1145/2000\n",
      "Doing 1155: airplantssg\n",
      "1155/2000\n",
      "Doing 1158: gems.breakfast\n",
      "1158/2000\n",
      "Doing 1160: ellybeads\n",
      "1160/2000\n",
      "Doing 1165: crystal.scales.555\n",
      "1165/2000\n",
      "Doing 1186: randa_crystalshop\n",
      "1186/2000\n",
      "Doing 1187: la.crystals\n",
      "1187/2000\n",
      "Doing 1192: crystalsrare\n",
      "1192/2000\n",
      "Doing 1211: crystal_ebi\n",
      "1211/2000\n",
      "Doing 1216: lovinglyyours.crystals\n",
      "1216/2000\n",
      "Doing 1217: miracle.crystal_sg\n",
      "1217/2000\n",
      "Doing 1228: 0n3_l0st_human3\n",
      "1228/2000\n",
      "Doing 1230: yellow__nabi\n",
      "1230/2000\n",
      "Doing 1244: crystaal_love212\n",
      "1244/2000\n",
      "Doing 1259: axtra.gems\n",
      "1259/2000\n",
      "Doing 1305: wina3676\n",
      "1305/2000\n",
      "Doing 1314: jo.krystalz\n",
      "1314/2000\n",
      "Doing 1316: sqelf\n",
      "1316/2000\n",
      "Doing 1329: iskarah.crystals\n",
      "1329/2000\n",
      "Doing 1335: crystal_blink_blink\n",
      "1335/2000\n",
      "Doing 1341: mianbao.collects\n",
      "1341/2000\n",
      "Doing 1342: abundance.co\n",
      "1342/2000\n",
      "Doing 1346: crystallalasg\n",
      "1346/2000\n",
      "Doing 1347: sparklydruzystones\n",
      "1347/2000\n",
      "Doing 1348: sweetnothings.gems\n",
      "1348/2000\n",
      "Doing 1358: quartzmaw\n",
      "1358/2000\n",
      "Doing 1360: m1styg3mz\n",
      "1360/2000\n",
      "Doing 1361: crystals.yours\n"
     ]
    },
    {
     "name": "stderr",
     "output_type": "stream",
     "text": [
      "JSON Query to crystals.yours/feed/: 404 Not Found [retrying; skip with ^C]\n",
      "JSON Query to crystals.yours/feed/: 404 Not Found [retrying; skip with ^C]\n"
     ]
    },
    {
     "name": "stdout",
     "output_type": "stream",
     "text": [
      "User not found\n",
      "Doing 1363: crystalforestsg\n",
      "1363/2000\n",
      "Doing 1376: beadsforyou.sg\n",
      "1376/2000\n",
      "Doing 1383: candymountaincrystals\n",
      "1383/2000\n",
      "Doing 1385: deux.crystals\n",
      "1385/2000\n",
      "Doing 1386: aalacritywithaaana\n",
      "1386/2000\n",
      "Doing 1387: wisteria.petal\n",
      "1387/2000\n",
      "Doing 1388: dropsof_crystals\n",
      "1388/2000\n",
      "Doing 1391: embracingcrystals\n",
      "1391/2000\n",
      "Doing 1395: crystalmaoz\n",
      "1395/2000\n",
      "Doing 1399: themanifeststore\n",
      "1399/2000\n",
      "Doing 1408: crystals_manifest\n",
      "1408/2000\n",
      "Doing 1410: bambinluna\n",
      "1410/2000\n",
      "Doing 1416: stones_of_earth\n",
      "1416/2000\n",
      "Doing 1417: all.in.a.quartz\n",
      "1417/2000\n",
      "Doing 1420: sparkles_moony\n",
      "1420/2000\n",
      "Doing 1500: indonesianagateseller\n",
      "1500/2000\n",
      "Doing 1501: dealercrystals\n",
      "1501/2000\n",
      "Doing 1505: gnome_n_grove\n",
      "1505/2000\n",
      "Doing 1506: tworicrystals\n",
      "1506/2000\n",
      "Doing 1511: queen_crystals.snow\n",
      "1511/2000\n",
      "Doing 1513: rizky_crystal_and_jewelry\n",
      "1513/2000\n",
      "Doing 1531: the.mellowcrystal\n",
      "1531/2000\n",
      "Doing 1540: labella.growyourhappiness\n",
      "1540/2000\n",
      "Doing 1552: bykazel\n",
      "1552/2000\n",
      "Doing 1603: krystal.de_bleu\n",
      "1603/2000\n",
      "Doing 1619: mellowserenade\n",
      "1619/2000\n",
      "Doing 1624: andycrystalls\n",
      "1624/2000\n",
      "Doing 1634: auralitecrystals\n",
      "1634/2000\n",
      "Doing 1635: cvystalian.love\n",
      "1635/2000\n",
      "Doing 1637: moonlightgems_sg\n",
      "1637/2000\n",
      "Doing 1645: the.rituals.co\n",
      "1645/2000\n",
      "Doing 1647: komi_crystals\n",
      "1647/2000\n",
      "Doing 1654: crystal7533sg\n",
      "1654/2000\n",
      "Doing 1659: crystals_setosope\n"
     ]
    },
    {
     "name": "stderr",
     "output_type": "stream",
     "text": [
      "JSON Query to crystals_setosope/feed/: 404 Not Found [retrying; skip with ^C]\n",
      "JSON Query to crystals_setosope/feed/: 404 Not Found [retrying; skip with ^C]\n"
     ]
    },
    {
     "name": "stdout",
     "output_type": "stream",
     "text": [
      "User not found\n",
      "Doing 1663: crystals_setosope\n"
     ]
    },
    {
     "name": "stderr",
     "output_type": "stream",
     "text": [
      "JSON Query to crystals_setosope/feed/: 404 Not Found [retrying; skip with ^C]\n",
      "JSON Query to crystals_setosope/feed/: 404 Not Found [retrying; skip with ^C]\n"
     ]
    },
    {
     "name": "stdout",
     "output_type": "stream",
     "text": [
      "\n",
      "Too many queries in the last time. Need to wait 140 seconds, until 14:07.\n",
      "User not found\n",
      "Doing 1664: crystals_setosope\n",
      "\n",
      "Too many queries in the last time. Need to wait 18 seconds, until 14:07.\n"
     ]
    },
    {
     "name": "stderr",
     "output_type": "stream",
     "text": [
      "JSON Query to crystals_setosope/feed/: 404 Not Found [retrying; skip with ^C]\n",
      "JSON Query to crystals_setosope/feed/: 404 Not Found [retrying; skip with ^C]\n"
     ]
    },
    {
     "name": "stdout",
     "output_type": "stream",
     "text": [
      "\n",
      "Too many queries in the last time. Need to wait 237 seconds, until 14:12.\n",
      "User not found\n",
      "Doing 1665: crystals_setosope\n"
     ]
    },
    {
     "name": "stderr",
     "output_type": "stream",
     "text": [
      "JSON Query to crystals_setosope/feed/: 404 Not Found [retrying; skip with ^C]\n",
      "JSON Query to crystals_setosope/feed/: 404 Not Found [retrying; skip with ^C]\n"
     ]
    },
    {
     "name": "stdout",
     "output_type": "stream",
     "text": [
      "User not found\n",
      "Doing 1666: crystals_setosope\n"
     ]
    },
    {
     "name": "stderr",
     "output_type": "stream",
     "text": [
      "JSON Query to crystals_setosope/feed/: 404 Not Found [retrying; skip with ^C]\n",
      "JSON Query to crystals_setosope/feed/: 404 Not Found [retrying; skip with ^C]\n"
     ]
    },
    {
     "name": "stdout",
     "output_type": "stream",
     "text": [
      "User not found\n",
      "Doing 1668: crystals_setosope\n"
     ]
    },
    {
     "name": "stderr",
     "output_type": "stream",
     "text": [
      "JSON Query to crystals_setosope/feed/: 404 Not Found [retrying; skip with ^C]\n",
      "JSON Query to crystals_setosope/feed/: 404 Not Found [retrying; skip with ^C]\n"
     ]
    },
    {
     "name": "stdout",
     "output_type": "stream",
     "text": [
      "User not found\n",
      "Doing 1670: crystals_setosope\n"
     ]
    },
    {
     "name": "stderr",
     "output_type": "stream",
     "text": [
      "JSON Query to crystals_setosope/feed/: 404 Not Found [retrying; skip with ^C]\n",
      "JSON Query to crystals_setosope/feed/: 404 Not Found [retrying; skip with ^C]\n"
     ]
    },
    {
     "name": "stdout",
     "output_type": "stream",
     "text": [
      "User not found\n",
      "Doing 1671: crystals_setosope\n"
     ]
    },
    {
     "name": "stderr",
     "output_type": "stream",
     "text": [
      "JSON Query to crystals_setosope/feed/: 404 Not Found [retrying; skip with ^C]\n",
      "JSON Query to crystals_setosope/feed/: 404 Not Found [retrying; skip with ^C]\n"
     ]
    },
    {
     "name": "stdout",
     "output_type": "stream",
     "text": [
      "User not found\n",
      "Doing 1672: crystals_setosope\n"
     ]
    },
    {
     "name": "stderr",
     "output_type": "stream",
     "text": [
      "JSON Query to crystals_setosope/feed/: 404 Not Found [retrying; skip with ^C]\n",
      "JSON Query to crystals_setosope/feed/: 404 Not Found [retrying; skip with ^C]\n"
     ]
    },
    {
     "name": "stdout",
     "output_type": "stream",
     "text": [
      "User not found\n",
      "Doing 1674: crystals_setosope\n"
     ]
    },
    {
     "name": "stderr",
     "output_type": "stream",
     "text": [
      "JSON Query to crystals_setosope/feed/: 404 Not Found [retrying; skip with ^C]\n",
      "JSON Query to crystals_setosope/feed/: 404 Not Found [retrying; skip with ^C]\n"
     ]
    },
    {
     "name": "stdout",
     "output_type": "stream",
     "text": [
      "User not found\n",
      "Doing 1675: crystals_setosope\n"
     ]
    },
    {
     "name": "stderr",
     "output_type": "stream",
     "text": [
      "JSON Query to crystals_setosope/feed/: 404 Not Found [retrying; skip with ^C]\n",
      "JSON Query to crystals_setosope/feed/: 404 Not Found [retrying; skip with ^C]\n"
     ]
    },
    {
     "name": "stdout",
     "output_type": "stream",
     "text": [
      "User not found\n",
      "Doing 1676: crystals_setosope\n"
     ]
    },
    {
     "name": "stderr",
     "output_type": "stream",
     "text": [
      "JSON Query to crystals_setosope/feed/: 404 Not Found [retrying; skip with ^C]\n",
      "JSON Query to crystals_setosope/feed/: 404 Not Found [retrying; skip with ^C]\n"
     ]
    },
    {
     "name": "stdout",
     "output_type": "stream",
     "text": [
      "User not found\n",
      "Doing 1679: crystals_setosope\n"
     ]
    },
    {
     "name": "stderr",
     "output_type": "stream",
     "text": [
      "JSON Query to crystals_setosope/feed/: 404 Not Found [retrying; skip with ^C]\n",
      "JSON Query to crystals_setosope/feed/: 404 Not Found [retrying; skip with ^C]\n"
     ]
    },
    {
     "name": "stdout",
     "output_type": "stream",
     "text": [
      "User not found\n",
      "Doing 1680: crystals_setosope\n"
     ]
    },
    {
     "name": "stderr",
     "output_type": "stream",
     "text": [
      "JSON Query to crystals_setosope/feed/: 404 Not Found [retrying; skip with ^C]\n",
      "JSON Query to crystals_setosope/feed/: 404 Not Found [retrying; skip with ^C]\n"
     ]
    },
    {
     "name": "stdout",
     "output_type": "stream",
     "text": [
      "User not found\n",
      "Doing 1682: crystals_setosope\n"
     ]
    },
    {
     "name": "stderr",
     "output_type": "stream",
     "text": [
      "JSON Query to crystals_setosope/feed/: 404 Not Found [retrying; skip with ^C]\n",
      "JSON Query to crystals_setosope/feed/: 404 Not Found [retrying; skip with ^C]\n"
     ]
    },
    {
     "name": "stdout",
     "output_type": "stream",
     "text": [
      "User not found\n",
      "Doing 1683: crystals_setosope\n"
     ]
    },
    {
     "name": "stderr",
     "output_type": "stream",
     "text": [
      "JSON Query to crystals_setosope/feed/: 404 Not Found [retrying; skip with ^C]\n",
      "JSON Query to crystals_setosope/feed/: 404 Not Found [retrying; skip with ^C]\n"
     ]
    },
    {
     "name": "stdout",
     "output_type": "stream",
     "text": [
      "User not found\n",
      "Doing 1684: crystals_setosope\n"
     ]
    },
    {
     "name": "stderr",
     "output_type": "stream",
     "text": [
      "JSON Query to crystals_setosope/feed/: 404 Not Found [retrying; skip with ^C]\n",
      "JSON Query to crystals_setosope/feed/: 404 Not Found [retrying; skip with ^C]\n"
     ]
    },
    {
     "name": "stdout",
     "output_type": "stream",
     "text": [
      "User not found\n",
      "Doing 1685: crystals_setosope\n"
     ]
    },
    {
     "name": "stderr",
     "output_type": "stream",
     "text": [
      "JSON Query to crystals_setosope/feed/: 404 Not Found [retrying; skip with ^C]\n",
      "JSON Query to crystals_setosope/feed/: 404 Not Found [retrying; skip with ^C]\n"
     ]
    },
    {
     "name": "stdout",
     "output_type": "stream",
     "text": [
      "User not found\n",
      "Doing 1686: crystals_setosope\n"
     ]
    },
    {
     "name": "stderr",
     "output_type": "stream",
     "text": [
      "JSON Query to crystals_setosope/feed/: 404 Not Found [retrying; skip with ^C]\n",
      "JSON Query to crystals_setosope/feed/: 404 Not Found [retrying; skip with ^C]\n"
     ]
    },
    {
     "name": "stdout",
     "output_type": "stream",
     "text": [
      "User not found\n",
      "Doing 1687: crystals_setosope\n"
     ]
    },
    {
     "name": "stderr",
     "output_type": "stream",
     "text": [
      "JSON Query to crystals_setosope/feed/: 404 Not Found [retrying; skip with ^C]\n",
      "JSON Query to crystals_setosope/feed/: 404 Not Found [retrying; skip with ^C]\n"
     ]
    },
    {
     "name": "stdout",
     "output_type": "stream",
     "text": [
      "User not found\n",
      "Doing 1688: crystals_setosope\n"
     ]
    },
    {
     "name": "stderr",
     "output_type": "stream",
     "text": [
      "JSON Query to crystals_setosope/feed/: 404 Not Found [retrying; skip with ^C]\n",
      "JSON Query to crystals_setosope/feed/: 404 Not Found [retrying; skip with ^C]\n"
     ]
    },
    {
     "name": "stdout",
     "output_type": "stream",
     "text": [
      "\n",
      "Too many queries in the last time. Need to wait 123 seconds, until 14:18.\n",
      "\n",
      "Too many queries in the last time. Need to wait 19 seconds, until 14:18.\n",
      "User not found\n",
      "Doing 1689: crystals_setosope\n"
     ]
    },
    {
     "name": "stderr",
     "output_type": "stream",
     "text": [
      "JSON Query to crystals_setosope/feed/: 404 Not Found [retrying; skip with ^C]\n"
     ]
    },
    {
     "name": "stdout",
     "output_type": "stream",
     "text": [
      "\n",
      "Too many queries in the last time. Need to wait 244 seconds, until 14:23.\n"
     ]
    },
    {
     "name": "stderr",
     "output_type": "stream",
     "text": [
      "JSON Query to crystals_setosope/feed/: 404 Not Found [retrying; skip with ^C]\n"
     ]
    },
    {
     "name": "stdout",
     "output_type": "stream",
     "text": [
      "User not found\n",
      "Doing 1690: crystals_setosope\n"
     ]
    },
    {
     "name": "stderr",
     "output_type": "stream",
     "text": [
      "JSON Query to crystals_setosope/feed/: 404 Not Found [retrying; skip with ^C]\n",
      "JSON Query to crystals_setosope/feed/: 404 Not Found [retrying; skip with ^C]\n"
     ]
    },
    {
     "name": "stdout",
     "output_type": "stream",
     "text": [
      "User not found\n",
      "Doing 1691: crystals_setosope\n"
     ]
    },
    {
     "name": "stderr",
     "output_type": "stream",
     "text": [
      "JSON Query to crystals_setosope/feed/: 404 Not Found [retrying; skip with ^C]\n",
      "JSON Query to crystals_setosope/feed/: 404 Not Found [retrying; skip with ^C]\n"
     ]
    },
    {
     "name": "stdout",
     "output_type": "stream",
     "text": [
      "User not found\n",
      "Doing 1693: crystals_setosope\n"
     ]
    },
    {
     "name": "stderr",
     "output_type": "stream",
     "text": [
      "JSON Query to crystals_setosope/feed/: 404 Not Found [retrying; skip with ^C]\n",
      "JSON Query to crystals_setosope/feed/: 404 Not Found [retrying; skip with ^C]\n"
     ]
    },
    {
     "name": "stdout",
     "output_type": "stream",
     "text": [
      "User not found\n",
      "Doing 1694: crystals_setosope\n"
     ]
    },
    {
     "name": "stderr",
     "output_type": "stream",
     "text": [
      "JSON Query to crystals_setosope/feed/: 404 Not Found [retrying; skip with ^C]\n",
      "JSON Query to crystals_setosope/feed/: 404 Not Found [retrying; skip with ^C]\n"
     ]
    },
    {
     "name": "stdout",
     "output_type": "stream",
     "text": [
      "User not found\n",
      "Doing 1695: crystals_setosope\n"
     ]
    },
    {
     "name": "stderr",
     "output_type": "stream",
     "text": [
      "JSON Query to crystals_setosope/feed/: 404 Not Found [retrying; skip with ^C]\n",
      "JSON Query to crystals_setosope/feed/: 404 Not Found [retrying; skip with ^C]\n"
     ]
    },
    {
     "name": "stdout",
     "output_type": "stream",
     "text": [
      "User not found\n",
      "Doing 1696: crystals_setosope\n"
     ]
    },
    {
     "name": "stderr",
     "output_type": "stream",
     "text": [
      "JSON Query to crystals_setosope/feed/: 404 Not Found [retrying; skip with ^C]\n",
      "JSON Query to crystals_setosope/feed/: 404 Not Found [retrying; skip with ^C]\n"
     ]
    },
    {
     "name": "stdout",
     "output_type": "stream",
     "text": [
      "User not found\n",
      "Doing 1697: crystals_setosope\n"
     ]
    },
    {
     "name": "stderr",
     "output_type": "stream",
     "text": [
      "JSON Query to crystals_setosope/feed/: 404 Not Found [retrying; skip with ^C]\n",
      "JSON Query to crystals_setosope/feed/: 404 Not Found [retrying; skip with ^C]\n"
     ]
    },
    {
     "name": "stdout",
     "output_type": "stream",
     "text": [
      "User not found\n",
      "Doing 1699: crystalheartssg\n",
      "1699/2000\n",
      "Doing 1709: astral.krystals\n",
      "1709/2000\n",
      "Doing 1712: shoplove.kith\n",
      "1712/2000\n",
      "Doing 1721: gavi_crystal_stone\n",
      "1721/2000\n",
      "Doing 1736: feedecrystal\n",
      "1736/2000\n",
      "Doing 1738: gember.store\n",
      "1738/2000\n",
      "Doing 1751: happiness_goalsg\n",
      "1751/2000\n",
      "Doing 1752: crystal_stone_agate\n",
      "1752/2000\n",
      "Doing 1776: willy_guntara\n",
      "1776/2000\n",
      "Doing 1788: nickycrystavail\n",
      "1788/2000\n",
      "Doing 1797: carnelian_specialist\n",
      "1797/2000\n",
      "Doing 1812: gems_tonesss\n",
      "1812/2000\n",
      "Doing 1827: thetsukiyo.co\n",
      "1827/2000\n",
      "Doing 1828: pie.gems\n",
      "1828/2000\n",
      "Doing 1874: numzcrystal\n",
      "1874/2000\n",
      "Doing 1884: crystalsavasana\n",
      "1884/2000\n",
      "Doing 1906: crystxlwxlf\n",
      "1906/2000\n",
      "Doing 1914: rasya_gemsseller\n",
      "1914/2000\n",
      "Doing 1928: missyaffair\n",
      "1928/2000\n",
      "Doing 1936: urbanstonejewellery\n",
      "1936/2000\n",
      "Doing 1938: bumbbear\n",
      "1938/2000\n",
      "Doing 1947: moonxwick\n",
      "1947/2000\n",
      "Doing 1950: puritycrystalshop\n",
      "1950/2000\n",
      "Doing 1954: crystalsinme\n",
      "1954/2000\n",
      "Doing 1966: oreadscrystals\n",
      "1966/2000\n",
      "Doing 1977: miragecrystals\n",
      "1977/2000\n",
      "Doing 1980: zwenaellecrystal\n",
      "1980/2000\n",
      "Doing 1981: crystals.indo_agatecenter\n",
      "1981/2000\n",
      "Doing 1987: james_stone_wholshaller\n",
      "1987/2000\n"
     ]
    }
   ],
   "source": [
    "path = 'hashtag_users'\n",
    "file_name = f'{path}/hashtag_user_details2.0.csv'\n",
    "if exists(file_name):data=pd.read_csv(file_name)[['username', 'followers', 'followees', 'is_private', 'is_business_account','biography','is_verified']].to_dict('list')\n",
    "else:data={'username':[],'followers':[],'followees':[],'is_private':[],'is_business_account':[], 'is_verified':[],'biography':[]}\n",
    "\n",
    "for idx, username in enumerate(usernames):   \n",
    "    if username in data['username']:continue\n",
    "    print(f\"Doing {idx}: {username}\")\n",
    "  \n",
    "    try:\n",
    "        profile = instaloader.Profile.from_username(L.context, username)\n",
    "    except Exception as e:\n",
    "        if \"does not exist\" in str(e):\n",
    "            print(\"User not found\")\n",
    "            continue\n",
    "        elif \"Bad Request\" in str(e):\n",
    "            print(e)\n",
    "            break\n",
    "        else:\n",
    "            print(e)\n",
    "            continue\n",
    "    print(f\"{idx}/2000\")\n",
    "\n",
    "    data['username'].append(profile.username)\n",
    "    data['followers'].append(profile.followers)\n",
    "    data['followees'].append(profile.followees)\n",
    "    data['is_private'].append(profile.is_private)\n",
    "    data['biography'].append(profile.biography)\n",
    "    data['is_verified'].append(profile.is_verified)\n",
    "    data['is_business_account'].append(profile.is_business_account)   \n",
    "    pd.DataFrame(data=data).to_csv(file_name)\n",
    "        \n",
    "#     except:\n",
    "#         accounts.append(account)\n",
    "#         account_pointer += 1\n",
    "#         account = accounts[account_pointer]\n",
    "#         USER = config(f'USER{account}',default='')\n",
    "#         PASSWORD = config(f'PASSWORD{account}',default='')\n",
    "#         print(USER)\n",
    "#         L = instaloader.Instaloader()\n",
    "#         L.login(USER, PASSWORD)"
   ]
  },
  {
   "cell_type": "code",
   "execution_count": 43,
   "metadata": {
    "ExecuteTime": {
     "end_time": "2022-03-27T05:38:19.095379Z",
     "start_time": "2022-03-27T05:38:11.091977Z"
    }
   },
   "outputs": [
    {
     "name": "stderr",
     "output_type": "stream",
     "text": [
      "JSON Query to mrs.crystal_wholesale/feed/: 404 Not Found [retrying; skip with ^C]\n",
      "JSON Query to mrs.crystal_wholesale/feed/: 404 Not Found [retrying; skip with ^C]\n"
     ]
    },
    {
     "name": "stdout",
     "output_type": "stream",
     "text": [
      "User not found\n"
     ]
    }
   ],
   "source": [
    "try:\n",
    "    profile = instaloader.Profile.from_username(L.context, \"mrs.crystal_wholesale\")\n",
    "except Exception as e:\n",
    "    if \"does not exist\" in str(x):\n",
    "        print(\"User not found\")\n",
    "    "
   ]
  },
  {
   "cell_type": "code",
   "execution_count": 42,
   "metadata": {
    "ExecuteTime": {
     "end_time": "2022-03-27T05:37:54.786592Z",
     "start_time": "2022-03-27T05:37:54.781605Z"
    }
   },
   "outputs": [
    {
     "data": {
      "text/plain": [
       "True"
      ]
     },
     "execution_count": 42,
     "metadata": {},
     "output_type": "execute_result"
    }
   ],
   "source": [
    "\"does not exist\" in str(x)"
   ]
  }
 ],
 "metadata": {
  "kernelspec": {
   "display_name": "Python 3",
   "language": "python",
   "name": "python3"
  },
  "language_info": {
   "codemirror_mode": {
    "name": "ipython",
    "version": 3
   },
   "file_extension": ".py",
   "mimetype": "text/x-python",
   "name": "python",
   "nbconvert_exporter": "python",
   "pygments_lexer": "ipython3",
   "version": "3.8.5"
  },
  "toc": {
   "base_numbering": 1,
   "nav_menu": {},
   "number_sections": true,
   "sideBar": true,
   "skip_h1_title": false,
   "title_cell": "Table of Contents",
   "title_sidebar": "Contents",
   "toc_cell": false,
   "toc_position": {
    "height": "calc(100% - 180px)",
    "left": "10px",
    "top": "150px",
    "width": "165px"
   },
   "toc_section_display": true,
   "toc_window_display": false
  },
  "varInspector": {
   "cols": {
    "lenName": 16,
    "lenType": 16,
    "lenVar": 40
   },
   "kernels_config": {
    "python": {
     "delete_cmd_postfix": "",
     "delete_cmd_prefix": "del ",
     "library": "var_list.py",
     "varRefreshCmd": "print(var_dic_list())"
    },
    "r": {
     "delete_cmd_postfix": ") ",
     "delete_cmd_prefix": "rm(",
     "library": "var_list.r",
     "varRefreshCmd": "cat(var_dic_list()) "
    }
   },
   "types_to_exclude": [
    "module",
    "function",
    "builtin_function_or_method",
    "instance",
    "_Feature"
   ],
   "window_display": false
  }
 },
 "nbformat": 4,
 "nbformat_minor": 4
}
