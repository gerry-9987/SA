{
 "cells": [
  {
   "cell_type": "code",
   "execution_count": 1,
   "metadata": {
    "ExecuteTime": {
     "end_time": "2022-03-24T19:50:29.145304Z",
     "start_time": "2022-03-24T19:50:28.733320Z"
    }
   },
   "outputs": [
    {
     "name": "stderr",
     "output_type": "stream",
     "text": [
      "C:\\Users\\Razer\\anaconda3\\lib\\site-packages\\win_unicode_console\\__init__.py:31: RuntimeWarning: sys.stdin.encoding == 'cp1252', whereas sys.stdout.encoding == 'UTF-8', readline hook consumer may assume they are the same\n",
      "  readline_hook.enable(use_pyreadline=use_pyreadline)\n"
     ]
    }
   ],
   "source": [
    "import instaloader\n",
    "from decouple import config\n",
    "from IPython.display import clear_output\n",
    "import pandas as pd\n",
    "import time"
   ]
  },
  {
   "cell_type": "code",
   "execution_count": 6,
   "metadata": {
    "ExecuteTime": {
     "end_time": "2022-03-24T19:51:23.572055Z",
     "start_time": "2022-03-24T19:51:16.828443Z"
    }
   },
   "outputs": [
    {
     "name": "stdout",
     "output_type": "stream",
     "text": [
      "jamainelim\n"
     ]
    }
   ],
   "source": [
    "# change code accordingly & add insta credentials to .env file\n",
    "\n",
    "account_num = 2\n",
    "accounts = ['',2,3]\n",
    "account = accounts[account_num]\n",
    "USER = config(f'USER{account}',default='')\n",
    "PASSWORD = config(f'PASSWORD{account}',default='')\n",
    "print(USER)\n",
    "L = instaloader.Instaloader()\n",
    "L.login(USER, PASSWORD)"
   ]
  },
  {
   "cell_type": "code",
   "execution_count": 3,
   "metadata": {
    "ExecuteTime": {
     "end_time": "2022-03-24T19:50:33.634526Z",
     "start_time": "2022-03-24T19:50:33.568561Z"
    }
   },
   "outputs": [
    {
     "name": "stdout",
     "output_type": "stream",
     "text": [
      "csv found\n",
      "accounts scraped (not private or rejected): 31\n"
     ]
    }
   ],
   "source": [
    "js_followers = pd.read_csv('followers.csv')['0']\n",
    "\n",
    "# change the start & end index\n",
    "start = 1000\n",
    "end = 2000\n",
    "path = 'js_followers_following'\n",
    "file_name = f'{path}/edges_{start}_to_{end}'\n",
    "\n",
    "# read exisiting file or create new one \n",
    "try:\n",
    "    edges = pd.read_csv(f'{file_name}.csv')\n",
    "    data = edges[['from','to']].to_dict('list')\n",
    "    print(\"csv found\")\n",
    "    edges['from'].value_counts()\n",
    "    x=edges.groupby('from')[['to']].count().reset_index().sort_values(by='to')\n",
    "    print(\"accounts scraped (not private or rejected):\", x[x['to']>1]['to'].count())\n",
    "except:\n",
    "    data = {'from':[], 'to':[]}\n",
    "    print('csv not found, created new one')\n",
    "    \n"
   ]
  },
  {
   "cell_type": "code",
   "execution_count": null,
   "metadata": {
    "ExecuteTime": {
     "start_time": "2022-03-24T19:51:26.088Z"
    },
    "scrolled": true
   },
   "outputs": [],
   "source": [
    "exceptions = {}\n",
    "account_pointer = 0\n",
    "\n",
    "# stats\n",
    "privates = 0\n",
    "no_posts = 0\n",
    "bad_ratio = 0\n",
    "\n",
    "for idx, username in enumerate(js_followers):\n",
    "\n",
    "    # sleep for awhile\n",
    "    if idx % 50 == 0:\n",
    "        time.sleep(300)\n",
    "        accounts.append(account)\n",
    "        account_num += 1\n",
    "        account = accounts[account_num]\n",
    "        USER = config(f'USER{account}',default='')\n",
    "        PASSWORD = config(f'PASSWORD{account}',default='')\n",
    "        L = instaloader.Instaloader()\n",
    "        L.login(USER, PASSWORD)\n",
    "        \n",
    "    # change the number below\n",
    "    if idx == end:break\n",
    "    if idx < start:continue\n",
    "    if username in data['from']:continue\n",
    "\n",
    "    # Loader\n",
    "    try:\n",
    "        profile = instaloader.Profile.from_username(L.context, username)\n",
    "        following = profile.get_followees()\n",
    "    except Exception as e:\n",
    "        if e in exceptions.keys():exceptions[e]+=1\n",
    "        else:exceptions[e]=1\n",
    "\n",
    "    # variables\n",
    "    is_private = profile.is_private\n",
    "    no_posts = profile.mediacount\n",
    "    ratio = profile.followees/(profile.followers or not profile.followers)\n",
    "    print(f'doing {username} who is following {profile.followees} accounts')\n",
    "    print(f\"Private:{is_private} Posts:{no_posts} Ratio:{round(ratio,1)}\")\n",
    "\n",
    "    # checks\n",
    "    if is_private:privates+=1\n",
    "    if no_posts==0:no_posts+=1\n",
    "    if ratio>10:bad_ratio+=1\n",
    "    if no_posts==0 or ratio > 10:\n",
    "        data['from'].append(username)\n",
    "        data['to'].append(\"jam.stones\")\n",
    "        continue\n",
    "\n",
    "    # collect data\n",
    "    for follower in following:\n",
    "        data['from'].append(username)\n",
    "        data['to'].append(follower.username)\n",
    "\n",
    "    # add JS edge\n",
    "    data['from'].append(username)\n",
    "    data['to'].append(\"jam.stones\")\n",
    "\n",
    "    # save file\n",
    "    pd.DataFrame(data).to_csv(f\"{file_name}.csv\")\n",
    "\n",
    "    print(f'finished js follower {idx}/{len(js_followers)}')"
   ]
  },
  {
   "cell_type": "code",
   "execution_count": null,
   "metadata": {},
   "outputs": [],
   "source": []
  }
 ],
 "metadata": {
  "kernelspec": {
   "display_name": "Python 3",
   "language": "python",
   "name": "python3"
  },
  "language_info": {
   "codemirror_mode": {
    "name": "ipython",
    "version": 3
   },
   "file_extension": ".py",
   "mimetype": "text/x-python",
   "name": "python",
   "nbconvert_exporter": "python",
   "pygments_lexer": "ipython3",
   "version": "3.8.5"
  },
  "toc": {
   "base_numbering": 1,
   "nav_menu": {},
   "number_sections": true,
   "sideBar": true,
   "skip_h1_title": false,
   "title_cell": "Table of Contents",
   "title_sidebar": "Contents",
   "toc_cell": false,
   "toc_position": {},
   "toc_section_display": true,
   "toc_window_display": false
  },
  "varInspector": {
   "cols": {
    "lenName": 16,
    "lenType": 16,
    "lenVar": 40
   },
   "kernels_config": {
    "python": {
     "delete_cmd_postfix": "",
     "delete_cmd_prefix": "del ",
     "library": "var_list.py",
     "varRefreshCmd": "print(var_dic_list())"
    },
    "r": {
     "delete_cmd_postfix": ") ",
     "delete_cmd_prefix": "rm(",
     "library": "var_list.r",
     "varRefreshCmd": "cat(var_dic_list()) "
    }
   },
   "types_to_exclude": [
    "module",
    "function",
    "builtin_function_or_method",
    "instance",
    "_Feature"
   ],
   "window_display": false
  }
 },
 "nbformat": 4,
 "nbformat_minor": 4
}
