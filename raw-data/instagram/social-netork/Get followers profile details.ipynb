{
 "cells": [
  {
   "cell_type": "markdown",
   "metadata": {},
   "source": [
    "# Run these first"
   ]
  },
  {
   "cell_type": "code",
   "execution_count": 2,
   "metadata": {
    "ExecuteTime": {
     "end_time": "2022-03-26T08:35:15.091829Z",
     "start_time": "2022-03-26T08:35:14.671998Z"
    }
   },
   "outputs": [
    {
     "name": "stderr",
     "output_type": "stream",
     "text": [
      "C:\\Users\\Razer\\anaconda3\\lib\\site-packages\\win_unicode_console\\__init__.py:31: RuntimeWarning: sys.stdin.encoding == 'cp1252', whereas sys.stdout.encoding == 'UTF-8', readline hook consumer may assume they are the same\n",
      "  readline_hook.enable(use_pyreadline=use_pyreadline)\n"
     ]
    }
   ],
   "source": [
    "import instaloader\n",
    "from decouple import config\n",
    "from IPython.display import clear_output\n",
    "import pandas as pd\n",
    "import time\n",
    "from os.path import exists"
   ]
  },
  {
   "cell_type": "code",
   "execution_count": 3,
   "metadata": {
    "ExecuteTime": {
     "end_time": "2022-03-26T08:35:21.272429Z",
     "start_time": "2022-03-26T08:35:16.314076Z"
    }
   },
   "outputs": [
    {
     "name": "stdout",
     "output_type": "stream",
     "text": [
      "wesleyongs\n"
     ]
    }
   ],
   "source": [
    "# change code accordingly & add insta credentials to .env file\n",
    "\n",
    "accounts = [1,2,4,5,6]\n",
    "account_pointer = 0\n",
    "account = accounts[account_pointer]\n",
    "USER = config(f'USER{account}',default='')\n",
    "PASSWORD = config(f'PASSWORD{account}',default='')\n",
    "print(USER)\n",
    "L = instaloader.Instaloader()\n",
    "L.login(USER, PASSWORD)"
   ]
  },
  {
   "cell_type": "markdown",
   "metadata": {},
   "source": [
    "## Get followers data"
   ]
  },
  {
   "cell_type": "markdown",
   "metadata": {},
   "source": [
    "https://gephi.org/users/supported-graph-formats/csv-format/#:~:text=Gephi%20supports%20CSV%20files%20that,by%20single%20or%20double%20quotes."
   ]
  },
  {
   "cell_type": "code",
   "execution_count": null,
   "metadata": {
    "ExecuteTime": {
     "start_time": "2022-03-26T08:47:02.587Z"
    }
   },
   "outputs": [
    {
     "name": "stdout",
     "output_type": "stream",
     "text": [
      "111/13548 done for jam.stones\n"
     ]
    }
   ],
   "source": [
    "# competitors = [\n",
    "#     'jam.stones', 'loveforcrystals', 'tamzacrystals', 'gemstorysg',\n",
    "#     'glacecrystals', 'ohmou.sg', 'crystalmojo', 'covetcrystalsjewelry',\n",
    "#     'fated.itis', 'illa_nocte', 'kayla.crystals','soulalign'\n",
    "# ]\n",
    "\n",
    "competitors=['jam.stones']\n",
    "\n",
    "for username in competitors:\n",
    "    \n",
    "    print(f\"Doing {username}\")\n",
    "    path = 'followers_details'\n",
    "    file_name = f'{path}/{username}.csv'\n",
    "    if exists(file_name):data=pd.read_csv(file_name).to_dict('list')\n",
    "    else:data={'username':[],'followers':[],'followees':[],'is_private':[],'is_business_account':[]}\n",
    "        \n",
    "    profile = instaloader.Profile.from_username(L.context, username)\n",
    "    followers = profile.get_followers()\n",
    "    follower_count = profile.followers\n",
    "    \n",
    "    if exists(file_name):follower_list=pd.read_csv(file_name)['followers'].to_list()\n",
    "    else:follower_list = []\n",
    "    if len(follower_list)==follower_count:continue\n",
    "\n",
    "    for idx, follower in enumerate(followers):\n",
    "        \n",
    "        if follower.username in follower_list:continue\n",
    "        clear_output(wait=True)\n",
    "        print(f\"{idx}/{follower_count} done for {username}\")\n",
    "        data['username'].append(follower.username)\n",
    "        data['followers'].append(follower.followers)\n",
    "        data['followees'].append(follower.followees)\n",
    "        data['is_private'].append(follower.is_private)\n",
    "        data['is_business_account'].append(follower.is_business_account)   \n",
    "        pd.DataFrame(data=data).to_csv(file_name)"
   ]
  }
 ],
 "metadata": {
  "kernelspec": {
   "display_name": "Python 3",
   "language": "python",
   "name": "python3"
  },
  "language_info": {
   "codemirror_mode": {
    "name": "ipython",
    "version": 3
   },
   "file_extension": ".py",
   "mimetype": "text/x-python",
   "name": "python",
   "nbconvert_exporter": "python",
   "pygments_lexer": "ipython3",
   "version": "3.8.5"
  },
  "toc": {
   "base_numbering": 1,
   "nav_menu": {},
   "number_sections": true,
   "sideBar": true,
   "skip_h1_title": false,
   "title_cell": "Table of Contents",
   "title_sidebar": "Contents",
   "toc_cell": false,
   "toc_position": {
    "height": "calc(100% - 180px)",
    "left": "10px",
    "top": "150px",
    "width": "165px"
   },
   "toc_section_display": true,
   "toc_window_display": false
  },
  "varInspector": {
   "cols": {
    "lenName": 16,
    "lenType": 16,
    "lenVar": 40
   },
   "kernels_config": {
    "python": {
     "delete_cmd_postfix": "",
     "delete_cmd_prefix": "del ",
     "library": "var_list.py",
     "varRefreshCmd": "print(var_dic_list())"
    },
    "r": {
     "delete_cmd_postfix": ") ",
     "delete_cmd_prefix": "rm(",
     "library": "var_list.r",
     "varRefreshCmd": "cat(var_dic_list()) "
    }
   },
   "types_to_exclude": [
    "module",
    "function",
    "builtin_function_or_method",
    "instance",
    "_Feature"
   ],
   "window_display": false
  }
 },
 "nbformat": 4,
 "nbformat_minor": 4
}
