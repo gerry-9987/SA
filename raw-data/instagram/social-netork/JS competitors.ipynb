{
 "cells": [
  {
   "cell_type": "code",
   "execution_count": 1,
   "metadata": {
    "ExecuteTime": {
     "end_time": "2022-03-30T15:18:44.426993Z",
     "start_time": "2022-03-30T15:18:44.019699Z"
    }
   },
   "outputs": [
    {
     "name": "stderr",
     "output_type": "stream",
     "text": [
      "C:\\Users\\Razer\\anaconda3\\lib\\site-packages\\win_unicode_console\\__init__.py:31: RuntimeWarning: sys.stdin.encoding == 'cp1252', whereas sys.stdout.encoding == 'UTF-8', readline hook consumer may assume they are the same\n",
      "  readline_hook.enable(use_pyreadline=use_pyreadline)\n"
     ]
    }
   ],
   "source": [
    "import instaloader\n",
    "from decouple import config\n",
    "from IPython.display import clear_output\n",
    "import pandas as pd\n",
    "import time\n",
    "from os.path import exists"
   ]
  },
  {
   "cell_type": "code",
   "execution_count": 2,
   "metadata": {
    "ExecuteTime": {
     "end_time": "2022-03-30T15:18:56.813763Z",
     "start_time": "2022-03-30T15:18:45.516841Z"
    }
   },
   "outputs": [
    {
     "name": "stdout",
     "output_type": "stream",
     "text": [
      "wesleyongs\n"
     ]
    }
   ],
   "source": [
    "accounts = [i for i in range(1,6)]\n",
    "account = accounts[0]\n",
    "USER = config(f'USER{account}',default='')\n",
    "PASSWORD = config(f'PASSWORD{account}',default='')\n",
    "print(USER)\n",
    "L = instaloader.Instaloader()\n",
    "L.login(USER, PASSWORD)"
   ]
  },
  {
   "cell_type": "markdown",
   "metadata": {},
   "source": [
    "# Competitors followers"
   ]
  },
  {
   "cell_type": "markdown",
   "metadata": {
    "heading_collapsed": true
   },
   "source": [
    "## followers"
   ]
  },
  {
   "cell_type": "markdown",
   "metadata": {
    "hidden": true
   },
   "source": [
    "https://gephi.org/users/supported-graph-formats/csv-format/#:~:text=Gephi%20supports%20CSV%20files%20that,by%20single%20or%20double%20quotes."
   ]
  },
  {
   "cell_type": "code",
   "execution_count": 15,
   "metadata": {
    "ExecuteTime": {
     "end_time": "2022-03-24T18:04:44.258580Z",
     "start_time": "2022-03-24T18:04:44.126803Z"
    },
    "hidden": true
   },
   "outputs": [],
   "source": [
    "# competitors = ['kayla.crystals']\n",
    "\n",
    "# for username in competitors:\n",
    "#     pd.read_csv(f\"{username}.csv\")['followers'].apply(lambda x: x.split(\" \")[1]).to_csv(f'{username}.csv')"
   ]
  },
  {
   "cell_type": "code",
   "execution_count": 28,
   "metadata": {
    "ExecuteTime": {
     "end_time": "2022-03-25T10:45:43.956885Z",
     "start_time": "2022-03-25T10:45:43.946912Z"
    },
    "hidden": true
   },
   "outputs": [
    {
     "name": "stdout",
     "output_type": "stream",
     "text": [
      "Doing loveforcrystals\n",
      "Doing tamzacrystals\n",
      "Doing gemstorysg\n",
      "Doing glacecrystals\n",
      "Doing ohmou.sg\n",
      "Doing crystalmojo\n",
      "Doing covetcrystalsjewelry\n",
      "Doing fated.itis\n",
      "Doing illa_nocte\n",
      "Doing kayla.crystals\n",
      "Doing soulalign\n"
     ]
    }
   ],
   "source": [
    "competitors = [\n",
    "    'loveforcrystals', 'tamzacrystals', 'gemstorysg',\n",
    "    'glacecrystals', 'ohmou.sg', 'crystalmojo', 'covetcrystalsjewelry',\n",
    "    'fated.itis', 'illa_nocte', 'kayla.crystals','soulalign'\n",
    "]\n",
    "\n",
    "for username in competitors:\n",
    "    \n",
    "    print(f\"Doing {username}\")\n",
    "    path = 'competitors_followers'\n",
    "    file_name = f'{path}/{username}.csv'\n",
    "    if exists(file_name):continue\n",
    "        \n",
    "    profile = instaloader.Profile.from_username(L.context, username)\n",
    "    followers = profile.get_followers()\n",
    "    follower_count = profile.followers\n",
    "    follower_list = []\n",
    "    \n",
    "    if exists(file_name):follower_list=pd.read_csv(file_name)['followers'].to_list()\n",
    "    else:follower_list = []\n",
    "    if len(follower_list)==follower_count:continue\n",
    "\n",
    "    for idx, follower in enumerate(followers):\n",
    "        \n",
    "        if follower.username in follower_list:continue\n",
    "        clear_output(wait=True)\n",
    "        print(f\"{idx}/{follower_count} done for {username}\")\n",
    "        follower_list.append(follower.username)\n",
    "        pd.DataFrame(data={'followers':follower_list}).to_csv(file_name)"
   ]
  },
  {
   "cell_type": "markdown",
   "metadata": {},
   "source": [
    "## competitor details"
   ]
  },
  {
   "cell_type": "code",
   "execution_count": 3,
   "metadata": {
    "ExecuteTime": {
     "end_time": "2022-03-30T15:44:28.011059Z",
     "start_time": "2022-03-30T15:18:58.674608Z"
    }
   },
   "outputs": [
    {
     "name": "stdout",
     "output_type": "stream",
     "text": [
      "520/521 done for soulalign\n"
     ]
    }
   ],
   "source": [
    "competitors = [\n",
    "    'loveforcrystals', 'tamzacrystals', 'gemstorysg',\n",
    "    'glacecrystals', 'ohmou.sg', 'crystalmojo', 'covetcrystalsjewelry',\n",
    "    'fated.itis', 'illa_nocte', 'kayla.crystals','soulalign'\n",
    "]\n",
    "\n",
    "for username in competitors:\n",
    "    \n",
    "    path = 'competitors_details/2.0'\n",
    "    file_name = f\"{path}/{username}.csv\"\n",
    "\n",
    "    profile = instaloader.Profile.from_username(L.context, username)\n",
    "    posts = instaloader.Profile.from_username(L.context, username).get_posts() \n",
    "    total_posts = profile.mediacount\n",
    "\n",
    "    # create dataset\n",
    "    if exists(file_name):data = pd.read_csv(file_name).iloc[:,1:].to_dict('list')\n",
    "    else:data = {'index':[], 'date':[], 'caption':[], 'comments':[], 'likes':[]}\n",
    "    data = {'index':[], 'date':[], 'caption':[], 'comments':[], 'likes':[]}\n",
    "    \n",
    "    # Loop the followers \n",
    "    for idx, post in enumerate(posts):\n",
    "\n",
    "        if idx in data['index']:continue\n",
    "        data['index'].append(idx)\n",
    "        data['date'].append(post.date_local)\n",
    "        data['caption'].append(post.caption)\n",
    "        data['comments'].append(post.comments)\n",
    "        data['likes'].append(post.likes)\n",
    "        pd.DataFrame(data=data).to_csv(file_name)\n",
    "        clear_output(wait=True)\n",
    "        print(f\"{idx}/{total_posts} done for {username}\")"
   ]
  },
  {
   "cell_type": "markdown",
   "metadata": {
    "heading_collapsed": true
   },
   "source": [
    "#  followers of JS\n"
   ]
  },
  {
   "cell_type": "code",
   "execution_count": 9,
   "metadata": {
    "ExecuteTime": {
     "end_time": "2022-03-24T08:04:36.522760Z",
     "start_time": "2022-03-24T08:04:36.487821Z"
    },
    "hidden": true
   },
   "outputs": [
    {
     "name": "stdout",
     "output_type": "stream",
     "text": [
      "accounts scraped (not private or rejected): 5\n"
     ]
    }
   ],
   "source": [
    "js_followers = pd.read_csv('followers.csv')['0']\n",
    "edges = pd.read_csv('edges.csv')\n",
    "data = edges[['from','to']].to_dict('list')\n",
    "edges['from'].value_counts()\n",
    "x=edges.groupby('from')[['to']].count().reset_index().sort_values(by='to')\n",
    "print(\"accounts scraped (not private or rejected):\", x[x['to']>1]['to'].count())"
   ]
  },
  {
   "cell_type": "code",
   "execution_count": null,
   "metadata": {
    "ExecuteTime": {
     "start_time": "2022-03-24T08:04:41.377Z"
    },
    "hidden": true,
    "scrolled": true
   },
   "outputs": [
    {
     "name": "stdout",
     "output_type": "stream",
     "text": [
      "doing fishcrystals who is following 857 accounts\n",
      "Private:False Posts:101 Ratio:0.3\n",
      "finished js follower 861/13404\n",
      "doing pammiethia who is following 1805 accounts\n",
      "Private:True Posts:194 Ratio:7.3\n",
      "finished js follower 862/13404\n",
      "doing juuhnel who is following 687 accounts\n",
      "Private:False Posts:10 Ratio:2.3\n",
      "finished js follower 863/13404\n",
      "doing carteeka_ who is following 675 accounts\n",
      "Private:True Posts:2591 Ratio:1.1\n",
      "finished js follower 864/13404\n",
      "doing crystal.wishlist_v who is following 296 accounts\n",
      "Private:False Posts:35 Ratio:0.8\n",
      "finished js follower 865/13404\n",
      "doing crz.stars who is following 109 accounts\n",
      "Private:False Posts:62 Ratio:0.7\n",
      "finished js follower 866/13404\n",
      "doing sc_vstd who is following 85 accounts\n",
      "Private:True Posts:161 Ratio:0.7\n",
      "finished js follower 867/13404\n",
      "doing its_me_caren who is following 1785 accounts\n",
      "Private:True Posts:527 Ratio:4.6\n",
      "finished js follower 868/13404\n",
      "doing et_ml_chaoahlian who is following 426 accounts\n",
      "Private:True Posts:214 Ratio:3.1\n",
      "finished js follower 869/13404\n",
      "doing jjerraine who is following 1238 accounts\n",
      "Private:True Posts:1151 Ratio:4.6\n",
      "finished js follower 870/13404\n"
     ]
    },
    {
     "name": "stderr",
     "output_type": "stream",
     "text": [
      "JSON Query to graphql/query: 429 Too Many Requests [retrying; skip with ^C]\n",
      "Number of requests within last 10/11/20/22/30/60 minutes grouped by type:\n",
      "                              other:   12   12   12   12   12   12\n",
      " * 58712303d941c6855d4e888c5f0cd22f:   49   49   49   49   49   49\n",
      "Instagram responded with HTTP error \"429 - Too Many Requests\". Please\n",
      "do not run multiple instances of Instaloader in parallel or within\n",
      "short sequence. Also, do not use any Instagram App while Instaloader\n",
      "is running.\n",
      "The request will be retried in 527 seconds, at 16:15.\n",
      "JSON Query to graphql/query: 429 Too Many Requests [retrying; skip with ^C]\n",
      "Number of requests within last 10/11/20/22/30/60 minutes grouped by type:\n",
      "                              other:    8   10   12   12   12   12\n",
      " * 58712303d941c6855d4e888c5f0cd22f:   18   43   50   50   50   50\n",
      "Instagram responded with HTTP error \"429 - Too Many Requests\". Please\n",
      "do not run multiple instances of Instaloader in parallel or within\n",
      "short sequence. Also, do not use any Instagram App while Instaloader\n",
      "is running.\n",
      "The request will be retried in 6 seconds, at 16:16.\n"
     ]
    },
    {
     "name": "stdout",
     "output_type": "stream",
     "text": [
      "doing karynkhoo who is following 490 accounts\n",
      "Private:True Posts:273 Ratio:2.6\n",
      "finished js follower 871/13404\n"
     ]
    },
    {
     "name": "stderr",
     "output_type": "stream",
     "text": [
      "JSON Query to graphql/query: 429 Too Many Requests [retrying; skip with ^C]\n",
      "Number of requests within last 10/11/20/22/30/60 minutes grouped by type:\n",
      "                              other:    8   11   13   13   13   13\n",
      " * 58712303d941c6855d4e888c5f0cd22f:   18   37   52   52   52   52\n",
      "Instagram responded with HTTP error \"429 - Too Many Requests\". Please\n",
      "do not run multiple instances of Instaloader in parallel or within\n",
      "short sequence. Also, do not use any Instagram App while Instaloader\n",
      "is running.\n",
      "The request will be retried in 8 seconds, at 16:16.\n",
      "JSON Query to graphql/query: 429 Too Many Requests [retrying; skip with ^C]\n",
      "Number of requests within last 10/11/20/22/30/60 minutes grouped by type:\n",
      "                              other:    7   10   13   13   13   13\n",
      " * 58712303d941c6855d4e888c5f0cd22f:   14   34   53   53   53   53\n",
      "Instagram responded with HTTP error \"429 - Too Many Requests\". Please\n",
      "do not run multiple instances of Instaloader in parallel or within\n",
      "short sequence. Also, do not use any Instagram App while Instaloader\n",
      "is running.\n",
      "The request will be retried in 11 seconds, at 16:16.\n"
     ]
    },
    {
     "name": "stdout",
     "output_type": "stream",
     "text": [
      "doing doreen.lim.311 who is following 57 accounts\n",
      "Private:False Posts:0 Ratio:1.0\n",
      "finished js follower 872/13404\n"
     ]
    },
    {
     "name": "stderr",
     "output_type": "stream",
     "text": [
      "JSON Query to graphql/query: 429 Too Many Requests [retrying; skip with ^C]\n",
      "Number of requests within last 10/11/20/22/30/60 minutes grouped by type:\n",
      "                              other:    8   10   14   14   14   14\n",
      " * 58712303d941c6855d4e888c5f0cd22f:   14   31   55   55   55   55\n",
      "Instagram responded with HTTP error \"429 - Too Many Requests\". Please\n",
      "do not run multiple instances of Instaloader in parallel or within\n",
      "short sequence. Also, do not use any Instagram App while Instaloader\n",
      "is running.\n",
      "The request will be retried in 8 seconds, at 16:16.\n",
      "JSON Query to graphql/query: 429 Too Many Requests [retrying; skip with ^C]\n",
      "Number of requests within last 10/11/20/22/30/60 minutes grouped by type:\n",
      "                              other:    6   10   14   14   14   14\n",
      " * 58712303d941c6855d4e888c5f0cd22f:   12   29   56   56   56   56\n",
      "Instagram responded with HTTP error \"429 - Too Many Requests\". Please\n",
      "do not run multiple instances of Instaloader in parallel or within\n",
      "short sequence. Also, do not use any Instagram App while Instaloader\n",
      "is running.\n",
      "The request will be retried in 8 seconds, at 16:16.\n"
     ]
    },
    {
     "name": "stdout",
     "output_type": "stream",
     "text": [
      "doing tulips1178 who is following 63 accounts\n",
      "Private:False Posts:1 Ratio:31.5\n"
     ]
    },
    {
     "name": "stderr",
     "output_type": "stream",
     "text": [
      "JSON Query to graphql/query: 429 Too Many Requests [retrying; skip with ^C]\n",
      "Number of requests within last 10/11/20/22/30/60 minutes grouped by type:\n",
      "                              other:    4   11   15   15   15   15\n",
      " * 58712303d941c6855d4e888c5f0cd22f:   11   25   58   58   58   58\n",
      "Instagram responded with HTTP error \"429 - Too Many Requests\". Please\n",
      "do not run multiple instances of Instaloader in parallel or within\n",
      "short sequence. Also, do not use any Instagram App while Instaloader\n",
      "is running.\n",
      "The request will be retried in 9 seconds, at 16:17.\n",
      "JSON Query to graphql/query: 429 Too Many Requests [retrying; skip with ^C]\n",
      "Number of requests within last 10/11/20/22/30/60 minutes grouped by type:\n",
      "                              other:    3   10   15   15   15   15\n",
      " * 58712303d941c6855d4e888c5f0cd22f:   10   25   59   59   59   59\n",
      "Instagram responded with HTTP error \"429 - Too Many Requests\". Please\n",
      "do not run multiple instances of Instaloader in parallel or within\n",
      "short sequence. Also, do not use any Instagram App while Instaloader\n",
      "is running.\n",
      "The request will be retried in 8 seconds, at 16:17.\n"
     ]
    },
    {
     "name": "stdout",
     "output_type": "stream",
     "text": [
      "doing leeya3869 who is following 340 accounts\n",
      "Private:False Posts:0 Ratio:4.2\n",
      "finished js follower 874/13404\n"
     ]
    },
    {
     "name": "stderr",
     "output_type": "stream",
     "text": [
      "JSON Query to graphql/query: 429 Too Many Requests [retrying; skip with ^C]\n",
      "Number of requests within last 10/11/20/22/30/60 minutes grouped by type:\n",
      "                              other:    4   10   16   16   16   16\n",
      " * 58712303d941c6855d4e888c5f0cd22f:   12   22   61   61   61   61\n",
      "Instagram responded with HTTP error \"429 - Too Many Requests\". Please\n",
      "do not run multiple instances of Instaloader in parallel or within\n",
      "short sequence. Also, do not use any Instagram App while Instaloader\n",
      "is running.\n",
      "The request will be retried in 11 seconds, at 16:17.\n",
      "JSON Query to graphql/query: 429 Too Many Requests [retrying; skip with ^C]\n",
      "Number of requests within last 10/11/20/22/30/60 minutes grouped by type:\n",
      "                              other:    4   10   16   16   16   16\n",
      " * 58712303d941c6855d4e888c5f0cd22f:   13   21   62   62   62   62\n",
      "Instagram responded with HTTP error \"429 - Too Many Requests\". Please\n",
      "do not run multiple instances of Instaloader in parallel or within\n",
      "short sequence. Also, do not use any Instagram App while Instaloader\n",
      "is running.\n",
      "The request will be retried in 11 seconds, at 16:17.\n"
     ]
    },
    {
     "name": "stdout",
     "output_type": "stream",
     "text": [
      "doing joyceongyy who is following 1666 accounts\n",
      "Private:False Posts:3 Ratio:4.1\n",
      "finished js follower 875/13404\n"
     ]
    },
    {
     "name": "stderr",
     "output_type": "stream",
     "text": [
      "JSON Query to graphql/query: 429 Too Many Requests [retrying; skip with ^C]\n",
      "Number of requests within last 10/11/20/22/30/60 minutes grouped by type:\n",
      "                              other:    5    8   17   17   17   17\n",
      " * 58712303d941c6855d4e888c5f0cd22f:   15   19   64   64   64   64\n",
      "Instagram responded with HTTP error \"429 - Too Many Requests\". Please\n",
      "do not run multiple instances of Instaloader in parallel or within\n",
      "short sequence. Also, do not use any Instagram App while Instaloader\n",
      "is running.\n",
      "The request will be retried in 8 seconds, at 16:17.\n",
      "JSON Query to graphql/query: 429 Too Many Requests [retrying; skip with ^C]\n",
      "Number of requests within last 10/11/20/22/30/60 minutes grouped by type:\n",
      "                              other:    5    6   17   17   17   17\n",
      " * 58712303d941c6855d4e888c5f0cd22f:   16   18   65   65   65   65\n",
      "Instagram responded with HTTP error \"429 - Too Many Requests\". Please\n",
      "do not run multiple instances of Instaloader in parallel or within\n",
      "short sequence. Also, do not use any Instagram App while Instaloader\n",
      "is running.\n",
      "The request will be retried in 8 seconds, at 16:18.\n"
     ]
    },
    {
     "name": "stdout",
     "output_type": "stream",
     "text": [
      "doing jessieyapsg who is following 142 accounts\n",
      "Private:False Posts:6 Ratio:1.0\n",
      "finished js follower 876/13404\n"
     ]
    },
    {
     "name": "stderr",
     "output_type": "stream",
     "text": [
      "JSON Query to graphql/query: 429 Too Many Requests [retrying; skip with ^C]\n",
      "Number of requests within last 10/11/20/22/30/60 minutes grouped by type:\n",
      "                              other:    6    6   18   18   18   18\n",
      " * 58712303d941c6855d4e888c5f0cd22f:   18   18   67   67   67   67\n",
      "Instagram responded with HTTP error \"429 - Too Many Requests\". Please\n",
      "do not run multiple instances of Instaloader in parallel or within\n",
      "short sequence. Also, do not use any Instagram App while Instaloader\n",
      "is running.\n",
      "The request will be retried in 528 seconds, at 16:26.\n",
      "JSON Query to graphql/query: 429 Too Many Requests [retrying; skip with ^C]\n",
      "Number of requests within last 10/11/20/22/30/60 minutes grouped by type:\n",
      "                              other:    3    5    6   16   18   18\n",
      " * 58712303d941c6855d4e888c5f0cd22f:   10   17   20   56   68   68\n",
      "Instagram responded with HTTP error \"429 - Too Many Requests\". Please\n",
      "do not run multiple instances of Instaloader in parallel or within\n",
      "short sequence. Also, do not use any Instagram App while Instaloader\n",
      "is running.\n",
      "The request will be retried in 9 seconds, at 16:27.\n"
     ]
    },
    {
     "name": "stdout",
     "output_type": "stream",
     "text": [
      "doing jdtazir who is following 530 accounts\n",
      "Private:True Posts:377 Ratio:2.1\n",
      "finished js follower 877/13404\n"
     ]
    },
    {
     "name": "stderr",
     "output_type": "stream",
     "text": [
      "JSON Query to graphql/query: 429 Too Many Requests [retrying; skip with ^C]\n",
      "Number of requests within last 10/11/20/22/30/60 minutes grouped by type:\n",
      "                              other:    3    6    7   16   19   19\n",
      " * 58712303d941c6855d4e888c5f0cd22f:   10   18   21   51   70   70\n",
      "Instagram responded with HTTP error \"429 - Too Many Requests\". Please\n",
      "do not run multiple instances of Instaloader in parallel or within\n",
      "short sequence. Also, do not use any Instagram App while Instaloader\n",
      "is running.\n",
      "The request will be retried in 6 seconds, at 16:27.\n",
      "JSON Query to graphql/query: 429 Too Many Requests [retrying; skip with ^C]\n",
      "Number of requests within last 10/11/20/22/30/60 minutes grouped by type:\n",
      "                              other:    3    6    7   15   19   19\n",
      " * 58712303d941c6855d4e888c5f0cd22f:   10   18   22   50   71   71\n",
      "Instagram responded with HTTP error \"429 - Too Many Requests\". Please\n",
      "do not run multiple instances of Instaloader in parallel or within\n",
      "short sequence. Also, do not use any Instagram App while Instaloader\n",
      "is running.\n",
      "The request will be retried in 10 seconds, at 16:27.\n"
     ]
    },
    {
     "name": "stdout",
     "output_type": "stream",
     "text": [
      "doing nicolko who is following 251 accounts\n",
      "Private:True Posts:202 Ratio:2.9\n",
      "finished js follower 878/13404\n"
     ]
    },
    {
     "name": "stderr",
     "output_type": "stream",
     "text": [
      "JSON Query to graphql/query: 429 Too Many Requests [retrying; skip with ^C]\n",
      "Number of requests within last 10/11/20/22/30/60 minutes grouped by type:\n",
      "                              other:    4    6    8   16   20   20\n",
      " * 58712303d941c6855d4e888c5f0cd22f:   11   18   24   48   73   73\n",
      "Instagram responded with HTTP error \"429 - Too Many Requests\". Please\n",
      "do not run multiple instances of Instaloader in parallel or within\n",
      "short sequence. Also, do not use any Instagram App while Instaloader\n",
      "is running.\n",
      "The request will be retried in 10 seconds, at 16:27.\n",
      "JSON Query to graphql/query: 429 Too Many Requests [retrying; skip with ^C]\n",
      "Number of requests within last 10/11/20/22/30/60 minutes grouped by type:\n",
      "                              other:    3    6    8   16   20   20\n",
      " * 58712303d941c6855d4e888c5f0cd22f:   10   18   25   45   74   74\n",
      "Instagram responded with HTTP error \"429 - Too Many Requests\". Please\n",
      "do not run multiple instances of Instaloader in parallel or within\n",
      "short sequence. Also, do not use any Instagram App while Instaloader\n",
      "is running.\n",
      "The request will be retried in 8 seconds, at 16:27.\n"
     ]
    },
    {
     "name": "stdout",
     "output_type": "stream",
     "text": [
      "doing fluffywhitefurballs who is following 15 accounts\n",
      "Private:True Posts:0 Ratio:15.0\n"
     ]
    },
    {
     "name": "stderr",
     "output_type": "stream",
     "text": [
      "JSON Query to graphql/query: 429 Too Many Requests [retrying; skip with ^C]\n",
      "Number of requests within last 10/11/20/22/30/60 minutes grouped by type:\n",
      "                              other:    4    6    9   16   21   21\n",
      " * 58712303d941c6855d4e888c5f0cd22f:   10   18   27   42   76   76\n",
      "Instagram responded with HTTP error \"429 - Too Many Requests\". Please\n",
      "do not run multiple instances of Instaloader in parallel or within\n",
      "short sequence. Also, do not use any Instagram App while Instaloader\n",
      "is running.\n",
      "The request will be retried in 6 seconds, at 16:28.\n",
      "JSON Query to graphql/query: 429 Too Many Requests [retrying; skip with ^C]\n",
      "Number of requests within last 10/11/20/22/30/60 minutes grouped by type:\n",
      "                              other:    3    6    9   15   21   21\n",
      " * 58712303d941c6855d4e888c5f0cd22f:   10   18   28   42   77   77\n",
      "Instagram responded with HTTP error \"429 - Too Many Requests\". Please\n",
      "do not run multiple instances of Instaloader in parallel or within\n",
      "short sequence. Also, do not use any Instagram App while Instaloader\n",
      "is running.\n",
      "The request will be retried in 8 seconds, at 16:28.\n"
     ]
    },
    {
     "name": "stdout",
     "output_type": "stream",
     "text": [
      "doing lurv_thyself who is following 368 accounts\n",
      "Private:True Posts:682 Ratio:2.4\n",
      "finished js follower 880/13404\n"
     ]
    },
    {
     "name": "stderr",
     "output_type": "stream",
     "text": [
      "JSON Query to graphql/query: 429 Too Many Requests [retrying; skip with ^C]\n",
      "Number of requests within last 10/11/20/22/30/60 minutes grouped by type:\n",
      "                              other:    4    6   10   15   22   22\n",
      " * 58712303d941c6855d4e888c5f0cd22f:   12   17   30   38   79   79\n",
      "Instagram responded with HTTP error \"429 - Too Many Requests\". Please\n",
      "do not run multiple instances of Instaloader in parallel or within\n",
      "short sequence. Also, do not use any Instagram App while Instaloader\n",
      "is running.\n",
      "The request will be retried in 13 seconds, at 16:28.\n",
      "JSON Query to graphql/query: 429 Too Many Requests [retrying; skip with ^C]\n",
      "Number of requests within last 10/11/20/22/30/60 minutes grouped by type:\n",
      "                              other:    4    5   10   13   22   22\n",
      " * 58712303d941c6855d4e888c5f0cd22f:   13   16   31   34   80   80\n",
      "Instagram responded with HTTP error \"429 - Too Many Requests\". Please\n",
      "do not run multiple instances of Instaloader in parallel or within\n",
      "short sequence. Also, do not use any Instagram App while Instaloader\n",
      "is running.\n",
      "The request will be retried in 12 seconds, at 16:29.\n"
     ]
    },
    {
     "name": "stdout",
     "output_type": "stream",
     "text": [
      "doing gnanaej who is following 3350 accounts\n",
      "Private:True Posts:109 Ratio:57.8\n"
     ]
    },
    {
     "name": "stderr",
     "output_type": "stream",
     "text": [
      "JSON Query to graphql/query: 429 Too Many Requests [retrying; skip with ^C]\n",
      "Number of requests within last 10/11/20/22/30/60 minutes grouped by type:\n",
      "                              other:    5    5   11   11   23   23\n",
      " * 58712303d941c6855d4e888c5f0cd22f:   15   16   33   33   82   82\n",
      "Instagram responded with HTTP error \"429 - Too Many Requests\". Please\n",
      "do not run multiple instances of Instaloader in parallel or within\n",
      "short sequence. Also, do not use any Instagram App while Instaloader\n",
      "is running.\n",
      "The request will be retried in 7 seconds, at 16:29.\n",
      "JSON Query to graphql/query: 429 Too Many Requests [retrying; skip with ^C]\n",
      "Number of requests within last 10/11/20/22/30/60 minutes grouped by type:\n",
      "                              other:    5    5   11   11   23   23\n",
      " * 58712303d941c6855d4e888c5f0cd22f:   16   16   34   34   83   83\n",
      "Instagram responded with HTTP error \"429 - Too Many Requests\". Please\n",
      "do not run multiple instances of Instaloader in parallel or within\n",
      "short sequence. Also, do not use any Instagram App while Instaloader\n",
      "is running.\n",
      "The request will be retried in 529 seconds, at 16:38.\n"
     ]
    },
    {
     "name": "stdout",
     "output_type": "stream",
     "text": [
      "doing rachee who is following 795 accounts\n",
      "Private:True Posts:1659 Ratio:1.7\n",
      "finished js follower 882/13404\n"
     ]
    },
    {
     "name": "stderr",
     "output_type": "stream",
     "text": [
      "JSON Query to graphql/query: 429 Too Many Requests [retrying; skip with ^C]\n",
      "Number of requests within last 10/11/20/22/30/60 minutes grouped by type:\n",
      "                              other:    3    6    6   11   12   24\n",
      " * 58712303d941c6855d4e888c5f0cd22f:    8   16   18   33   36   85\n",
      "Instagram responded with HTTP error \"429 - Too Many Requests\". Please\n",
      "do not run multiple instances of Instaloader in parallel or within\n",
      "short sequence. Also, do not use any Instagram App while Instaloader\n",
      "is running.\n",
      "The request will be retried in 8 seconds, at 16:38.\n",
      "JSON Query to graphql/query: 429 Too Many Requests [retrying; skip with ^C]\n",
      "Number of requests within last 10/11/20/22/30/60 minutes grouped by type:\n",
      "                              other:    3    5    6   11   12   24\n",
      " * 58712303d941c6855d4e888c5f0cd22f:    9   16   19   33   37   86\n",
      "Instagram responded with HTTP error \"429 - Too Many Requests\". Please\n",
      "do not run multiple instances of Instaloader in parallel or within\n",
      "short sequence. Also, do not use any Instagram App while Instaloader\n",
      "is running.\n",
      "The request will be retried in 9 seconds, at 16:38.\n"
     ]
    },
    {
     "name": "stdout",
     "output_type": "stream",
     "text": [
      "doing princessdiana0401 who is following 262 accounts\n",
      "Private:True Posts:0 Ratio:32.8\n"
     ]
    },
    {
     "name": "stderr",
     "output_type": "stream",
     "text": [
      "JSON Query to graphql/query: 429 Too Many Requests [retrying; skip with ^C]\n",
      "Number of requests within last 10/11/20/22/30/60 minutes grouped by type:\n",
      "                              other:    3    6    7   11   13   25\n",
      " * 58712303d941c6855d4e888c5f0cd22f:    9   17   21   33   39   88\n",
      "Instagram responded with HTTP error \"429 - Too Many Requests\". Please\n",
      "do not run multiple instances of Instaloader in parallel or within\n",
      "short sequence. Also, do not use any Instagram App while Instaloader\n",
      "is running.\n",
      "The request will be retried in 7 seconds, at 16:38.\n",
      "JSON Query to graphql/query: 429 Too Many Requests [retrying; skip with ^C]\n",
      "Number of requests within last 10/11/20/22/30/60 minutes grouped by type:\n",
      "                              other:    3    5    7   11   13   25\n",
      " * 58712303d941c6855d4e888c5f0cd22f:   10   16   22   33   40   89\n",
      "Instagram responded with HTTP error \"429 - Too Many Requests\". Please\n",
      "do not run multiple instances of Instaloader in parallel or within\n",
      "short sequence. Also, do not use any Instagram App while Instaloader\n",
      "is running.\n",
      "The request will be retried in 9 seconds, at 16:38.\n"
     ]
    },
    {
     "name": "stdout",
     "output_type": "stream",
     "text": [
      "doing 67andreaaa who is following 860 accounts\n",
      "Private:False Posts:388 Ratio:0.6\n",
      "finished js follower 884/13404\n"
     ]
    },
    {
     "name": "stderr",
     "output_type": "stream",
     "text": [
      "JSON Query to graphql/query: 429 Too Many Requests [retrying; skip with ^C]\n",
      "Number of requests within last 10/11/20/22/30/60 minutes grouped by type:\n",
      "                              other:    3    5    8   11   14   26\n",
      " * 58712303d941c6855d4e888c5f0cd22f:   10   15   24   32   42   91\n",
      "Instagram responded with HTTP error \"429 - Too Many Requests\". Please\n",
      "do not run multiple instances of Instaloader in parallel or within\n",
      "short sequence. Also, do not use any Instagram App while Instaloader\n",
      "is running.\n",
      "The request will be retried in 11 seconds, at 16:39.\n",
      "JSON Query to graphql/query: 429 Too Many Requests [retrying; skip with ^C]\n",
      "Number of requests within last 10/11/20/22/30/60 minutes grouped by type:\n",
      "                              other:    3    5    8   10   14   26\n",
      " * 58712303d941c6855d4e888c5f0cd22f:    9   15   25   31   43   92\n",
      "Instagram responded with HTTP error \"429 - Too Many Requests\". Please\n",
      "do not run multiple instances of Instaloader in parallel or within\n",
      "short sequence. Also, do not use any Instagram App while Instaloader\n",
      "is running.\n",
      "The request will be retried in 14 seconds, at 16:39.\n"
     ]
    },
    {
     "name": "stdout",
     "output_type": "stream",
     "text": [
      "doing miyang0805 who is following 136 accounts\n",
      "Private:False Posts:1 Ratio:7.6\n",
      "finished js follower 885/13404\n"
     ]
    },
    {
     "name": "stderr",
     "output_type": "stream",
     "text": [
      "JSON Query to graphql/query: 429 Too Many Requests [retrying; skip with ^C]\n",
      "Number of requests within last 10/11/20/22/30/60 minutes grouped by type:\n",
      "                              other:    4    5    9   10   15   27\n",
      " * 58712303d941c6855d4e888c5f0cd22f:   11   15   27   31   45   94\n",
      "Instagram responded with HTTP error \"429 - Too Many Requests\". Please\n",
      "do not run multiple instances of Instaloader in parallel or within\n",
      "short sequence. Also, do not use any Instagram App while Instaloader\n",
      "is running.\n",
      "The request will be retried in 11 seconds, at 16:39.\n",
      "JSON Query to graphql/query: 429 Too Many Requests [retrying; skip with ^C]\n",
      "Number of requests within last 10/11/20/22/30/60 minutes grouped by type:\n",
      "                              other:    4    5    9   10   15   27\n",
      " * 58712303d941c6855d4e888c5f0cd22f:   12   15   28   30   46   95\n",
      "Instagram responded with HTTP error \"429 - Too Many Requests\". Please\n",
      "do not run multiple instances of Instaloader in parallel or within\n",
      "short sequence. Also, do not use any Instagram App while Instaloader\n",
      "is running.\n",
      "The request will be retried in 14 seconds, at 16:40.\n"
     ]
    },
    {
     "name": "stdout",
     "output_type": "stream",
     "text": [
      "doing jang_hee_bin who is following 4829 accounts\n",
      "Private:True Posts:16 Ratio:6.8\n",
      "finished js follower 886/13404\n"
     ]
    },
    {
     "name": "stderr",
     "output_type": "stream",
     "text": [
      "JSON Query to graphql/query: 429 Too Many Requests [retrying; skip with ^C]\n",
      "Number of requests within last 10/11/20/22/30/60 minutes grouped by type:\n",
      "                              other:    5    5   10   10   16   28\n",
      " * 58712303d941c6855d4e888c5f0cd22f:   14   15   30   30   48   97\n",
      "Instagram responded with HTTP error \"429 - Too Many Requests\". Please\n",
      "do not run multiple instances of Instaloader in parallel or within\n",
      "short sequence. Also, do not use any Instagram App while Instaloader\n",
      "is running.\n",
      "The request will be retried in 13 seconds, at 16:40.\n",
      "JSON Query to graphql/query: 429 Too Many Requests [retrying; skip with ^C]\n",
      "Number of requests within last 10/11/20/22/30/60 minutes grouped by type:\n",
      "                              other:    5    5   10   10   16   28\n",
      " * 58712303d941c6855d4e888c5f0cd22f:   15   15   31   31   49   98\n",
      "Instagram responded with HTTP error \"429 - Too Many Requests\". Please\n",
      "do not run multiple instances of Instaloader in parallel or within\n",
      "short sequence. Also, do not use any Instagram App while Instaloader\n",
      "is running.\n",
      "The request will be retried in 531 seconds, at 16:49.\n"
     ]
    },
    {
     "name": "stdout",
     "output_type": "stream",
     "text": [
      "doing clumsycharmaine who is following 846 accounts\n",
      "Private:True Posts:434 Ratio:3.8\n",
      "finished js follower 887/13404\n"
     ]
    },
    {
     "name": "stderr",
     "output_type": "stream",
     "text": [
      "JSON Query to graphql/query: 429 Too Many Requests [retrying; skip with ^C]\n",
      "Number of requests within last 10/11/20/22/30/60 minutes grouped by type:\n",
      "                              other:    3    5    6   10   11   29\n",
      " * 58712303d941c6855d4e888c5f0cd22f:    8   14   17   30   33  100\n",
      "Instagram responded with HTTP error \"429 - Too Many Requests\". Please\n",
      "do not run multiple instances of Instaloader in parallel or within\n",
      "short sequence. Also, do not use any Instagram App while Instaloader\n",
      "is running.\n",
      "The request will be retried in 14 seconds, at 16:49.\n",
      "JSON Query to graphql/query: 429 Too Many Requests [retrying; skip with ^C]\n",
      "Number of requests within last 10/11/20/22/30/60 minutes grouped by type:\n",
      "                              other:    2    4    6    9   11   29\n",
      " * 58712303d941c6855d4e888c5f0cd22f:    8   13   18   29   34  101\n",
      "Instagram responded with HTTP error \"429 - Too Many Requests\". Please\n",
      "do not run multiple instances of Instaloader in parallel or within\n",
      "short sequence. Also, do not use any Instagram App while Instaloader\n",
      "is running.\n",
      "The request will be retried in 14 seconds, at 16:49.\n"
     ]
    },
    {
     "name": "stdout",
     "output_type": "stream",
     "text": [
      "doing kennie_juby_rane_jim who is following 514 accounts\n",
      "Private:True Posts:239 Ratio:9.9\n",
      "finished js follower 888/13404\n"
     ]
    },
    {
     "name": "stderr",
     "output_type": "stream",
     "text": [
      "JSON Query to graphql/query: 429 Too Many Requests [retrying; skip with ^C]\n",
      "Number of requests within last 10/11/20/22/30/60 minutes grouped by type:\n",
      "                              other:    3    4    7    9   12   30\n",
      " * 58712303d941c6855d4e888c5f0cd22f:    8   12   20   27   36  103\n",
      "Instagram responded with HTTP error \"429 - Too Many Requests\". Please\n",
      "do not run multiple instances of Instaloader in parallel or within\n",
      "short sequence. Also, do not use any Instagram App while Instaloader\n",
      "is running.\n",
      "The request will be retried in 16 seconds, at 16:50.\n",
      "JSON Query to graphql/query: 429 Too Many Requests [retrying; skip with ^C]\n",
      "Number of requests within last 10/11/20/22/30/60 minutes grouped by type:\n",
      "                              other:    2    4    7    9   12   30\n",
      " * 58712303d941c6855d4e888c5f0cd22f:    6   12   21   27   37  104\n",
      "Instagram responded with HTTP error \"429 - Too Many Requests\". Please\n",
      "do not run multiple instances of Instaloader in parallel or within\n",
      "short sequence. Also, do not use any Instagram App while Instaloader\n",
      "is running.\n",
      "The request will be retried in 15 seconds, at 16:50.\n"
     ]
    },
    {
     "name": "stdout",
     "output_type": "stream",
     "text": [
      "doing brenda_ang who is following 1336 accounts\n",
      "Private:True Posts:654 Ratio:4.9\n",
      "finished js follower 889/13404\n"
     ]
    },
    {
     "name": "stderr",
     "output_type": "stream",
     "text": [
      "JSON Query to graphql/query: 429 Too Many Requests [retrying; skip with ^C]\n",
      "Number of requests within last 10/11/20/22/30/60 minutes grouped by type:\n",
      "                              other:    3    4    8    9   13   31\n",
      " * 58712303d941c6855d4e888c5f0cd22f:    8   12   23   27   39  106\n",
      "Instagram responded with HTTP error \"429 - Too Many Requests\". Please\n",
      "do not run multiple instances of Instaloader in parallel or within\n",
      "short sequence. Also, do not use any Instagram App while Instaloader\n",
      "is running.\n",
      "The request will be retried in 13 seconds, at 16:51.\n",
      "JSON Query to graphql/query: 429 Too Many Requests [retrying; skip with ^C]\n",
      "Number of requests within last 10/11/20/22/30/60 minutes grouped by type:\n",
      "                              other:    3    4    8    9   13   31\n",
      " * 58712303d941c6855d4e888c5f0cd22f:    9   12   24   27   40  107\n",
      "Instagram responded with HTTP error \"429 - Too Many Requests\". Please\n",
      "do not run multiple instances of Instaloader in parallel or within\n",
      "short sequence. Also, do not use any Instagram App while Instaloader\n",
      "is running.\n",
      "The request will be retried in 12 seconds, at 16:51.\n"
     ]
    },
    {
     "name": "stdout",
     "output_type": "stream",
     "text": [
      "doing _reepunzel who is following 563 accounts\n",
      "Private:True Posts:693 Ratio:1.1\n",
      "finished js follower 890/13404\n"
     ]
    },
    {
     "name": "stderr",
     "output_type": "stream",
     "text": [
      "JSON Query to graphql/query: 429 Too Many Requests [retrying; skip with ^C]\n",
      "Number of requests within last 10/11/20/22/30/60 minutes grouped by type:\n",
      "                              other:    4    4    9    9   14   32\n",
      " * 58712303d941c6855d4e888c5f0cd22f:   11   12   26   26   42  109\n",
      "Instagram responded with HTTP error \"429 - Too Many Requests\". Please\n",
      "do not run multiple instances of Instaloader in parallel or within\n",
      "short sequence. Also, do not use any Instagram App while Instaloader\n",
      "is running.\n",
      "The request will be retried in 10 seconds, at 16:51.\n",
      "JSON Query to graphql/query: 429 Too Many Requests [retrying; skip with ^C]\n",
      "Number of requests within last 10/11/20/22/30/60 minutes grouped by type:\n",
      "                              other:    4    4    9    9   14   32\n",
      " * 58712303d941c6855d4e888c5f0cd22f:   12   12   27   27   43  110\n",
      "Instagram responded with HTTP error \"429 - Too Many Requests\". Please\n",
      "do not run multiple instances of Instaloader in parallel or within\n",
      "short sequence. Also, do not use any Instagram App while Instaloader\n",
      "is running.\n",
      "The request will be retried in 530 seconds, at 17:00.\n"
     ]
    },
    {
     "name": "stdout",
     "output_type": "stream",
     "text": [
      "doing sarahkitty.75 who is following 95 accounts\n",
      "Private:False Posts:0 Ratio:0.9\n",
      "finished js follower 891/13404\n"
     ]
    },
    {
     "name": "stderr",
     "output_type": "stream",
     "text": [
      "JSON Query to graphql/query: 429 Too Many Requests [retrying; skip with ^C]\n",
      "Number of requests within last 10/11/20/22/30/60 minutes grouped by type:\n",
      "                              other:    3    4    5    9   10   33\n",
      " * 58712303d941c6855d4e888c5f0cd22f:    8   12   14   26   29  112\n",
      "Instagram responded with HTTP error \"429 - Too Many Requests\". Please\n",
      "do not run multiple instances of Instaloader in parallel or within\n",
      "short sequence. Also, do not use any Instagram App while Instaloader\n",
      "is running.\n",
      "The request will be retried in 16 seconds, at 17:00.\n",
      "JSON Query to graphql/query: 429 Too Many Requests [retrying; skip with ^C]\n",
      "Number of requests within last 10/11/20/22/30/60 minutes grouped by type:\n",
      "                              other:    2    4    5    8   10   33\n",
      " * 58712303d941c6855d4e888c5f0cd22f:    8   12   15   25   30  113\n",
      "Instagram responded with HTTP error \"429 - Too Many Requests\". Please\n",
      "do not run multiple instances of Instaloader in parallel or within\n",
      "short sequence. Also, do not use any Instagram App while Instaloader\n",
      "is running.\n",
      "The request will be retried in 17 seconds, at 17:01.\n"
     ]
    },
    {
     "name": "stdout",
     "output_type": "stream",
     "text": [
      "doing yoojia13 who is following 1245 accounts\n",
      "Private:True Posts:49 Ratio:47.9\n"
     ]
    },
    {
     "name": "stderr",
     "output_type": "stream",
     "text": [
      "JSON Query to graphql/query: 429 Too Many Requests [retrying; skip with ^C]\n",
      "Number of requests within last 10/11/20/22/30/60 minutes grouped by type:\n",
      "                              other:    3    4    6    8   11   34\n",
      " * 58712303d941c6855d4e888c5f0cd22f:    8   12   17   24   32  115\n",
      "Instagram responded with HTTP error \"429 - Too Many Requests\". Please\n",
      "do not run multiple instances of Instaloader in parallel or within\n",
      "short sequence. Also, do not use any Instagram App while Instaloader\n",
      "is running.\n",
      "The request will be retried in 18 seconds, at 17:01.\n",
      "JSON Query to graphql/query: 429 Too Many Requests [retrying; skip with ^C]\n",
      "Number of requests within last 10/11/20/22/30/60 minutes grouped by type:\n",
      "                              other:    2    4    6    8   11   34\n",
      " * 58712303d941c6855d4e888c5f0cd22f:    7   12   18   24   33  116\n",
      "Instagram responded with HTTP error \"429 - Too Many Requests\". Please\n",
      "do not run multiple instances of Instaloader in parallel or within\n",
      "short sequence. Also, do not use any Instagram App while Instaloader\n",
      "is running.\n",
      "The request will be retried in 17 seconds, at 17:01.\n"
     ]
    },
    {
     "name": "stdout",
     "output_type": "stream",
     "text": [
      "doing boaddicted who is following 2873 accounts\n",
      "Private:True Posts:869 Ratio:9.0\n",
      "finished js follower 893/13404\n"
     ]
    },
    {
     "name": "stderr",
     "output_type": "stream",
     "text": [
      "JSON Query to graphql/query: 429 Too Many Requests [retrying; skip with ^C]\n",
      "Number of requests within last 10/11/20/22/30/60 minutes grouped by type:\n",
      "                              other:    3    4    7    8   12   35\n",
      " * 58712303d941c6855d4e888c5f0cd22f:    8   12   20   24   35  118\n",
      "Instagram responded with HTTP error \"429 - Too Many Requests\". Please\n",
      "do not run multiple instances of Instaloader in parallel or within\n",
      "short sequence. Also, do not use any Instagram App while Instaloader\n",
      "is running.\n",
      "The request will be retried in 16 seconds, at 17:02.\n",
      "JSON Query to graphql/query: 429 Too Many Requests [retrying; skip with ^C]\n",
      "Number of requests within last 10/11/20/22/30/60 minutes grouped by type:\n",
      "                              other:    3    4    7    7   12   35\n",
      " * 58712303d941c6855d4e888c5f0cd22f:    9   12   21   22   36  119\n",
      "Instagram responded with HTTP error \"429 - Too Many Requests\". Please\n",
      "do not run multiple instances of Instaloader in parallel or within\n",
      "short sequence. Also, do not use any Instagram App while Instaloader\n",
      "is running.\n",
      "The request will be retried in 12 seconds, at 17:02.\n"
     ]
    },
    {
     "name": "stdout",
     "output_type": "stream",
     "text": [
      "doing stone1987 who is following 648 accounts\n",
      "Private:True Posts:143 Ratio:3.5\n",
      "finished js follower 894/13404\n"
     ]
    },
    {
     "name": "stderr",
     "output_type": "stream",
     "text": [
      "JSON Query to graphql/query: 429 Too Many Requests [retrying; skip with ^C]\n",
      "Number of requests within last 10/11/20/22/30/60 minutes grouped by type:\n",
      "                              other:    4    4    8    8   13   36\n",
      " * 58712303d941c6855d4e888c5f0cd22f:   11   12   23   23   38  121\n",
      "Instagram responded with HTTP error \"429 - Too Many Requests\". Please\n",
      "do not run multiple instances of Instaloader in parallel or within\n",
      "short sequence. Also, do not use any Instagram App while Instaloader\n",
      "is running.\n",
      "The request will be retried in 12 seconds, at 17:02.\n",
      "JSON Query to graphql/query: 429 Too Many Requests [retrying; skip with ^C]\n",
      "Number of requests within last 10/11/20/22/30/60 minutes grouped by type:\n",
      "                              other:    4    4    8    8   13   36\n",
      " * 58712303d941c6855d4e888c5f0cd22f:   12   12   24   24   39  122\n",
      "Instagram responded with HTTP error \"429 - Too Many Requests\". Please\n",
      "do not run multiple instances of Instaloader in parallel or within\n",
      "short sequence. Also, do not use any Instagram App while Instaloader\n",
      "is running.\n",
      "The request will be retried in 531 seconds, at 17:11.\n"
     ]
    },
    {
     "name": "stdout",
     "output_type": "stream",
     "text": [
      "doing magleeeee who is following 704 accounts\n",
      "Private:True Posts:15 Ratio:1.5\n",
      "finished js follower 895/13404\n"
     ]
    },
    {
     "name": "stderr",
     "output_type": "stream",
     "text": [
      "JSON Query to graphql/query: 429 Too Many Requests [retrying; skip with ^C]\n",
      "Number of requests within last 10/11/20/22/30/60 minutes grouped by type:\n",
      "                              other:    3    4    5    8    9   25\n",
      " * 58712303d941c6855d4e888c5f0cd22f:    8   12   14   23   26   75\n",
      "Instagram responded with HTTP error \"429 - Too Many Requests\". Please\n",
      "do not run multiple instances of Instaloader in parallel or within\n",
      "short sequence. Also, do not use any Instagram App while Instaloader\n",
      "is running.\n",
      "The request will be retried in 11 seconds, at 17:11.\n",
      "JSON Query to graphql/query: 429 Too Many Requests [retrying; skip with ^C]\n",
      "Number of requests within last 10/11/20/22/30/60 minutes grouped by type:\n",
      "                              other:    2    4    5    8    9   25\n",
      " * 58712303d941c6855d4e888c5f0cd22f:    8   12   15   24   27   76\n",
      "Instagram responded with HTTP error \"429 - Too Many Requests\". Please\n",
      "do not run multiple instances of Instaloader in parallel or within\n",
      "short sequence. Also, do not use any Instagram App while Instaloader\n",
      "is running.\n",
      "The request will be retried in 18 seconds, at 17:12.\n"
     ]
    },
    {
     "name": "stdout",
     "output_type": "stream",
     "text": [
      "doing c.piggy who is following 843 accounts\n",
      "Private:False Posts:479 Ratio:1.4\n",
      "finished js follower 896/13404\n"
     ]
    },
    {
     "name": "stderr",
     "output_type": "stream",
     "text": [
      "JSON Query to graphql/query: 429 Too Many Requests [retrying; skip with ^C]\n",
      "Number of requests within last 10/11/20/22/30/60 minutes grouped by type:\n",
      "                              other:    3    4    6    8   10   26\n",
      " * 58712303d941c6855d4e888c5f0cd22f:    8   12   17   24   29   78\n",
      "Instagram responded with HTTP error \"429 - Too Many Requests\". Please\n",
      "do not run multiple instances of Instaloader in parallel or within\n",
      "short sequence. Also, do not use any Instagram App while Instaloader\n",
      "is running.\n",
      "The request will be retried in 23 seconds, at 17:12.\n",
      "JSON Query to graphql/query: 429 Too Many Requests [retrying; skip with ^C]\n",
      "Number of requests within last 10/11/20/22/30/60 minutes grouped by type:\n",
      "                              other:    2    4    6    8   10   26\n",
      " * 58712303d941c6855d4e888c5f0cd22f:    6   12   18   24   30   79\n",
      "Instagram responded with HTTP error \"429 - Too Many Requests\". Please\n",
      "do not run multiple instances of Instaloader in parallel or within\n",
      "short sequence. Also, do not use any Instagram App while Instaloader\n",
      "is running.\n",
      "The request will be retried in 14 seconds, at 17:12.\n"
     ]
    },
    {
     "name": "stdout",
     "output_type": "stream",
     "text": [
      "doing val.chl who is following 286 accounts\n",
      "Private:True Posts:6 Ratio:1.2\n",
      "finished js follower 897/13404\n"
     ]
    },
    {
     "name": "stderr",
     "output_type": "stream",
     "text": [
      "JSON Query to graphql/query: 429 Too Many Requests [retrying; skip with ^C]\n",
      "Number of requests within last 10/11/20/22/30/60 minutes grouped by type:\n",
      "                              other:    3    4    7    8   11   27\n",
      " * 58712303d941c6855d4e888c5f0cd22f:    8   12   20   24   32   81\n",
      "Instagram responded with HTTP error \"429 - Too Many Requests\". Please\n",
      "do not run multiple instances of Instaloader in parallel or within\n",
      "short sequence. Also, do not use any Instagram App while Instaloader\n",
      "is running.\n",
      "The request will be retried in 15 seconds, at 17:13.\n",
      "JSON Query to graphql/query: 429 Too Many Requests [retrying; skip with ^C]\n",
      "Number of requests within last 10/11/20/22/30/60 minutes grouped by type:\n",
      "                              other:    3    4    7    8   11   27\n",
      " * 58712303d941c6855d4e888c5f0cd22f:    9   12   21   23   33   82\n",
      "Instagram responded with HTTP error \"429 - Too Many Requests\". Please\n",
      "do not run multiple instances of Instaloader in parallel or within\n",
      "short sequence. Also, do not use any Instagram App while Instaloader\n",
      "is running.\n",
      "The request will be retried in 12 seconds, at 17:13.\n"
     ]
    },
    {
     "name": "stdout",
     "output_type": "stream",
     "text": [
      "doing ivypnlee who is following 110 accounts\n",
      "Private:False Posts:32 Ratio:0.9\n",
      "finished js follower 898/13404\n"
     ]
    },
    {
     "name": "stderr",
     "output_type": "stream",
     "text": [
      "JSON Query to graphql/query: 429 Too Many Requests [retrying; skip with ^C]\n",
      "Number of requests within last 10/11/20/22/30/60 minutes grouped by type:\n",
      "                              other:    4    4    8    8   12   28\n",
      " * 58712303d941c6855d4e888c5f0cd22f:   11   12   23   23   35   84\n",
      "Instagram responded with HTTP error \"429 - Too Many Requests\". Please\n",
      "do not run multiple instances of Instaloader in parallel or within\n",
      "short sequence. Also, do not use any Instagram App while Instaloader\n",
      "is running.\n",
      "The request will be retried in 10 seconds, at 17:13.\n",
      "JSON Query to graphql/query: 429 Too Many Requests [retrying; skip with ^C]\n",
      "Number of requests within last 10/11/20/22/30/60 minutes grouped by type:\n",
      "                              other:    4    4    8    8   12   28\n",
      " * 58712303d941c6855d4e888c5f0cd22f:   12   12   24   24   36   85\n",
      "Instagram responded with HTTP error \"429 - Too Many Requests\". Please\n",
      "do not run multiple instances of Instaloader in parallel or within\n",
      "short sequence. Also, do not use any Instagram App while Instaloader\n",
      "is running.\n",
      "The request will be retried in 532 seconds, at 17:22.\n"
     ]
    },
    {
     "name": "stdout",
     "output_type": "stream",
     "text": [
      "doing anastasia_ho who is following 890 accounts\n",
      "Private:True Posts:347 Ratio:5.1\n",
      "finished js follower 899/13404\n"
     ]
    },
    {
     "name": "stderr",
     "output_type": "stream",
     "text": [
      "JSON Query to graphql/query: 429 Too Many Requests [retrying; skip with ^C]\n",
      "Number of requests within last 10/11/20/22/30/60 minutes grouped by type:\n",
      "                              other:    3    4    5    8    9   23\n",
      " * 58712303d941c6855d4e888c5f0cd22f:    8   11   14   23   26   69\n",
      "Instagram responded with HTTP error \"429 - Too Many Requests\". Please\n",
      "do not run multiple instances of Instaloader in parallel or within\n",
      "short sequence. Also, do not use any Instagram App while Instaloader\n",
      "is running.\n",
      "The request will be retried in 25 seconds, at 17:23.\n",
      "JSON Query to graphql/query: 429 Too Many Requests [retrying; skip with ^C]\n",
      "Number of requests within last 10/11/20/22/30/60 minutes grouped by type:\n",
      "                              other:    2    3    5    7    9   23\n",
      " * 58712303d941c6855d4e888c5f0cd22f:    7   10   15   22   27   70\n",
      "Instagram responded with HTTP error \"429 - Too Many Requests\". Please\n",
      "do not run multiple instances of Instaloader in parallel or within\n",
      "short sequence. Also, do not use any Instagram App while Instaloader\n",
      "is running.\n",
      "The request will be retried in 30 seconds, at 17:23.\n"
     ]
    },
    {
     "name": "stdout",
     "output_type": "stream",
     "text": [
      "doing _keresteen who is following 419 accounts\n",
      "Private:True Posts:681 Ratio:3.4\n",
      "finished js follower 900/13404\n"
     ]
    },
    {
     "name": "stderr",
     "output_type": "stream",
     "text": [
      "JSON Query to graphql/query: 429 Too Many Requests [retrying; skip with ^C]\n",
      "Number of requests within last 10/11/20/22/30/60 minutes grouped by type:\n",
      "                              other:    2    4    6    7   10   24\n",
      " * 58712303d941c6855d4e888c5f0cd22f:    5   11   17   22   29   72\n",
      "Instagram responded with HTTP error \"429 - Too Many Requests\". Please\n",
      "do not run multiple instances of Instaloader in parallel or within\n",
      "short sequence. Also, do not use any Instagram App while Instaloader\n",
      "is running.\n",
      "The request will be retried in 10 seconds, at 17:24.\n",
      "JSON Query to graphql/query: 429 Too Many Requests [retrying; skip with ^C]\n",
      "Number of requests within last 10/11/20/22/30/60 minutes grouped by type:\n",
      "                              other:    2    3    6    7   10   24\n",
      " * 58712303d941c6855d4e888c5f0cd22f:    6   11   18   22   30   73\n",
      "Instagram responded with HTTP error \"429 - Too Many Requests\". Please\n",
      "do not run multiple instances of Instaloader in parallel or within\n",
      "short sequence. Also, do not use any Instagram App while Instaloader\n",
      "is running.\n",
      "The request will be retried in 6 seconds, at 17:24.\n"
     ]
    },
    {
     "name": "stdout",
     "output_type": "stream",
     "text": [
      "doing sxueee who is following 2304 accounts\n",
      "Private:False Posts:1509 Ratio:2.1\n",
      "finished js follower 901/13404\n"
     ]
    },
    {
     "name": "stderr",
     "output_type": "stream",
     "text": [
      "JSON Query to graphql/query: 429 Too Many Requests [retrying; skip with ^C]\n",
      "Number of requests within last 10/11/20/22/30/60 minutes grouped by type:\n",
      "                              other:    3    4    7    8   11   25\n",
      " * 58712303d941c6855d4e888c5f0cd22f:    8   12   20   24   32   75\n",
      "Instagram responded with HTTP error \"429 - Too Many Requests\". Please\n",
      "do not run multiple instances of Instaloader in parallel or within\n",
      "short sequence. Also, do not use any Instagram App while Instaloader\n",
      "is running.\n",
      "The request will be retried in 14 seconds, at 17:24.\n",
      "JSON Query to graphql/query: 429 Too Many Requests [retrying; skip with ^C]\n",
      "Number of requests within last 10/11/20/22/30/60 minutes grouped by type:\n",
      "                              other:    3    4    7    8   11   25\n",
      " * 58712303d941c6855d4e888c5f0cd22f:    9   12   21   23   33   76\n",
      "Instagram responded with HTTP error \"429 - Too Many Requests\". Please\n",
      "do not run multiple instances of Instaloader in parallel or within\n",
      "short sequence. Also, do not use any Instagram App while Instaloader\n",
      "is running.\n",
      "The request will be retried in 14 seconds, at 17:24.\n"
     ]
    },
    {
     "name": "stdout",
     "output_type": "stream",
     "text": [
      "doing micmic.ho who is following 1657 accounts\n",
      "Private:True Posts:752 Ratio:15.6\n"
     ]
    },
    {
     "name": "stderr",
     "output_type": "stream",
     "text": [
      "JSON Query to graphql/query: 429 Too Many Requests [retrying; skip with ^C]\n",
      "Number of requests within last 10/11/20/22/30/60 minutes grouped by type:\n",
      "                              other:    4    4    8    8   12   26\n",
      " * 58712303d941c6855d4e888c5f0cd22f:   11   12   23   23   35   78\n",
      "Instagram responded with HTTP error \"429 - Too Many Requests\". Please\n",
      "do not run multiple instances of Instaloader in parallel or within\n",
      "short sequence. Also, do not use any Instagram App while Instaloader\n",
      "is running.\n",
      "The request will be retried in 7 seconds, at 17:24.\n",
      "JSON Query to graphql/query: 429 Too Many Requests [retrying; skip with ^C]\n",
      "Number of requests within last 10/11/20/22/30/60 minutes grouped by type:\n",
      "                              other:    4    4    8    8   12   26\n",
      " * 58712303d941c6855d4e888c5f0cd22f:   12   12   24   24   36   79\n",
      "Instagram responded with HTTP error \"429 - Too Many Requests\". Please\n",
      "do not run multiple instances of Instaloader in parallel or within\n",
      "short sequence. Also, do not use any Instagram App while Instaloader\n",
      "is running.\n",
      "The request will be retried in 535 seconds, at 17:33.\n"
     ]
    },
    {
     "name": "stdout",
     "output_type": "stream",
     "text": [
      "doing rehtse1112 who is following 382 accounts\n",
      "Private:False Posts:1892 Ratio:1.7\n",
      "finished js follower 903/13404\n"
     ]
    },
    {
     "name": "stderr",
     "output_type": "stream",
     "text": [
      "JSON Query to graphql/query: 429 Too Many Requests [retrying; skip with ^C]\n",
      "Number of requests within last 10/11/20/22/30/60 minutes grouped by type:\n",
      "                              other:    3    4    5    8    9   22\n",
      " * 58712303d941c6855d4e888c5f0cd22f:    9   12   14   23   26   65\n",
      "Instagram responded with HTTP error \"429 - Too Many Requests\". Please\n",
      "do not run multiple instances of Instaloader in parallel or within\n",
      "short sequence. Also, do not use any Instagram App while Instaloader\n",
      "is running.\n",
      "The request will be retried in 26 seconds, at 17:34.\n",
      "JSON Query to graphql/query: 429 Too Many Requests [retrying; skip with ^C]\n",
      "Number of requests within last 10/11/20/22/30/60 minutes grouped by type:\n",
      "                              other:    2    4    5    7    9   22\n",
      " * 58712303d941c6855d4e888c5f0cd22f:    6   12   15   22   27   66\n",
      "Instagram responded with HTTP error \"429 - Too Many Requests\". Please\n",
      "do not run multiple instances of Instaloader in parallel or within\n",
      "short sequence. Also, do not use any Instagram App while Instaloader\n",
      "is running.\n",
      "The request will be retried in 27 seconds, at 17:34.\n"
     ]
    },
    {
     "name": "stdout",
     "output_type": "stream",
     "text": [
      "doing elsietanghl who is following 246 accounts\n",
      "Private:True Posts:10 Ratio:1.5\n",
      "finished js follower 904/13404\n"
     ]
    },
    {
     "name": "stderr",
     "output_type": "stream",
     "text": [
      "JSON Query to graphql/query: 429 Too Many Requests [retrying; skip with ^C]\n",
      "Number of requests within last 10/11/20/22/30/60 minutes grouped by type:\n",
      "                              other:    2    4    6    7   10   23\n",
      " * 58712303d941c6855d4e888c5f0cd22f:    5   12   17   22   29   68\n",
      "Instagram responded with HTTP error \"429 - Too Many Requests\". Please\n",
      "do not run multiple instances of Instaloader in parallel or within\n",
      "short sequence. Also, do not use any Instagram App while Instaloader\n",
      "is running.\n",
      "The request will be retried in 6 seconds, at 17:35.\n",
      "JSON Query to graphql/query: 429 Too Many Requests [retrying; skip with ^C]\n",
      "Number of requests within last 10/11/20/22/30/60 minutes grouped by type:\n",
      "                              other:    2    4    6    7   10   23\n",
      " * 58712303d941c6855d4e888c5f0cd22f:    6   11   18   22   30   69\n",
      "Instagram responded with HTTP error \"429 - Too Many Requests\". Please\n",
      "do not run multiple instances of Instaloader in parallel or within\n",
      "short sequence. Also, do not use any Instagram App while Instaloader\n",
      "is running.\n",
      "The request will be retried in 8 seconds, at 17:35.\n"
     ]
    },
    {
     "name": "stdout",
     "output_type": "stream",
     "text": [
      "doing veryeng who is following 1871 accounts\n",
      "Private:True Posts:4104 Ratio:0.6\n",
      "finished js follower 905/13404\n"
     ]
    },
    {
     "name": "stderr",
     "output_type": "stream",
     "text": [
      "JSON Query to graphql/query: 429 Too Many Requests [retrying; skip with ^C]\n",
      "Number of requests within last 10/11/20/22/30/60 minutes grouped by type:\n",
      "                              other:    3    4    7    8   11   24\n",
      " * 58712303d941c6855d4e888c5f0cd22f:    8   12   20   23   32   71\n",
      "Instagram responded with HTTP error \"429 - Too Many Requests\". Please\n",
      "do not run multiple instances of Instaloader in parallel or within\n",
      "short sequence. Also, do not use any Instagram App while Instaloader\n",
      "is running.\n",
      "The request will be retried in 11 seconds, at 17:35.\n",
      "JSON Query to graphql/query: 429 Too Many Requests [retrying; skip with ^C]\n",
      "Number of requests within last 10/11/20/22/30/60 minutes grouped by type:\n",
      "                              other:    3    4    7    8   11   24\n",
      " * 58712303d941c6855d4e888c5f0cd22f:    9   12   21   24   33   72\n",
      "Instagram responded with HTTP error \"429 - Too Many Requests\". Please\n",
      "do not run multiple instances of Instaloader in parallel or within\n",
      "short sequence. Also, do not use any Instagram App while Instaloader\n",
      "is running.\n",
      "The request will be retried in 15 seconds, at 17:35.\n"
     ]
    },
    {
     "name": "stdout",
     "output_type": "stream",
     "text": [
      "doing melissajaneferosha who is following 1994 accounts\n",
      "Private:False Posts:3210 Ratio:0.1\n",
      "finished js follower 906/13404\n"
     ]
    },
    {
     "name": "stderr",
     "output_type": "stream",
     "text": [
      "JSON Query to graphql/query: 429 Too Many Requests [retrying; skip with ^C]\n",
      "Number of requests within last 10/11/20/22/30/60 minutes grouped by type:\n",
      "                              other:    4    4    8    8   12   25\n",
      " * 58712303d941c6855d4e888c5f0cd22f:   11   12   23   23   35   74\n",
      "Instagram responded with HTTP error \"429 - Too Many Requests\". Please\n",
      "do not run multiple instances of Instaloader in parallel or within\n",
      "short sequence. Also, do not use any Instagram App while Instaloader\n",
      "is running.\n",
      "The request will be retried in 6 seconds, at 17:36.\n",
      "JSON Query to graphql/query: 429 Too Many Requests [retrying; skip with ^C]\n",
      "Number of requests within last 10/11/20/22/30/60 minutes grouped by type:\n",
      "                              other:    4    4    8    8   12   25\n",
      " * 58712303d941c6855d4e888c5f0cd22f:   12   12   24   24   36   75\n",
      "Instagram responded with HTTP error \"429 - Too Many Requests\". Please\n",
      "do not run multiple instances of Instaloader in parallel or within\n",
      "short sequence. Also, do not use any Instagram App while Instaloader\n",
      "is running.\n",
      "The request will be retried in 532 seconds, at 17:44.\n"
     ]
    },
    {
     "name": "stdout",
     "output_type": "stream",
     "text": [
      "doing winnie.ow who is following 1089 accounts\n",
      "Private:True Posts:1038 Ratio:2.8\n",
      "finished js follower 907/13404\n"
     ]
    },
    {
     "name": "stderr",
     "output_type": "stream",
     "text": [
      "JSON Query to graphql/query: 429 Too Many Requests [retrying; skip with ^C]\n",
      "Number of requests within last 10/11/20/22/30/60 minutes grouped by type:\n",
      "                              other:    3    4    5    8    9   21\n",
      " * 58712303d941c6855d4e888c5f0cd22f:    9   12   14   24   26   62\n",
      "Instagram responded with HTTP error \"429 - Too Many Requests\". Please\n",
      "do not run multiple instances of Instaloader in parallel or within\n",
      "short sequence. Also, do not use any Instagram App while Instaloader\n",
      "is running.\n",
      "The request will be retried in 27 seconds, at 17:45.\n",
      "JSON Query to graphql/query: 429 Too Many Requests [retrying; skip with ^C]\n",
      "Number of requests within last 10/11/20/22/30/60 minutes grouped by type:\n",
      "                              other:    2    4    5    8    9   21\n",
      " * 58712303d941c6855d4e888c5f0cd22f:    7   12   15   24   27   63\n",
      "Instagram responded with HTTP error \"429 - Too Many Requests\". Please\n",
      "do not run multiple instances of Instaloader in parallel or within\n",
      "short sequence. Also, do not use any Instagram App while Instaloader\n",
      "is running.\n",
      "The request will be retried in 31 seconds, at 17:46.\n"
     ]
    },
    {
     "name": "stdout",
     "output_type": "stream",
     "text": [
      "doing boenchia who is following 1289 accounts\n",
      "Private:False Posts:186 Ratio:4.4\n",
      "finished js follower 908/13404\n"
     ]
    },
    {
     "name": "stderr",
     "output_type": "stream",
     "text": [
      "JSON Query to graphql/query: 429 Too Many Requests [retrying; skip with ^C]\n",
      "Number of requests within last 10/11/20/22/30/60 minutes grouped by type:\n",
      "                              other:    2    4    6    7   10   22\n",
      " * 58712303d941c6855d4e888c5f0cd22f:    5   11   17   21   29   65\n",
      "Instagram responded with HTTP error \"429 - Too Many Requests\". Please\n",
      "do not run multiple instances of Instaloader in parallel or within\n",
      "short sequence. Also, do not use any Instagram App while Instaloader\n",
      "is running.\n",
      "The request will be retried in 13 seconds, at 17:46.\n",
      "JSON Query to graphql/query: 429 Too Many Requests [retrying; skip with ^C]\n",
      "Number of requests within last 10/11/20/22/30/60 minutes grouped by type:\n",
      "                              other:    2    3    6    7   10   22\n",
      " * 58712303d941c6855d4e888c5f0cd22f:    6   10   18   22   30   66\n",
      "Instagram responded with HTTP error \"429 - Too Many Requests\". Please\n",
      "do not run multiple instances of Instaloader in parallel or within\n",
      "short sequence. Also, do not use any Instagram App while Instaloader\n",
      "is running.\n",
      "The request will be retried in 16 seconds, at 17:46.\n"
     ]
    },
    {
     "name": "stdout",
     "output_type": "stream",
     "text": [
      "doing jjin9junn who is following 1211 accounts\n",
      "Private:False Posts:1232 Ratio:3.6\n",
      "finished js follower 909/13404\n"
     ]
    },
    {
     "name": "stderr",
     "output_type": "stream",
     "text": [
      "JSON Query to graphql/query: 429 Too Many Requests [retrying; skip with ^C]\n",
      "Number of requests within last 10/11/20/22/30/60 minutes grouped by type:\n",
      "                              other:    3    3    7    7   11   23\n",
      " * 58712303d941c6855d4e888c5f0cd22f:    8   10   20   21   32   68\n",
      "Instagram responded with HTTP error \"429 - Too Many Requests\". Please\n",
      "do not run multiple instances of Instaloader in parallel or within\n",
      "short sequence. Also, do not use any Instagram App while Instaloader\n",
      "is running.\n",
      "The request will be retried in 11 seconds, at 17:47.\n",
      "JSON Query to graphql/query: 429 Too Many Requests [retrying; skip with ^C]\n",
      "Number of requests within last 10/11/20/22/30/60 minutes grouped by type:\n",
      "                              other:    3    3    7    7   11   23\n",
      " * 58712303d941c6855d4e888c5f0cd22f:    9   10   21   21   33   69\n",
      "Instagram responded with HTTP error \"429 - Too Many Requests\". Please\n",
      "do not run multiple instances of Instaloader in parallel or within\n",
      "short sequence. Also, do not use any Instagram App while Instaloader\n",
      "is running.\n",
      "The request will be retried in 9 seconds, at 17:47.\n"
     ]
    },
    {
     "name": "stdout",
     "output_type": "stream",
     "text": [
      "doing ahyen1219 who is following 431 accounts\n",
      "Private:True Posts:680 Ratio:1.2\n",
      "finished js follower 910/13404\n"
     ]
    },
    {
     "name": "stderr",
     "output_type": "stream",
     "text": [
      "JSON Query to graphql/query: 429 Too Many Requests [retrying; skip with ^C]\n",
      "Number of requests within last 10/11/20/22/30/60 minutes grouped by type:\n",
      "                              other:    4    4    8    8   12   24\n",
      " * 58712303d941c6855d4e888c5f0cd22f:   11   11   23   23   35   71\n",
      "Instagram responded with HTTP error \"429 - Too Many Requests\". Please\n",
      "do not run multiple instances of Instaloader in parallel or within\n",
      "short sequence. Also, do not use any Instagram App while Instaloader\n",
      "is running.\n",
      "The request will be retried in 523 seconds, at 17:56.\n",
      "JSON Query to graphql/query: 429 Too Many Requests [retrying; skip with ^C]\n",
      "Number of requests within last 10/11/20/22/30/60 minutes grouped by type:\n",
      "                              other:    2    3    4    7    8   20\n",
      " * 58712303d941c6855d4e888c5f0cd22f:    8   10   12   22   24   60\n",
      "Instagram responded with HTTP error \"429 - Too Many Requests\". Please\n",
      "do not run multiple instances of Instaloader in parallel or within\n",
      "short sequence. Also, do not use any Instagram App while Instaloader\n",
      "is running.\n",
      "The request will be retried in 31 seconds, at 17:56.\n"
     ]
    },
    {
     "name": "stdout",
     "output_type": "stream",
     "text": [
      "doing crystal_wholesale_wei who is following 4504 accounts\n",
      "Private:False Posts:374 Ratio:2.7\n",
      "finished js follower 911/13404\n"
     ]
    },
    {
     "name": "stderr",
     "output_type": "stream",
     "text": [
      "JSON Query to graphql/query: 429 Too Many Requests [retrying; skip with ^C]\n",
      "Number of requests within last 10/11/20/22/30/60 minutes grouped by type:\n",
      "                              other:    3    4    5    8    9   21\n",
      " * 58712303d941c6855d4e888c5f0cd22f:    8   11   14   23   26   62\n",
      "Instagram responded with HTTP error \"429 - Too Many Requests\". Please\n",
      "do not run multiple instances of Instaloader in parallel or within\n",
      "short sequence. Also, do not use any Instagram App while Instaloader\n",
      "is running.\n",
      "The request will be retried in 27 seconds, at 17:57.\n",
      "JSON Query to graphql/query: 429 Too Many Requests [retrying; skip with ^C]\n",
      "Number of requests within last 10/11/20/22/30/60 minutes grouped by type:\n",
      "                              other:    2    3    5    7    9   21\n",
      " * 58712303d941c6855d4e888c5f0cd22f:    6   10   15   21   27   63\n",
      "Instagram responded with HTTP error \"429 - Too Many Requests\". Please\n",
      "do not run multiple instances of Instaloader in parallel or within\n",
      "short sequence. Also, do not use any Instagram App while Instaloader\n",
      "is running.\n",
      "The request will be retried in 17 seconds, at 17:57.\n"
     ]
    },
    {
     "name": "stdout",
     "output_type": "stream",
     "text": [
      "doing tshehui who is following 537 accounts\n",
      "Private:True Posts:2453 Ratio:7.8\n",
      "finished js follower 912/13404\n"
     ]
    },
    {
     "name": "stderr",
     "output_type": "stream",
     "text": [
      "JSON Query to graphql/query: 429 Too Many Requests [retrying; skip with ^C]\n",
      "Number of requests within last 10/11/20/22/30/60 minutes grouped by type:\n",
      "                              other:    2    4    6    7   10   22\n",
      " * 58712303d941c6855d4e888c5f0cd22f:    6   11   17   20   29   65\n",
      "Instagram responded with HTTP error \"429 - Too Many Requests\". Please\n",
      "do not run multiple instances of Instaloader in parallel or within\n",
      "short sequence. Also, do not use any Instagram App while Instaloader\n",
      "is running.\n",
      "The request will be retried in 19 seconds, at 17:57.\n",
      "JSON Query to graphql/query: 429 Too Many Requests [retrying; skip with ^C]\n",
      "Number of requests within last 10/11/20/22/30/60 minutes grouped by type:\n",
      "                              other:    2    3    6    6   10   22\n",
      " * 58712303d941c6855d4e888c5f0cd22f:    7   10   18   20   30   66\n",
      "Instagram responded with HTTP error \"429 - Too Many Requests\". Please\n",
      "do not run multiple instances of Instaloader in parallel or within\n",
      "short sequence. Also, do not use any Instagram App while Instaloader\n",
      "is running.\n",
      "The request will be retried in 14 seconds, at 17:58.\n"
     ]
    },
    {
     "name": "stdout",
     "output_type": "stream",
     "text": [
      "doing ganweiling who is following 617 accounts\n",
      "Private:True Posts:91 Ratio:2.5\n",
      "finished js follower 913/13404\n"
     ]
    },
    {
     "name": "stderr",
     "output_type": "stream",
     "text": [
      "JSON Query to graphql/query: 429 Too Many Requests [retrying; skip with ^C]\n",
      "Number of requests within last 10/11/20/22/30/60 minutes grouped by type:\n",
      "                              other:    3    3    7    7   11   23\n",
      " * 58712303d941c6855d4e888c5f0cd22f:    9   10   20   20   32   68\n",
      "Instagram responded with HTTP error \"429 - Too Many Requests\". Please\n",
      "do not run multiple instances of Instaloader in parallel or within\n",
      "short sequence. Also, do not use any Instagram App while Instaloader\n",
      "is running.\n",
      "The request will be retried in 10 seconds, at 17:58.\n",
      "JSON Query to graphql/query: 429 Too Many Requests [retrying; skip with ^C]\n",
      "Number of requests within last 10/11/20/22/30/60 minutes grouped by type:\n",
      "                              other:    3    3    7    7   11   23\n",
      " * 58712303d941c6855d4e888c5f0cd22f:   10   10   21   21   33   69\n",
      "Instagram responded with HTTP error \"429 - Too Many Requests\". Please\n",
      "do not run multiple instances of Instaloader in parallel or within\n",
      "short sequence. Also, do not use any Instagram App while Instaloader\n",
      "is running.\n",
      "The request will be retried in 524 seconds, at 18:07.\n"
     ]
    },
    {
     "name": "stdout",
     "output_type": "stream",
     "text": [
      "doing joellechanlow who is following 122 accounts\n",
      "Private:True Posts:118 Ratio:2.4\n",
      "finished js follower 914/13404\n"
     ]
    },
    {
     "name": "stderr",
     "output_type": "stream",
     "text": [
      "JSON Query to graphql/query: 429 Too Many Requests [retrying; skip with ^C]\n",
      "Number of requests within last 10/11/20/22/30/60 minutes grouped by type:\n",
      "                              other:    3    4    4    7    8   20\n",
      " * 58712303d941c6855d4e888c5f0cd22f:    8   11   12   21   23   59\n",
      "Instagram responded with HTTP error \"429 - Too Many Requests\". Please\n",
      "do not run multiple instances of Instaloader in parallel or within\n",
      "short sequence. Also, do not use any Instagram App while Instaloader\n",
      "is running.\n",
      "The request will be retried in 21 seconds, at 18:07.\n",
      "JSON Query to graphql/query: 429 Too Many Requests [retrying; skip with ^C]\n",
      "Number of requests within last 10/11/20/22/30/60 minutes grouped by type:\n",
      "                              other:    2    3    4    7    8   20\n",
      " * 58712303d941c6855d4e888c5f0cd22f:    7   10   13   21   24   60\n",
      "Instagram responded with HTTP error \"429 - Too Many Requests\". Please\n",
      "do not run multiple instances of Instaloader in parallel or within\n",
      "short sequence. Also, do not use any Instagram App while Instaloader\n",
      "is running.\n",
      "The request will be retried in 32 seconds, at 18:08.\n"
     ]
    },
    {
     "name": "stdout",
     "output_type": "stream",
     "text": [
      "doing joyce.kuek who is following 18 accounts\n",
      "Private:False Posts:1 Ratio:0.7\n",
      "finished js follower 915/13404\n"
     ]
    },
    {
     "name": "stderr",
     "output_type": "stream",
     "text": [
      "JSON Query to graphql/query: 429 Too Many Requests [retrying; skip with ^C]\n",
      "Number of requests within last 10/11/20/22/30/60 minutes grouped by type:\n",
      "                              other:    2    4    5    7    9   21\n",
      " * 58712303d941c6855d4e888c5f0cd22f:    6   11   15   20   26   62\n",
      "Instagram responded with HTTP error \"429 - Too Many Requests\". Please\n",
      "do not run multiple instances of Instaloader in parallel or within\n",
      "short sequence. Also, do not use any Instagram App while Instaloader\n",
      "is running.\n",
      "The request will be retried in 8 seconds, at 18:08.\n",
      "JSON Query to graphql/query: 429 Too Many Requests [retrying; skip with ^C]\n",
      "Number of requests within last 10/11/20/22/30/60 minutes grouped by type:\n",
      "                              other:    2    3    5    7    9   21\n",
      " * 58712303d941c6855d4e888c5f0cd22f:    6   10   16   21   27   63\n",
      "Instagram responded with HTTP error \"429 - Too Many Requests\". Please\n",
      "do not run multiple instances of Instaloader in parallel or within\n",
      "short sequence. Also, do not use any Instagram App while Instaloader\n",
      "is running.\n",
      "The request will be retried in 24 seconds, at 18:09.\n"
     ]
    },
    {
     "name": "stdout",
     "output_type": "stream",
     "text": [
      "doing missyeow who is following 663 accounts\n",
      "Private:False Posts:1191 Ratio:2.1\n",
      "finished js follower 916/13404\n"
     ]
    },
    {
     "name": "stderr",
     "output_type": "stream",
     "text": [
      "JSON Query to graphql/query: 429 Too Many Requests [retrying; skip with ^C]\n",
      "Number of requests within last 10/11/20/22/30/60 minutes grouped by type:\n",
      "                              other:    3    4    6    7   10   22\n",
      " * 58712303d941c6855d4e888c5f0cd22f:    8   11   18   20   29   65\n",
      "Instagram responded with HTTP error \"429 - Too Many Requests\". Please\n",
      "do not run multiple instances of Instaloader in parallel or within\n",
      "short sequence. Also, do not use any Instagram App while Instaloader\n",
      "is running.\n",
      "The request will be retried in 11 seconds, at 18:09.\n",
      "JSON Query to graphql/query: 429 Too Many Requests [retrying; skip with ^C]\n",
      "Number of requests within last 10/11/20/22/30/60 minutes grouped by type:\n",
      "                              other:    3    3    6    6   10   22\n",
      " * 58712303d941c6855d4e888c5f0cd22f:    9   10   19   20   30   66\n",
      "Instagram responded with HTTP error \"429 - Too Many Requests\". Please\n",
      "do not run multiple instances of Instaloader in parallel or within\n",
      "short sequence. Also, do not use any Instagram App while Instaloader\n",
      "is running.\n",
      "The request will be retried in 14 seconds, at 18:09.\n"
     ]
    },
    {
     "name": "stdout",
     "output_type": "stream",
     "text": [
      "doing leekaren138 who is following 33 accounts\n",
      "Private:True Posts:0 Ratio:0.7\n",
      "finished js follower 917/13404\n"
     ]
    },
    {
     "name": "stderr",
     "output_type": "stream",
     "text": [
      "JSON Query to graphql/query: 429 Too Many Requests [retrying; skip with ^C]\n",
      "Number of requests within last 10/11/20/22/30/60 minutes grouped by type:\n",
      "                              other:    4    4    7    7   11   23\n",
      " * 58712303d941c6855d4e888c5f0cd22f:   11   11   21   21   32   68\n",
      "Instagram responded with HTTP error \"429 - Too Many Requests\". Please\n",
      "do not run multiple instances of Instaloader in parallel or within\n",
      "short sequence. Also, do not use any Instagram App while Instaloader\n",
      "is running.\n",
      "The request will be retried in 519 seconds, at 18:18.\n",
      "JSON Query to graphql/query: 429 Too Many Requests [retrying; skip with ^C]\n",
      "Number of requests within last 10/11/20/22/30/60 minutes grouped by type:\n",
      "                              other:    2    3    4    7    7   19\n",
      " * 58712303d941c6855d4e888c5f0cd22f:    7   10   13   21   22   57\n",
      "Instagram responded with HTTP error \"429 - Too Many Requests\". Please\n",
      "do not run multiple instances of Instaloader in parallel or within\n",
      "short sequence. Also, do not use any Instagram App while Instaloader\n",
      "is running.\n",
      "The request will be retried in 24 seconds, at 18:18.\n"
     ]
    },
    {
     "name": "stdout",
     "output_type": "stream",
     "text": [
      "doing panida3207 who is following 109 accounts\n",
      "Private:True Posts:6 Ratio:2.2\n",
      "finished js follower 918/13404\n"
     ]
    },
    {
     "name": "stderr",
     "output_type": "stream",
     "text": [
      "JSON Query to graphql/query: 429 Too Many Requests [retrying; skip with ^C]\n",
      "Number of requests within last 10/11/20/22/30/60 minutes grouped by type:\n",
      "                              other:    3    4    5    7    8   20\n",
      " * 58712303d941c6855d4e888c5f0cd22f:    8   11   14   21   24   59\n",
      "Instagram responded with HTTP error \"429 - Too Many Requests\". Please\n",
      "do not run multiple instances of Instaloader in parallel or within\n",
      "short sequence. Also, do not use any Instagram App while Instaloader\n",
      "is running.\n",
      "The request will be retried in 31 seconds, at 18:19.\n",
      "JSON Query to graphql/query: 429 Too Many Requests [retrying; skip with ^C]\n",
      "Number of requests within last 10/11/20/22/30/60 minutes grouped by type:\n",
      "                              other:    2    3    5    7    8   20\n",
      " * 58712303d941c6855d4e888c5f0cd22f:    6   10   15   20   25   60\n",
      "Instagram responded with HTTP error \"429 - Too Many Requests\". Please\n",
      "do not run multiple instances of Instaloader in parallel or within\n",
      "short sequence. Also, do not use any Instagram App while Instaloader\n",
      "is running.\n",
      "The request will be retried in 13 seconds, at 18:19.\n"
     ]
    },
    {
     "name": "stdout",
     "output_type": "stream",
     "text": [
      "doing chen_meifang306 who is following 304 accounts\n",
      "Private:True Posts:125 Ratio:1.9\n",
      "finished js follower 919/13404\n"
     ]
    },
    {
     "name": "stderr",
     "output_type": "stream",
     "text": [
      "JSON Query to graphql/query: 429 Too Many Requests [retrying; skip with ^C]\n",
      "Number of requests within last 10/11/20/22/30/60 minutes grouped by type:\n",
      "                              other:    2    4    6    7    9   21\n",
      " * 58712303d941c6855d4e888c5f0cd22f:    6   11   17   21   27   62\n",
      "Instagram responded with HTTP error \"429 - Too Many Requests\". Please\n",
      "do not run multiple instances of Instaloader in parallel or within\n",
      "short sequence. Also, do not use any Instagram App while Instaloader\n",
      "is running.\n",
      "The request will be retried in 21 seconds, at 18:20.\n",
      "JSON Query to graphql/query: 429 Too Many Requests [retrying; skip with ^C]\n",
      "Number of requests within last 10/11/20/22/30/60 minutes grouped by type:\n",
      "                              other:    2    3    6    7    9   21\n",
      " * 58712303d941c6855d4e888c5f0cd22f:    7   10   18   21   28   63\n",
      "Instagram responded with HTTP error \"429 - Too Many Requests\". Please\n",
      "do not run multiple instances of Instaloader in parallel or within\n",
      "short sequence. Also, do not use any Instagram App while Instaloader\n",
      "is running.\n",
      "The request will be retried in 17 seconds, at 18:20.\n"
     ]
    },
    {
     "name": "stdout",
     "output_type": "stream",
     "text": [
      "doing midnitekitty who is following 469 accounts\n",
      "Private:True Posts:758 Ratio:2.1\n",
      "finished js follower 920/13404\n"
     ]
    },
    {
     "name": "stderr",
     "output_type": "stream",
     "text": [
      "JSON Query to graphql/query: 429 Too Many Requests [retrying; skip with ^C]\n",
      "Number of requests within last 10/11/20/22/30/60 minutes grouped by type:\n",
      "                              other:    3    4    7    7   10   22\n",
      " * 58712303d941c6855d4e888c5f0cd22f:    9   11   20   20   30   65\n",
      "Instagram responded with HTTP error \"429 - Too Many Requests\". Please\n",
      "do not run multiple instances of Instaloader in parallel or within\n",
      "short sequence. Also, do not use any Instagram App while Instaloader\n",
      "is running.\n",
      "The request will be retried in 12 seconds, at 18:20.\n",
      "JSON Query to graphql/query: 429 Too Many Requests [retrying; skip with ^C]\n",
      "Number of requests within last 10/11/20/22/30/60 minutes grouped by type:\n",
      "                              other:    3    3    7    7   10   22\n",
      " * 58712303d941c6855d4e888c5f0cd22f:   10   10   21   21   31   66\n",
      "Instagram responded with HTTP error \"429 - Too Many Requests\". Please\n",
      "do not run multiple instances of Instaloader in parallel or within\n",
      "short sequence. Also, do not use any Instagram App while Instaloader\n",
      "is running.\n",
      "The request will be retried in 531 seconds, at 18:29.\n"
     ]
    },
    {
     "name": "stdout",
     "output_type": "stream",
     "text": [
      "doing chengchong64 who is following 902 accounts\n",
      "Private:True Posts:13 Ratio:22.0\n"
     ]
    },
    {
     "name": "stderr",
     "output_type": "stream",
     "text": [
      "JSON Query to graphql/query: 429 Too Many Requests [retrying; skip with ^C]\n",
      "Number of requests within last 10/11/20/22/30/60 minutes grouped by type:\n",
      "                              other:    3    4    4    7    8   19\n",
      " * 58712303d941c6855d4e888c5f0cd22f:    8   11   13   21   23   56\n",
      "Instagram responded with HTTP error \"429 - Too Many Requests\". Please\n",
      "do not run multiple instances of Instaloader in parallel or within\n",
      "short sequence. Also, do not use any Instagram App while Instaloader\n",
      "is running.\n",
      "The request will be retried in 18 seconds, at 18:29.\n",
      "JSON Query to graphql/query: 429 Too Many Requests [retrying; skip with ^C]\n",
      "Number of requests within last 10/11/20/22/30/60 minutes grouped by type:\n",
      "                              other:    2    3    4    7    8   19\n",
      " * 58712303d941c6855d4e888c5f0cd22f:    7   10   13   21   24   57\n",
      "Instagram responded with HTTP error \"429 - Too Many Requests\". Please\n",
      "do not run multiple instances of Instaloader in parallel or within\n",
      "short sequence. Also, do not use any Instagram App while Instaloader\n",
      "is running.\n",
      "The request will be retried in 37 seconds, at 18:30.\n"
     ]
    },
    {
     "name": "stdout",
     "output_type": "stream",
     "text": [
      "doing anjoy26 who is following 237 accounts\n",
      "Private:True Posts:191 Ratio:0.9\n",
      "finished js follower 922/13404\n"
     ]
    },
    {
     "name": "stderr",
     "output_type": "stream",
     "text": [
      "JSON Query to graphql/query: 429 Too Many Requests [retrying; skip with ^C]\n",
      "Number of requests within last 10/11/20/22/30/60 minutes grouped by type:\n",
      "                              other:    2    4    5    7    9   20\n",
      " * 58712303d941c6855d4e888c5f0cd22f:    6   11   15   20   26   59\n",
      "Instagram responded with HTTP error \"429 - Too Many Requests\". Please\n",
      "do not run multiple instances of Instaloader in parallel or within\n",
      "short sequence. Also, do not use any Instagram App while Instaloader\n",
      "is running.\n",
      "The request will be retried in 7 seconds, at 18:30.\n",
      "JSON Query to graphql/query: 429 Too Many Requests [retrying; skip with ^C]\n",
      "Number of requests within last 10/11/20/22/30/60 minutes grouped by type:\n",
      "                              other:    2    3    5    7    9   20\n",
      " * 58712303d941c6855d4e888c5f0cd22f:    6   10   16   21   27   60\n",
      "Instagram responded with HTTP error \"429 - Too Many Requests\". Please\n",
      "do not run multiple instances of Instaloader in parallel or within\n",
      "short sequence. Also, do not use any Instagram App while Instaloader\n",
      "is running.\n",
      "The request will be retried in 26 seconds, at 18:31.\n"
     ]
    },
    {
     "name": "stdout",
     "output_type": "stream",
     "text": [
      "doing ong.bs who is following 1447 accounts\n",
      "Private:True Posts:217 Ratio:7.5\n",
      "finished js follower 923/13404\n"
     ]
    },
    {
     "name": "stderr",
     "output_type": "stream",
     "text": [
      "JSON Query to graphql/query: 429 Too Many Requests [retrying; skip with ^C]\n",
      "Number of requests within last 10/11/20/22/30/60 minutes grouped by type:\n",
      "                              other:    3    4    6    7   10   21\n",
      " * 58712303d941c6855d4e888c5f0cd22f:    8   11   18   20   29   62\n",
      "Instagram responded with HTTP error \"429 - Too Many Requests\". Please\n",
      "do not run multiple instances of Instaloader in parallel or within\n",
      "short sequence. Also, do not use any Instagram App while Instaloader\n",
      "is running.\n",
      "The request will be retried in 11 seconds, at 18:31.\n",
      "JSON Query to graphql/query: 429 Too Many Requests [retrying; skip with ^C]\n",
      "Number of requests within last 10/11/20/22/30/60 minutes grouped by type:\n",
      "                              other:    3    3    6    7   10   21\n",
      " * 58712303d941c6855d4e888c5f0cd22f:    9   10   19   21   30   63\n",
      "Instagram responded with HTTP error \"429 - Too Many Requests\". Please\n",
      "do not run multiple instances of Instaloader in parallel or within\n",
      "short sequence. Also, do not use any Instagram App while Instaloader\n",
      "is running.\n",
      "The request will be retried in 13 seconds, at 18:31.\n"
     ]
    },
    {
     "name": "stdout",
     "output_type": "stream",
     "text": [
      "doing snowytigertaste who is following 1565 accounts\n",
      "Private:False Posts:71 Ratio:8.0\n",
      "finished js follower 924/13404\n"
     ]
    },
    {
     "name": "stderr",
     "output_type": "stream",
     "text": [
      "JSON Query to graphql/query: 429 Too Many Requests [retrying; skip with ^C]\n",
      "Number of requests within last 10/11/20/22/30/60 minutes grouped by type:\n",
      "                              other:    4    4    7    7   11   22\n",
      " * 58712303d941c6855d4e888c5f0cd22f:   11   11   21   21   32   65\n",
      "Instagram responded with HTTP error \"429 - Too Many Requests\". Please\n",
      "do not run multiple instances of Instaloader in parallel or within\n",
      "short sequence. Also, do not use any Instagram App while Instaloader\n",
      "is running.\n",
      "The request will be retried in 524 seconds, at 18:40.\n",
      "JSON Query to graphql/query: 429 Too Many Requests [retrying; skip with ^C]\n",
      "Number of requests within last 10/11/20/22/30/60 minutes grouped by type:\n",
      "                              other:    2    3    4    7    7   18\n",
      " * 58712303d941c6855d4e888c5f0cd22f:    7   10   12   21   22   54\n",
      "Instagram responded with HTTP error \"429 - Too Many Requests\". Please\n",
      "do not run multiple instances of Instaloader in parallel or within\n",
      "short sequence. Also, do not use any Instagram App while Instaloader\n",
      "is running.\n",
      "The request will be retried in 19 seconds, at 18:41.\n"
     ]
    },
    {
     "name": "stdout",
     "output_type": "stream",
     "text": [
      "doing wengxuehua82 who is following 3489 accounts\n",
      "Private:True Posts:268 Ratio:5.5\n",
      "finished js follower 925/13404\n"
     ]
    },
    {
     "name": "stderr",
     "output_type": "stream",
     "text": [
      "JSON Query to graphql/query: 429 Too Many Requests [retrying; skip with ^C]\n",
      "Number of requests within last 10/11/20/22/30/60 minutes grouped by type:\n",
      "                              other:    3    4    5    7    8   19\n",
      " * 58712303d941c6855d4e888c5f0cd22f:    8   11   14   21   24   56\n",
      "Instagram responded with HTTP error \"429 - Too Many Requests\". Please\n",
      "do not run multiple instances of Instaloader in parallel or within\n",
      "short sequence. Also, do not use any Instagram App while Instaloader\n",
      "is running.\n",
      "The request will be retried in 34 seconds, at 18:41.\n",
      "JSON Query to graphql/query: 429 Too Many Requests [retrying; skip with ^C]\n",
      "Number of requests within last 10/11/20/22/30/60 minutes grouped by type:\n",
      "                              other:    2    3    5    6    8   19\n",
      " * 58712303d941c6855d4e888c5f0cd22f:    6   10   15   20   25   57\n",
      "Instagram responded with HTTP error \"429 - Too Many Requests\". Please\n",
      "do not run multiple instances of Instaloader in parallel or within\n",
      "short sequence. Also, do not use any Instagram App while Instaloader\n",
      "is running.\n",
      "The request will be retried in 11 seconds, at 18:41.\n"
     ]
    },
    {
     "name": "stdout",
     "output_type": "stream",
     "text": [
      "doing emilohps who is following 96 accounts\n",
      "Private:False Posts:22 Ratio:0.9\n",
      "finished js follower 926/13404\n"
     ]
    },
    {
     "name": "stderr",
     "output_type": "stream",
     "text": [
      "JSON Query to graphql/query: 429 Too Many Requests [retrying; skip with ^C]\n",
      "Number of requests within last 10/11/20/22/30/60 minutes grouped by type:\n",
      "                              other:    2    4    6    7    9   20\n",
      " * 58712303d941c6855d4e888c5f0cd22f:    6   11   17   21   27   59\n",
      "Instagram responded with HTTP error \"429 - Too Many Requests\". Please\n",
      "do not run multiple instances of Instaloader in parallel or within\n",
      "short sequence. Also, do not use any Instagram App while Instaloader\n",
      "is running.\n",
      "The request will be retried in 25 seconds, at 18:42.\n",
      "JSON Query to graphql/query: 429 Too Many Requests [retrying; skip with ^C]\n",
      "Number of requests within last 10/11/20/22/30/60 minutes grouped by type:\n",
      "                              other:    2    3    6    7    9   20\n",
      " * 58712303d941c6855d4e888c5f0cd22f:    7   10   18   21   28   60\n",
      "Instagram responded with HTTP error \"429 - Too Many Requests\". Please\n",
      "do not run multiple instances of Instaloader in parallel or within\n",
      "short sequence. Also, do not use any Instagram App while Instaloader\n",
      "is running.\n",
      "The request will be retried in 15 seconds, at 18:42.\n"
     ]
    },
    {
     "name": "stdout",
     "output_type": "stream",
     "text": [
      "doing khyangela who is following 238 accounts\n",
      "Private:True Posts:9 Ratio:4.0\n",
      "finished js follower 927/13404\n"
     ]
    },
    {
     "name": "stderr",
     "output_type": "stream",
     "text": [
      "JSON Query to graphql/query: 429 Too Many Requests [retrying; skip with ^C]\n",
      "Number of requests within last 10/11/20/22/30/60 minutes grouped by type:\n",
      "                              other:    3    4    7    7   10   21\n",
      " * 58712303d941c6855d4e888c5f0cd22f:    9   11   20   20   30   62\n",
      "Instagram responded with HTTP error \"429 - Too Many Requests\". Please\n",
      "do not run multiple instances of Instaloader in parallel or within\n",
      "short sequence. Also, do not use any Instagram App while Instaloader\n",
      "is running.\n",
      "The request will be retried in 8 seconds, at 18:42.\n",
      "JSON Query to graphql/query: 429 Too Many Requests [retrying; skip with ^C]\n",
      "Number of requests within last 10/11/20/22/30/60 minutes grouped by type:\n",
      "                              other:    3    3    7    7   10   21\n",
      " * 58712303d941c6855d4e888c5f0cd22f:   10   11   21   21   31   63\n",
      "Instagram responded with HTTP error \"429 - Too Many Requests\". Please\n",
      "do not run multiple instances of Instaloader in parallel or within\n",
      "short sequence. Also, do not use any Instagram App while Instaloader\n",
      "is running.\n",
      "The request will be retried in 7 seconds, at 18:43.\n"
     ]
    },
    {
     "name": "stdout",
     "output_type": "stream",
     "text": [
      "doing joanneisme2022 who is following 32 accounts\n",
      "Private:False Posts:9 Ratio:1.6\n",
      "finished js follower 928/13404\n"
     ]
    },
    {
     "name": "stderr",
     "output_type": "stream",
     "text": [
      "JSON Query to graphql/query: 429 Too Many Requests [retrying; skip with ^C]\n",
      "Number of requests within last 10/11/20/22/30/60 minutes grouped by type:\n",
      "                              other:    4    4    8    8   11   22\n",
      " * 58712303d941c6855d4e888c5f0cd22f:   12   12   23   23   33   65\n",
      "Instagram responded with HTTP error \"429 - Too Many Requests\". Please\n",
      "do not run multiple instances of Instaloader in parallel or within\n",
      "short sequence. Also, do not use any Instagram App while Instaloader\n",
      "is running.\n",
      "The request will be retried in 517 seconds, at 18:51.\n"
     ]
    }
   ],
   "source": [
    "# data = {'from':[], 'to':[]}\n",
    "exceptions = {}\n",
    "account_pointer = 0\n",
    "\n",
    "# stats\n",
    "privates = 0\n",
    "no_posts = 0\n",
    "bad_ratio = 0\n",
    "\n",
    "for idx, username in enumerate(js_followers):\n",
    "\n",
    "    if username in data['from']:continue\n",
    "    if idx < 850:continue\n",
    "    if idx == 1000:break\n",
    "\n",
    "    # Loader\n",
    "    try:\n",
    "        profile = instaloader.Profile.from_username(L.context, username)\n",
    "        following = profile.get_followees()\n",
    "    except Exception as e:\n",
    "        if e in exceptions.keys():exceptions[e]+=1\n",
    "        else:exceptions[e]=1\n",
    "\n",
    "    # variables\n",
    "    is_private = profile.is_private\n",
    "    no_posts = profile.mediacount\n",
    "    ratio = profile.followees/(profile.followers or not profile.followers)\n",
    "    print(f'doing {username} who is following {profile.followees} accounts')\n",
    "    print(f\"Private:{is_private} Posts:{no_posts} Ratio:{round(ratio,1)}\")\n",
    "\n",
    "    # checks\n",
    "    if is_private:privates+=1\n",
    "    if no_posts==0:no_posts+=1\n",
    "    if ratio>10:bad_ratio+=1\n",
    "    if no_posts==0 or ratio > 10:\n",
    "        data['from'].append(username)\n",
    "        data['to'].append(\"jam.stones\")\n",
    "        continue\n",
    "\n",
    "    # collect data\n",
    "    for follower in following:\n",
    "        data['from'].append(username)\n",
    "        data['to'].append(follower.username)\n",
    "\n",
    "    # add JS edge\n",
    "    data['from'].append(username)\n",
    "    data['to'].append(\"jam.stones\")\n",
    "\n",
    "    # save file\n",
    "    pd.DataFrame(data).to_csv(\"edges.csv\")\n",
    "\n",
    "    print(f'finished js follower {idx}/{len(js_followers)}')\n",
    "        "
   ]
  },
  {
   "cell_type": "code",
   "execution_count": 41,
   "metadata": {
    "ExecuteTime": {
     "end_time": "2022-03-21T11:12:12.583037Z",
     "start_time": "2022-03-21T11:12:12.579045Z"
    },
    "collapsed": true,
    "hidden": true
   },
   "outputs": [
    {
     "name": "stdout",
     "output_type": "stream",
     "text": [
      "5 0 4\n",
      "{'from': ['agnestankimpheng', 'agnestankimpheng', 'agnestankimpheng', 'agnestankimpheng', 'agnestankimpheng', 'agnestankimpheng', 'agnestankimpheng', 'agnestankimpheng', 'agnestankimpheng', 'agnestankimpheng', 'agnestankimpheng', 'agnestankimpheng', 'agnestankimpheng', 'agnestankimpheng', 'agnestankimpheng', 'agnestankimpheng', 'agnestankimpheng', 'agnestankimpheng', 'agnestankimpheng', 'agnestankimpheng', 'agnestankimpheng', 'agnestankimpheng', 'agnestankimpheng', 'agnestankimpheng', 'agnestankimpheng', 'agnestankimpheng', 'agnestankimpheng', 'agnestankimpheng', 'agnestankimpheng', 'agnestankimpheng', 'agnestankimpheng', 'agnestankimpheng', 'agnestankimpheng', 'agnestankimpheng', 'agnestankimpheng', 'agnestankimpheng', 'agnestankimpheng', 'agnestankimpheng', 'agnestankimpheng', 'agnestankimpheng', 'agnestankimpheng', 'agnestankimpheng', 'agnestankimpheng', 'agnestankimpheng', 'agnestankimpheng', 'agnestankimpheng', 'agnestankimpheng', 'agnestankimpheng', 'agnestankimpheng', 'agnestankimpheng', 'agnestankimpheng', 'agnestankimpheng', 'agnestankimpheng', 'agnestankimpheng', 'agnestankimpheng', 'agnestankimpheng', 'agnestankimpheng', 'agnestankimpheng', 'agnestankimpheng', 'agnestankimpheng', 'agnestankimpheng', 'agnestankimpheng', 'agnestankimpheng', 'agnestankimpheng', 'agnestankimpheng', 'agnestankimpheng', 'agnestankimpheng', 'agnestankimpheng', 'agnestankimpheng', 'agnestankimpheng', 'agnestankimpheng', 'agnestankimpheng', 'agnestankimpheng', 'agnestankimpheng', 'agnestankimpheng', 'agnestankimpheng', 'agnestankimpheng', 'agnestankimpheng', 'agnestankimpheng', 'agnestankimpheng', 'agnestankimpheng', 'agnestankimpheng', 'agnestankimpheng', 'agnestankimpheng', 'agnestankimpheng', 'agnestankimpheng', 'agnestankimpheng', 'agnestankimpheng', 'agnestankimpheng', 'agnestankimpheng', 'agnestankimpheng', 'agnestankimpheng', 'agnestankimpheng', 'agnestankimpheng', 'agnestankimpheng', 'agnestankimpheng', 'agnestankimpheng', 'agnestankimpheng', 'agnestankimpheng', 'agnestankimpheng', 'agnestankimpheng', 'agnestankimpheng', 'agnestankimpheng', 'agnestankimpheng', 'agnestankimpheng', 'agnestankimpheng', 'agnestankimpheng', 'agnestankimpheng', 'agnestankimpheng', 'agnestankimpheng', 'agnestankimpheng', 'agnestankimpheng', 'agnestankimpheng', 'agnestankimpheng', 'agnestankimpheng', 'agnestankimpheng', 'agnestankimpheng', 'agnestankimpheng', 'agnestankimpheng', 'agnestankimpheng', 'agnestankimpheng', 'agnestankimpheng', 'agnestankimpheng', 'agnestankimpheng', 'agnestankimpheng', 'agnestankimpheng', 'agnestankimpheng', 'agnestankimpheng', 'agnestankimpheng', 'agnestankimpheng', 'agnestankimpheng', 'agnestankimpheng', 'agnestankimpheng', 'agnestankimpheng', 'agnestankimpheng', 'agnestankimpheng', 'agnestankimpheng', 'agnestankimpheng', 'agnestankimpheng', 'agnestankimpheng', 'agnestankimpheng', 'agnestankimpheng', 'agnestankimpheng', 'agnestankimpheng', 'agnestankimpheng', 'agnestankimpheng', 'agnestankimpheng', 'agnestankimpheng', 'agnestankimpheng', 'agnestankimpheng', 'agnestankimpheng', 'agnestankimpheng', 'agnestankimpheng', 'agnestankimpheng', 'agnestankimpheng', 'agnestankimpheng', 'agnestankimpheng', 'agnestankimpheng', 'agnestankimpheng', 'agnestankimpheng', 'agnestankimpheng', 'agnestankimpheng', 'agnestankimpheng', 'agnestankimpheng', 'agnestankimpheng', 'agnestankimpheng', 'agnestankimpheng', 'agnestankimpheng', 'agnestankimpheng', 'agnestankimpheng', 'agnestankimpheng', 'agnestankimpheng', 'agnestankimpheng', 'agnestankimpheng', 'agnestankimpheng', 'agnestankimpheng', 'agnestankimpheng', 'agnestankimpheng', 'agnestankimpheng', 'agnestankimpheng', 'agnestankimpheng', 'agnestankimpheng', 'agnestankimpheng', 'agnestankimpheng', 'agnestankimpheng', 'agnestankimpheng', 'agnestankimpheng', 'agnestankimpheng', 'agnestankimpheng', 'agnestankimpheng', 'agnestankimpheng', 'agnestankimpheng', 'agnestankimpheng', 'agnestankimpheng', 'agnestankimpheng', 'agnestankimpheng', 'agnestankimpheng', 'agnestankimpheng', 'agnestankimpheng', 'agnestankimpheng', 'agnestankimpheng', 'agnestankimpheng', 'agnestankimpheng', 'agnestankimpheng', 'agnestankimpheng', 'agnestankimpheng', 'agnestankimpheng', 'agnestankimpheng', 'agnestankimpheng', 'agnestankimpheng', 'agnestankimpheng', 'agnestankimpheng', 'agnestankimpheng', 'agnestankimpheng', 'agnestankimpheng', 'agnestankimpheng', 'agnestankimpheng', 'agnestankimpheng', 'agnestankimpheng', 'agnestankimpheng', 'agnestankimpheng', 'agnestankimpheng', 'agnestankimpheng', 'agnestankimpheng', 'agnestankimpheng', 'agnestankimpheng', 'agnestankimpheng', 'agnestankimpheng', 'agnestankimpheng', 'agnestankimpheng', 'agnestankimpheng', 'agnestankimpheng', 'agnestankimpheng', 'agnestankimpheng', 'agnestankimpheng', 'agnestankimpheng', 'agnestankimpheng', 'agnestankimpheng', 'agnestankimpheng', 'agnestankimpheng', 'agnestankimpheng', 'agnestankimpheng', 'agnestankimpheng', 'agnestankimpheng', 'agnestankimpheng', 'agnestankimpheng', 'agnestankimpheng', 'agnestankimpheng', 'agnestankimpheng', 'agnestankimpheng', 'agnestankimpheng', 'agnestankimpheng', 'agnestankimpheng', 'agnestankimpheng', 'agnestankimpheng', 'agnestankimpheng', 'agnestankimpheng', 'agnestankimpheng', 'agnestankimpheng', 'agnestankimpheng', 'agnestankimpheng', 'agnestankimpheng', 'agnestankimpheng', 'agnestankimpheng', 'agnestankimpheng', 'agnestankimpheng', 'agnestankimpheng', 'agnestankimpheng', 'agnestankimpheng', 'agnestankimpheng', 'agnestankimpheng', 'agnestankimpheng', 'agnestankimpheng', 'agnestankimpheng', 'agnestankimpheng', 'agnestankimpheng', 'agnestankimpheng', 'agnestankimpheng', 'agnestankimpheng', 'agnestankimpheng', 'agnestankimpheng', 'agnestankimpheng', 'agnestankimpheng', 'agnestankimpheng', 'agnestankimpheng', 'agnestankimpheng', 'agnestankimpheng', 'agnestankimpheng', 'agnestankimpheng', 'agnestankimpheng', 'agnestankimpheng', 'agnestankimpheng', 'agnestankimpheng', 'agnestankimpheng', 'agnestankimpheng', 'agnestankimpheng', 'agnestankimpheng', 'agnestankimpheng', 'agnestankimpheng', 'agnestankimpheng', 'agnestankimpheng', 'agnestankimpheng', 'agnestankimpheng', 'agnestankimpheng', 'agnestankimpheng', 'agnestankimpheng', 'agnestankimpheng', 'agnestankimpheng', 'agnestankimpheng', 'agnestankimpheng', 'agnestankimpheng', 'agnestankimpheng', 'agnestankimpheng', 'agnestankimpheng', 'agnestankimpheng', 'agnestankimpheng', 'agnestankimpheng', 'agnestankimpheng', 'agnestankimpheng', 'agnestankimpheng', 'agnestankimpheng', 'agnestankimpheng', 'agnestankimpheng', 'agnestankimpheng', 'agnestankimpheng', 'agnestankimpheng', 'agnestankimpheng', 'agnestankimpheng', 'agnestankimpheng', 'agnestankimpheng', 'agnestankimpheng', 'agnestankimpheng', 'agnestankimpheng', 'agnestankimpheng', 'agnestankimpheng', 'agnestankimpheng', 'agnestankimpheng', 'agnestankimpheng', 'agnestankimpheng', 'agnestankimpheng', 'agnestankimpheng', 'agnestankimpheng', 'agnestankimpheng', 'agnestankimpheng', 'agnestankimpheng', 'agnestankimpheng', 'agnestankimpheng', 'agnestankimpheng', 'agnestankimpheng', 'agnestankimpheng', 'agnestankimpheng', 'agnestankimpheng', 'agnestankimpheng', 'agnestankimpheng', 'agnestankimpheng', 'agnestankimpheng', 'agnestankimpheng', 'agnestankimpheng', 'agnestankimpheng', 'agnestankimpheng', 'agnestankimpheng', 'agnestankimpheng', 'agnestankimpheng', 'agnestankimpheng', 'agnestankimpheng', 'agnestankimpheng', 'agnestankimpheng', 'agnestankimpheng', 'agnestankimpheng', 'agnestankimpheng', 'agnestankimpheng', 'agnestankimpheng', 'agnestankimpheng', 'agnestankimpheng', 'agnestankimpheng', 'agnestankimpheng', 'agnestankimpheng', 'agnestankimpheng', 'agnestankimpheng', 'agnestankimpheng', 'agnestankimpheng', 'agnestankimpheng', 'agnestankimpheng', 'agnestankimpheng', 'agnestankimpheng', 'agnestankimpheng', 'agnestankimpheng', 'agnestankimpheng', 'agnestankimpheng', 'agnestankimpheng', 'agnestankimpheng', 'agnestankimpheng', 'agnestankimpheng', 'agnestankimpheng', 'agnestankimpheng', 'agnestankimpheng', 'agnestankimpheng', 'agnestankimpheng', 'agnestankimpheng', 'agnestankimpheng', 'agnestankimpheng', 'agnestankimpheng', 'agnestankimpheng', 'agnestankimpheng', 'agnestankimpheng', 'agnestankimpheng', 'agnestankimpheng', 'agnestankimpheng', 'agnestankimpheng', 'agnestankimpheng', 'agnestankimpheng', 'agnestankimpheng', 'agnestankimpheng', 'agnestankimpheng', 'agnestankimpheng', 'agnestankimpheng', 'agnestankimpheng', 'agnestankimpheng', 'agnestankimpheng', 'agnestankimpheng', 'agnestankimpheng', 'agnestankimpheng', 'agnestankimpheng', 'agnestankimpheng', 'agnestankimpheng', 'agnestankimpheng', 'agnestankimpheng', 'agnestankimpheng', 'agnestankimpheng', 'agnestankimpheng', 'agnestankimpheng', 'agnestankimpheng', 'agnestankimpheng', 'agnestankimpheng', 'agnestankimpheng', 'agnestankimpheng', 'agnestankimpheng', 'agnestankimpheng', 'agnestankimpheng', 'agnestankimpheng', 'agnestankimpheng', 'agnestankimpheng', 'agnestankimpheng', 'agnestankimpheng', 'agnestankimpheng', 'agnestankimpheng', 'agnestankimpheng', 'agnestankimpheng', 'agnestankimpheng', 'agnestankimpheng', 'agnestankimpheng', 'agnestankimpheng', 'agnestankimpheng', 'agnestankimpheng', 'agnestankimpheng', 'agnestankimpheng', 'agnestankimpheng', 'agnestankimpheng', 'agnestankimpheng', 'agnestankimpheng', 'agnestankimpheng', 'agnestankimpheng', 'agnestankimpheng', 'agnestankimpheng', 'agnestankimpheng', 'agnestankimpheng', 'agnestankimpheng', 'agnestankimpheng', 'agnestankimpheng', 'agnestankimpheng', 'agnestankimpheng', 'agnestankimpheng', 'agnestankimpheng', 'agnestankimpheng', 'agnestankimpheng', 'agnestankimpheng', 'agnestankimpheng', 'agnestankimpheng', 'agnestankimpheng', 'agnestankimpheng', 'agnestankimpheng', 'agnestankimpheng', 'agnestankimpheng', 'agnestankimpheng', 'agnestankimpheng', 'agnestankimpheng', 'agnestankimpheng', 'agnestankimpheng', 'agnestankimpheng', 'agnestankimpheng', 'agnestankimpheng', 'agnestankimpheng', 'agnestankimpheng', 'agnestankimpheng', 'agnestankimpheng', 'agnestankimpheng', 'agnestankimpheng', 'agnestankimpheng', 'agnestankimpheng', 'agnestankimpheng', 'agnestankimpheng', 'agnestankimpheng', 'agnestankimpheng', 'agnestankimpheng', 'agnestankimpheng', 'agnestankimpheng', 'agnestankimpheng', 'agnestankimpheng', 'agnestankimpheng', 'agnestankimpheng', 'agnestankimpheng', 'agnestankimpheng', 'agnestankimpheng', 'agnestankimpheng', 'agnestankimpheng', 'agnestankimpheng', 'agnestankimpheng', 'agnestankimpheng', 'agnestankimpheng', 'agnestankimpheng', 'agnestankimpheng', 'agnestankimpheng', 'agnestankimpheng', 'agnestankimpheng', 'agnestankimpheng', 'agnestankimpheng', 'agnestankimpheng', 'agnestankimpheng', 'agnestankimpheng', 'agnestankimpheng', 'agnestankimpheng', 'agnestankimpheng', 'agnestankimpheng', 'agnestankimpheng', 'agnestankimpheng', 'agnestankimpheng', 'agnestankimpheng', 'agnestankimpheng', 'agnestankimpheng', 'agnestankimpheng', 'agnestankimpheng', 'agnestankimpheng', 'agnestankimpheng', 'agnestankimpheng', 'agnestankimpheng', 'agnestankimpheng', 'agnestankimpheng', 'agnestankimpheng', 'agnestankimpheng', 'agnestankimpheng', 'agnestankimpheng', 'agnestankimpheng', 'agnestankimpheng', 'agnestankimpheng', 'agnestankimpheng', 'agnestankimpheng', 'agnestankimpheng', 'agnestankimpheng', 'agnestankimpheng', 'agnestankimpheng', 'agnestankimpheng', 'agnestankimpheng', 'agnestankimpheng', 'agnestankimpheng', 'agnestankimpheng', 'agnestankimpheng', 'agnestankimpheng'], 'to': ['getnaturethings', 'wunderfood.co', 'wangfamilykitchen', 'positanoristo', 'yolofruits.sg', 'ecovpack', 'saborinosg', 'pippersingapore', 'foodyo_cafe', 'patersonrose', 'spicestorysg', 'almasyhur.sg', 'mingxinsales', 'uncledidi48', 'wanglaibakery.sg', '888seasons', 'dayanafoodsg', 'cocosfoodofficial', 'louwailouseafood', 'theriverhousesg', '365youreverydayfood', 'shibapomeesiam', 'tracyjuiceculture', 'kitchintools', 'garlicbabybalmsingapore', 'go.eat.lah', 'singapuraheritage', 'songhe.rice', 'lesbouchonsg', 'fruitealle', 'thexiangco', 'jam.stones', 'missgluttonsg', 'ourhappystorysg', 'party_master_singapore', 'yumepatisserie', '632traditionalpopiah', 'sweecooks', 'thehappyprojectekj', 'our.ecolyfe', 'heipiahfamily', 'heyheartlands', 'goldleafsingapore', 'dough_magic_official', 'kangkangnoodles', 'shongart.co', 'sakefreak', 'popshopfeature', 'goe.pempek', 'cozytods', 'tommy4637', 'breadstorysingapore', 'laojiangsuperiorsoupsg', 'hockwongsg', 'kimtee.sg', 'luckyorange88', 'joteambydpc', 'speedqueensg', 'whyqsg', 'crystaljadesg', 'crabchampion', 'combine.sg', 'oosterbaysingapore', 'klairs.sg', 'awtlet.bythehaatch', 'sandbank_singapore', 'supreme_parents', 'emmezingnails', 'aboocha.sg', 'baonow.sg', 'adonai_bakery_house', 'littlebearnie', 'cuckoosgofficial', 'shanes.kitchen', 'sl_sharelife', 'chefsod', 'gimpohfood', 'lovera.sg', 'celestialcaresg', 'authentic_taiwanese', 'soulshiok', 'pith.interior', 'chaozhenzhen.sg', 'albeauty.amk', 'artiiso', 'toshiba.sg.lifestyle', 'camelnutscom', 'sgfoodagency', 'petitehouse.sg', 'gutcaresg', '2112snackdelight', 'casiosingaporecalculator', 'yakultsingapore', 'healthcodehk', 'comecomeletstravel', 'midea_singapore', 'thyemohchan', 'siamwok_thai', '365cancerpreventionsociety', 'wismaatria', 'chonghoehealthcare', 'i.makan.sg', 'mnb.sg', 'maple.catering', 'mylittlestshop', 'myfatbae', 'primataste', 'tehpengsundry', 'dapurpenyetsingapore', 'tongxinruyi', 'hk01food', 'croche.impecavel_', 'crochetutorias', 'mr.fix.official', 'courtssg', 'sshsingapore', 'hoyisauces', 'kitchen_homeappliance', 'ritalin614', 'amozesh_rang_kotahi_shinion', 'boseh_91', 'gourmethunterkl', 'joyluck.teahouse', 'icooktw', 'croche.inspiracoess', '1hobi1mutfak', 'kiaeatplay', 'lavlugmila', 'labor.hobi', 'superitemsworld', 'ningshome_official', 'hedchefhedykhoo', 'dafengpork', 'yifang818', 'flavours.101cn', 'cheesengoil', 'fatuncle888', 'destecsanitizer', 'taki_macrome_ogreniyorum', 'thebeautychampion', 'goldenwingchemical', 'her_seyden_biraazz', 'liconda81', 'amigurumi.perfeito', 'amigurumii.brasiil', 'chanellim12', 'susybakacodm', 'tasarimpandasi', 'plush.singapore', 'crystalgemorigin', 'guanyingwu', 'chowzanplq1', 'jacky88teoh', 'aktivite_dunyasi', 'craft_icon', 'lavandatopsham', 'hobimbu', '_sabrina1996', 'ahappytummy8', 'easycookrecipe', 'tanngitrading', 'terlynng', 'penangholiao', 'thesilverchef', 'mrhongkitchen', 'foodie_diary99219', 'myeatkakimalaysia', 'khinmap.tw', 'doo.english', 'onitsukatigersg', 'hooleefun', 'sgfoodfinder', 'supertastesupertaste', 'ytower_cooking', 'fullfen', 'blue19cheese', 'wordup_tw', 'tasty.note', 'mindy_s_kitchen', 'govtechsg', 'cpf_board', 'dailyeater', 'ufoodhk', 'foodies_makers', 'love972fm', 'yes933', 'liulingling_3444', 'lei.wang', 'peifen_leee', 'worldfarmsg', 'wenji.dunman', 'tainanxian_food', '___miss___yen___', 'jyunwankang', 'baking_taitai', 'share_recipess', 'zhushitianxia', 'fooddiger', 'chanyunmi', 'theassembly.space', 'siewpeng.gan', 'gotriphk', 'singapore_island_cruise', 'hungrygowhere', 'xueqi_mishang', 'tuiengkaixin', 'kkyeong3321', 'ling.shu.733', 'noob_foodie', 'mayisweetsg', 'jccookery', 'tuiengww', 'co_ok_it', 'alwayshungry.sg', 'jobchannelsg', 'laipingtham', 'ubeautyhk', 'sheeeeeway', 'ayambrandsg', 'giantsingapore', 'syohokai', 'taichongkok', 'durian_mooncake', 'jiujigong.brownsugar.official', 'chunyanjia.sg', 'lauwangclaypot', 'shisenhanten', 'kaylywayly', 'felicia_ong_', 'moda.paolo', 'parkwayparadesg', 'beechooladies', 'homesfavouritesg', 'sugoistorehk', 'singaporefoodshows', 'loongfatt1948', 'feimaxiaochu', 'porshmarket', 'yijiakuehs', 'gin_thye', 'shinmindailynews', 'naturalustre.gems', 'leehwajewellery', 'goldheartjewelry', 'healthy24_life', 'healthyfit_askme', 'chaotaste', 'faroceansg', 'asianfoodnow', 'littleraindrop.jewellery', 'moon.yeong.16', 'pristinefarm.sg', 'gillian_nass', 'sunplazamall', 'gindaco_usa', 'papura_sg', 'ahchiangporridge', 'yumyumdurians', 'gindaco_singapore', 'japanhome_sg', 'nipponhome.sg', 'tuiengkaixuan', 'alamaks_photos', 'taicheongsg', 'oldhainan', 'paigesserie', 'joferlyn.k', 'lexincatering', 'boontongkee_sg', 'meiheongyuensg', 'swatowrestaurant', 'aoneclaypot', 'hongkeevillaclementi', 'kimsplaceseafood', 'yahuabkt', 'macau_yankee', 'hainanxiaochi', 'yinjisg', 'homefiestasg', 'yahuasg', 'heyduriansg', 'tiantianlaisteamboat', 'shangpalacesg', 'jiawangcafe', 'fattyoxhk', 'tunglokheen', 'pengchengxiaochu_sg', 'powsing.sg', 'missyhokitchen', 'ericteo.sauces', 'uweeklysg', 'zaobaosg', 'elaine.chew.593', 'alamakseelahyou', 'twc899', 'chenggcooksandbakes', '8worldnews', '8world.entlife', 'mewatch.mediacorp', 'ch8sg', 'redstarsg', 'chunghengv', 'alantham100696', 'momentous_decor', 'leontan._', 'tankokwaijoshua', 'yeo.boon.hee', 'beautexsingapore', 'yahavagramsg', 'leekumkeesg', 'chewscagefreeeggs', 'ahtanwings', 'yucuncurryfishhead', 'kenghenglormee', 'sanpinhaixiantangpaofan', 'arcadefishsoup', 'jiaherestaurant', 'oldworldbakuteh', 'goodyearseafood', 'dengwenji18', 'orchidliveseafood', 't.k_kitchen', 'famouspaofan', 'hiartsg', 'wstien', 'yongchuansg', 'kaixuan1223', 'summer_fang', 'oxigencoffee', 'easybrofood', 'kym_ng', 'sharonau13', 'footlockersingaporeofficial', 'poi_ching_school_psg', 'jdsportssg', 'kenni_heng', 'hey.malaysia', 'ksc_sg', 'palmgardensrn', 'ni_kicks', 'adidassg', 'daylenting9', 'farmerbrand.sg', 'eatalreadysg', 'greenleavesfruitjuice', 'theweddinggurus.sg', 'ying.kfan', 'karenting16', 'singaporefoodunited', 'lifang4961', 'yuelinglovesfam', 'oddleeats', 'skippysingapore', 'singapore.eats', 'jacksplacesg', 'euyansang', 'friendsofgardenia', 'nutrisoysingapore', 'fnnmagnolia', 'eureka_snack_sg', 'foodrepublicsg', 'wohhupfood', 'mayerspore', 'fortunefoodmfgsg', 'singaporehomecooks', 'knorrsg', 'amk_hub', 'oki.singapore', 'hillionmall', 'velocity_nsq', 'unitedsquaremall', 'northpointsg', 'theseletarmall', 'bestdenkisg', 'oldtownsingapore', 'thestarvista', 'compassonesg', 'bedokpoint', 'eastpointmall', 'downtowneast', 'plazasingapura', 'singpostcentre', 'nex.singapore', 'westgatesg', 'sembawangsc', 'singaporediscoverycentre', 'theclementimall', 'sunteccity', 'centurysquaresg', 'capitalandmallssg', 'marinasquaresg', 'whitesandssg', 'cocowong38', 'chaukimmoy', 'meevents2020', 'asiafarmsingapore', 'tiongbahruplazasg', 'breadtalksg', 'polarpuffs_cakes', 'polar_bbt', 'mff_edtzz', 'careerseeds', 'yuekfong', 'chewseggsg', 'flower.lam', 'amwaytw', 'primesupermarketsg', 'bugisjunctionxbugisplus', 'thecentrepoint_sg', 'hougangmall', 'chinatownpoint_sg', 'hockhuatonicsg', 'changicitypoint_sg', 'ntucsingapore', 'causewaypointsg', 'popeyes.sg', 'nkfsg', 'haomartsg', 'shengsiongsupermarket_official', 'tampines1', 'skillsfuturesg', 'tampineswest', 'ilovee2i', 'lifelonglearninginstitute', 'tampinesnorth', 'centralsgcdc', 'tampinestowncouncil', 'peoplesassociation', 'necdc', 'rayanng_2007', 'an_gel9096', 'peeka_boooo_', 'tummycrimes', 'paigetuieng', 'danielfooddiary', 'fatwithin', 'gninethree', 'vivienneeluv', 'milliechow16', 'imtheresa0401', 'y_mei2804', 'msginginly', 'alicewwp', 'thekitchenettetales', 'foodgemsg', 'alexchootw', 'yvonnemsw', 'andytwc', 'kit_t.style', 'serenetomato', 'jo.wonder', 'eataroundwithjenny', 'aroundthediningtable', 'nikolai_eats', 'kengengkee', 'denniszhouchongqing', 'itscharlenetsm', 'tastemade', 'yongweikai', 'mightyfoodie', '8days_eat', 'alainlicious', 'phoebepapa', 'kam2eat', 'dulahoop12', 'e.g.kitchen', 'eileen_eats_alot', 'makoeats', 'yian3737', 'aromacookery', 'shootandspoon', 'sonianll', 'cuisineparadiseig', 'eatwhattonight', 'honeybeesweets.sg', 'yc_0423', 'jl_ksupfe', 'yen.food.life', 'foodie.914', 'shopee_tw', 'everydayhealth_tw', 'eatout_tw', 'msdoublechin', 'qoo10sg', 'oldchangkeesingapore', 'dintaifungsg', 'finestfoodsg', 'metrosingapore', 'ogsingapore', 'hpbsg', 'takashimayasc', 'ikeasingapore', 'mcdsg', 'bhg.sg', 'ion_orchard', 'vivocitysingapore', 'fairpricesg', 'robinsonssg', 'coldstoragesg', 'tangssg', 'watsonssg', 'takashimayasg', 'isetansg', 'primetaste', 'ilikeheho', 'ieatishootipost', 'uniqlosg', 'mujisg', 'ourtampineshub', 'hm', '5.min.crafts', 'kellyx_jellyx_', 'kimphengagnestan', 'chengg', 'mrsesee', 'itz_rayanng', 'going_sunny', 'peiyi.wu.5661', 'aidenandollie', 'huiping31', 'cocoysw', 'ilove_dailybumps', '_.dead.pika.pokeman._', 'kokytuieng', 'emceepaige', 'jasw9911', 'chorjiankoh', 'josephinechon', 'marymagdalinethomas', 'irenetan442012', 'jakects', 'kumar71979', 'lyejacky', 'propertywithnick', 'moonyueee', 'mrbombasticproduction', 'nafishalover', 'ktay313', 'austintianen', 'princessleacollection', 'darrenseah.liang', 'ericgwee', 'seanalbertan', 'oliverandfinleyy', 'andrewslyfox', 'christyj137', 'juliederu', 'jimhollister', 'grandmagriff', 'kelsemilyscott', 'suzannehollister', 'ollieandfinn', 'bonniehoellein', 'taralynjohnson', 'elconting', 'leeyeezhou', 'tingsy78', 'kaleythefamson', 'dearfuturehusbandquotes', 'misskrynic', 'm_j_0809', 'rowenasandosham', 'fusionisegt', 'shadow_vampir3', 'amytancb', 'instayong88', 'hweepeng_']}\n"
     ]
    }
   ],
   "source": [
    "print(privates, no_posts, bad_ratio)\n",
    "print(data)"
   ]
  }
 ],
 "metadata": {
  "kernelspec": {
   "display_name": "Python 3",
   "language": "python",
   "name": "python3"
  },
  "language_info": {
   "codemirror_mode": {
    "name": "ipython",
    "version": 3
   },
   "file_extension": ".py",
   "mimetype": "text/x-python",
   "name": "python",
   "nbconvert_exporter": "python",
   "pygments_lexer": "ipython3",
   "version": "3.8.5"
  },
  "toc": {
   "base_numbering": 1,
   "nav_menu": {},
   "number_sections": true,
   "sideBar": true,
   "skip_h1_title": false,
   "title_cell": "Table of Contents",
   "title_sidebar": "Contents",
   "toc_cell": false,
   "toc_position": {
    "height": "calc(100% - 180px)",
    "left": "10px",
    "top": "150px",
    "width": "165px"
   },
   "toc_section_display": true,
   "toc_window_display": false
  },
  "varInspector": {
   "cols": {
    "lenName": 16,
    "lenType": 16,
    "lenVar": 40
   },
   "kernels_config": {
    "python": {
     "delete_cmd_postfix": "",
     "delete_cmd_prefix": "del ",
     "library": "var_list.py",
     "varRefreshCmd": "print(var_dic_list())"
    },
    "r": {
     "delete_cmd_postfix": ") ",
     "delete_cmd_prefix": "rm(",
     "library": "var_list.r",
     "varRefreshCmd": "cat(var_dic_list()) "
    }
   },
   "types_to_exclude": [
    "module",
    "function",
    "builtin_function_or_method",
    "instance",
    "_Feature"
   ],
   "window_display": false
  }
 },
 "nbformat": 4,
 "nbformat_minor": 4
}
