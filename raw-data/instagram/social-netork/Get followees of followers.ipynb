{
 "cells": [
  {
   "cell_type": "code",
   "execution_count": 11,
   "metadata": {
    "ExecuteTime": {
     "end_time": "2022-03-25T18:39:12.551369Z",
     "start_time": "2022-03-25T18:39:12.547380Z"
    }
   },
   "outputs": [],
   "source": [
    "import instaloader\n",
    "from decouple import config\n",
    "from IPython.display import clear_output\n",
    "import pandas as pd\n",
    "import time"
   ]
  },
  {
   "cell_type": "code",
   "execution_count": 10,
   "metadata": {
    "ExecuteTime": {
     "end_time": "2022-03-25T18:39:00.452640Z",
     "start_time": "2022-03-25T18:38:53.587140Z"
    }
   },
   "outputs": [
    {
     "name": "stdout",
     "output_type": "stream",
     "text": [
      "wesleyongs\n"
     ]
    }
   ],
   "source": [
    "# change code accordingly & add insta credentials to .env file\n",
    "\n",
    "accounts = [1,2,4,5,6]\n",
    "account_pointer = 0\n",
    "account = accounts[account_pointer]\n",
    "USER = config(f'USER{account}',default='')\n",
    "PASSWORD = config(f'PASSWORD{account}',default='')\n",
    "print(USER)\n",
    "L = instaloader.Instaloader()\n",
    "L.login(USER, PASSWORD)"
   ]
  },
  {
   "cell_type": "code",
   "execution_count": 14,
   "metadata": {
    "ExecuteTime": {
     "end_time": "2022-03-25T18:43:03.311386Z",
     "start_time": "2022-03-25T18:43:03.167775Z"
    }
   },
   "outputs": [
    {
     "name": "stdout",
     "output_type": "stream",
     "text": [
      "csv found\n",
      "accounts scraped (not private or rejected): 96\n"
     ]
    }
   ],
   "source": [
    "js_followers = pd.read_csv('followers.csv')['0']\n",
    "\n",
    "# change the start & end index\n",
    "start = 1000\n",
    "end = 2000\n",
    "path = 'js_followers_following'\n",
    "file_name = f'{path}/edges_{start}_to_{end}'\n",
    "\n",
    "# read exisiting file or create new one \n",
    "try:\n",
    "    edges = pd.read_csv(f'{file_name}.csv')\n",
    "    data = edges[['from','to']].to_dict('list')\n",
    "    print(\"csv found\")\n",
    "    edges['from'].value_counts()\n",
    "    x=edges.groupby('from')[['to']].count().reset_index().sort_values(by='to')\n",
    "    print(\"accounts scraped (not private or rejected):\", x[x['to']>1]['to'].count())\n",
    "except:\n",
    "    data = {'from':[], 'to':[]}\n",
    "    print('csv not found, created new one')\n",
    "    \n"
   ]
  },
  {
   "cell_type": "code",
   "execution_count": 12,
   "metadata": {
    "ExecuteTime": {
     "end_time": "2022-03-25T18:40:41.830051Z",
     "start_time": "2022-03-25T18:40:21.583970Z"
    },
    "scrolled": true
   },
   "outputs": [
    {
     "name": "stdout",
     "output_type": "stream",
     "text": [
      "coconoce.ent\n",
      "babybrawler\n",
      "bonkieong\n",
      "wesleymunkey\n",
      "\n"
     ]
    },
    {
     "ename": "InvalidArgumentException",
     "evalue": "Login error: User  does not exist.",
     "output_type": "error",
     "traceback": [
      "\u001b[1;31m---------------------------------------------------------------------------\u001b[0m",
      "\u001b[1;31mNameError\u001b[0m                                 Traceback (most recent call last)",
      "\u001b[1;32m<ipython-input-12-9d07366b43c1>\u001b[0m in \u001b[0;36m<module>\u001b[1;34m\u001b[0m\n\u001b[0;32m      9\u001b[0m     \u001b[1;32mtry\u001b[0m\u001b[1;33m:\u001b[0m\u001b[1;33m\u001b[0m\u001b[1;33m\u001b[0m\u001b[0m\n\u001b[1;32m---> 10\u001b[1;33m         \u001b[1;32mfor\u001b[0m \u001b[0midx\u001b[0m\u001b[1;33m,\u001b[0m \u001b[0musername\u001b[0m \u001b[1;32min\u001b[0m \u001b[0menumerate\u001b[0m\u001b[1;33m(\u001b[0m\u001b[0mjs_followers\u001b[0m\u001b[1;33m)\u001b[0m\u001b[1;33m:\u001b[0m\u001b[1;33m\u001b[0m\u001b[1;33m\u001b[0m\u001b[0m\n\u001b[0m\u001b[0;32m     11\u001b[0m \u001b[1;33m\u001b[0m\u001b[0m\n",
      "\u001b[1;31mNameError\u001b[0m: name 'js_followers' is not defined",
      "\nDuring handling of the above exception, another exception occurred:\n",
      "\u001b[1;31mInvalidArgumentException\u001b[0m                  Traceback (most recent call last)",
      "\u001b[1;32m<ipython-input-12-9d07366b43c1>\u001b[0m in \u001b[0;36m<module>\u001b[1;34m\u001b[0m\n\u001b[0;32m     59\u001b[0m         \u001b[0mprint\u001b[0m\u001b[1;33m(\u001b[0m\u001b[0mUSER\u001b[0m\u001b[1;33m)\u001b[0m\u001b[1;33m\u001b[0m\u001b[1;33m\u001b[0m\u001b[0m\n\u001b[0;32m     60\u001b[0m         \u001b[0mL\u001b[0m \u001b[1;33m=\u001b[0m \u001b[0minstaloader\u001b[0m\u001b[1;33m.\u001b[0m\u001b[0mInstaloader\u001b[0m\u001b[1;33m(\u001b[0m\u001b[1;33m)\u001b[0m\u001b[1;33m\u001b[0m\u001b[1;33m\u001b[0m\u001b[0m\n\u001b[1;32m---> 61\u001b[1;33m         \u001b[0mL\u001b[0m\u001b[1;33m.\u001b[0m\u001b[0mlogin\u001b[0m\u001b[1;33m(\u001b[0m\u001b[0mUSER\u001b[0m\u001b[1;33m,\u001b[0m \u001b[0mPASSWORD\u001b[0m\u001b[1;33m)\u001b[0m\u001b[1;33m\u001b[0m\u001b[1;33m\u001b[0m\u001b[0m\n\u001b[0m",
      "\u001b[1;32m~\\anaconda3\\lib\\site-packages\\instaloader\\instaloader.py\u001b[0m in \u001b[0;36mlogin\u001b[1;34m(self, user, passwd)\u001b[0m\n\u001b[0;32m    599\u001b[0m         \u001b[1;33m:\u001b[0m\u001b[0mraises\u001b[0m \u001b[0mTwoFactorAuthRequiredException\u001b[0m\u001b[1;33m:\u001b[0m \u001b[0mFirst\u001b[0m \u001b[0mstep\u001b[0m \u001b[0mof\u001b[0m \u001b[1;36m2\u001b[0m\u001b[0mFA\u001b[0m \u001b[0mlogin\u001b[0m \u001b[0mdone\u001b[0m\u001b[1;33m,\u001b[0m \u001b[0mnow\u001b[0m \u001b[0mcall\u001b[0m\u001b[1;33m\u001b[0m\u001b[1;33m\u001b[0m\u001b[0m\n\u001b[0;32m    600\u001b[0m            :meth:`Instaloader.two_factor_login`.\"\"\"\n\u001b[1;32m--> 601\u001b[1;33m         \u001b[0mself\u001b[0m\u001b[1;33m.\u001b[0m\u001b[0mcontext\u001b[0m\u001b[1;33m.\u001b[0m\u001b[0mlogin\u001b[0m\u001b[1;33m(\u001b[0m\u001b[0muser\u001b[0m\u001b[1;33m,\u001b[0m \u001b[0mpasswd\u001b[0m\u001b[1;33m)\u001b[0m\u001b[1;33m\u001b[0m\u001b[1;33m\u001b[0m\u001b[0m\n\u001b[0m\u001b[0;32m    602\u001b[0m \u001b[1;33m\u001b[0m\u001b[0m\n\u001b[0;32m    603\u001b[0m     \u001b[1;32mdef\u001b[0m \u001b[0mtwo_factor_login\u001b[0m\u001b[1;33m(\u001b[0m\u001b[0mself\u001b[0m\u001b[1;33m,\u001b[0m \u001b[0mtwo_factor_code\u001b[0m\u001b[1;33m)\u001b[0m \u001b[1;33m->\u001b[0m \u001b[1;32mNone\u001b[0m\u001b[1;33m:\u001b[0m\u001b[1;33m\u001b[0m\u001b[1;33m\u001b[0m\u001b[0m\n",
      "\u001b[1;32m~\\anaconda3\\lib\\site-packages\\instaloader\\instaloadercontext.py\u001b[0m in \u001b[0;36mlogin\u001b[1;34m(self, user, passwd)\u001b[0m\n\u001b[0;32m    261\u001b[0m                 \u001b[1;31m# triggers re-asking of password in Instaloader.interactive_login(), which makes no sense if the\u001b[0m\u001b[1;33m\u001b[0m\u001b[1;33m\u001b[0m\u001b[1;33m\u001b[0m\u001b[0m\n\u001b[0;32m    262\u001b[0m                 \u001b[1;31m# username is invalid.\u001b[0m\u001b[1;33m\u001b[0m\u001b[1;33m\u001b[0m\u001b[1;33m\u001b[0m\u001b[0m\n\u001b[1;32m--> 263\u001b[1;33m                 \u001b[1;32mraise\u001b[0m \u001b[0mInvalidArgumentException\u001b[0m\u001b[1;33m(\u001b[0m\u001b[1;34m'Login error: User {} does not exist.'\u001b[0m\u001b[1;33m.\u001b[0m\u001b[0mformat\u001b[0m\u001b[1;33m(\u001b[0m\u001b[0muser\u001b[0m\u001b[1;33m)\u001b[0m\u001b[1;33m)\u001b[0m\u001b[1;33m\u001b[0m\u001b[1;33m\u001b[0m\u001b[0m\n\u001b[0m\u001b[0;32m    264\u001b[0m         \u001b[1;31m# '{\"authenticated\": true, \"user\": true, \"userId\": ..., \"oneTapPrompt\": false, \"status\": \"ok\"}'\u001b[0m\u001b[1;33m\u001b[0m\u001b[1;33m\u001b[0m\u001b[1;33m\u001b[0m\u001b[0m\n\u001b[0;32m    265\u001b[0m         \u001b[0msession\u001b[0m\u001b[1;33m.\u001b[0m\u001b[0mheaders\u001b[0m\u001b[1;33m.\u001b[0m\u001b[0mupdate\u001b[0m\u001b[1;33m(\u001b[0m\u001b[1;33m{\u001b[0m\u001b[1;34m'X-CSRFToken'\u001b[0m\u001b[1;33m:\u001b[0m \u001b[0mlogin\u001b[0m\u001b[1;33m.\u001b[0m\u001b[0mcookies\u001b[0m\u001b[1;33m[\u001b[0m\u001b[1;34m'csrftoken'\u001b[0m\u001b[1;33m]\u001b[0m\u001b[1;33m}\u001b[0m\u001b[1;33m)\u001b[0m\u001b[1;33m\u001b[0m\u001b[1;33m\u001b[0m\u001b[0m\n",
      "\u001b[1;31mInvalidArgumentException\u001b[0m: Login error: User  does not exist."
     ]
    }
   ],
   "source": [
    "account_pointer = 0\n",
    "\n",
    "# stats\n",
    "privates = 0\n",
    "no_posts = 0\n",
    "bad_ratio = 0\n",
    "\n",
    "while True:\n",
    "    for idx, username in enumerate(js_followers):\n",
    "\n",
    "        # change the number below\n",
    "        if idx == end:break\n",
    "        if idx < start:continue\n",
    "        if username in data['from']:continue\n",
    "\n",
    "        # Loader\n",
    "        try:\n",
    "            profile = instaloader.Profile.from_username(L.context, username)\n",
    "            following = profile.get_followees()\n",
    "        except:\n",
    "            print(f\"cannot find {username}\")\n",
    "            continue\n",
    "\n",
    "        # variables\n",
    "        is_private = profile.is_private\n",
    "        no_posts = profile.mediacount\n",
    "        ratio = profile.followees/(profile.followers or not profile.followers)\n",
    "        print(f'doing {username} who is following {profile.followees} accounts')\n",
    "        print(f\"Private:{is_private} Posts:{no_posts} Ratio:{round(ratio,1)}\")\n",
    "\n",
    "        # checks\n",
    "        if is_private:privates+=1\n",
    "        if no_posts==0:no_posts+=1\n",
    "        if ratio>10:bad_ratio+=1\n",
    "        if no_posts==0 or ratio > 10:\n",
    "            data['from'].append(username)\n",
    "            data['to'].append(\"jam.stones\")\n",
    "            continue\n",
    "\n",
    "        # collect data\n",
    "        for follower in following:\n",
    "            data['from'].append(username)\n",
    "            data['to'].append(follower.username)\n",
    "\n",
    "        # add JS edge\n",
    "        data['from'].append(username)\n",
    "        data['to'].append(\"jam.stones\")\n",
    "\n",
    "        # save file\n",
    "        pd.DataFrame(data).to_csv(f\"{file_name}.csv\")\n",
    "        print(f'finished js follower {idx}/{len(js_followers)}')\n",
    "        except:\n",
    "            accounts.append(account_pointer)\n",
    "            account_pointer += 1\n",
    "            account = accounts[account_pointer]\n",
    "            USER = config(f'USER{account}',default='')\n",
    "            PASSWORD = config(f'PASSWORD{account}',default='')\n",
    "            print(USER)\n",
    "            L = instaloader.Instaloader()\n",
    "            L.login(USER, PASSWORD)"
   ]
  },
  {
   "cell_type": "code",
   "execution_count": null,
   "metadata": {
    "ExecuteTime": {
     "start_time": "2022-03-25T18:43:35.989Z"
    },
    "scrolled": true
   },
   "outputs": [],
   "source": [
    "account_pointer = 0\n",
    "\n",
    "# stats\n",
    "privates = 0\n",
    "no_posts = 0\n",
    "bad_ratio = 0\n",
    "\n",
    "for idx, username in enumerate(js_followers):\n",
    "    \n",
    "    # change the number below\n",
    "    if idx == end:break\n",
    "    if idx < start:continue\n",
    "    if username in data['from']:continue\n",
    "\n",
    "    # Loader\n",
    "    try:\n",
    "        profile = instaloader.Profile.from_username(L.context, username)\n",
    "        following = profile.get_followees()\n",
    "    except Exception as e:\n",
    "        print(e)\n",
    "        print(f\"cannot find {username}\")\n",
    "        continue\n",
    "        \n",
    "    # variables\n",
    "    is_private = profile.is_private\n",
    "    no_posts = profile.mediacount\n",
    "    ratio = profile.followees/(profile.followers or not profile.followers)\n",
    "    print(f'doing {username} who is following {profile.followees} accounts')\n",
    "    print(f\"Private:{is_private} Posts:{no_posts} Ratio:{round(ratio,1)}\")\n",
    "\n",
    "    # checks\n",
    "    if is_private:privates+=1\n",
    "    if no_posts==0:no_posts+=1\n",
    "    if ratio>10:bad_ratio+=1\n",
    "    if no_posts==0 or ratio > 10:\n",
    "        data['from'].append(username)\n",
    "        data['to'].append(\"jam.stones\")\n",
    "        continue\n",
    "\n",
    "    # collect data\n",
    "    for follower in following:\n",
    "        data['from'].append(username)\n",
    "        data['to'].append(follower.username)\n",
    "\n",
    "    # add JS edge\n",
    "    data['from'].append(username)\n",
    "    data['to'].append(\"jam.stones\")\n",
    "\n",
    "    # save file\n",
    "    pd.DataFrame(data).to_csv(f\"{file_name}.csv\")\n",
    "    print(f'finished js follower {idx}/{len(js_followers)}')"
   ]
  },
  {
   "cell_type": "code",
   "execution_count": null,
   "metadata": {},
   "outputs": [],
   "source": []
  },
  {
   "cell_type": "code",
   "execution_count": null,
   "metadata": {},
   "outputs": [],
   "source": []
  }
 ],
 "metadata": {
  "kernelspec": {
   "display_name": "Python 3",
   "language": "python",
   "name": "python3"
  },
  "language_info": {
   "codemirror_mode": {
    "name": "ipython",
    "version": 3
   },
   "file_extension": ".py",
   "mimetype": "text/x-python",
   "name": "python",
   "nbconvert_exporter": "python",
   "pygments_lexer": "ipython3",
   "version": "3.8.5"
  },
  "toc": {
   "base_numbering": 1,
   "nav_menu": {},
   "number_sections": true,
   "sideBar": true,
   "skip_h1_title": false,
   "title_cell": "Table of Contents",
   "title_sidebar": "Contents",
   "toc_cell": false,
   "toc_position": {},
   "toc_section_display": true,
   "toc_window_display": false
  },
  "varInspector": {
   "cols": {
    "lenName": 16,
    "lenType": 16,
    "lenVar": 40
   },
   "kernels_config": {
    "python": {
     "delete_cmd_postfix": "",
     "delete_cmd_prefix": "del ",
     "library": "var_list.py",
     "varRefreshCmd": "print(var_dic_list())"
    },
    "r": {
     "delete_cmd_postfix": ") ",
     "delete_cmd_prefix": "rm(",
     "library": "var_list.r",
     "varRefreshCmd": "cat(var_dic_list()) "
    }
   },
   "types_to_exclude": [
    "module",
    "function",
    "builtin_function_or_method",
    "instance",
    "_Feature"
   ],
   "window_display": false
  }
 },
 "nbformat": 4,
 "nbformat_minor": 4
}
