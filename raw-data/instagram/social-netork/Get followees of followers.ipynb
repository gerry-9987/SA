{
 "cells": [
  {
   "cell_type": "code",
   "execution_count": 10,
   "metadata": {
    "ExecuteTime": {
     "end_time": "2022-03-26T08:26:47.163561Z",
     "start_time": "2022-03-26T08:26:47.159504Z"
    }
   },
   "outputs": [],
   "source": [
    "import instaloader\n",
    "from decouple import config\n",
    "from IPython.display import clear_output\n",
    "import pandas as pd\n",
    "import time"
   ]
  },
  {
   "cell_type": "code",
   "execution_count": 11,
   "metadata": {
    "ExecuteTime": {
     "end_time": "2022-03-26T08:26:51.005336Z",
     "start_time": "2022-03-26T08:26:47.979142Z"
    }
   },
   "outputs": [
    {
     "name": "stdout",
     "output_type": "stream",
     "text": [
      "wesleyongs\n"
     ]
    }
   ],
   "source": [
    "# change code accordingly & add insta credentials to .env file\n",
    "\n",
    "accounts = [1,2,4,5,6]\n",
    "account_pointer = 0\n",
    "account = accounts[account_pointer]\n",
    "USER = config(f'USER{account}',default='')\n",
    "PASSWORD = config(f'PASSWORD{account}',default='')\n",
    "print(USER)\n",
    "L = instaloader.Instaloader()\n",
    "L.login(USER, PASSWORD)"
   ]
  },
  {
   "cell_type": "code",
   "execution_count": 12,
   "metadata": {
    "ExecuteTime": {
     "end_time": "2022-03-26T08:26:54.279753Z",
     "start_time": "2022-03-26T08:26:54.069217Z"
    }
   },
   "outputs": [
    {
     "name": "stdout",
     "output_type": "stream",
     "text": [
      "csv found\n",
      "accounts scraped (not private or rejected): 141\n"
     ]
    }
   ],
   "source": [
    "js_followers = pd.read_csv('followers.csv')['0']\n",
    "\n",
    "# change the start & end index\n",
    "start = 1000\n",
    "end = 2000\n",
    "path = 'js_followers_following'\n",
    "file_name = f'{path}/edges_{start}_to_{end}'\n",
    "\n",
    "# read exisiting file or create new one \n",
    "try:\n",
    "    edges = pd.read_csv(f'{file_name}.csv')\n",
    "    data = edges[['from','to']].to_dict('list')\n",
    "    print(\"csv found\")\n",
    "    edges['from'].value_counts()\n",
    "    x=edges.groupby('from')[['to']].count().reset_index().sort_values(by='to')\n",
    "    print(\"accounts scraped (not private or rejected):\", x[x['to']>1]['to'].count())\n",
    "except:\n",
    "    data = {'from':[], 'to':[]}\n",
    "    print('csv not found, created new one')\n",
    "    \n"
   ]
  },
  {
   "cell_type": "code",
   "execution_count": null,
   "metadata": {
    "ExecuteTime": {
     "start_time": "2022-03-26T08:26:56.570Z"
    },
    "scrolled": true
   },
   "outputs": [
    {
     "name": "stderr",
     "output_type": "stream",
     "text": [
      "JSON Query to 783552neo/feed/: 404 Not Found [retrying; skip with ^C]\n",
      "JSON Query to 783552neo/feed/: 404 Not Found [retrying; skip with ^C]\n"
     ]
    },
    {
     "name": "stdout",
     "output_type": "stream",
     "text": [
      "coconoce.ent\n",
      "cannot find 783552neo\n"
     ]
    },
    {
     "name": "stderr",
     "output_type": "stream",
     "text": [
      "JSON Query to candx.sg/feed/: 429 Too Many Requests [retrying; skip with ^C]\n",
      "Number of requests within last 10/11/20/22/30/60 minutes grouped by type:\n",
      " *                            other:    2    2    2    2    2    2\n",
      "Instagram responded with HTTP error \"429 - Too Many Requests\". Please\n",
      "do not run multiple instances of Instaloader in parallel or within\n",
      "short sequence. Also, do not use any Instagram App while Instaloader\n",
      "is running.\n",
      "The request will be retried in 661 seconds, at 16:38.\n"
     ]
    }
   ],
   "source": [
    "account_pointer = 0\n",
    "\n",
    "# stats\n",
    "privates = 0\n",
    "no_posts = 0\n",
    "bad_ratio = 0\n",
    "\n",
    "while True:\n",
    "    for idx, username in enumerate(js_followers):\n",
    "        try:\n",
    "            # change the number below\n",
    "            if idx == end:break\n",
    "            if idx < start:continue\n",
    "            if username in data['from']:continue\n",
    "\n",
    "            # Loader\n",
    "            try:\n",
    "                profile = instaloader.Profile.from_username(L.context, username)\n",
    "                following = profile.get_followees()\n",
    "            except:\n",
    "                accounts.append(account_pointer)\n",
    "                account_pointer += 1\n",
    "                account = accounts[account_pointer]\n",
    "                USER = config(f'USER{account}',default='')\n",
    "                PASSWORD = config(f'PASSWORD{account}',default='')\n",
    "                print(USER)\n",
    "                L = instaloader.Instaloader()\n",
    "                L.login(USER, PASSWORD)\n",
    "                print(f\"cannot find {username}\")\n",
    "                continue\n",
    "\n",
    "            # variables\n",
    "            is_private = profile.is_private\n",
    "            no_posts = profile.mediacount\n",
    "            ratio = profile.followees/(profile.followers or not profile.followers)\n",
    "            print(f'doing {username} who is following {profile.followees} accounts')\n",
    "            print(f\"Private:{is_private} Posts:{no_posts} Ratio:{round(ratio,1)}\")\n",
    "\n",
    "            # checks\n",
    "            if is_private:privates+=1\n",
    "            if no_posts==0:no_posts+=1\n",
    "            if ratio>10:bad_ratio+=1\n",
    "            if no_posts==0 or ratio > 10:\n",
    "                data['from'].append(username)\n",
    "                data['to'].append(\"jam.stones\")\n",
    "                continue\n",
    "\n",
    "            # collect data\n",
    "            for follower in following:\n",
    "                data['from'].append(username)\n",
    "                data['to'].append(follower.username)\n",
    "\n",
    "            # add JS edge\n",
    "            data['from'].append(username)\n",
    "            data['to'].append(\"jam.stones\")\n",
    "\n",
    "            # save file\n",
    "            pd.DataFrame(data).to_csv(f\"{file_name}.csv\")\n",
    "            print(f'finished js follower {idx}/{len(js_followers)}')\n",
    "        except:\n",
    "            accounts.append(account)\n",
    "            account_pointer += 1\n",
    "            account = accounts[account_pointer]\n",
    "            USER = config(f'USER{account}',default='')\n",
    "            PASSWORD = config(f'PASSWORD{account}',default='')\n",
    "            print(USER)\n",
    "            L = instaloader.Instaloader()\n",
    "            L.login(USER, PASSWORD)"
   ]
  },
  {
   "cell_type": "code",
   "execution_count": null,
   "metadata": {
    "ExecuteTime": {
     "end_time": "2022-03-26T08:25:18.347847Z",
     "start_time": "2022-03-26T06:40:29.038Z"
    },
    "scrolled": true
   },
   "outputs": [],
   "source": [
    "account_pointer = 0\n",
    "\n",
    "# stats\n",
    "privates = 0\n",
    "no_posts = 0\n",
    "bad_ratio = 0\n",
    "\n",
    "for idx, username in enumerate(js_followers):\n",
    "    \n",
    "    # change the number below\n",
    "    if idx == end:break\n",
    "    if idx < start:continue\n",
    "    if username in data['from']:continue\n",
    "\n",
    "    # Loader\n",
    "    try:\n",
    "        profile = instaloader.Profile.from_username(L.context, username)\n",
    "        following = profile.get_followees()\n",
    "    except Exception as e:\n",
    "        print(e)\n",
    "        print(f\"cannot find {username}\")\n",
    "        continue\n",
    "        \n",
    "    # variables\n",
    "    is_private = profile.is_private\n",
    "    no_posts = profile.mediacount\n",
    "    ratio = profile.followees/(profile.followers or not profile.followers)\n",
    "    print(f'doing {username} who is following {profile.followees} accounts')\n",
    "    print(f\"Private:{is_private} Posts:{no_posts} Ratio:{round(ratio,1)}\")\n",
    "\n",
    "    # checks\n",
    "    if is_private:privates+=1\n",
    "    if no_posts==0:no_posts+=1\n",
    "    if ratio>10:bad_ratio+=1\n",
    "    if no_posts==0 or ratio > 10:\n",
    "        data['from'].append(username)\n",
    "        data['to'].append(\"jam.stones\")\n",
    "        continue\n",
    "\n",
    "    # collect data\n",
    "    for follower in following:\n",
    "        data['from'].append(username)\n",
    "        data['to'].append(follower.username)\n",
    "\n",
    "    # add JS edge\n",
    "    data['from'].append(username)\n",
    "    data['to'].append(\"jam.stones\")\n",
    "\n",
    "    # save file\n",
    "    pd.DataFrame(data).to_csv(f\"{file_name}.csv\")\n",
    "    print(f'finished js follower {idx}/{len(js_followers)}')"
   ]
  },
  {
   "cell_type": "code",
   "execution_count": null,
   "metadata": {},
   "outputs": [],
   "source": []
  },
  {
   "cell_type": "code",
   "execution_count": null,
   "metadata": {},
   "outputs": [],
   "source": []
  }
 ],
 "metadata": {
  "kernelspec": {
   "display_name": "Python 3",
   "language": "python",
   "name": "python3"
  },
  "language_info": {
   "codemirror_mode": {
    "name": "ipython",
    "version": 3
   },
   "file_extension": ".py",
   "mimetype": "text/x-python",
   "name": "python",
   "nbconvert_exporter": "python",
   "pygments_lexer": "ipython3",
   "version": "3.8.5"
  },
  "toc": {
   "base_numbering": 1,
   "nav_menu": {},
   "number_sections": true,
   "sideBar": true,
   "skip_h1_title": false,
   "title_cell": "Table of Contents",
   "title_sidebar": "Contents",
   "toc_cell": false,
   "toc_position": {},
   "toc_section_display": true,
   "toc_window_display": false
  },
  "varInspector": {
   "cols": {
    "lenName": 16,
    "lenType": 16,
    "lenVar": 40
   },
   "kernels_config": {
    "python": {
     "delete_cmd_postfix": "",
     "delete_cmd_prefix": "del ",
     "library": "var_list.py",
     "varRefreshCmd": "print(var_dic_list())"
    },
    "r": {
     "delete_cmd_postfix": ") ",
     "delete_cmd_prefix": "rm(",
     "library": "var_list.r",
     "varRefreshCmd": "cat(var_dic_list()) "
    }
   },
   "types_to_exclude": [
    "module",
    "function",
    "builtin_function_or_method",
    "instance",
    "_Feature"
   ],
   "window_display": false
  }
 },
 "nbformat": 4,
 "nbformat_minor": 4
}
