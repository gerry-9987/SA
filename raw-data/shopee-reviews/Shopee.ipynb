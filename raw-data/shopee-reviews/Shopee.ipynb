{
 "cells": [
  {
   "cell_type": "code",
   "execution_count": 1,
   "metadata": {
    "ExecuteTime": {
     "end_time": "2022-03-14T07:35:27.846486Z",
     "start_time": "2022-03-14T07:35:27.034026Z"
    }
   },
   "outputs": [],
   "source": [
    "import re\n",
    "import json\n",
    "import requests\n",
    "import pandas as pd\n",
    "from IPython.display import clear_output\n"
   ]
  },
  {
   "cell_type": "markdown",
   "metadata": {},
   "source": [
    "## Get reviews from list of itemids"
   ]
  },
  {
   "cell_type": "code",
   "execution_count": 4,
   "metadata": {
    "ExecuteTime": {
     "end_time": "2022-03-10T10:52:14.310865Z",
     "start_time": "2022-03-10T10:34:04.585687Z"
    },
    "scrolled": false
   },
   "outputs": [
    {
     "name": "stdout",
     "output_type": "stream",
     "text": [
      "99.77% done\n",
      "886 reviews collated\n"
     ]
    }
   ],
   "source": [
    "shop_id = \"57629270\"\n",
    "df_items = pd.read_csv(\"item_ids.csv\")\n",
    "item_ids = df_items['item_id']\n",
    "# item_ids = [\"11355326722\"]\n",
    "\n",
    "# Loop item ids\n",
    "for idx, item_id in enumerate(item_ids):\n",
    "    item_id = item_ids[0]\n",
    "    ratings_url = \"https://shopee.sg/api/v2/item/get_ratings?filter=0&flag=1&itemid={item_id}&limit=20&offset={offset}&shopid={shop_id}&type=0\"\n",
    "\n",
    "    offset = 0\n",
    "    d = {\"username\": [], \"rating\": [], \"comment\": []}\n",
    "    while True:\n",
    "        data = requests.get(\n",
    "            ratings_url.format(shop_id=shop_id, item_id=item_id, offset=offset)\n",
    "        ).json()\n",
    "\n",
    "        i = 1\n",
    "        for i, rating in enumerate(data[\"data\"][\"ratings\"], 1):\n",
    "            d[\"username\"].append(rating[\"author_username\"])\n",
    "            d[\"rating\"].append(rating[\"rating_star\"])\n",
    "            d[\"comment\"].append(rating[\"comment\"])\n",
    "            \n",
    "\n",
    "        if i % 20:\n",
    "            break\n",
    "\n",
    "        offset += 20\n",
    "        \n",
    "    # Finished looping that itemid\n",
    "    clear_output(wait=True)\n",
    "    print(f\"{round(idx/len(item_ids)*100,2)}% done\")\n",
    "    \n",
    "df = pd.DataFrame(d)\n",
    "print(f\"{len(df)} reviews collated\")\n",
    "df.to_csv(\"data.csv\", index=False)"
   ]
  },
  {
   "cell_type": "code",
   "execution_count": 8,
   "metadata": {
    "ExecuteTime": {
     "end_time": "2022-03-14T07:38:05.714461Z",
     "start_time": "2022-03-14T07:38:05.706444Z"
    }
   },
   "outputs": [],
   "source": [
    "df_reviews = pd.read_csv(\"data.csv\")"
   ]
  },
  {
   "cell_type": "code",
   "execution_count": 9,
   "metadata": {
    "ExecuteTime": {
     "end_time": "2022-03-14T07:38:09.905470Z",
     "start_time": "2022-03-14T07:38:09.893606Z"
    }
   },
   "outputs": [
    {
     "data": {
      "text/html": [
       "<div>\n",
       "<style scoped>\n",
       "    .dataframe tbody tr th:only-of-type {\n",
       "        vertical-align: middle;\n",
       "    }\n",
       "\n",
       "    .dataframe tbody tr th {\n",
       "        vertical-align: top;\n",
       "    }\n",
       "\n",
       "    .dataframe thead th {\n",
       "        text-align: right;\n",
       "    }\n",
       "</style>\n",
       "<table border=\"1\" class=\"dataframe\">\n",
       "  <thead>\n",
       "    <tr style=\"text-align: right;\">\n",
       "      <th></th>\n",
       "      <th>username</th>\n",
       "      <th>rating</th>\n",
       "      <th>comment</th>\n",
       "    </tr>\n",
       "  </thead>\n",
       "  <tbody>\n",
       "    <tr>\n",
       "      <th>0</th>\n",
       "      <td>s*****y</td>\n",
       "      <td>5</td>\n",
       "      <td>Gorgeous tanzanite pieces! Quality of the jewe...</td>\n",
       "    </tr>\n",
       "    <tr>\n",
       "      <th>1</th>\n",
       "      <td>s*****8</td>\n",
       "      <td>5</td>\n",
       "      <td>Well received via my doorstep. Have been buyin...</td>\n",
       "    </tr>\n",
       "    <tr>\n",
       "      <th>2</th>\n",
       "      <td>n*****9</td>\n",
       "      <td>5</td>\n",
       "      <td>Received the bracelet within in 6 days. Love i...</td>\n",
       "    </tr>\n",
       "    <tr>\n",
       "      <th>3</th>\n",
       "      <td>s*****y</td>\n",
       "      <td>5</td>\n",
       "      <td>Gorgeous tanzanite pieces! Quality of the jewe...</td>\n",
       "    </tr>\n",
       "    <tr>\n",
       "      <th>4</th>\n",
       "      <td>merielyng.salvador</td>\n",
       "      <td>5</td>\n",
       "      <td>Super nice and elegant, worth it and very good...</td>\n",
       "    </tr>\n",
       "    <tr>\n",
       "      <th>...</th>\n",
       "      <td>...</td>\n",
       "      <td>...</td>\n",
       "      <td>...</td>\n",
       "    </tr>\n",
       "    <tr>\n",
       "      <th>575</th>\n",
       "      <td>woomien</td>\n",
       "      <td>5</td>\n",
       "      <td>NaN</td>\n",
       "    </tr>\n",
       "    <tr>\n",
       "      <th>576</th>\n",
       "      <td>sgoh20</td>\n",
       "      <td>5</td>\n",
       "      <td>NaN</td>\n",
       "    </tr>\n",
       "    <tr>\n",
       "      <th>577</th>\n",
       "      <td>stalky79</td>\n",
       "      <td>5</td>\n",
       "      <td>NaN</td>\n",
       "    </tr>\n",
       "    <tr>\n",
       "      <th>578</th>\n",
       "      <td>pxdpolesg</td>\n",
       "      <td>5</td>\n",
       "      <td>NaN</td>\n",
       "    </tr>\n",
       "    <tr>\n",
       "      <th>579</th>\n",
       "      <td>_ireneam_</td>\n",
       "      <td>5</td>\n",
       "      <td>I love it!</td>\n",
       "    </tr>\n",
       "  </tbody>\n",
       "</table>\n",
       "<p>580 rows × 3 columns</p>\n",
       "</div>"
      ],
      "text/plain": [
       "               username  rating  \\\n",
       "0               s*****y       5   \n",
       "1               s*****8       5   \n",
       "2               n*****9       5   \n",
       "3               s*****y       5   \n",
       "4    merielyng.salvador       5   \n",
       "..                  ...     ...   \n",
       "575             woomien       5   \n",
       "576              sgoh20       5   \n",
       "577            stalky79       5   \n",
       "578           pxdpolesg       5   \n",
       "579           _ireneam_       5   \n",
       "\n",
       "                                               comment  \n",
       "0    Gorgeous tanzanite pieces! Quality of the jewe...  \n",
       "1    Well received via my doorstep. Have been buyin...  \n",
       "2    Received the bracelet within in 6 days. Love i...  \n",
       "3    Gorgeous tanzanite pieces! Quality of the jewe...  \n",
       "4    Super nice and elegant, worth it and very good...  \n",
       "..                                                 ...  \n",
       "575                                                NaN  \n",
       "576                                                NaN  \n",
       "577                                                NaN  \n",
       "578                                                NaN  \n",
       "579                                         I love it!  \n",
       "\n",
       "[580 rows x 3 columns]"
      ]
     },
     "execution_count": 9,
     "metadata": {},
     "output_type": "execute_result"
    }
   ],
   "source": [
    "df_reviews"
   ]
  },
  {
   "cell_type": "markdown",
   "metadata": {},
   "source": [
    "## Get itemids from Jamstones"
   ]
  },
  {
   "cell_type": "code",
   "execution_count": 3,
   "metadata": {
    "ExecuteTime": {
     "end_time": "2022-03-14T07:36:00.830696Z",
     "start_time": "2022-03-14T07:36:00.198916Z"
    }
   },
   "outputs": [
    {
     "name": "stdout",
     "output_type": "stream",
     "text": [
      "429\n"
     ]
    }
   ],
   "source": [
    "import requests\n",
    "\n",
    "shopid = \"57629270\"\n",
    "d = {\"item_id\":[], 'name':[]}\n",
    "newest = 0\n",
    "\n",
    "while len(d['name']) == 0 or len(d['name']) % 100 == 0:\n",
    "\n",
    "    url = f\"https://shopee.sg/api/v4/search/search_items?by=pop&limit=100&match_id=57629270&newest={newest}&order=desc&page_type=shop&scenario=PAGE_OTHERS&version=2\"\n",
    "\n",
    "    headers = {\n",
    "        'User-Agent': 'Mozilla/5.0 (X11; Linux x86_64; rv:73.0) Gecko/20100101 Firefox/73.0',\n",
    "        'X-Requested-With': 'XMLHttpRequest',\n",
    "        'Referer': 'https://shopee.tw/shop/1819984/search?shopCollection=9271157',\n",
    "    }    \n",
    "\n",
    "    r = requests.get(url, headers=headers)\n",
    "    data = r.json()\n",
    "    newest += len(data['items'])\n",
    "    \n",
    "    for item in data['items']:\n",
    "        d['item_id'].append(item['itemid'])\n",
    "        d['name'].append(item['item_basic']['name'])\n",
    "\n",
    "print(len(d['name']))"
   ]
  },
  {
   "cell_type": "code",
   "execution_count": 4,
   "metadata": {
    "ExecuteTime": {
     "end_time": "2022-03-14T07:36:08.239725Z",
     "start_time": "2022-03-14T07:36:08.229227Z"
    }
   },
   "outputs": [],
   "source": [
    "pd.DataFrame(d).to_csv(\"item_ids.csv\")"
   ]
  },
  {
   "cell_type": "code",
   "execution_count": 6,
   "metadata": {
    "ExecuteTime": {
     "end_time": "2022-03-14T07:36:14.617764Z",
     "start_time": "2022-03-14T07:36:14.605678Z"
    }
   },
   "outputs": [],
   "source": [
    "df_items = pd.read_csv(\"item_ids.csv\")"
   ]
  },
  {
   "cell_type": "code",
   "execution_count": 7,
   "metadata": {
    "ExecuteTime": {
     "end_time": "2022-03-14T07:36:17.916679Z",
     "start_time": "2022-03-14T07:36:17.900692Z"
    }
   },
   "outputs": [
    {
     "data": {
      "text/html": [
       "<div>\n",
       "<style scoped>\n",
       "    .dataframe tbody tr th:only-of-type {\n",
       "        vertical-align: middle;\n",
       "    }\n",
       "\n",
       "    .dataframe tbody tr th {\n",
       "        vertical-align: top;\n",
       "    }\n",
       "\n",
       "    .dataframe thead th {\n",
       "        text-align: right;\n",
       "    }\n",
       "</style>\n",
       "<table border=\"1\" class=\"dataframe\">\n",
       "  <thead>\n",
       "    <tr style=\"text-align: right;\">\n",
       "      <th></th>\n",
       "      <th>Unnamed: 0</th>\n",
       "      <th>item_id</th>\n",
       "      <th>name</th>\n",
       "    </tr>\n",
       "  </thead>\n",
       "  <tbody>\n",
       "    <tr>\n",
       "      <th>0</th>\n",
       "      <td>0</td>\n",
       "      <td>11355326722</td>\n",
       "      <td>*PAYMENT * Live Sale $1 Listing [Jamstones Lav...</td>\n",
       "    </tr>\n",
       "    <tr>\n",
       "      <th>1</th>\n",
       "      <td>1</td>\n",
       "      <td>11335219964</td>\n",
       "      <td>[Jamstones x Lavval] Healing Crystal Tree</td>\n",
       "    </tr>\n",
       "    <tr>\n",
       "      <th>2</th>\n",
       "      <td>2</td>\n",
       "      <td>11855320485</td>\n",
       "      <td>[Jamstones x Lavval] Wealth Money Bag Crystal ...</td>\n",
       "    </tr>\n",
       "    <tr>\n",
       "      <th>3</th>\n",
       "      <td>3</td>\n",
       "      <td>12921114204</td>\n",
       "      <td>[Jamstones x Lavval] Miffy Rabbit Crystal Resin</td>\n",
       "    </tr>\n",
       "    <tr>\n",
       "      <th>4</th>\n",
       "      <td>4</td>\n",
       "      <td>8185645925</td>\n",
       "      <td>[Jamstones x Lavval] Sugar &amp; Spice Necklace (L...</td>\n",
       "    </tr>\n",
       "    <tr>\n",
       "      <th>...</th>\n",
       "      <td>...</td>\n",
       "      <td>...</td>\n",
       "      <td>...</td>\n",
       "    </tr>\n",
       "    <tr>\n",
       "      <th>424</th>\n",
       "      <td>424</td>\n",
       "      <td>14959078466</td>\n",
       "      <td>[Jamstones X Lavval] Leia Pixiu</td>\n",
       "    </tr>\n",
       "    <tr>\n",
       "      <th>425</th>\n",
       "      <td>425</td>\n",
       "      <td>14661872336</td>\n",
       "      <td>[Jamstones x Lavval] True Love</td>\n",
       "    </tr>\n",
       "    <tr>\n",
       "      <th>426</th>\n",
       "      <td>426</td>\n",
       "      <td>11623040204</td>\n",
       "      <td>[Jamstones x Lavval] Clear Quartz Solitaire (H...</td>\n",
       "    </tr>\n",
       "    <tr>\n",
       "      <th>427</th>\n",
       "      <td>427</td>\n",
       "      <td>8698649395</td>\n",
       "      <td>[Jamstones X Lavval] Elena Pixiu</td>\n",
       "    </tr>\n",
       "    <tr>\n",
       "      <th>428</th>\n",
       "      <td>428</td>\n",
       "      <td>7796582987</td>\n",
       "      <td>[Jamstones x Lavval] Aquarius Crystal Bracelet...</td>\n",
       "    </tr>\n",
       "  </tbody>\n",
       "</table>\n",
       "<p>429 rows × 3 columns</p>\n",
       "</div>"
      ],
      "text/plain": [
       "     Unnamed: 0      item_id  \\\n",
       "0             0  11355326722   \n",
       "1             1  11335219964   \n",
       "2             2  11855320485   \n",
       "3             3  12921114204   \n",
       "4             4   8185645925   \n",
       "..          ...          ...   \n",
       "424         424  14959078466   \n",
       "425         425  14661872336   \n",
       "426         426  11623040204   \n",
       "427         427   8698649395   \n",
       "428         428   7796582987   \n",
       "\n",
       "                                                  name  \n",
       "0    *PAYMENT * Live Sale $1 Listing [Jamstones Lav...  \n",
       "1            [Jamstones x Lavval] Healing Crystal Tree  \n",
       "2    [Jamstones x Lavval] Wealth Money Bag Crystal ...  \n",
       "3      [Jamstones x Lavval] Miffy Rabbit Crystal Resin  \n",
       "4    [Jamstones x Lavval] Sugar & Spice Necklace (L...  \n",
       "..                                                 ...  \n",
       "424                    [Jamstones X Lavval] Leia Pixiu  \n",
       "425                     [Jamstones x Lavval] True Love  \n",
       "426  [Jamstones x Lavval] Clear Quartz Solitaire (H...  \n",
       "427                   [Jamstones X Lavval] Elena Pixiu  \n",
       "428  [Jamstones x Lavval] Aquarius Crystal Bracelet...  \n",
       "\n",
       "[429 rows x 3 columns]"
      ]
     },
     "execution_count": 7,
     "metadata": {},
     "output_type": "execute_result"
    }
   ],
   "source": [
    "df_items"
   ]
  }
 ],
 "metadata": {
  "kernelspec": {
   "display_name": "Python 3",
   "language": "python",
   "name": "python3"
  },
  "language_info": {
   "codemirror_mode": {
    "name": "ipython",
    "version": 3
   },
   "file_extension": ".py",
   "mimetype": "text/x-python",
   "name": "python",
   "nbconvert_exporter": "python",
   "pygments_lexer": "ipython3",
   "version": "3.8.5"
  },
  "toc": {
   "base_numbering": 1,
   "nav_menu": {},
   "number_sections": true,
   "sideBar": true,
   "skip_h1_title": false,
   "title_cell": "Table of Contents",
   "title_sidebar": "Contents",
   "toc_cell": false,
   "toc_position": {},
   "toc_section_display": true,
   "toc_window_display": false
  },
  "varInspector": {
   "cols": {
    "lenName": 16,
    "lenType": 16,
    "lenVar": 40
   },
   "kernels_config": {
    "python": {
     "delete_cmd_postfix": "",
     "delete_cmd_prefix": "del ",
     "library": "var_list.py",
     "varRefreshCmd": "print(var_dic_list())"
    },
    "r": {
     "delete_cmd_postfix": ") ",
     "delete_cmd_prefix": "rm(",
     "library": "var_list.r",
     "varRefreshCmd": "cat(var_dic_list()) "
    }
   },
   "types_to_exclude": [
    "module",
    "function",
    "builtin_function_or_method",
    "instance",
    "_Feature"
   ],
   "window_display": false
  }
 },
 "nbformat": 4,
 "nbformat_minor": 4
}
