{
 "cells": [
  {
   "cell_type": "code",
   "execution_count": 1,
   "metadata": {
    "ExecuteTime": {
     "end_time": "2022-03-24T09:53:42.239375Z",
     "start_time": "2022-03-24T09:53:42.236413Z"
    }
   },
   "outputs": [
    {
     "name": "stderr",
     "output_type": "stream",
     "text": [
      "C:\\Users\\wslee.2019\\Anaconda3\\lib\\site-packages\\win_unicode_console\\__init__.py:31: RuntimeWarning: sys.stdin.encoding == 'utf-8', whereas sys.stdout.encoding == 'UTF-8', readline hook consumer may assume they are the same\n",
      "  readline_hook.enable(use_pyreadline=use_pyreadline)\n"
     ]
    }
   ],
   "source": [
    "import instaloader\n",
    "from decouple import config\n",
    "from IPython.display import clear_output\n",
    "import pandas as pd\n",
    "import time"
   ]
  },
  {
   "cell_type": "code",
   "execution_count": 2,
   "metadata": {
    "ExecuteTime": {
     "end_time": "2022-03-24T09:54:52.512025Z",
     "start_time": "2022-03-24T09:54:39.610392Z"
    }
   },
   "outputs": [
    {
     "name": "stdout",
     "output_type": "stream",
     "text": [
      "extra_exta\n",
      "Likea_boss9987\n"
     ]
    }
   ],
   "source": [
    "# change code accordingly & add insta credentials to .env file\n",
    "\n",
    "accounts = ['',1,2,3]\n",
    "account = accounts[2]\n",
    "USER = config('USER')\n",
    "PASSWORD = config('PASSWORD')\n",
    "print(USER)\n",
    "print(PASSWORD)\n",
    "L = instaloader.Instaloader()\n",
    "L.login(USER, PASSWORD)"
   ]
  },
  {
   "cell_type": "code",
   "execution_count": 10,
   "metadata": {
    "ExecuteTime": {
     "end_time": "2022-03-24T09:56:09.366784Z",
     "start_time": "2022-03-24T09:56:09.349260Z"
    }
   },
   "outputs": [],
   "source": [
    "js_followers = pd.read_csv('followers.csv')['0']\n",
    "\n",
    "# change the start & end index\n",
    "start = 1000\n",
    "end = 2000\n",
    "# file_name = f'edges_{start}_to{end}'\n",
    "file_name = f'JS_followers_info_{start}_to{end}'\n",
    "\n",
    "# swap the comments below if running code the first time\n",
    "# try:\n",
    "#     edges = pd.read_csv(f'{file_name}.csv')\n",
    "#     data = edges[['from','to']].to_dict('list')\n",
    "#     print(\"csv found\")\n",
    "#     edges['from'].value_counts()\n",
    "#     x=edges.groupby('from')[['to']].count().reset_index().sort_values(by='to')\n",
    "#     print(\"accounts scraped (not private or rejected):\", x[x['to']>1]['to'].count())\n",
    "# except:\n",
    "#     data = {'from':[], 'to':[]}\n",
    "    # print('csv not found, created new one')\n",
    "\n",
    "data = {'follower':[], 'no_of_followers':[], 'no_of_followees':[], 'is_private':[], 'ratio':[], 'no_of_posts':[]} #, 'possible_candidate':[]}\n",
    "    \n"
   ]
  },
  {
   "cell_type": "code",
   "execution_count": 11,
   "metadata": {
    "ExecuteTime": {
     "start_time": "2022-03-24T09:56:14.644Z"
    },
    "scrolled": true
   },
   "outputs": [
    {
     "name": "stdout",
     "output_type": "stream",
     "text": [
      "doing clinther who is following 393 accounts\n",
      "Private:True Posts:33 Ratio:3.2\n",
      "finished js follower 1000/13404\n",
      "doing shirleen87 who is following 637 accounts\n",
      "Private:True Posts:10 Ratio:11.2\n",
      "finished js follower 1001/13404\n",
      "doing heidy_chong who is following 1576 accounts\n",
      "Private:False Posts:109 Ratio:4.3\n",
      "finished js follower 1002/13404\n",
      "doing rynn_lynnie who is following 513 accounts\n",
      "Private:True Posts:230 Ratio:6.4\n",
      "finished js follower 1003/13404\n",
      "doing eeliantam who is following 1287 accounts\n",
      "Private:True Posts:4249 Ratio:3.6\n",
      "finished js follower 1004/13404\n",
      "doing siti.yatimah24 who is following 1095 accounts\n",
      "Private:True Posts:319 Ratio:8.9\n",
      "finished js follower 1005/13404\n",
      "doing esthertay26 who is following 104 accounts\n",
      "Private:False Posts:0 Ratio:17.3\n",
      "finished js follower 1006/13404\n",
      "doing mamadee.sg who is following 993 accounts\n",
      "Private:True Posts:693 Ratio:1.5\n",
      "finished js follower 1007/13404\n",
      "doing jojo_ong25 who is following 589 accounts\n",
      "Private:True Posts:2460 Ratio:2.3\n",
      "finished js follower 1008/13404\n",
      "doing amberral who is following 1222 accounts\n",
      "Private:False Posts:1911 Ratio:1.4\n",
      "finished js follower 1009/13404\n",
      "doing ellure_ariel_pinky_sp who is following 326 accounts\n",
      "Private:False Posts:165 Ratio:1.6\n",
      "finished js follower 1010/13404\n",
      "doing poppy_donel who is following 12 accounts\n",
      "Private:True Posts:0 Ratio:12.0\n",
      "finished js follower 1011/13404\n",
      "doing janice_teo16 who is following 415 accounts\n",
      "Private:True Posts:13 Ratio:3.2\n",
      "finished js follower 1012/13404\n",
      "doing rajessie_misschief who is following 1671 accounts\n",
      "Private:True Posts:944 Ratio:1.5\n",
      "finished js follower 1013/13404\n",
      "doing fanggling who is following 338 accounts\n",
      "Private:True Posts:95 Ratio:1.5\n",
      "finished js follower 1014/13404\n",
      "doing ever.ylittlethingmatters who is following 888 accounts\n",
      "Private:True Posts:395 Ratio:1.7\n",
      "finished js follower 1015/13404\n"
     ]
    },
    {
     "name": "stderr",
     "output_type": "stream",
     "text": [
      "JSON Query to shianne_mummy/feed/: 404 Not Found [retrying; skip with ^C]\n",
      "JSON Query to shianne_mummy/feed/: 404 Not Found [retrying; skip with ^C]\n"
     ]
    },
    {
     "name": "stdout",
     "output_type": "stream",
     "text": [
      "doing shianne_mummy who is following 888 accounts\n",
      "Private:True Posts:395 Ratio:1.7\n",
      "finished js follower 1016/13404\n",
      "doing jennychou627 who is following 519 accounts\n",
      "Private:False Posts:278 Ratio:2.4\n",
      "finished js follower 1017/13404\n",
      "doing annettsia who is following 546 accounts\n",
      "Private:False Posts:299 Ratio:1.5\n",
      "finished js follower 1018/13404\n",
      "doing twilnyn who is following 1108 accounts\n",
      "Private:False Posts:109 Ratio:1.0\n",
      "finished js follower 1019/13404\n",
      "doing jerlynchua79 who is following 1358 accounts\n",
      "Private:True Posts:369 Ratio:7.7\n",
      "finished js follower 1020/13404\n",
      "doing erynn_ong who is following 223 accounts\n",
      "Private:True Posts:5 Ratio:1.0\n",
      "finished js follower 1021/13404\n",
      "doing ng.michelle who is following 286 accounts\n",
      "Private:True Posts:28 Ratio:5.7\n",
      "finished js follower 1022/13404\n",
      "doing wlnnle who is following 1165 accounts\n",
      "Private:True Posts:567 Ratio:1.3\n",
      "finished js follower 1023/13404\n",
      "doing tammie_1309 who is following 615 accounts\n",
      "Private:False Posts:672 Ratio:1.6\n",
      "finished js follower 1024/13404\n",
      "doing judyosk who is following 131 accounts\n",
      "Private:True Posts:41 Ratio:4.5\n",
      "finished js follower 1025/13404\n",
      "doing banupriya114 who is following 857 accounts\n",
      "Private:True Posts:990 Ratio:3.4\n",
      "finished js follower 1026/13404\n",
      "doing enipu23 who is following 1411 accounts\n",
      "Private:False Posts:907 Ratio:7.1\n",
      "finished js follower 1027/13404\n",
      "doing wendytoh_ who is following 494 accounts\n",
      "Private:True Posts:561 Ratio:1.9\n",
      "finished js follower 1028/13404\n",
      "doing suiequn who is following 300 accounts\n",
      "Private:True Posts:36 Ratio:2.6\n",
      "finished js follower 1029/13404\n",
      "doing priscilla.yong who is following 158 accounts\n",
      "Private:True Posts:71 Ratio:2.3\n",
      "finished js follower 1030/13404\n",
      "doing ai_delin_er who is following 1923 accounts\n",
      "Private:True Posts:2157 Ratio:6.4\n",
      "finished js follower 1031/13404\n",
      "doing aviaannaaaa who is following 4950 accounts\n",
      "Private:True Posts:6 Ratio:4.8\n",
      "finished js follower 1032/13404\n",
      "doing szestobte who is following 1990 accounts\n",
      "Private:False Posts:383 Ratio:3.7\n",
      "finished js follower 1033/13404\n",
      "doing byrheasg who is following 228 accounts\n",
      "Private:False Posts:39 Ratio:1.3\n",
      "finished js follower 1034/13404\n",
      "doing midinthemiddle82 who is following 3915 accounts\n",
      "Private:True Posts:2799 Ratio:14.9\n",
      "finished js follower 1035/13404\n",
      "doing jstandsforjessie who is following 841 accounts\n",
      "Private:True Posts:263 Ratio:7.0\n",
      "finished js follower 1036/13404\n",
      "doing nic_cml who is following 668 accounts\n",
      "Private:True Posts:633 Ratio:3.7\n",
      "finished js follower 1037/13404\n",
      "doing elineling10 who is following 342 accounts\n",
      "Private:True Posts:274 Ratio:1.5\n",
      "finished js follower 1038/13404\n",
      "doing all.sparks who is following 1581 accounts\n",
      "Private:True Posts:22 Ratio:1581.0\n",
      "finished js follower 1039/13404\n",
      "doing sootoongg who is following 436 accounts\n",
      "Private:True Posts:88 Ratio:0.9\n",
      "finished js follower 1040/13404\n",
      "doing joannewg who is following 546 accounts\n",
      "Private:False Posts:1051 Ratio:2.0\n",
      "finished js follower 1041/13404\n",
      "doing veron3129 who is following 402 accounts\n",
      "Private:True Posts:313 Ratio:2.7\n",
      "finished js follower 1042/13404\n",
      "doing jesteeyl who is following 1158 accounts\n",
      "Private:True Posts:1239 Ratio:4.0\n",
      "finished js follower 1043/13404\n",
      "doing kaylynzlife who is following 296 accounts\n",
      "Private:True Posts:571 Ratio:1.1\n",
      "finished js follower 1044/13404\n",
      "doing august.meimei.lambo who is following 2002 accounts\n",
      "Private:False Posts:6131 Ratio:1.1\n",
      "finished js follower 1045/13404\n",
      "doing kuay22 who is following 365 accounts\n",
      "Private:True Posts:719 Ratio:5.8\n",
      "finished js follower 1046/13404\n",
      "doing xinlian who is following 1241 accounts\n",
      "Private:True Posts:110 Ratio:6.9\n",
      "finished js follower 1047/13404\n",
      "doing jean_txng who is following 712 accounts\n",
      "Private:True Posts:5 Ratio:2.4\n",
      "finished js follower 1048/13404\n",
      "doing cheesystarlove who is following 3407 accounts\n",
      "Private:True Posts:1039 Ratio:10.0\n",
      "finished js follower 1049/13404\n",
      "doing mitsui22 who is following 173 accounts\n",
      "Private:False Posts:23 Ratio:1.5\n",
      "finished js follower 1050/13404\n",
      "doing xoxo_ttm who is following 751 accounts\n",
      "Private:True Posts:2 Ratio:5.4\n",
      "finished js follower 1051/13404\n",
      "doing skx.rain who is following 1331 accounts\n",
      "Private:True Posts:1207 Ratio:3.1\n",
      "finished js follower 1052/13404\n",
      "doing charmed_angels who is following 388 accounts\n",
      "Private:False Posts:94 Ratio:1.7\n",
      "finished js follower 1053/13404\n",
      "doing agnespangsm who is following 1067 accounts\n",
      "Private:True Posts:119 Ratio:4.3\n",
      "finished js follower 1054/13404\n",
      "doing mrsdawnleong who is following 472 accounts\n",
      "Private:True Posts:7 Ratio:22.5\n",
      "finished js follower 1055/13404\n",
      "doing x.x.hui.x.x who is following 652 accounts\n",
      "Private:True Posts:0 Ratio:4.2\n",
      "finished js follower 1056/13404\n",
      "doing delyth_pixie who is following 555 accounts\n",
      "Private:False Posts:452 Ratio:1.1\n",
      "finished js follower 1057/13404\n",
      "doing hanisah_leng who is following 489 accounts\n",
      "Private:False Posts:0 Ratio:4.4\n",
      "finished js follower 1058/13404\n"
     ]
    },
    {
     "name": "stderr",
     "output_type": "stream",
     "text": [
      "JSON Query to bblchica/feed/: 404 Not Found [retrying; skip with ^C]\n",
      "JSON Query to bblchica/feed/: 404 Not Found [retrying; skip with ^C]\n"
     ]
    },
    {
     "name": "stdout",
     "output_type": "stream",
     "text": [
      "doing bblchica who is following 489 accounts\n",
      "Private:False Posts:0 Ratio:4.4\n",
      "finished js follower 1059/13404\n",
      "doing lindalvin who is following 597 accounts\n",
      "Private:True Posts:1050 Ratio:2.4\n",
      "finished js follower 1060/13404\n",
      "doing teoernest who is following 372 accounts\n",
      "Private:True Posts:91 Ratio:1.4\n",
      "finished js follower 1061/13404\n",
      "doing maoludovic who is following 714 accounts\n",
      "Private:True Posts:233 Ratio:3.8\n",
      "finished js follower 1062/13404\n",
      "doing conniesim.73 who is following 1324 accounts\n",
      "Private:True Posts:1102 Ratio:3.2\n",
      "finished js follower 1063/13404\n",
      "doing xinminleeee who is following 314 accounts\n",
      "Private:False Posts:98 Ratio:1.5\n",
      "finished js follower 1064/13404\n",
      "doing theurbandogs who is following 229 accounts\n",
      "Private:True Posts:1373 Ratio:0.8\n",
      "finished js follower 1065/13404\n",
      "doing yudefishmonger who is following 1132 accounts\n",
      "Private:True Posts:105 Ratio:1.0\n",
      "finished js follower 1066/13404\n",
      "doing nicnicahnic who is following 46 accounts\n",
      "Private:True Posts:0 Ratio:46.0\n",
      "finished js follower 1067/13404\n",
      "doing jckg1314 who is following 57 accounts\n",
      "Private:True Posts:2 Ratio:1.9\n",
      "finished js follower 1068/13404\n",
      "\n",
      "Too many queries in the last time. Need to wait 458 seconds, until 20:34.\n"
     ]
    }
   ],
   "source": [
    "exceptions = {}\n",
    "account_pointer = 0\n",
    "\n",
    "# stats\n",
    "privates = 0\n",
    "no_posts = 0\n",
    "bad_ratio = 0\n",
    "# possible_candidate = 'Yes'\n",
    "\n",
    "# while True:\n",
    "for idx, username in enumerate(js_followers):\n",
    "\n",
    "    # change the number below\n",
    "    if idx == end:break\n",
    "    if idx < start:continue\n",
    "    # if username in data['from']:continue\n",
    "\n",
    "    # Loader\n",
    "    try:\n",
    "        profile = instaloader.Profile.from_username(L.context, username)\n",
    "        followers = profile.followers\n",
    "        following = profile.followees\n",
    "    except Exception as e:\n",
    "        if e in exceptions.keys():exceptions[e]+=1\n",
    "        else:exceptions[e]=1\n",
    "\n",
    "    # variables\n",
    "    is_private = profile.is_private\n",
    "    no_posts = profile.mediacount\n",
    "    ratio = profile.followees/(profile.followers or not profile.followers)\n",
    "    print(f'doing {username} who is following {profile.followees} accounts')\n",
    "    print(f\"Private:{is_private} Posts:{no_posts} Ratio:{round(ratio,1)}\")\n",
    "\n",
    "        # checks\n",
    "        # if is_private or no_posts < 5 or ratio > 1 or followers < 500:\n",
    "        #     possible_candidate = 'No'\n",
    "          \n",
    "\n",
    "    data['follower'].append(username)\n",
    "    data['no_of_followers'].append(followers)\n",
    "    data['no_of_followees'].append(following)\n",
    "    data['is_private'].append(is_private)\n",
    "    data['ratio'].append(ratio)\n",
    "    data['no_of_posts'].append(no_posts)\n",
    "    # data['possible_candidate'].append(possible_candidate)\n",
    "\n",
    "    # save file\n",
    "    pd.DataFrame(data).to_csv(\"JS_Followers_Info/\"f\"{file_name}.csv\")\n",
    "\n",
    "    print(f'finished js follower {idx}/{len(js_followers)}')"
   ]
  }
 ],
 "metadata": {
  "kernelspec": {
   "display_name": "Python 3",
   "language": "python",
   "name": "python3"
  },
  "language_info": {
   "codemirror_mode": {
    "name": "ipython",
    "version": 3
   },
   "file_extension": ".py",
   "mimetype": "text/x-python",
   "name": "python",
   "nbconvert_exporter": "python",
   "pygments_lexer": "ipython3",
   "version": "3.8.5"
  },
  "toc": {
   "base_numbering": 1,
   "nav_menu": {},
   "number_sections": true,
   "sideBar": true,
   "skip_h1_title": false,
   "title_cell": "Table of Contents",
   "title_sidebar": "Contents",
   "toc_cell": false,
   "toc_position": {},
   "toc_section_display": true,
   "toc_window_display": false
  },
  "varInspector": {
   "cols": {
    "lenName": 16,
    "lenType": 16,
    "lenVar": 40
   },
   "kernels_config": {
    "python": {
     "delete_cmd_postfix": "",
     "delete_cmd_prefix": "del ",
     "library": "var_list.py",
     "varRefreshCmd": "print(var_dic_list())"
    },
    "r": {
     "delete_cmd_postfix": ") ",
     "delete_cmd_prefix": "rm(",
     "library": "var_list.r",
     "varRefreshCmd": "cat(var_dic_list()) "
    }
   },
   "types_to_exclude": [
    "module",
    "function",
    "builtin_function_or_method",
    "instance",
    "_Feature"
   ],
   "window_display": false
  }
 },
 "nbformat": 4,
 "nbformat_minor": 4
}
