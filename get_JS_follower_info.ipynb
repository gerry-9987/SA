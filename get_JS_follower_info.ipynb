{
 "cells": [
  {
   "cell_type": "code",
   "execution_count": null,
   "metadata": {
    "ExecuteTime": {
     "end_time": "2022-03-24T09:53:42.239375Z",
     "start_time": "2022-03-24T09:53:42.236413Z"
    }
   },
   "outputs": [],
   "source": [
    "import instaloader\n",
    "from decouple import config\n",
    "from IPython.display import clear_output\n",
    "import pandas as pd\n",
    "import time"
   ]
  },
  {
   "cell_type": "code",
   "execution_count": null,
   "metadata": {
    "ExecuteTime": {
     "end_time": "2022-03-24T09:54:52.512025Z",
     "start_time": "2022-03-24T09:54:39.610392Z"
    }
   },
   "outputs": [],
   "source": [
    "# change code accordingly & add insta credentials to .env file\n",
    "\n",
    "accounts = ['',1,2,3]\n",
    "account = accounts[2]\n",
    "USER = config('USER')\n",
    "PASSWORD = config('PASSWORD')\n",
    "\n",
    "\n",
    "print(USER)\n",
    "print(PASSWORD)\n",
    "L = instaloader.Instaloader()\n",
    "L.login(USER, PASSWORD)"
   ]
  },
  {
   "cell_type": "code",
   "execution_count": null,
   "metadata": {
    "ExecuteTime": {
     "end_time": "2022-03-24T09:56:09.366784Z",
     "start_time": "2022-03-24T09:56:09.349260Z"
    }
   },
   "outputs": [],
   "source": [
    "js_followers = pd.read_csv('followers.csv')['0']\n",
    "\n",
    "# change the start & end index\n",
    "start = 10800\n",
    "end = 11000\n",
    "# file_name = f'edges_{start}_to{end}'\n",
    "file_name = f'JS_followers_info_{start}_to{end}'\n",
    "\n",
    "# swap the comments below if running code the first time\n",
    "# try:\n",
    "#     edges = pd.read_csv(f'{file_name}.csv')\n",
    "#     data = edges[['from','to']].to_dict('list')\n",
    "#     print(\"csv found\")\n",
    "#     edges['from'].value_counts()\n",
    "#     x=edges.groupby('from')[['to']].count().reset_index().sort_values(by='to')\n",
    "#     print(\"accounts scraped (not private or rejected):\", x[x['to']>1]['to'].count())\n",
    "# except:\n",
    "#     data = {'from':[], 'to':[]}\n",
    "    # print('csv not found, created new one')\n",
    "\n",
    "data = {'follower':[], 'no_of_followers':[], 'no_of_followees':[], 'is_private':[], 'ratio':[], 'no_of_posts':[]} #, 'possible_candidate':[]}\n",
    "    \n"
   ]
  },
  {
   "cell_type": "code",
   "execution_count": null,
   "metadata": {
    "ExecuteTime": {
     "start_time": "2022-03-24T09:56:14.644Z"
    },
    "scrolled": true
   },
   "outputs": [],
   "source": [
    "exceptions = {}\n",
    "account_pointer = 0\n",
    "\n",
    "# stats\n",
    "privates = 0\n",
    "no_posts = 0\n",
    "bad_ratio = 0\n",
    "# possible_candidate = 'Yes'\n",
    "\n",
    "# while True:\n",
    "for idx, username in enumerate(js_followers):\n",
    "\n",
    "    # change the number below\n",
    "    if idx == end:break\n",
    "    if idx < start:continue\n",
    "    # if username in data['from']:continue\n",
    "\n",
    "    # Loader\n",
    "    try:\n",
    "        profile = instaloader.Profile.from_username(L.context, username)\n",
    "        followers = profile.followers\n",
    "        following = profile.followees\n",
    "    except Exception as e:\n",
    "        if e in exceptions.keys():exceptions[e]+=1\n",
    "        else:exceptions[e]=1\n",
    "\n",
    "    # variables\n",
    "    is_private = profile.is_private\n",
    "    no_posts = profile.mediacount\n",
    "    ratio = profile.followees/(profile.followers or not profile.followers)\n",
    "    print(f'doing {username} who is following {profile.followees} accounts')\n",
    "    print(f\"Private:{is_private} Posts:{no_posts} Ratio:{round(ratio,1)}\")\n",
    "\n",
    "        # checks\n",
    "        # if is_private or no_posts < 5 or ratio > 1 or followers < 500:\n",
    "        #     possible_candidate = 'No'\n",
    "          \n",
    "\n",
    "    data['follower'].append(username)\n",
    "    data['no_of_followers'].append(followers)\n",
    "    data['no_of_followees'].append(following)\n",
    "    data['is_private'].append(is_private)\n",
    "    data['ratio'].append(ratio)\n",
    "    data['no_of_posts'].append(no_posts)\n",
    "    # data['possible_candidate'].append(possible_candidate)\n",
    "\n",
    "    # save file\n",
    "    pd.DataFrame(data).to_csv(\"JS_Followers_Info/\"f\"{file_name}.csv\")\n",
    "\n",
    "    print(f'finished js follower {idx}/{len(js_followers)}')"
   ]
  },
  {
   "cell_type": "code",
   "execution_count": null,
   "metadata": {},
   "outputs": [],
   "source": []
  }
 ],
 "metadata": {
  "kernelspec": {
   "display_name": "Python 3",
   "language": "python",
   "name": "python3"
  },
  "language_info": {
   "codemirror_mode": {
    "name": "ipython",
    "version": 3
   },
   "file_extension": ".py",
   "mimetype": "text/x-python",
   "name": "python",
   "nbconvert_exporter": "python",
   "pygments_lexer": "ipython3",
   "version": "3.10.0"
  },
  "toc": {
   "base_numbering": 1,
   "nav_menu": {},
   "number_sections": true,
   "sideBar": true,
   "skip_h1_title": false,
   "title_cell": "Table of Contents",
   "title_sidebar": "Contents",
   "toc_cell": false,
   "toc_position": {},
   "toc_section_display": true,
   "toc_window_display": false
  },
  "varInspector": {
   "cols": {
    "lenName": 16,
    "lenType": 16,
    "lenVar": 40
   },
   "kernels_config": {
    "python": {
     "delete_cmd_postfix": "",
     "delete_cmd_prefix": "del ",
     "library": "var_list.py",
     "varRefreshCmd": "print(var_dic_list())"
    },
    "r": {
     "delete_cmd_postfix": ") ",
     "delete_cmd_prefix": "rm(",
     "library": "var_list.r",
     "varRefreshCmd": "cat(var_dic_list()) "
    }
   },
   "types_to_exclude": [
    "module",
    "function",
    "builtin_function_or_method",
    "instance",
    "_Feature"
   ],
   "window_display": false
  }
 },
 "nbformat": 4,
 "nbformat_minor": 4
}
