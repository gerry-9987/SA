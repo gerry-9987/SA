{
 "cells": [
  {
   "cell_type": "code",
   "execution_count": 39,
   "metadata": {},
   "outputs": [],
   "source": [
    "import pandas as pd\n",
    "import numpy as np\n",
    "import json"
   ]
  },
  {
   "cell_type": "code",
   "execution_count": 40,
   "metadata": {},
   "outputs": [],
   "source": [
    "js_followers = pd.read_csv('followers.csv')['0']"
   ]
  },
  {
   "cell_type": "code",
   "execution_count": 22,
   "metadata": {},
   "outputs": [
    {
     "data": {
      "text/plain": [
       "0           gwengwenn\n",
       "1            huimin_c\n",
       "2           agent_g07\n",
       "3    agnestankimpheng\n",
       "4            umareumm\n",
       "Name: 0, dtype: object"
      ]
     },
     "execution_count": 22,
     "metadata": {},
     "output_type": "execute_result"
    }
   ],
   "source": [
    "js_followers.head()"
   ]
  },
  {
   "cell_type": "code",
   "execution_count": 41,
   "metadata": {},
   "outputs": [],
   "source": [
    "data = {'Source':[], 'Target':[]}"
   ]
  },
  {
   "cell_type": "code",
   "execution_count": 42,
   "metadata": {},
   "outputs": [],
   "source": [
    "for follower in js_followers:\n",
    "    data['Source'].append(follower)\n",
    "    data['Target'].append(\"jam.stones\")"
   ]
  },
  {
   "cell_type": "code",
   "execution_count": 43,
   "metadata": {},
   "outputs": [],
   "source": [
    "# data"
   ]
  },
  {
   "cell_type": "code",
   "execution_count": 8,
   "metadata": {},
   "outputs": [],
   "source": [
    "competitors_list = ['covetcrystalsjewelry', 'crystalmojo', 'fated.itis', 'gemstorysg', 'glacecrystals', 'illa_nocte', 'kayla.crystals', 'loveforcrystals', 'ohmou.sg', 'soulalign', 'tamzacrystals']"
   ]
  },
  {
   "cell_type": "code",
   "execution_count": 44,
   "metadata": {},
   "outputs": [],
   "source": [
    "covetcrystalsjewelry = pd.read_csv('raw-data/instagram/social-netork/competitors_followers/covetcrystalsjewelry.csv')['followers']\n",
    "crystalmojo = pd.read_csv('raw-data/instagram/social-netork/competitors_followers/crystalmojo.csv')['followers']\n",
    "fated = pd.read_csv('raw-data/instagram/social-netork/competitors_followers/fated.itis.csv')['followers']\n",
    "gemstorysg= pd.read_csv('raw-data/instagram/social-netork/competitors_followers/gemstorysg.csv')['followers']\n",
    "glacecrystals= pd.read_csv('raw-data/instagram/social-netork/competitors_followers/glacecrystals.csv')['followers']\n",
    "illa_nocte= pd.read_csv('raw-data/instagram/social-netork/competitors_followers/illa_nocte.csv')['followers']\n",
    "kayla= pd.read_csv('raw-data/instagram/social-netork/competitors_followers/kayla.crystals.csv')['followers']\n",
    "loveforcrystals= pd.read_csv('raw-data/instagram/social-netork/competitors_followers/loveforcrystals.csv')['followers']\n",
    "ohmou= pd.read_csv('raw-data/instagram/social-netork/competitors_followers/ohmou.sg.csv')['followers']\n",
    "soulalign= pd.read_csv('raw-data/instagram/social-netork/competitors_followers/soulalign.csv')['followers']\n",
    "tamzacrystals= pd.read_csv('raw-data/instagram/social-netork/competitors_followers/tamzacrystals.csv')['followers']\n"
   ]
  },
  {
   "cell_type": "code",
   "execution_count": 45,
   "metadata": {},
   "outputs": [],
   "source": [
    "for follower in covetcrystalsjewelry:\n",
    "    data['Source'].append(follower)\n",
    "    data['Target'].append(\"covetcrystalsjewelry\")"
   ]
  },
  {
   "cell_type": "code",
   "execution_count": null,
   "metadata": {},
   "outputs": [],
   "source": [
    "# data"
   ]
  },
  {
   "cell_type": "code",
   "execution_count": null,
   "metadata": {},
   "outputs": [],
   "source": [
    "for follower in crystalmojo:\n",
    "    data['Source'].append(follower)\n",
    "    data['Target'].append(\"crystalmojo\")"
   ]
  },
  {
   "cell_type": "code",
   "execution_count": null,
   "metadata": {},
   "outputs": [],
   "source": [
    "for follower in fated:\n",
    "    data['Source'].append(follower)\n",
    "    data['Target'].append(\"fated.itis\")"
   ]
  },
  {
   "cell_type": "code",
   "execution_count": null,
   "metadata": {},
   "outputs": [],
   "source": [
    "for follower in gemstorysg:\n",
    "    data['Source'].append(follower)\n",
    "    data['Target'].append(\"gemstorysg\")"
   ]
  },
  {
   "cell_type": "code",
   "execution_count": null,
   "metadata": {},
   "outputs": [],
   "source": [
    "for follower in glacecrystals:\n",
    "    data['Source'].append(follower)\n",
    "    data['Target'].append(\"glacecrystals\")"
   ]
  },
  {
   "cell_type": "code",
   "execution_count": null,
   "metadata": {},
   "outputs": [],
   "source": [
    "for follower in illa_nocte:\n",
    "    follower = follower.split(\" \")[1]\n",
    "    data['Source'].append(follower)\n",
    "    data['Target'].append(\"illa_nocte\")"
   ]
  },
  {
   "cell_type": "code",
   "execution_count": null,
   "metadata": {},
   "outputs": [],
   "source": [
    "for follower in kayla:\n",
    "    follower = follower.split(\" \")[1]\n",
    "    data['Source'].append(follower)\n",
    "    data['Target'].append(\"kayla.crystals\")"
   ]
  },
  {
   "cell_type": "code",
   "execution_count": null,
   "metadata": {},
   "outputs": [],
   "source": [
    "for follower in loveforcrystals:\n",
    "    data['Source'].append(follower)\n",
    "    data['Target'].append(\"loveforcrystals\")"
   ]
  },
  {
   "cell_type": "code",
   "execution_count": null,
   "metadata": {},
   "outputs": [],
   "source": [
    "for follower in ohmou:\n",
    "    data['Source'].append(follower)\n",
    "    data['Target'].append(\"ohmou.sg\")"
   ]
  },
  {
   "cell_type": "code",
   "execution_count": null,
   "metadata": {},
   "outputs": [],
   "source": [
    "for follower in soulalign:\n",
    "    data['Source'].append(follower)\n",
    "    data['Target'].append(\"soulalign\")"
   ]
  },
  {
   "cell_type": "code",
   "execution_count": null,
   "metadata": {},
   "outputs": [],
   "source": [
    "for follower in tamzacrystals:\n",
    "    data['Source'].append(follower)\n",
    "    data['Target'].append(\"tamzacrystals\")"
   ]
  },
  {
   "cell_type": "code",
   "execution_count": null,
   "metadata": {},
   "outputs": [],
   "source": [
    "pd.DataFrame(data).to_csv(\"crystal_industry_social_network.csv\")"
   ]
  }
 ],
 "metadata": {
  "interpreter": {
   "hash": "106906321bea6c3e561603f397830c92b146ab010eb1cdc309f0edc0a2769be0"
  },
  "kernelspec": {
   "display_name": "Python 3.8.5 ('base')",
   "language": "python",
   "name": "python3"
  },
  "language_info": {
   "codemirror_mode": {
    "name": "ipython",
    "version": 3
   },
   "file_extension": ".py",
   "mimetype": "text/x-python",
   "name": "python",
   "nbconvert_exporter": "python",
   "pygments_lexer": "ipython3",
   "version": "3.8.5"
  },
  "orig_nbformat": 4
 },
 "nbformat": 4,
 "nbformat_minor": 2
}
