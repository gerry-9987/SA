{
 "cells": [
  {
   "cell_type": "markdown",
   "metadata": {},
   "source": [
    "### 1 - Import packages"
   ]
  },
  {
   "cell_type": "code",
   "execution_count": 1,
   "metadata": {},
   "outputs": [
    {
     "name": "stderr",
     "output_type": "stream",
     "text": [
      "[nltk_data] Downloading package punkt to\n",
      "[nltk_data]     C:\\Users\\jewel\\AppData\\Roaming\\nltk_data...\n",
      "[nltk_data]   Package punkt is already up-to-date!\n",
      "[nltk_data] Downloading package averaged_perceptron_tagger to\n",
      "[nltk_data]     C:\\Users\\jewel\\AppData\\Roaming\\nltk_data...\n",
      "[nltk_data]   Package averaged_perceptron_tagger is already up-to-\n",
      "[nltk_data]       date!\n",
      "[nltk_data] Downloading package wordnet to\n",
      "[nltk_data]     C:\\Users\\jewel\\AppData\\Roaming\\nltk_data...\n",
      "[nltk_data]   Package wordnet is already up-to-date!\n",
      "[nltk_data] Downloading package stopwords to\n",
      "[nltk_data]     C:\\Users\\jewel\\AppData\\Roaming\\nltk_data...\n",
      "[nltk_data]   Package stopwords is already up-to-date!\n"
     ]
    },
    {
     "data": {
      "text/plain": [
       "True"
      ]
     },
     "execution_count": 1,
     "metadata": {},
     "output_type": "execute_result"
    }
   ],
   "source": [
    "import pandas as pd\n",
    "import html\n",
    "\n",
    "import nltk\n",
    "from nltk.stem import WordNetLemmatizer\n",
    "\n",
    "import sys\n",
    "from nltk.corpus import wordnet\n",
    "from nltk.corpus import stopwords\n",
    "from nltk.parse.malt import MaltParser\n",
    "from nltk.corpus import words\n",
    "nltk.download('punkt')\n",
    "nltk.download('averaged_perceptron_tagger')\n",
    "nltk.download('wordnet')\n",
    "nltk.download('stopwords')"
   ]
  },
  {
   "cell_type": "markdown",
   "metadata": {},
   "source": [
    "### 2 - Import data"
   ]
  },
  {
   "cell_type": "code",
   "execution_count": 2,
   "metadata": {},
   "outputs": [],
   "source": [
    "reviews_df = pd.read_csv(\"../sa-data/shopee-reviews.csv\")"
   ]
  },
  {
   "cell_type": "code",
   "execution_count": 3,
   "metadata": {},
   "outputs": [
    {
     "data": {
      "text/html": [
       "<div>\n",
       "<style scoped>\n",
       "    .dataframe tbody tr th:only-of-type {\n",
       "        vertical-align: middle;\n",
       "    }\n",
       "\n",
       "    .dataframe tbody tr th {\n",
       "        vertical-align: top;\n",
       "    }\n",
       "\n",
       "    .dataframe thead th {\n",
       "        text-align: right;\n",
       "    }\n",
       "</style>\n",
       "<table border=\"1\" class=\"dataframe\">\n",
       "  <thead>\n",
       "    <tr style=\"text-align: right;\">\n",
       "      <th></th>\n",
       "      <th>username</th>\n",
       "      <th>rating</th>\n",
       "      <th>comment</th>\n",
       "    </tr>\n",
       "  </thead>\n",
       "  <tbody>\n",
       "    <tr>\n",
       "      <th>0</th>\n",
       "      <td>s*****y</td>\n",
       "      <td>5</td>\n",
       "      <td>Gorgeous tanzanite pieces! Quality of the jewe...</td>\n",
       "    </tr>\n",
       "    <tr>\n",
       "      <th>1</th>\n",
       "      <td>s*****8</td>\n",
       "      <td>5</td>\n",
       "      <td>Well received via my doorstep. Have been buyin...</td>\n",
       "    </tr>\n",
       "    <tr>\n",
       "      <th>2</th>\n",
       "      <td>n*****9</td>\n",
       "      <td>5</td>\n",
       "      <td>Received the bracelet within in 6 days. Love i...</td>\n",
       "    </tr>\n",
       "    <tr>\n",
       "      <th>3</th>\n",
       "      <td>s*****y</td>\n",
       "      <td>5</td>\n",
       "      <td>Gorgeous tanzanite pieces! Quality of the jewe...</td>\n",
       "    </tr>\n",
       "    <tr>\n",
       "      <th>4</th>\n",
       "      <td>merielyng.salvador</td>\n",
       "      <td>5</td>\n",
       "      <td>Super nice and elegant, worth it and very good...</td>\n",
       "    </tr>\n",
       "  </tbody>\n",
       "</table>\n",
       "</div>"
      ],
      "text/plain": [
       "             username  rating  \\\n",
       "0             s*****y       5   \n",
       "1             s*****8       5   \n",
       "2             n*****9       5   \n",
       "3             s*****y       5   \n",
       "4  merielyng.salvador       5   \n",
       "\n",
       "                                             comment  \n",
       "0  Gorgeous tanzanite pieces! Quality of the jewe...  \n",
       "1  Well received via my doorstep. Have been buyin...  \n",
       "2  Received the bracelet within in 6 days. Love i...  \n",
       "3  Gorgeous tanzanite pieces! Quality of the jewe...  \n",
       "4  Super nice and elegant, worth it and very good...  "
      ]
     },
     "execution_count": 3,
     "metadata": {},
     "output_type": "execute_result"
    }
   ],
   "source": [
    "reviews_df.head()"
   ]
  },
  {
   "cell_type": "code",
   "execution_count": 4,
   "metadata": {},
   "outputs": [
    {
     "data": {
      "text/plain": [
       "username     0\n",
       "rating       0\n",
       "comment     57\n",
       "dtype: int64"
      ]
     },
     "execution_count": 4,
     "metadata": {},
     "output_type": "execute_result"
    }
   ],
   "source": [
    "reviews_df.isnull().sum()"
   ]
  },
  {
   "cell_type": "markdown",
   "metadata": {},
   "source": [
    "### 3 - Filter out reviews without comments"
   ]
  },
  {
   "cell_type": "code",
   "execution_count": 5,
   "metadata": {},
   "outputs": [],
   "source": [
    "real_reviews_df = reviews_df[~reviews_df.comment.isnull()]"
   ]
  },
  {
   "cell_type": "code",
   "execution_count": 6,
   "metadata": {},
   "outputs": [
    {
     "data": {
      "text/plain": [
       "username    0\n",
       "rating      0\n",
       "comment     0\n",
       "dtype: int64"
      ]
     },
     "execution_count": 6,
     "metadata": {},
     "output_type": "execute_result"
    }
   ],
   "source": [
    "real_reviews_df.isnull().sum()"
   ]
  },
  {
   "cell_type": "markdown",
   "metadata": {},
   "source": [
    "### 4 - Helper functions for data preprocessing"
   ]
  },
  {
   "cell_type": "code",
   "execution_count": 18,
   "metadata": {},
   "outputs": [],
   "source": [
    "\"\"\"\n",
    "Code references:\n",
    "    https://pythonguides.com/remove-unicode-characters-in-python/\n",
    "    https://www.kite.com/python/answers/how-to-decode-html-entities-in-python\n",
    "\"\"\"\n",
    "def decode_text(text):\n",
    "    # remove non-ASCII characters in string\n",
    "    decoded_text = text.encode('ascii', 'ignore').decode('utf-8')\n",
    "\n",
    "    # decode HTML entities\n",
    "    decoded_html = html.unescape(decoded_text)\n",
    "    return ''.join([word for word in decoded_html if word.isprintable()])\n",
    "\n",
    "\"\"\"\n",
    "Code reference:\n",
    "    https://catriscode.com/2021/03/02/extracting-or-removing-mentions-and-hashtags-in-tweets-using-python/\n",
    "\"\"\"\n",
    "# def remove_mentions(text):\n",
    "#     return re.sub(\"@[A-Za-z0-9_]+\",\"\", text)\n",
    "\n",
    "def remove_stopwords(words_list):\n",
    "    stop_list = stopwords.words(\"english\")\n",
    "    return [word for word in words_list if word not in stop_list]\n",
    "\n",
    "def pos_to_wordnet(nltk_tag):\n",
    "    if nltk_tag.startswith('J'):\n",
    "        return wordnet.ADJ\n",
    "    elif nltk_tag.startswith('V'):\n",
    "        return wordnet.VERB\n",
    "    elif nltk_tag.startswith('N'):\n",
    "        return wordnet.NOUN\n",
    "    elif nltk_tag.startswith('R'):\n",
    "        return wordnet.ADV\n",
    "    else:\n",
    "        return None\n",
    "\n",
    "def lemmatize_words(word_list):\n",
    "    lemmatizer = nltk.stem.WordNetLemmatizer()\n",
    "    # POS (part-of-speech) tagging\n",
    "    # nltk_tagged -> a list of tuples (word, pos tag)\n",
    "    nltk_tagged = nltk.pos_tag(word_list)\n",
    "\n",
    "    # returns a list of tuples of words and their wordnet_tag (after conversion from NLTK tag)\n",
    "    wordnet_tagged = list(map(lambda x: (x[0], pos_to_wordnet(x[1])), nltk_tagged))\n",
    "\n",
    "    # lemmatizing\n",
    "    lemmatized_words = []\n",
    "    for word, tag in wordnet_tagged:\n",
    "        if tag is not None:\n",
    "            # need POS tag as 2nd argument as it helps lemmatize the words more accurately\n",
    "            lemmatized_words.append(lemmatizer.lemmatize(word, tag))\n",
    "        elif tag in [wordnet.NOUN] or word == \"lavval\" or word == \"newagefsg\":\n",
    "            lemmatized_words.append(lemmatizer.lemmatize(word))\n",
    "    return lemmatized_words\n",
    "\n",
    "def clean_original_text(text):\n",
    "    text = text.lower()\n",
    "    clean_list = []\n",
    "    sentence_list = nltk.sent_tokenize(text)\n",
    "    for sentence in sentence_list:\n",
    "        decoded_sentence = decode_text(sentence)\n",
    "        words_list = nltk.RegexpTokenizer(r'\\w+').tokenize(decoded_sentence)\n",
    "        lemmatized_words = lemmatize_words(words_list)\n",
    "        useful_words = remove_stopwords(lemmatized_words)\n",
    "\n",
    "        if len(useful_words) > 0:\n",
    "            clean_list.extend(useful_words)\n",
    "    clean_text = ' '.join(clean_list)\n",
    "    \n",
    "    return clean_text"
   ]
  },
  {
   "cell_type": "markdown",
   "metadata": {},
   "source": [
    "### 5 - Preprocess the data to obtain clean reviews"
   ]
  },
  {
   "cell_type": "code",
   "execution_count": 19,
   "metadata": {},
   "outputs": [
    {
     "name": "stderr",
     "output_type": "stream",
     "text": [
      "<ipython-input-19-e51077394f7f>:1: SettingWithCopyWarning: \n",
      "A value is trying to be set on a copy of a slice from a DataFrame.\n",
      "Try using .loc[row_indexer,col_indexer] = value instead\n",
      "\n",
      "See the caveats in the documentation: https://pandas.pydata.org/pandas-docs/stable/user_guide/indexing.html#returning-a-view-versus-a-copy\n",
      "  real_reviews_df[\"clean_comment\"] = real_reviews_df[\"comment\"].apply(clean_original_text)\n",
      "<ipython-input-19-e51077394f7f>:2: SettingWithCopyWarning: \n",
      "A value is trying to be set on a copy of a slice from a DataFrame.\n",
      "Try using .loc[row_indexer,col_indexer] = value instead\n",
      "\n",
      "See the caveats in the documentation: https://pandas.pydata.org/pandas-docs/stable/user_guide/indexing.html#returning-a-view-versus-a-copy\n",
      "  real_reviews_df[\"clean_tokens\"] = real_reviews_df[\"clean_comment\"].apply(nltk.word_tokenize)\n"
     ]
    }
   ],
   "source": [
    "real_reviews_df[\"clean_comment\"] = real_reviews_df[\"comment\"].apply(clean_original_text)\n",
    "real_reviews_df[\"clean_tokens\"] = real_reviews_df[\"clean_comment\"].apply(nltk.word_tokenize)"
   ]
  },
  {
   "cell_type": "code",
   "execution_count": 20,
   "metadata": {},
   "outputs": [
    {
     "data": {
      "text/html": [
       "<div>\n",
       "<style scoped>\n",
       "    .dataframe tbody tr th:only-of-type {\n",
       "        vertical-align: middle;\n",
       "    }\n",
       "\n",
       "    .dataframe tbody tr th {\n",
       "        vertical-align: top;\n",
       "    }\n",
       "\n",
       "    .dataframe thead th {\n",
       "        text-align: right;\n",
       "    }\n",
       "</style>\n",
       "<table border=\"1\" class=\"dataframe\">\n",
       "  <thead>\n",
       "    <tr style=\"text-align: right;\">\n",
       "      <th></th>\n",
       "      <th>username</th>\n",
       "      <th>rating</th>\n",
       "      <th>comment</th>\n",
       "      <th>clean_comment</th>\n",
       "      <th>clean_tokens</th>\n",
       "    </tr>\n",
       "  </thead>\n",
       "  <tbody>\n",
       "    <tr>\n",
       "      <th>0</th>\n",
       "      <td>s*****y</td>\n",
       "      <td>5</td>\n",
       "      <td>Gorgeous tanzanite pieces! Quality of the jewe...</td>\n",
       "      <td>gorgeous tanzanite piece quality jewelry box good</td>\n",
       "      <td>[gorgeous, tanzanite, piece, quality, jewelry,...</td>\n",
       "    </tr>\n",
       "    <tr>\n",
       "      <th>1</th>\n",
       "      <td>s*****8</td>\n",
       "      <td>5</td>\n",
       "      <td>Well received via my doorstep. Have been buyin...</td>\n",
       "      <td>well receive doorstep buy many bracelet jamsto...</td>\n",
       "      <td>[well, receive, doorstep, buy, many, bracelet,...</td>\n",
       "    </tr>\n",
       "    <tr>\n",
       "      <th>2</th>\n",
       "      <td>n*****9</td>\n",
       "      <td>5</td>\n",
       "      <td>Received the bracelet within in 6 days. Love i...</td>\n",
       "      <td>receive bracelet day love colour beautiful abl...</td>\n",
       "      <td>[receive, bracelet, day, love, colour, beautif...</td>\n",
       "    </tr>\n",
       "    <tr>\n",
       "      <th>3</th>\n",
       "      <td>s*****y</td>\n",
       "      <td>5</td>\n",
       "      <td>Gorgeous tanzanite pieces! Quality of the jewe...</td>\n",
       "      <td>gorgeous tanzanite piece quality jewelry box good</td>\n",
       "      <td>[gorgeous, tanzanite, piece, quality, jewelry,...</td>\n",
       "    </tr>\n",
       "    <tr>\n",
       "      <th>4</th>\n",
       "      <td>merielyng.salvador</td>\n",
       "      <td>5</td>\n",
       "      <td>Super nice and elegant, worth it and very good...</td>\n",
       "      <td>super nice elegant worth good idea gift someone</td>\n",
       "      <td>[super, nice, elegant, worth, good, idea, gift...</td>\n",
       "    </tr>\n",
       "    <tr>\n",
       "      <th>...</th>\n",
       "      <td>...</td>\n",
       "      <td>...</td>\n",
       "      <td>...</td>\n",
       "      <td>...</td>\n",
       "      <td>...</td>\n",
       "    </tr>\n",
       "    <tr>\n",
       "      <th>562</th>\n",
       "      <td>mozz19</td>\n",
       "      <td>5</td>\n",
       "      <td>very fast delivery! super pretty bracelets w v...</td>\n",
       "      <td>fast delivery super pretty bracelet w nice she...</td>\n",
       "      <td>[fast, delivery, super, pretty, bracelet, w, n...</td>\n",
       "    </tr>\n",
       "    <tr>\n",
       "      <th>563</th>\n",
       "      <td>thepersiancat</td>\n",
       "      <td>5</td>\n",
       "      <td>Repeated purchases. Always buying from thi seller</td>\n",
       "      <td>repeat purchase always buy thi seller</td>\n",
       "      <td>[repeat, purchase, always, buy, thi, seller]</td>\n",
       "    </tr>\n",
       "    <tr>\n",
       "      <th>564</th>\n",
       "      <td>thepersiancat</td>\n",
       "      <td>5</td>\n",
       "      <td>Excellent workmanship!</td>\n",
       "      <td>excellent workmanship</td>\n",
       "      <td>[excellent, workmanship]</td>\n",
       "    </tr>\n",
       "    <tr>\n",
       "      <th>565</th>\n",
       "      <td>n*****l</td>\n",
       "      <td>5</td>\n",
       "      <td>Ordered on 23 Jan &amp; received on 29 Jan.This is...</td>\n",
       "      <td>order jan receive jan order jamstones love item</td>\n",
       "      <td>[order, jan, receive, jan, order, jamstones, l...</td>\n",
       "    </tr>\n",
       "    <tr>\n",
       "      <th>579</th>\n",
       "      <td>_ireneam_</td>\n",
       "      <td>5</td>\n",
       "      <td>I love it!</td>\n",
       "      <td>love</td>\n",
       "      <td>[love]</td>\n",
       "    </tr>\n",
       "  </tbody>\n",
       "</table>\n",
       "<p>523 rows × 5 columns</p>\n",
       "</div>"
      ],
      "text/plain": [
       "               username  rating  \\\n",
       "0               s*****y       5   \n",
       "1               s*****8       5   \n",
       "2               n*****9       5   \n",
       "3               s*****y       5   \n",
       "4    merielyng.salvador       5   \n",
       "..                  ...     ...   \n",
       "562              mozz19       5   \n",
       "563       thepersiancat       5   \n",
       "564       thepersiancat       5   \n",
       "565             n*****l       5   \n",
       "579           _ireneam_       5   \n",
       "\n",
       "                                               comment  \\\n",
       "0    Gorgeous tanzanite pieces! Quality of the jewe...   \n",
       "1    Well received via my doorstep. Have been buyin...   \n",
       "2    Received the bracelet within in 6 days. Love i...   \n",
       "3    Gorgeous tanzanite pieces! Quality of the jewe...   \n",
       "4    Super nice and elegant, worth it and very good...   \n",
       "..                                                 ...   \n",
       "562  very fast delivery! super pretty bracelets w v...   \n",
       "563  Repeated purchases. Always buying from thi seller   \n",
       "564                             Excellent workmanship!   \n",
       "565  Ordered on 23 Jan & received on 29 Jan.This is...   \n",
       "579                                         I love it!   \n",
       "\n",
       "                                         clean_comment  \\\n",
       "0    gorgeous tanzanite piece quality jewelry box good   \n",
       "1    well receive doorstep buy many bracelet jamsto...   \n",
       "2    receive bracelet day love colour beautiful abl...   \n",
       "3    gorgeous tanzanite piece quality jewelry box good   \n",
       "4      super nice elegant worth good idea gift someone   \n",
       "..                                                 ...   \n",
       "562  fast delivery super pretty bracelet w nice she...   \n",
       "563              repeat purchase always buy thi seller   \n",
       "564                              excellent workmanship   \n",
       "565    order jan receive jan order jamstones love item   \n",
       "579                                               love   \n",
       "\n",
       "                                          clean_tokens  \n",
       "0    [gorgeous, tanzanite, piece, quality, jewelry,...  \n",
       "1    [well, receive, doorstep, buy, many, bracelet,...  \n",
       "2    [receive, bracelet, day, love, colour, beautif...  \n",
       "3    [gorgeous, tanzanite, piece, quality, jewelry,...  \n",
       "4    [super, nice, elegant, worth, good, idea, gift...  \n",
       "..                                                 ...  \n",
       "562  [fast, delivery, super, pretty, bracelet, w, n...  \n",
       "563       [repeat, purchase, always, buy, thi, seller]  \n",
       "564                           [excellent, workmanship]  \n",
       "565  [order, jan, receive, jan, order, jamstones, l...  \n",
       "579                                             [love]  \n",
       "\n",
       "[523 rows x 5 columns]"
      ]
     },
     "execution_count": 20,
     "metadata": {},
     "output_type": "execute_result"
    }
   ],
   "source": [
    "real_reviews_df"
   ]
  },
  {
   "cell_type": "markdown",
   "metadata": {},
   "source": [
    "### 6 - Save the cleaned data to a new csv file in a separate directory"
   ]
  },
  {
   "cell_type": "code",
   "execution_count": 25,
   "metadata": {},
   "outputs": [],
   "source": [
    "real_reviews_df.to_csv(\"../sa-data/clean-shopee-reviews.csv\", encoding=\"UTF-8\")"
   ]
  }
 ],
 "metadata": {
  "interpreter": {
   "hash": "4e9f2c58c4b5e6e4aeaec2f79699198332387ee8b201b537751c5d46df27fb1b"
  },
  "kernelspec": {
   "display_name": "Python 3.8.5 ('base')",
   "language": "python",
   "name": "python3"
  },
  "language_info": {
   "codemirror_mode": {
    "name": "ipython",
    "version": 3
   },
   "file_extension": ".py",
   "mimetype": "text/x-python",
   "name": "python",
   "nbconvert_exporter": "python",
   "pygments_lexer": "ipython3",
   "version": "3.8.5"
  },
  "orig_nbformat": 4
 },
 "nbformat": 4,
 "nbformat_minor": 2
}
