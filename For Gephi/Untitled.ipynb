{
 "cells": [
  {
   "cell_type": "code",
   "execution_count": 1,
   "metadata": {
    "ExecuteTime": {
     "end_time": "2022-03-28T17:58:58.636342Z",
     "start_time": "2022-03-28T17:58:58.057175Z"
    }
   },
   "outputs": [],
   "source": [
    "import pandas as pd"
   ]
  },
  {
   "cell_type": "code",
   "execution_count": 15,
   "metadata": {
    "ExecuteTime": {
     "end_time": "2022-03-28T18:03:50.779087Z",
     "start_time": "2022-03-28T18:03:50.637024Z"
    }
   },
   "outputs": [],
   "source": [
    "df = pd.read_csv(\"crystal_industry_social_network.csv\")\n",
    "df = df.drop_duplicates(subset=['Source','Target'])"
   ]
  },
  {
   "cell_type": "code",
   "execution_count": 60,
   "metadata": {
    "ExecuteTime": {
     "end_time": "2022-03-28T18:17:07.808952Z",
     "start_time": "2022-03-28T18:17:06.512388Z"
    },
    "scrolled": true
   },
   "outputs": [
    {
     "data": {
      "text/html": [
       "<div>\n",
       "<style scoped>\n",
       "    .dataframe tbody tr th:only-of-type {\n",
       "        vertical-align: middle;\n",
       "    }\n",
       "\n",
       "    .dataframe tbody tr th {\n",
       "        vertical-align: top;\n",
       "    }\n",
       "\n",
       "    .dataframe thead th {\n",
       "        text-align: right;\n",
       "    }\n",
       "</style>\n",
       "<table border=\"1\" class=\"dataframe\">\n",
       "  <thead>\n",
       "    <tr style=\"text-align: right;\">\n",
       "      <th></th>\n",
       "      <th>Source</th>\n",
       "      <th>Target</th>\n",
       "      <th>Count</th>\n",
       "    </tr>\n",
       "  </thead>\n",
       "  <tbody>\n",
       "    <tr>\n",
       "      <th>36961</th>\n",
       "      <td>oromii</td>\n",
       "      <td>[jam.stones, crystalmojo, fated.itis, gemstory...</td>\n",
       "      <td>11</td>\n",
       "    </tr>\n",
       "    <tr>\n",
       "      <th>12723</th>\n",
       "      <td>del_felsingher</td>\n",
       "      <td>[jam.stones, covetcrystalsjewelry, crystalmojo...</td>\n",
       "      <td>10</td>\n",
       "    </tr>\n",
       "    <tr>\n",
       "      <th>32668</th>\n",
       "      <td>milko7</td>\n",
       "      <td>[jam.stones, covetcrystalsjewelry, crystalmojo...</td>\n",
       "      <td>10</td>\n",
       "    </tr>\n",
       "    <tr>\n",
       "      <th>36552</th>\n",
       "      <td>ohmnification</td>\n",
       "      <td>[jam.stones, covetcrystalsjewelry, crystalmojo...</td>\n",
       "      <td>10</td>\n",
       "    </tr>\n",
       "    <tr>\n",
       "      <th>23752</th>\n",
       "      <td>jiahui11111</td>\n",
       "      <td>[jam.stones, covetcrystalsjewelry, crystalmojo...</td>\n",
       "      <td>10</td>\n",
       "    </tr>\n",
       "    <tr>\n",
       "      <th>18092</th>\n",
       "      <td>goldhoarder</td>\n",
       "      <td>[covetcrystalsjewelry, crystalmojo, gemstorysg...</td>\n",
       "      <td>9</td>\n",
       "    </tr>\n",
       "    <tr>\n",
       "      <th>15757</th>\n",
       "      <td>faithdababie</td>\n",
       "      <td>[covetcrystalsjewelry, crystalmojo, fated.itis...</td>\n",
       "      <td>9</td>\n",
       "    </tr>\n",
       "    <tr>\n",
       "      <th>39182</th>\n",
       "      <td>quirky_adventurer</td>\n",
       "      <td>[jam.stones, covetcrystalsjewelry, crystalmojo...</td>\n",
       "      <td>9</td>\n",
       "    </tr>\n",
       "    <tr>\n",
       "      <th>21427</th>\n",
       "      <td>iqinyu</td>\n",
       "      <td>[jam.stones, covetcrystalsjewelry, fated.itis,...</td>\n",
       "      <td>9</td>\n",
       "    </tr>\n",
       "    <tr>\n",
       "      <th>14322</th>\n",
       "      <td>eleanor_neo</td>\n",
       "      <td>[jam.stones, covetcrystalsjewelry, fated.itis,...</td>\n",
       "      <td>9</td>\n",
       "    </tr>\n",
       "  </tbody>\n",
       "</table>\n",
       "</div>"
      ],
      "text/plain": [
       "                  Source                                             Target  \\\n",
       "36961             oromii  [jam.stones, crystalmojo, fated.itis, gemstory...   \n",
       "12723     del_felsingher  [jam.stones, covetcrystalsjewelry, crystalmojo...   \n",
       "32668             milko7  [jam.stones, covetcrystalsjewelry, crystalmojo...   \n",
       "36552      ohmnification  [jam.stones, covetcrystalsjewelry, crystalmojo...   \n",
       "23752        jiahui11111  [jam.stones, covetcrystalsjewelry, crystalmojo...   \n",
       "18092        goldhoarder  [covetcrystalsjewelry, crystalmojo, gemstorysg...   \n",
       "15757       faithdababie  [covetcrystalsjewelry, crystalmojo, fated.itis...   \n",
       "39182  quirky_adventurer  [jam.stones, covetcrystalsjewelry, crystalmojo...   \n",
       "21427             iqinyu  [jam.stones, covetcrystalsjewelry, fated.itis,...   \n",
       "14322        eleanor_neo  [jam.stones, covetcrystalsjewelry, fated.itis,...   \n",
       "\n",
       "       Count  \n",
       "36961     11  \n",
       "12723     10  \n",
       "32668     10  \n",
       "36552     10  \n",
       "23752     10  \n",
       "18092      9  \n",
       "15757      9  \n",
       "39182      9  \n",
       "21427      9  \n",
       "14322      9  "
      ]
     },
     "execution_count": 60,
     "metadata": {},
     "output_type": "execute_result"
    }
   ],
   "source": [
    "df_gb = df.groupby('Source')['Target'].apply(list).reset_index()\n",
    "df_gb['Count'] = df_gb.Target.str.len()\n",
    "df_gb.sort_values(by='Count', ascending=False, inplace=True)\n",
    "df_gb.Count.value_counts()\n",
    "df_gb.head(10)"
   ]
  },
  {
   "cell_type": "markdown",
   "metadata": {},
   "source": [
    "*Take Aways* <br>\n",
    "The top 10 people here all had really bad profiles, I think no one here is ready to be a KOL"
   ]
  },
  {
   "cell_type": "code",
   "execution_count": null,
   "metadata": {},
   "outputs": [],
   "source": []
  }
 ],
 "metadata": {
  "kernelspec": {
   "display_name": "Python 3",
   "language": "python",
   "name": "python3"
  },
  "language_info": {
   "codemirror_mode": {
    "name": "ipython",
    "version": 3
   },
   "file_extension": ".py",
   "mimetype": "text/x-python",
   "name": "python",
   "nbconvert_exporter": "python",
   "pygments_lexer": "ipython3",
   "version": "3.8.5"
  },
  "toc": {
   "base_numbering": 1,
   "nav_menu": {},
   "number_sections": true,
   "sideBar": true,
   "skip_h1_title": false,
   "title_cell": "Table of Contents",
   "title_sidebar": "Contents",
   "toc_cell": false,
   "toc_position": {},
   "toc_section_display": true,
   "toc_window_display": false
  },
  "varInspector": {
   "cols": {
    "lenName": 16,
    "lenType": 16,
    "lenVar": 40
   },
   "kernels_config": {
    "python": {
     "delete_cmd_postfix": "",
     "delete_cmd_prefix": "del ",
     "library": "var_list.py",
     "varRefreshCmd": "print(var_dic_list())"
    },
    "r": {
     "delete_cmd_postfix": ") ",
     "delete_cmd_prefix": "rm(",
     "library": "var_list.r",
     "varRefreshCmd": "cat(var_dic_list()) "
    }
   },
   "types_to_exclude": [
    "module",
    "function",
    "builtin_function_or_method",
    "instance",
    "_Feature"
   ],
   "window_display": false
  }
 },
 "nbformat": 4,
 "nbformat_minor": 4
}
