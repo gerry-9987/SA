{
 "cells": [
  {
   "cell_type": "code",
   "execution_count": 1,
   "metadata": {},
   "outputs": [],
   "source": [
    "import pandas as pd\n",
    "import numpy as np\n",
    "import datetime\n",
    "from dateutil import parser\n"
   ]
  },
  {
   "cell_type": "code",
   "execution_count": 2,
   "metadata": {},
   "outputs": [],
   "source": [
    "df = pd.read_csv('raw-data/instagram/js-posts-all/js-profile-instagram.csv')"
   ]
  },
  {
   "cell_type": "code",
   "execution_count": 3,
   "metadata": {},
   "outputs": [
    {
     "data": {
      "text/html": [
       "<div>\n",
       "<style scoped>\n",
       "    .dataframe tbody tr th:only-of-type {\n",
       "        vertical-align: middle;\n",
       "    }\n",
       "\n",
       "    .dataframe tbody tr th {\n",
       "        vertical-align: top;\n",
       "    }\n",
       "\n",
       "    .dataframe thead th {\n",
       "        text-align: right;\n",
       "    }\n",
       "</style>\n",
       "<table border=\"1\" class=\"dataframe\">\n",
       "  <thead>\n",
       "    <tr style=\"text-align: right;\">\n",
       "      <th></th>\n",
       "      <th>Unnamed: 0</th>\n",
       "      <th>index</th>\n",
       "      <th>date</th>\n",
       "      <th>caption</th>\n",
       "      <th>comments</th>\n",
       "    </tr>\n",
       "  </thead>\n",
       "  <tbody>\n",
       "    <tr>\n",
       "      <th>0</th>\n",
       "      <td>0</td>\n",
       "      <td>0</td>\n",
       "      <td>2022-03-14 08:50:00</td>\n",
       "      <td>🌼𝐉𝐞𝐰𝐞𝐥𝐫𝐲 𝐌𝐲𝐬𝐭𝐞𝐫𝐲 𝐁𝐨𝐱✨\\r\\n*$5 off vouchers up f...</td>\n",
       "      <td>0</td>\n",
       "    </tr>\n",
       "    <tr>\n",
       "      <th>1</th>\n",
       "      <td>1</td>\n",
       "      <td>1</td>\n",
       "      <td>2022-03-13 04:20:24</td>\n",
       "      <td>🧡𝐒𝐮𝐧 𝟏𝟑 𝐌𝐚𝐫 | 𝟕.𝟑𝟎𝐩𝐦 *𝐓𝐎𝐍𝐈𝐆𝐇𝐓* @jam.stones @la...</td>\n",
       "      <td>0</td>\n",
       "    </tr>\n",
       "    <tr>\n",
       "      <th>2</th>\n",
       "      <td>2</td>\n",
       "      <td>2</td>\n",
       "      <td>2022-03-11 09:11:04</td>\n",
       "      <td>𝐁𝐥𝐮𝐞 𝐒𝐡𝐞𝐞𝐧 𝐌𝐨𝐨𝐧𝐬𝐭𝐨𝐧𝐞\\r\\nIt promotes intuition ...</td>\n",
       "      <td>0</td>\n",
       "    </tr>\n",
       "    <tr>\n",
       "      <th>3</th>\n",
       "      <td>3</td>\n",
       "      <td>3</td>\n",
       "      <td>2022-03-09 12:51:27</td>\n",
       "      <td>For the Agate lovers !!! 😍😍😍\\r\\n* prices befor...</td>\n",
       "      <td>2</td>\n",
       "    </tr>\n",
       "    <tr>\n",
       "      <th>4</th>\n",
       "      <td>4</td>\n",
       "      <td>4</td>\n",
       "      <td>2022-03-07 12:25:03</td>\n",
       "      <td>✨Best Selling Career Bracelets✨ Earthy | Darke...</td>\n",
       "      <td>3</td>\n",
       "    </tr>\n",
       "  </tbody>\n",
       "</table>\n",
       "</div>"
      ],
      "text/plain": [
       "   Unnamed: 0  index                 date  \\\n",
       "0           0      0  2022-03-14 08:50:00   \n",
       "1           1      1  2022-03-13 04:20:24   \n",
       "2           2      2  2022-03-11 09:11:04   \n",
       "3           3      3  2022-03-09 12:51:27   \n",
       "4           4      4  2022-03-07 12:25:03   \n",
       "\n",
       "                                             caption  comments  \n",
       "0  🌼𝐉𝐞𝐰𝐞𝐥𝐫𝐲 𝐌𝐲𝐬𝐭𝐞𝐫𝐲 𝐁𝐨𝐱✨\\r\\n*$5 off vouchers up f...         0  \n",
       "1  🧡𝐒𝐮𝐧 𝟏𝟑 𝐌𝐚𝐫 | 𝟕.𝟑𝟎𝐩𝐦 *𝐓𝐎𝐍𝐈𝐆𝐇𝐓* @jam.stones @la...         0  \n",
       "2  𝐁𝐥𝐮𝐞 𝐒𝐡𝐞𝐞𝐧 𝐌𝐨𝐨𝐧𝐬𝐭𝐨𝐧𝐞\\r\\nIt promotes intuition ...         0  \n",
       "3  For the Agate lovers !!! 😍😍😍\\r\\n* prices befor...         2  \n",
       "4  ✨Best Selling Career Bracelets✨ Earthy | Darke...         3  "
      ]
     },
     "execution_count": 3,
     "metadata": {},
     "output_type": "execute_result"
    }
   ],
   "source": [
    "df.head()"
   ]
  },
  {
   "cell_type": "code",
   "execution_count": null,
   "metadata": {},
   "outputs": [],
   "source": []
  }
 ],
 "metadata": {
  "interpreter": {
   "hash": "460cd17b26a8837e9472e50df1b1a9ff6858128ceb191655e4387efffcef125b"
  },
  "kernelspec": {
   "display_name": "Python 3.10.0 64-bit",
   "language": "python",
   "name": "python3"
  },
  "language_info": {
   "codemirror_mode": {
    "name": "ipython",
    "version": 3
   },
   "file_extension": ".py",
   "mimetype": "text/x-python",
   "name": "python",
   "nbconvert_exporter": "python",
   "pygments_lexer": "ipython3",
   "version": "3.10.0"
  },
  "orig_nbformat": 4
 },
 "nbformat": 4,
 "nbformat_minor": 2
}
