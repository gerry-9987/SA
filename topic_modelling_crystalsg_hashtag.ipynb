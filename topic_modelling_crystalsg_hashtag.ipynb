{
 "cells": [
  {
   "cell_type": "markdown",
   "metadata": {},
   "source": [
    "### 1 - Import packages"
   ]
  },
  {
   "cell_type": "code",
   "execution_count": 28,
   "metadata": {},
   "outputs": [
    {
     "name": "stderr",
     "output_type": "stream",
     "text": [
      "C:\\Users\\jewel\\anaconda3\\lib\\site-packages\\ipykernel\\ipkernel.py:287: DeprecationWarning: `should_run_async` will not call `transform_cell` automatically in the future. Please pass the result to `transformed_cell` argument and any exception that happen during thetransform in `preprocessing_exc_tuple` in IPython 7.17 and above.\n",
      "  and should_run_async(code)\n"
     ]
    }
   ],
   "source": [
    "import gensim\n",
    "from gensim.models import CoherenceModel\n",
    "\n",
    "import pandas as pd\n",
    "import ast\n",
    "import matplotlib.pyplot as plt\n",
    "\n",
    "import collections\n",
    "from collections import defaultdict\n",
    "\n",
    "import json"
   ]
  },
  {
   "cell_type": "markdown",
   "metadata": {},
   "source": [
    "### 2 - Import Data"
   ]
  },
  {
   "cell_type": "code",
   "execution_count": 29,
   "metadata": {},
   "outputs": [
    {
     "name": "stderr",
     "output_type": "stream",
     "text": [
      "C:\\Users\\jewel\\anaconda3\\lib\\site-packages\\ipykernel\\ipkernel.py:287: DeprecationWarning: `should_run_async` will not call `transform_cell` automatically in the future. Please pass the result to `transformed_cell` argument and any exception that happen during thetransform in `preprocessing_exc_tuple` in IPython 7.17 and above.\n",
      "  and should_run_async(code)\n"
     ]
    }
   ],
   "source": [
    "# crystalsg_df = pd.read_csv(\"instagram_crystalsg_hashtag_clean.csv\")"
   ]
  },
  {
   "cell_type": "code",
   "execution_count": 30,
   "metadata": {},
   "outputs": [
    {
     "name": "stderr",
     "output_type": "stream",
     "text": [
      "C:\\Users\\jewel\\anaconda3\\lib\\site-packages\\ipykernel\\ipkernel.py:287: DeprecationWarning: `should_run_async` will not call `transform_cell` automatically in the future. Please pass the result to `transformed_cell` argument and any exception that happen during thetransform in `preprocessing_exc_tuple` in IPython 7.17 and above.\n",
      "  and should_run_async(code)\n"
     ]
    }
   ],
   "source": [
    "crystalsg_df = pd.read_csv(\"instagram_crystalsg_hashtag_clean_new.csv\")"
   ]
  },
  {
   "cell_type": "code",
   "execution_count": 31,
   "metadata": {},
   "outputs": [
    {
     "name": "stderr",
     "output_type": "stream",
     "text": [
      "C:\\Users\\jewel\\anaconda3\\lib\\site-packages\\ipykernel\\ipkernel.py:287: DeprecationWarning: `should_run_async` will not call `transform_cell` automatically in the future. Please pass the result to `transformed_cell` argument and any exception that happen during thetransform in `preprocessing_exc_tuple` in IPython 7.17 and above.\n",
      "  and should_run_async(code)\n"
     ]
    },
    {
     "data": {
      "text/html": [
       "<div>\n",
       "<style scoped>\n",
       "    .dataframe tbody tr th:only-of-type {\n",
       "        vertical-align: middle;\n",
       "    }\n",
       "\n",
       "    .dataframe tbody tr th {\n",
       "        vertical-align: top;\n",
       "    }\n",
       "\n",
       "    .dataframe thead th {\n",
       "        text-align: right;\n",
       "    }\n",
       "</style>\n",
       "<table border=\"1\" class=\"dataframe\">\n",
       "  <thead>\n",
       "    <tr style=\"text-align: right;\">\n",
       "      <th></th>\n",
       "      <th>Unnamed: 0</th>\n",
       "      <th>postUrl</th>\n",
       "      <th>profileUrl</th>\n",
       "      <th>username</th>\n",
       "      <th>fullName</th>\n",
       "      <th>commentCount</th>\n",
       "      <th>likeCount</th>\n",
       "      <th>pubDate</th>\n",
       "      <th>description</th>\n",
       "      <th>imgUrl</th>\n",
       "      <th>...</th>\n",
       "      <th>type</th>\n",
       "      <th>query</th>\n",
       "      <th>timestamp</th>\n",
       "      <th>location</th>\n",
       "      <th>isSidecar</th>\n",
       "      <th>sidecarMedias</th>\n",
       "      <th>videoUrl</th>\n",
       "      <th>viewCount</th>\n",
       "      <th>clean_description</th>\n",
       "      <th>clean_tokens</th>\n",
       "    </tr>\n",
       "  </thead>\n",
       "  <tbody>\n",
       "    <tr>\n",
       "      <th>0</th>\n",
       "      <td>0</td>\n",
       "      <td>https://www.instagram.com/p/CaJQO5HPHO1/</td>\n",
       "      <td>https://www.instagram.com/petalsofarosez</td>\n",
       "      <td>petalsofarosez</td>\n",
       "      <td>Amanda Low</td>\n",
       "      <td>16</td>\n",
       "      <td>910</td>\n",
       "      <td>2022-02-19T03:56:44.000Z</td>\n",
       "      <td>You deserve a single shot! The night where I w...</td>\n",
       "      <td>https://scontent-iad3-2.cdninstagram.com/v/t51...</td>\n",
       "      <td>...</td>\n",
       "      <td>Photo</td>\n",
       "      <td>#crystalsg</td>\n",
       "      <td>2022-03-18T04:48:25.073Z</td>\n",
       "      <td>Singapore / Singapura / 新加坡 / சிங்கப்பூர்</td>\n",
       "      <td>False</td>\n",
       "      <td>NaN</td>\n",
       "      <td>NaN</td>\n",
       "      <td>NaN</td>\n",
       "      <td>deserve single shot night appreciate beauty co...</td>\n",
       "      <td>['deserve', 'single', 'shot', 'night', 'apprec...</td>\n",
       "    </tr>\n",
       "    <tr>\n",
       "      <th>1</th>\n",
       "      <td>1</td>\n",
       "      <td>https://www.instagram.com/p/CZMdip8PCzX/</td>\n",
       "      <td>https://www.instagram.com/princessezyt</td>\n",
       "      <td>princessezyt</td>\n",
       "      <td>Triple R Mummy Princess</td>\n",
       "      <td>102</td>\n",
       "      <td>527</td>\n",
       "      <td>2022-01-26T13:19:21.000Z</td>\n",
       "      <td>This CNY, get yourself or your love ones a NEW...</td>\n",
       "      <td>https://scontent-iad3-2.cdninstagram.com/v/t51...</td>\n",
       "      <td>...</td>\n",
       "      <td>Carousel</td>\n",
       "      <td>#crystalsg</td>\n",
       "      <td>2022-03-18T04:48:25.073Z</td>\n",
       "      <td>PARKROYAL COLLECTION Marina Bay, Singapore</td>\n",
       "      <td>True</td>\n",
       "      <td>7.0</td>\n",
       "      <td>NaN</td>\n",
       "      <td>NaN</td>\n",
       "      <td>cny get love one new pretty crystal water bott...</td>\n",
       "      <td>['cny', 'get', 'love', 'one', 'new', 'pretty',...</td>\n",
       "    </tr>\n",
       "    <tr>\n",
       "      <th>2</th>\n",
       "      <td>2</td>\n",
       "      <td>https://www.instagram.com/p/CZviYgxvmz7/</td>\n",
       "      <td>https://www.instagram.com/moonwanderer.est2020</td>\n",
       "      <td>moonwanderer.est2020</td>\n",
       "      <td>moonwandererclub</td>\n",
       "      <td>9</td>\n",
       "      <td>711</td>\n",
       "      <td>2022-02-09T04:15:04.000Z</td>\n",
       "      <td>— my 💙 for you as deep as the ocean\\n\\nFeaturi...</td>\n",
       "      <td>https://scontent-iad3-2.cdninstagram.com/v/t51...</td>\n",
       "      <td>...</td>\n",
       "      <td>Carousel</td>\n",
       "      <td>#crystalsg</td>\n",
       "      <td>2022-03-18T04:48:25.073Z</td>\n",
       "      <td>Atlantic Ocean</td>\n",
       "      <td>True</td>\n",
       "      <td>3.0</td>\n",
       "      <td>NaN</td>\n",
       "      <td>NaN</td>\n",
       "      <td>deep ocean feature gemmy teal blue purple fluo...</td>\n",
       "      <td>['deep', 'ocean', 'feature', 'gemmy', 'teal', ...</td>\n",
       "    </tr>\n",
       "    <tr>\n",
       "      <th>3</th>\n",
       "      <td>3</td>\n",
       "      <td>https://www.instagram.com/p/CUaL0oNPhEm/</td>\n",
       "      <td>https://www.instagram.com/crystalliac</td>\n",
       "      <td>crystalliac</td>\n",
       "      <td>💫 Crystals Shop 💫</td>\n",
       "      <td>5</td>\n",
       "      <td>131</td>\n",
       "      <td>2021-09-29T14:36:55.000Z</td>\n",
       "      <td>• LET’S GO GREEN! • (PREVIEW)\\nJoin us on Satu...</td>\n",
       "      <td>https://scontent-iad3-2.cdninstagram.com/v/t51...</td>\n",
       "      <td>...</td>\n",
       "      <td>Carousel</td>\n",
       "      <td>#crystalsg</td>\n",
       "      <td>2022-03-18T04:48:25.073Z</td>\n",
       "      <td>Singapore</td>\n",
       "      <td>True</td>\n",
       "      <td>9.0</td>\n",
       "      <td>NaN</td>\n",
       "      <td>NaN</td>\n",
       "      <td>let go green preview join saturday night octob...</td>\n",
       "      <td>['let', 'go', 'green', 'preview', 'join', 'sat...</td>\n",
       "    </tr>\n",
       "    <tr>\n",
       "      <th>4</th>\n",
       "      <td>4</td>\n",
       "      <td>https://www.instagram.com/p/CW76Q2ZPwI9/</td>\n",
       "      <td>https://www.instagram.com/rehauscrystals</td>\n",
       "      <td>rehauscrystals</td>\n",
       "      <td>RehausCrystals</td>\n",
       "      <td>109</td>\n",
       "      <td>51204</td>\n",
       "      <td>2021-12-01T10:00:27.000Z</td>\n",
       "      <td>🍬[ℙ𝕚𝕟𝕜 ℝ𝕠𝕤𝕖 ℚ𝕦𝕒𝕣𝕥𝕫 𝕋𝕦𝕞𝕓𝕝𝕖𝕤]🍬\\n\\n💕Lovin these P...</td>\n",
       "      <td>https://scontent-iad3-2.cdninstagram.com/v/t51...</td>\n",
       "      <td>...</td>\n",
       "      <td>Carousel</td>\n",
       "      <td>#crystalsg</td>\n",
       "      <td>2022-03-18T04:48:25.074Z</td>\n",
       "      <td>NaN</td>\n",
       "      <td>True</td>\n",
       "      <td>4.0</td>\n",
       "      <td>NaN</td>\n",
       "      <td>NaN</td>\n",
       "      <td>pink gemmy rise quartz tumble literal candy ri...</td>\n",
       "      <td>['pink', 'gemmy', 'rise', 'quartz', 'tumble', ...</td>\n",
       "    </tr>\n",
       "  </tbody>\n",
       "</table>\n",
       "<p>5 rows × 22 columns</p>\n",
       "</div>"
      ],
      "text/plain": [
       "   Unnamed: 0                                   postUrl  \\\n",
       "0           0  https://www.instagram.com/p/CaJQO5HPHO1/   \n",
       "1           1  https://www.instagram.com/p/CZMdip8PCzX/   \n",
       "2           2  https://www.instagram.com/p/CZviYgxvmz7/   \n",
       "3           3  https://www.instagram.com/p/CUaL0oNPhEm/   \n",
       "4           4  https://www.instagram.com/p/CW76Q2ZPwI9/   \n",
       "\n",
       "                                       profileUrl              username  \\\n",
       "0        https://www.instagram.com/petalsofarosez        petalsofarosez   \n",
       "1          https://www.instagram.com/princessezyt          princessezyt   \n",
       "2  https://www.instagram.com/moonwanderer.est2020  moonwanderer.est2020   \n",
       "3           https://www.instagram.com/crystalliac           crystalliac   \n",
       "4        https://www.instagram.com/rehauscrystals        rehauscrystals   \n",
       "\n",
       "                  fullName  commentCount  likeCount                   pubDate  \\\n",
       "0               Amanda Low            16        910  2022-02-19T03:56:44.000Z   \n",
       "1  Triple R Mummy Princess           102        527  2022-01-26T13:19:21.000Z   \n",
       "2         moonwandererclub             9        711  2022-02-09T04:15:04.000Z   \n",
       "3        💫 Crystals Shop 💫             5        131  2021-09-29T14:36:55.000Z   \n",
       "4           RehausCrystals           109      51204  2021-12-01T10:00:27.000Z   \n",
       "\n",
       "                                         description  \\\n",
       "0  You deserve a single shot! The night where I w...   \n",
       "1  This CNY, get yourself or your love ones a NEW...   \n",
       "2  — my 💙 for you as deep as the ocean\\n\\nFeaturi...   \n",
       "3  • LET’S GO GREEN! • (PREVIEW)\\nJoin us on Satu...   \n",
       "4  🍬[ℙ𝕚𝕟𝕜 ℝ𝕠𝕤𝕖 ℚ𝕦𝕒𝕣𝕥𝕫 𝕋𝕦𝕞𝕓𝕝𝕖𝕤]🍬\\n\\n💕Lovin these P...   \n",
       "\n",
       "                                              imgUrl  ...      type  \\\n",
       "0  https://scontent-iad3-2.cdninstagram.com/v/t51...  ...     Photo   \n",
       "1  https://scontent-iad3-2.cdninstagram.com/v/t51...  ...  Carousel   \n",
       "2  https://scontent-iad3-2.cdninstagram.com/v/t51...  ...  Carousel   \n",
       "3  https://scontent-iad3-2.cdninstagram.com/v/t51...  ...  Carousel   \n",
       "4  https://scontent-iad3-2.cdninstagram.com/v/t51...  ...  Carousel   \n",
       "\n",
       "        query                 timestamp  \\\n",
       "0  #crystalsg  2022-03-18T04:48:25.073Z   \n",
       "1  #crystalsg  2022-03-18T04:48:25.073Z   \n",
       "2  #crystalsg  2022-03-18T04:48:25.073Z   \n",
       "3  #crystalsg  2022-03-18T04:48:25.073Z   \n",
       "4  #crystalsg  2022-03-18T04:48:25.074Z   \n",
       "\n",
       "                                     location isSidecar sidecarMedias  \\\n",
       "0   Singapore / Singapura / 新加坡 / சிங்கப்பூர்     False           NaN   \n",
       "1  PARKROYAL COLLECTION Marina Bay, Singapore      True           7.0   \n",
       "2                              Atlantic Ocean      True           3.0   \n",
       "3                                   Singapore      True           9.0   \n",
       "4                                         NaN      True           4.0   \n",
       "\n",
       "   videoUrl  viewCount                                  clean_description  \\\n",
       "0       NaN        NaN  deserve single shot night appreciate beauty co...   \n",
       "1       NaN        NaN  cny get love one new pretty crystal water bott...   \n",
       "2       NaN        NaN  deep ocean feature gemmy teal blue purple fluo...   \n",
       "3       NaN        NaN  let go green preview join saturday night octob...   \n",
       "4       NaN        NaN  pink gemmy rise quartz tumble literal candy ri...   \n",
       "\n",
       "                                        clean_tokens  \n",
       "0  ['deserve', 'single', 'shot', 'night', 'apprec...  \n",
       "1  ['cny', 'get', 'love', 'one', 'new', 'pretty',...  \n",
       "2  ['deep', 'ocean', 'feature', 'gemmy', 'teal', ...  \n",
       "3  ['let', 'go', 'green', 'preview', 'join', 'sat...  \n",
       "4  ['pink', 'gemmy', 'rise', 'quartz', 'tumble', ...  \n",
       "\n",
       "[5 rows x 22 columns]"
      ]
     },
     "execution_count": 31,
     "metadata": {},
     "output_type": "execute_result"
    }
   ],
   "source": [
    "crystalsg_df.head()"
   ]
  },
  {
   "cell_type": "markdown",
   "metadata": {},
   "source": [
    "### 3 - Prepare corpus for building Latent Dirichlet Allocation (LDA) Model"
   ]
  },
  {
   "cell_type": "code",
   "execution_count": 32,
   "metadata": {},
   "outputs": [
    {
     "name": "stderr",
     "output_type": "stream",
     "text": [
      "C:\\Users\\jewel\\anaconda3\\lib\\site-packages\\ipykernel\\ipkernel.py:287: DeprecationWarning: `should_run_async` will not call `transform_cell` automatically in the future. Please pass the result to `transformed_cell` argument and any exception that happen during thetransform in `preprocessing_exc_tuple` in IPython 7.17 and above.\n",
      "  and should_run_async(code)\n"
     ]
    }
   ],
   "source": [
    "# Helper function\n",
    "def docs2vecs(docs, dictionary):\n",
    "    # docs is a list of documents returned by corpus2docs.\n",
    "    # dictionary is a gensim.corpora.Dictionary object.\n",
    "    vecs = [dictionary.doc2bow(doc) for doc in docs]\n",
    "    return vecs"
   ]
  },
  {
   "cell_type": "code",
   "execution_count": 33,
   "metadata": {},
   "outputs": [
    {
     "name": "stderr",
     "output_type": "stream",
     "text": [
      "C:\\Users\\jewel\\anaconda3\\lib\\site-packages\\ipykernel\\ipkernel.py:287: DeprecationWarning: `should_run_async` will not call `transform_cell` automatically in the future. Please pass the result to `transformed_cell` argument and any exception that happen during thetransform in `preprocessing_exc_tuple` in IPython 7.17 and above.\n",
      "  and should_run_async(code)\n"
     ]
    }
   ],
   "source": [
    "crystalsg_docs = [ast.literal_eval(doc) for doc in crystalsg_df[\"clean_tokens\"]]\n",
    "crystalsg_dict = gensim.corpora.Dictionary(crystalsg_docs)\n",
    "crystalsg_vecs = docs2vecs(crystalsg_docs, crystalsg_dict)"
   ]
  },
  {
   "cell_type": "markdown",
   "metadata": {},
   "source": [
    "### 4 - Build LDA Model"
   ]
  },
  {
   "cell_type": "code",
   "execution_count": 34,
   "metadata": {},
   "outputs": [
    {
     "name": "stderr",
     "output_type": "stream",
     "text": [
      "C:\\Users\\jewel\\anaconda3\\lib\\site-packages\\ipykernel\\ipkernel.py:287: DeprecationWarning: `should_run_async` will not call `transform_cell` automatically in the future. Please pass the result to `transformed_cell` argument and any exception that happen during thetransform in `preprocessing_exc_tuple` in IPython 7.17 and above.\n",
      "  and should_run_async(code)\n"
     ]
    }
   ],
   "source": [
    "crystalsg_lda = gensim.models.ldamodel.LdaModel(corpus=crystalsg_vecs, id2word=crystalsg_dict, num_topics=10)"
   ]
  },
  {
   "cell_type": "markdown",
   "metadata": {},
   "source": [
    "4a - View topics"
   ]
  },
  {
   "cell_type": "code",
   "execution_count": 35,
   "metadata": {},
   "outputs": [
    {
     "name": "stdout",
     "output_type": "stream",
     "text": [
      "(2, '0.012*\"dm\" + 0.011*\"piece\" + 0.011*\"crystal\" + 0.010*\"bracelet\" + 0.010*\"sale\" + 0.009*\"quartz\" + 0.007*\"agate\" + 0.007*\"tower\" + 0.007*\"energy\" + 0.007*\"help\"')\n",
      "(0, '0.012*\"dm\" + 0.008*\"tower\" + 0.008*\"agate\" + 0.006*\"crystal\" + 0.006*\"x\" + 0.006*\"quartz\" + 0.006*\"amethyst\" + 0.005*\"energy\" + 0.005*\"e\" + 0.004*\"bracelet\"')\n",
      "(1, '0.019*\"dm\" + 0.014*\"l\" + 0.014*\"quartz\" + 0.012*\"available\" + 0.011*\"tower\" + 0.011*\"agate\" + 0.010*\"interested\" + 0.010*\"sale\" + 0.009*\"live\" + 0.009*\"crystal\"')\n",
      "(6, '0.025*\"crystal\" + 0.022*\"dm\" + 0.014*\"claim\" + 0.011*\"live\" + 0.010*\"agate\" + 0.009*\"sale\" + 0.008*\"available\" + 0.008*\"bracelet\" + 0.008*\"free\" + 0.007*\"please\"')\n",
      "(9, '0.013*\"energy\" + 0.010*\"crystal\" + 0.009*\"moonstone\" + 0.008*\"help\" + 0.008*\"bracelet\" + 0.007*\"ruby\" + 0.007*\"stone\" + 0.007*\"gemstone\" + 0.006*\"sale\" + 0.006*\"blue\"')\n"
     ]
    },
    {
     "name": "stderr",
     "output_type": "stream",
     "text": [
      "C:\\Users\\jewel\\anaconda3\\lib\\site-packages\\ipykernel\\ipkernel.py:287: DeprecationWarning: `should_run_async` will not call `transform_cell` automatically in the future. Please pass the result to `transformed_cell` argument and any exception that happen during thetransform in `preprocessing_exc_tuple` in IPython 7.17 and above.\n",
      "  and should_run_async(code)\n"
     ]
    }
   ],
   "source": [
    "topics = crystalsg_lda.show_topics(5, 10)\n",
    "\n",
    "for i in range(0, 5):\n",
    "    print(topics[i])"
   ]
  },
  {
   "cell_type": "markdown",
   "metadata": {},
   "source": [
    "### 5 - Calculate coherence score for LDA model"
   ]
  },
  {
   "cell_type": "code",
   "execution_count": 36,
   "metadata": {},
   "outputs": [
    {
     "name": "stderr",
     "output_type": "stream",
     "text": [
      "C:\\Users\\jewel\\anaconda3\\lib\\site-packages\\ipykernel\\ipkernel.py:287: DeprecationWarning: `should_run_async` will not call `transform_cell` automatically in the future. Please pass the result to `transformed_cell` argument and any exception that happen during thetransform in `preprocessing_exc_tuple` in IPython 7.17 and above.\n",
      "  and should_run_async(code)\n"
     ]
    },
    {
     "name": "stdout",
     "output_type": "stream",
     "text": [
      "\n",
      "Coherence Score LDAModel:  0.3568611918922313\n"
     ]
    }
   ],
   "source": [
    "coherence_model_lda = CoherenceModel(model=crystalsg_lda, texts=crystalsg_docs, dictionary=crystalsg_dict, coherence='c_v')\n",
    "coherence_lda = coherence_model_lda.get_coherence()\n",
    "print('\\nCoherence Score LDAModel: ', coherence_lda)"
   ]
  },
  {
   "cell_type": "markdown",
   "metadata": {},
   "source": [
    "### 6 - Choose the optimal number of topics\n",
    "\n",
    "- Build many LDA models with different values of number of topics (k)\n",
    "- Choose the model which gives the highest coherence score\n",
    "- Choosing a 'k' that marks the end of a rapid growth of topic coherence usually offers meaningful and interpretable topics. Picking an even higher value can sometimes provide more granular sub-topics"
   ]
  },
  {
   "cell_type": "code",
   "execution_count": 37,
   "metadata": {},
   "outputs": [
    {
     "name": "stderr",
     "output_type": "stream",
     "text": [
      "C:\\Users\\jewel\\anaconda3\\lib\\site-packages\\ipykernel\\ipkernel.py:287: DeprecationWarning: `should_run_async` will not call `transform_cell` automatically in the future. Please pass the result to `transformed_cell` argument and any exception that happen during thetransform in `preprocessing_exc_tuple` in IPython 7.17 and above.\n",
      "  and should_run_async(code)\n"
     ]
    },
    {
     "name": "stdout",
     "output_type": "stream",
     "text": [
      "Number of Topics: 2 - Coherence Score: 0.3029313094838252\n",
      "Number of Topics: 3 - Coherence Score: 0.315688354185033\n",
      "Number of Topics: 4 - Coherence Score: 0.33353296628245704\n",
      "Number of Topics: 5 - Coherence Score: 0.35548666044194943\n",
      "Number of Topics: 6 - Coherence Score: 0.37983901932377545\n",
      "Number of Topics: 7 - Coherence Score: 0.3664388392860095\n",
      "Number of Topics: 8 - Coherence Score: 0.40929237793885803\n",
      "Number of Topics: 9 - Coherence Score: 0.387009073740756\n",
      "Number of Topics: 10 - Coherence Score: 0.3336861797162964\n"
     ]
    }
   ],
   "source": [
    "model_list = []\n",
    "coherence_values = []\n",
    "model_topics = []\n",
    "\n",
    "for num_topics in range(2, 11, 1):\n",
    "    crystalsg_lda = gensim.models.ldamodel.LdaModel(corpus=crystalsg_vecs, id2word=crystalsg_dict, num_topics=num_topics)\n",
    "    coherence_model = CoherenceModel(model=crystalsg_lda, texts=crystalsg_docs, dictionary=crystalsg_dict, coherence='c_v')\n",
    "    model_topics.append(num_topics)\n",
    "    model_list.append(crystalsg_lda)\n",
    "    coherence_values.append(coherence_model.get_coherence())\n",
    "    print(\"Number of Topics: \" + str(num_topics) + \" - Coherence Score: \" + str(coherence_model.get_coherence()))"
   ]
  },
  {
   "cell_type": "markdown",
   "metadata": {},
   "source": [
    "Visualize coherence scores on a graph"
   ]
  },
  {
   "cell_type": "code",
   "execution_count": 38,
   "metadata": {},
   "outputs": [
    {
     "name": "stderr",
     "output_type": "stream",
     "text": [
      "C:\\Users\\jewel\\anaconda3\\lib\\site-packages\\ipykernel\\ipkernel.py:287: DeprecationWarning: `should_run_async` will not call `transform_cell` automatically in the future. Please pass the result to `transformed_cell` argument and any exception that happen during thetransform in `preprocessing_exc_tuple` in IPython 7.17 and above.\n",
      "  and should_run_async(code)\n"
     ]
    },
    {
     "data": {
      "image/png": "[encoded data removed]",
      "text/plain": [
       "<Figure size 432x288 with 1 Axes>"
      ]
     },
     "metadata": {
      "needs_background": "light"
     },
     "output_type": "display_data"
    }
   ],
   "source": [
    "limit=11; start=2; step=1;\n",
    "x = range(start, limit, step)\n",
    "plt.plot(x, coherence_values)\n",
    "plt.xlabel(\"Num Topics\")\n",
    "plt.ylabel(\"Coherence score\")\n",
    "plt.legend((\"coherence_values\"), loc='best')\n",
    "plt.show()"
   ]
  },
  {
   "cell_type": "code",
   "execution_count": 39,
   "metadata": {},
   "outputs": [
    {
     "name": "stdout",
     "output_type": "stream",
     "text": [
      "Num Topics = 2  has Coherence Value of 0.3029\n",
      "Num Topics = 3  has Coherence Value of 0.3157\n",
      "Num Topics = 4  has Coherence Value of 0.3335\n",
      "Num Topics = 5  has Coherence Value of 0.3555\n",
      "Num Topics = 6  has Coherence Value of 0.3798\n",
      "Num Topics = 7  has Coherence Value of 0.3664\n",
      "Num Topics = 8  has Coherence Value of 0.4093\n",
      "Num Topics = 9  has Coherence Value of 0.387\n",
      "Num Topics = 10  has Coherence Value of 0.3337\n"
     ]
    },
    {
     "name": "stderr",
     "output_type": "stream",
     "text": [
      "C:\\Users\\jewel\\anaconda3\\lib\\site-packages\\ipykernel\\ipkernel.py:287: DeprecationWarning: `should_run_async` will not call `transform_cell` automatically in the future. Please pass the result to `transformed_cell` argument and any exception that happen during thetransform in `preprocessing_exc_tuple` in IPython 7.17 and above.\n",
      "  and should_run_async(code)\n"
     ]
    }
   ],
   "source": [
    "# Print the coherence scores\n",
    "for m, cv in zip(x, coherence_values):\n",
    "    print(\"Num Topics =\", m, \" has Coherence Value of\", round(cv, 4))"
   ]
  },
  {
   "cell_type": "markdown",
   "metadata": {},
   "source": [
    "Choose the model with highest coherence score"
   ]
  },
  {
   "cell_type": "code",
   "execution_count": 40,
   "metadata": {},
   "outputs": [
    {
     "name": "stderr",
     "output_type": "stream",
     "text": [
      "C:\\Users\\jewel\\anaconda3\\lib\\site-packages\\ipykernel\\ipkernel.py:287: DeprecationWarning: `should_run_async` will not call `transform_cell` automatically in the future. Please pass the result to `transformed_cell` argument and any exception that happen during thetransform in `preprocessing_exc_tuple` in IPython 7.17 and above.\n",
      "  and should_run_async(code)\n"
     ]
    }
   ],
   "source": [
    "chosen_model = model_list[6]"
   ]
  },
  {
   "cell_type": "markdown",
   "metadata": {},
   "source": [
    "7 - Generate popular topics and their relevant terms"
   ]
  },
  {
   "cell_type": "code",
   "execution_count": 46,
   "metadata": {},
   "outputs": [
    {
     "name": "stderr",
     "output_type": "stream",
     "text": [
      "C:\\Users\\jewel\\anaconda3\\lib\\site-packages\\ipykernel\\ipkernel.py:287: DeprecationWarning: `should_run_async` will not call `transform_cell` automatically in the future. Please pass the result to `transformed_cell` argument and any exception that happen during thetransform in `preprocessing_exc_tuple` in IPython 7.17 and above.\n",
      "  and should_run_async(code)\n"
     ]
    },
    {
     "data": {
      "text/plain": [
       "{'0': ['crystal',\n",
       "  'dm',\n",
       "  'bid',\n",
       "  'stone',\n",
       "  'agate',\n",
       "  'help',\n",
       "  'claim',\n",
       "  'energy',\n",
       "  'quartz',\n",
       "  'please'],\n",
       " '1': ['l',\n",
       "  'crystal',\n",
       "  'dm',\n",
       "  'bracelet',\n",
       "  'agate',\n",
       "  'claim',\n",
       "  'energy',\n",
       "  'e',\n",
       "  'b',\n",
       "  'v'],\n",
       " '2': ['bid',\n",
       "  'crystal',\n",
       "  'agate',\n",
       "  'item',\n",
       "  'sale',\n",
       "  'order',\n",
       "  'please',\n",
       "  'available',\n",
       "  'also',\n",
       "  'make'],\n",
       " '3': ['bid',\n",
       "  'crystal',\n",
       "  'order',\n",
       "  'please',\n",
       "  'dm',\n",
       "  'item',\n",
       "  'x',\n",
       "  'natural',\n",
       "  'also',\n",
       "  'make'],\n",
       " '4': ['sale',\n",
       "  'dm',\n",
       "  'available',\n",
       "  'tower',\n",
       "  'crystal',\n",
       "  'interested',\n",
       "  'jasper',\n",
       "  'please',\n",
       "  'stone',\n",
       "  'help'],\n",
       " '5': ['quartz',\n",
       "  'crystal',\n",
       "  'dm',\n",
       "  'available',\n",
       "  'love',\n",
       "  'piece',\n",
       "  'rise',\n",
       "  'help',\n",
       "  'stone',\n",
       "  'sale'],\n",
       " '6': ['bid',\n",
       "  'crystal',\n",
       "  'please',\n",
       "  'quartz',\n",
       "  'shipping',\n",
       "  'item',\n",
       "  'payment',\n",
       "  'sale',\n",
       "  'natural',\n",
       "  'available'],\n",
       " '7': ['amethyst',\n",
       "  'crystal',\n",
       "  'help',\n",
       "  'energy',\n",
       "  'quartz',\n",
       "  'sale',\n",
       "  'stone',\n",
       "  'live',\n",
       "  'also',\n",
       "  'agate']}"
      ]
     },
     "execution_count": 46,
     "metadata": {},
     "output_type": "execute_result"
    }
   ],
   "source": [
    "topic_terms_dict = defaultdict(list)\n",
    "\n",
    "# num_topics = 9 because that is the number of topics that our chosen model has\n",
    "for topic_id, terms_list in chosen_model.show_topics(num_topics=8, num_words=10, formatted=False):\n",
    "    topic_terms_dict[str(topic_id)] = [term[0] for term in terms_list]\n",
    "topic_terms_dict = dict(topic_terms_dict)\n",
    "\n",
    "topic_terms_dict"
   ]
  },
  {
   "cell_type": "code",
   "execution_count": 47,
   "metadata": {},
   "outputs": [
    {
     "name": "stderr",
     "output_type": "stream",
     "text": [
      "C:\\Users\\jewel\\anaconda3\\lib\\site-packages\\ipykernel\\ipkernel.py:287: DeprecationWarning: `should_run_async` will not call `transform_cell` automatically in the future. Please pass the result to `transformed_cell` argument and any exception that happen during thetransform in `preprocessing_exc_tuple` in IPython 7.17 and above.\n",
      "  and should_run_async(code)\n"
     ]
    }
   ],
   "source": [
    "with open(\"topics_and_terms.json\", \"w\") as new_file:\n",
    "    json.dump(topic_terms_dict, new_file, indent=4)"
   ]
  },
  {
   "cell_type": "markdown",
   "metadata": {},
   "source": [
    "### 8 - Visualize topics and terms on bubble plot"
   ]
  },
  {
   "cell_type": "markdown",
   "metadata": {},
   "source": [
    "8a - Import visualization packages"
   ]
  },
  {
   "cell_type": "code",
   "execution_count": 48,
   "metadata": {},
   "outputs": [
    {
     "name": "stderr",
     "output_type": "stream",
     "text": [
      "C:\\Users\\jewel\\anaconda3\\lib\\site-packages\\ipykernel\\ipkernel.py:287: DeprecationWarning: `should_run_async` will not call `transform_cell` automatically in the future. Please pass the result to `transformed_cell` argument and any exception that happen during thetransform in `preprocessing_exc_tuple` in IPython 7.17 and above.\n",
      "  and should_run_async(code)\n"
     ]
    }
   ],
   "source": [
    "import pyLDAvis\n",
    "import pyLDAvis.gensim_models"
   ]
  },
  {
   "cell_type": "markdown",
   "metadata": {},
   "source": [
    "8b - Visualization"
   ]
  },
  {
   "cell_type": "code",
   "execution_count": 49,
   "metadata": {},
   "outputs": [
    {
     "name": "stderr",
     "output_type": "stream",
     "text": [
      "C:\\Users\\jewel\\anaconda3\\lib\\site-packages\\ipykernel\\ipkernel.py:287: DeprecationWarning: `should_run_async` will not call `transform_cell` automatically in the future. Please pass the result to `transformed_cell` argument and any exception that happen during thetransform in `preprocessing_exc_tuple` in IPython 7.17 and above.\n",
      "  and should_run_async(code)\n",
      "C:\\Users\\jewel\\anaconda3\\lib\\site-packages\\pyLDAvis\\_prepare.py:246: FutureWarning: In a future version of pandas all arguments of DataFrame.drop except for the argument 'labels' will be keyword-only.\n",
      "  default_term_info = default_term_info.sort_values(\n"
     ]
    }
   ],
   "source": [
    "pyLDAvis.enable_notebook()\n",
    "visualization = pyLDAvis.gensim_models.prepare(chosen_model, crystalsg_vecs, crystalsg_dict)"
   ]
  },
  {
   "cell_type": "markdown",
   "metadata": {},
   "source": [
    "8c - Save the visualization as HTML file"
   ]
  },
  {
   "cell_type": "code",
   "execution_count": 50,
   "metadata": {},
   "outputs": [
    {
     "name": "stderr",
     "output_type": "stream",
     "text": [
      "C:\\Users\\jewel\\anaconda3\\lib\\site-packages\\ipykernel\\ipkernel.py:287: DeprecationWarning: `should_run_async` will not call `transform_cell` automatically in the future. Please pass the result to `transformed_cell` argument and any exception that happen during thetransform in `preprocessing_exc_tuple` in IPython 7.17 and above.\n",
      "  and should_run_async(code)\n"
     ]
    }
   ],
   "source": [
    "# Go to File Explorer -> look for the html file -> double click to view in browser\n",
    "pyLDAvis.save_html(visualization, \"topic_visualization.html\")"
   ]
  }
 ],
 "metadata": {
  "interpreter": {
   "hash": "4e9f2c58c4b5e6e4aeaec2f79699198332387ee8b201b537751c5d46df27fb1b"
  },
  "kernelspec": {
   "display_name": "Python 3.8.5 ('base')",
   "language": "python",
   "name": "python3"
  },
  "language_info": {
   "codemirror_mode": {
    "name": "ipython",
    "version": 3
   },
   "file_extension": ".py",
   "mimetype": "text/x-python",
   "name": "python",
   "nbconvert_exporter": "python",
   "pygments_lexer": "ipython3",
   "version": "3.8.5"
  },
  "orig_nbformat": 4
 },
 "nbformat": 4,
 "nbformat_minor": 2
}
